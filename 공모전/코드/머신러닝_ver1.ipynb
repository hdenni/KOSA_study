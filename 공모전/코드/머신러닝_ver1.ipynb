{
 "cells": [
  {
   "cell_type": "code",
   "execution_count": 1,
   "metadata": {
    "ExecuteTime": {
     "end_time": "2020-06-19T08:12:50.931772Z",
     "start_time": "2020-06-19T08:12:50.908771Z"
    }
   },
   "outputs": [
    {
     "data": {
      "text/html": [
       "<style>.container { width:100% !important;} *{font-family:'Consolas'; font-size:14;} </style>"
      ],
      "text/plain": [
       "<IPython.core.display.HTML object>"
      ]
     },
     "metadata": {},
     "output_type": "display_data"
    }
   ],
   "source": [
    "from IPython.core.display import display, HTML\n",
    "display(HTML(\"<style>.container { width:100% !important;} *{font-family:'Consolas'; font-size:14;} </style>\"))"
   ]
  },
  {
   "cell_type": "code",
   "execution_count": 2,
   "metadata": {
    "ExecuteTime": {
     "end_time": "2020-06-19T08:12:53.174900Z",
     "start_time": "2020-06-19T08:12:52.444859Z"
    }
   },
   "outputs": [],
   "source": [
    "import numpy as np\n",
    "import pandas as pd\n",
    "import seaborn as sns\n",
    "\n",
    "import matplotlib.pyplot as plt\n",
    "%matplotlib inline"
   ]
  },
  {
   "cell_type": "code",
   "execution_count": 3,
   "metadata": {
    "ExecuteTime": {
     "end_time": "2020-06-19T08:12:53.191901Z",
     "start_time": "2020-06-19T08:12:53.188901Z"
    }
   },
   "outputs": [],
   "source": [
    "def save_data(df, txt):\n",
    "    df.to_csv(txt, index=False, encoding=\"utf-8-sig\")\n",
    "def read_data(txt):\n",
    "    return pd.read_csv(txt, encoding='utf-8-sig')"
   ]
  },
  {
   "cell_type": "markdown",
   "metadata": {},
   "source": [
    "# 데이터 읽기"
   ]
  },
  {
   "cell_type": "code",
   "execution_count": 4,
   "metadata": {
    "ExecuteTime": {
     "end_time": "2020-06-19T08:12:53.939944Z",
     "start_time": "2020-06-19T08:12:53.933944Z"
    }
   },
   "outputs": [],
   "source": [
    "path = 'Data/'"
   ]
  },
  {
   "cell_type": "code",
   "execution_count": 5,
   "metadata": {
    "ExecuteTime": {
     "end_time": "2020-06-19T08:12:54.951002Z",
     "start_time": "2020-06-19T08:12:54.298965Z"
    }
   },
   "outputs": [],
   "source": [
    "# 공장 데이터: 2*3 list\n",
    "plant = list()\n",
    "for i in range(2):\n",
    "    plant.append(list())\n",
    "    for j in range(3):\n",
    "        plant[i].append(read_data(path+'train/'+'plant'+str(i+1)+str(j+1)+'_train_only.csv'))"
   ]
  },
  {
   "cell_type": "code",
   "execution_count": 6,
   "metadata": {
    "ExecuteTime": {
     "end_time": "2020-06-19T08:12:55.096010Z",
     "start_time": "2020-06-19T08:12:55.092010Z"
    }
   },
   "outputs": [
    {
     "data": {
      "text/plain": [
       "Index(['mea_ddhr', 'tem_in_loc', 'hum_in_loc', 'tem_coil_loc', 'tem_out_loc',\n",
       "       'hum_out_loc', 'cond_loc1', 'cond_24hr', 'cond_48hr', 'tem_in_loc_24hr',\n",
       "       'tem_in_loc_48hr', 'hum_in_loc_24hr', 'hum_in_loc_48hr',\n",
       "       'tem_coil_loc_24hr', 'tem_coil_loc_48hr'],\n",
       "      dtype='object')"
      ]
     },
     "execution_count": 6,
     "metadata": {},
     "output_type": "execute_result"
    }
   ],
   "source": [
    "plant[0][0].columns"
   ]
  },
  {
   "cell_type": "code",
   "execution_count": 7,
   "metadata": {
    "ExecuteTime": {
     "end_time": "2020-06-19T08:12:55.587038Z",
     "start_time": "2020-06-19T08:12:55.238018Z"
    }
   },
   "outputs": [],
   "source": [
    "# 날짜 데이터: plant1, plant2\n",
    "date = list()\n",
    "for i in range(2):\n",
    "    date.append(read_data(path+'train_data/'+'plant'+str(i+1)+'_date.csv'))"
   ]
  },
  {
   "cell_type": "code",
   "execution_count": 8,
   "metadata": {
    "ExecuteTime": {
     "end_time": "2020-06-19T08:12:56.083067Z",
     "start_time": "2020-06-19T08:12:56.070066Z"
    }
   },
   "outputs": [
    {
     "data": {
      "text/plain": [
       "Index(['mea_ddhr', 'year', 'month', 'day', 'hour', 'week_1', 'week_2',\n",
       "       'week_3', 'week_4', 'week_5', 'week_6', 'week_7', 'week_8', 'week_9',\n",
       "       'week_10', 'week_11', 'week_12', 'week_13', 'week_14', 'week_15',\n",
       "       'week_16', 'week_17', 'week_18', 'week_19', 'week_20', 'week_21',\n",
       "       'week_22', 'week_23', 'week_24', 'week_25', 'week_26', 'week_27',\n",
       "       'week_28', 'week_29', 'week_30', 'week_31', 'week_32', 'week_33',\n",
       "       'week_34', 'week_35', 'week_36', 'week_37', 'week_38', 'week_39',\n",
       "       'week_40', 'week_41', 'week_42', 'week_43', 'week_44', 'week_45',\n",
       "       'week_46', 'week_47', 'week_48', 'week_49', 'week_50', 'week_51',\n",
       "       'week_52'],\n",
       "      dtype='object')"
      ]
     },
     "execution_count": 8,
     "metadata": {},
     "output_type": "execute_result"
    }
   ],
   "source": [
    "date[0].columns"
   ]
  },
  {
   "cell_type": "code",
   "execution_count": 9,
   "metadata": {
    "ExecuteTime": {
     "end_time": "2020-06-19T08:12:56.612097Z",
     "start_time": "2020-06-19T08:12:56.430086Z"
    }
   },
   "outputs": [],
   "source": [
    "# 날씨 데이터 - AWS\n",
    "aws = list()\n",
    "aws.append(read_data(path+'train_data/'+'new_time_aws_616.csv'))\n",
    "aws.append(read_data(path+'train_data/'+'new_time_aws_637.csv'))"
   ]
  },
  {
   "cell_type": "code",
   "execution_count": 10,
   "metadata": {
    "ExecuteTime": {
     "end_time": "2020-06-19T08:12:57.153128Z",
     "start_time": "2020-06-19T08:12:57.142127Z"
    }
   },
   "outputs": [
    {
     "data": {
      "text/plain": [
       "Index(['mea_ddhr', 'aws_loc', 'aws_tem', 'aws_min_rain', 'aws_rain_YN',\n",
       "       'aws_wind_d', 'aws_wind_s', 'aws_spot_pr', 'aws_sea_pr', 'aws_hum',\n",
       "       'aws_sun', 'aws_sun_time'],\n",
       "      dtype='object')"
      ]
     },
     "execution_count": 10,
     "metadata": {},
     "output_type": "execute_result"
    }
   ],
   "source": [
    "aws[0].columns"
   ]
  },
  {
   "cell_type": "code",
   "execution_count": 11,
   "metadata": {
    "ExecuteTime": {
     "end_time": "2020-06-19T08:12:57.966174Z",
     "start_time": "2020-06-19T08:12:57.847168Z"
    }
   },
   "outputs": [],
   "source": [
    "# 날씨 데이터 - asos\n",
    "asos = read_data(path+'train_data/'+'new_time_asos.csv')"
   ]
  },
  {
   "cell_type": "code",
   "execution_count": 12,
   "metadata": {
    "ExecuteTime": {
     "end_time": "2020-06-19T08:12:58.483204Z",
     "start_time": "2020-06-19T08:12:58.479204Z"
    }
   },
   "outputs": [
    {
     "data": {
      "text/plain": [
       "Index(['mea_ddhr', 'asos_tem', 'asos_wind', 'asos_wind_dir', 'asos_hum',\n",
       "       'asos_steam', 'asos_dew', 'asos_spot_pr', 'asos_sea_pr',\n",
       "       'asos_tem_grd'],\n",
       "      dtype='object')"
      ]
     },
     "execution_count": 12,
     "metadata": {},
     "output_type": "execute_result"
    }
   ],
   "source": [
    "asos.columns"
   ]
  },
  {
   "cell_type": "code",
   "execution_count": 13,
   "metadata": {
    "ExecuteTime": {
     "end_time": "2020-06-19T08:12:59.579267Z",
     "start_time": "2020-06-19T08:12:59.419257Z"
    }
   },
   "outputs": [],
   "source": [
    "# 날씨 데이터 - 예보 데이터\n",
    "wt = read_data(path+'train_data/'+'plant_pred.csv')"
   ]
  },
  {
   "cell_type": "code",
   "execution_count": 14,
   "metadata": {
    "ExecuteTime": {
     "end_time": "2020-06-19T08:12:59.964289Z",
     "start_time": "2020-06-19T08:12:59.960288Z"
    }
   },
   "outputs": [
    {
     "data": {
      "text/plain": [
       "Index(['mea_ddhr', 'tem_24hr', 'hum_24hr', 'rain_p_24hr', 'wind_s_24hr',\n",
       "       'wind_d_24hr', 'tem_48hr', 'hum_48hr', 'rain_p_48hr', 'wind_s_48hr',\n",
       "       'wind_d_48hr', 'sky_1_24hr', 'sky_2_24hr', 'sky_3_24hr', 'sky_4_24hr',\n",
       "       'sky_1_48hr', 'sky_2_48hr', 'sky_3_48hr', 'sky_4_48hr', 'rain_t_0_24hr',\n",
       "       'rain_t_1_24hr', 'rain_t_2_24hr', 'rain_t_3_24hr', 'rain_t_0_48hr',\n",
       "       'rain_t_1_48hr', 'rain_t_2_48hr', 'rain_t_3_48hr'],\n",
       "      dtype='object')"
      ]
     },
     "execution_count": 14,
     "metadata": {},
     "output_type": "execute_result"
    }
   ],
   "source": [
    "wt.columns"
   ]
  },
  {
   "cell_type": "markdown",
   "metadata": {},
   "source": [
    "# 데이터 병합"
   ]
  },
  {
   "cell_type": "code",
   "execution_count": 15,
   "metadata": {
    "ExecuteTime": {
     "end_time": "2020-06-19T08:13:02.946459Z",
     "start_time": "2020-06-19T08:13:02.930458Z"
    }
   },
   "outputs": [],
   "source": [
    "# 우선은 sample data, plant11(1공장 1location)만 사용\n",
    "sample = plant[0][0].copy()"
   ]
  },
  {
   "cell_type": "code",
   "execution_count": 16,
   "metadata": {
    "ExecuteTime": {
     "end_time": "2020-06-19T08:13:03.467489Z",
     "start_time": "2020-06-19T08:13:03.450488Z"
    }
   },
   "outputs": [
    {
     "name": "stdout",
     "output_type": "stream",
     "text": [
      "<class 'str'> 2016-04-01 00:00:00\n",
      "<class 'str'> 2016-04-01 00:00:00\n",
      "<class 'str'> 2016-04-01 03:00:00\n",
      "<class 'str'> 2016-04-01 00:00:00\n",
      "<class 'str'> 2016-04-01 00:00:00\n"
     ]
    }
   ],
   "source": [
    "# merge on이 되는 시간타입이 다른 부분이 있는지 확인\n",
    "print(type(sample.mea_ddhr[0]), sample.mea_ddhr[0])\n",
    "print(type(aws[0].mea_ddhr[0]), aws[0].mea_ddhr[0])\n",
    "print(type(asos.mea_ddhr[0]), asos.mea_ddhr[0])\n",
    "print(type(date[0].mea_ddhr[0]), date[0].mea_ddhr[0])\n",
    "print(type(wt.mea_ddhr[0]), wt.mea_ddhr[0])"
   ]
  },
  {
   "cell_type": "markdown",
   "metadata": {},
   "source": [
    "우선 시간별로 나누는거부터.. 24시간 후만 뽑아내보자"
   ]
  },
  {
   "cell_type": "code",
   "execution_count": 17,
   "metadata": {
    "ExecuteTime": {
     "end_time": "2020-06-19T08:13:04.417543Z",
     "start_time": "2020-06-19T08:13:04.401542Z"
    }
   },
   "outputs": [],
   "source": [
    "test = sample.loc[:, ['mea_ddhr', 'cond_24hr', 'tem_in_loc_24hr', 'hum_in_loc_24hr', 'tem_coil_loc_24hr']]"
   ]
  },
  {
   "cell_type": "code",
   "execution_count": 18,
   "metadata": {
    "ExecuteTime": {
     "end_time": "2020-06-19T08:13:05.005577Z",
     "start_time": "2020-06-19T08:13:04.910572Z"
    }
   },
   "outputs": [],
   "source": [
    "test = pd.merge(test, date[0], how='left', on='mea_ddhr')"
   ]
  },
  {
   "cell_type": "code",
   "execution_count": 19,
   "metadata": {
    "ExecuteTime": {
     "end_time": "2020-06-19T08:13:05.457603Z",
     "start_time": "2020-06-19T08:13:05.446602Z"
    }
   },
   "outputs": [],
   "source": [
    "aws[0].rename(columns=lambda x: 'dj_'+x, inplace=True)\n",
    "aws[0].rename({'dj_mea_ddhr':'mea_ddhr'}, axis=1, inplace=True)"
   ]
  },
  {
   "cell_type": "code",
   "execution_count": 20,
   "metadata": {
    "ExecuteTime": {
     "end_time": "2020-06-19T08:13:07.367712Z",
     "start_time": "2020-06-19T08:13:07.347711Z"
    }
   },
   "outputs": [],
   "source": [
    "aws[1].rename(columns=lambda x: 'sp_'+x, inplace=True)\n",
    "aws[1].rename({'sp_mea_ddhr':'mea_ddhr'}, axis=1, inplace=True)"
   ]
  },
  {
   "cell_type": "code",
   "execution_count": 22,
   "metadata": {
    "ExecuteTime": {
     "end_time": "2020-06-19T08:13:08.547780Z",
     "start_time": "2020-06-19T08:13:08.398771Z"
    }
   },
   "outputs": [],
   "source": [
    "for i in range(2):\n",
    "    test = pd.merge(test, aws[i], how='left', on='mea_ddhr')"
   ]
  },
  {
   "cell_type": "code",
   "execution_count": 26,
   "metadata": {
    "ExecuteTime": {
     "end_time": "2020-06-19T08:13:46.073926Z",
     "start_time": "2020-06-19T08:13:46.055925Z"
    }
   },
   "outputs": [
    {
     "data": {
      "text/plain": [
       "Index(['mea_ddhr', 'cond_24hr', 'tem_in_loc_24hr', 'hum_in_loc_24hr',\n",
       "       'tem_coil_loc_24hr', 'year', 'month', 'day', 'hour', 'week_1', 'week_2',\n",
       "       'week_3', 'week_4', 'week_5', 'week_6', 'week_7', 'week_8', 'week_9',\n",
       "       'week_10', 'week_11', 'week_12', 'week_13', 'week_14', 'week_15',\n",
       "       'week_16', 'week_17', 'week_18', 'week_19', 'week_20', 'week_21',\n",
       "       'week_22', 'week_23', 'week_24', 'week_25', 'week_26', 'week_27',\n",
       "       'week_28', 'week_29', 'week_30', 'week_31', 'week_32', 'week_33',\n",
       "       'week_34', 'week_35', 'week_36', 'week_37', 'week_38', 'week_39',\n",
       "       'week_40', 'week_41', 'week_42', 'week_43', 'week_44', 'week_45',\n",
       "       'week_46', 'week_47', 'week_48', 'week_49', 'week_50', 'week_51',\n",
       "       'week_52', 'dj_aws_loc', 'dj_aws_tem', 'dj_aws_min_rain',\n",
       "       'dj_aws_rain_YN', 'dj_aws_wind_d', 'dj_aws_wind_s', 'dj_aws_spot_pr',\n",
       "       'dj_aws_sea_pr', 'dj_aws_hum', 'dj_aws_sun', 'dj_aws_sun_time',\n",
       "       'sp_aws_loc', 'sp_aws_tem', 'sp_aws_min_rain', 'sp_aws_rain_YN',\n",
       "       'sp_aws_wind_d', 'sp_aws_wind_s', 'sp_aws_spot_pr', 'sp_aws_sea_pr',\n",
       "       'sp_aws_hum', 'sp_aws_sun', 'sp_aws_sun_time'],\n",
       "      dtype='object')"
      ]
     },
     "execution_count": 26,
     "metadata": {},
     "output_type": "execute_result"
    }
   ],
   "source": [
    "test.columns"
   ]
  },
  {
   "cell_type": "code",
   "execution_count": null,
   "metadata": {},
   "outputs": [],
   "source": []
  }
 ],
 "metadata": {
  "kernelspec": {
   "display_name": "Python 3",
   "language": "python",
   "name": "python3"
  },
  "language_info": {
   "codemirror_mode": {
    "name": "ipython",
    "version": 3
   },
   "file_extension": ".py",
   "mimetype": "text/x-python",
   "name": "python",
   "nbconvert_exporter": "python",
   "pygments_lexer": "ipython3",
   "version": "3.7.6"
  },
  "toc": {
   "base_numbering": 1,
   "nav_menu": {},
   "number_sections": true,
   "sideBar": true,
   "skip_h1_title": false,
   "title_cell": "Table of Contents",
   "title_sidebar": "Contents",
   "toc_cell": false,
   "toc_position": {},
   "toc_section_display": true,
   "toc_window_display": false
  },
  "varInspector": {
   "cols": {
    "lenName": 16,
    "lenType": 16,
    "lenVar": 40
   },
   "kernels_config": {
    "python": {
     "delete_cmd_postfix": "",
     "delete_cmd_prefix": "del ",
     "library": "var_list.py",
     "varRefreshCmd": "print(var_dic_list())"
    },
    "r": {
     "delete_cmd_postfix": ") ",
     "delete_cmd_prefix": "rm(",
     "library": "var_list.r",
     "varRefreshCmd": "cat(var_dic_list()) "
    }
   },
   "types_to_exclude": [
    "module",
    "function",
    "builtin_function_or_method",
    "instance",
    "_Feature"
   ],
   "window_display": false
  }
 },
 "nbformat": 4,
 "nbformat_minor": 4
}
