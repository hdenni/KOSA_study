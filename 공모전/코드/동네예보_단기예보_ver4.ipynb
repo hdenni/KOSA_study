{
 "cells": [
  {
   "cell_type": "code",
   "execution_count": 1,
   "metadata": {
    "ExecuteTime": {
     "end_time": "2020-06-19T06:41:59.395912Z",
     "start_time": "2020-06-19T06:41:59.363712Z"
    }
   },
   "outputs": [
    {
     "data": {
      "text/html": [
       "<style>.container { width:100% !important;} *{font-family:'Consolas'; font-size:14;} </style>"
      ],
      "text/plain": [
       "<IPython.core.display.HTML object>"
      ]
     },
     "metadata": {},
     "output_type": "display_data"
    }
   ],
   "source": [
    "from IPython.core.display import display, HTML\n",
    "display(HTML(\"<style>.container { width:100% !important;} *{font-family:'Consolas'; font-size:14;} </style>\"))"
   ]
  },
  {
   "cell_type": "code",
   "execution_count": 2,
   "metadata": {
    "ExecuteTime": {
     "end_time": "2020-06-19T06:42:01.691414Z",
     "start_time": "2020-06-19T06:42:00.731760Z"
    }
   },
   "outputs": [],
   "source": [
    "import pandas as pd\n",
    "import numpy as np\n",
    "\n",
    "import seaborn as sns\n",
    "import matplotlib.pyplot as plt\n",
    "%matplotlib inline\n",
    "\n",
    "import datetime\n",
    "from datetime import datetime as dt, timedelta"
   ]
  },
  {
   "cell_type": "code",
   "execution_count": 3,
   "metadata": {
    "ExecuteTime": {
     "end_time": "2020-06-19T06:42:04.266703Z",
     "start_time": "2020-06-19T06:42:04.251103Z"
    }
   },
   "outputs": [],
   "source": [
    "def save_data(df, txt):\n",
    "    df.to_csv(txt, index=False, encoding=\"utf-8-sig\")\n",
    "def read_data(txt):\n",
    "    return pd.read_csv(txt, encoding='utf-8-sig')"
   ]
  },
  {
   "cell_type": "markdown",
   "metadata": {},
   "source": [
    "# 예보데이터 정리"
   ]
  },
  {
   "cell_type": "code",
   "execution_count": 76,
   "metadata": {
    "ExecuteTime": {
     "end_time": "2020-06-18T06:26:26.539507Z",
     "start_time": "2020-06-18T06:26:26.536507Z"
    }
   },
   "outputs": [],
   "source": [
    "result_col = ['day', 'value']"
   ]
  },
  {
   "cell_type": "code",
   "execution_count": 77,
   "metadata": {
    "ExecuteTime": {
     "end_time": "2020-06-18T06:26:30.056682Z",
     "start_time": "2020-06-18T06:26:30.053682Z"
    }
   },
   "outputs": [],
   "source": [
    "column_data = ['day', 'hour', 'forecast', 'value']"
   ]
  },
  {
   "cell_type": "code",
   "execution_count": 95,
   "metadata": {
    "ExecuteTime": {
     "end_time": "2020-06-18T06:30:32.234513Z",
     "start_time": "2020-06-18T06:30:32.218913Z"
    }
   },
   "outputs": [],
   "source": [
    "main_path = 'Data/동네예보/예보/'"
   ]
  },
  {
   "cell_type": "code",
   "execution_count": 79,
   "metadata": {
    "ExecuteTime": {
     "end_time": "2020-06-18T06:26:37.059802Z",
     "start_time": "2020-06-18T06:26:37.056802Z"
    }
   },
   "outputs": [],
   "source": [
    "types = ['기온', '습도', '강수확률', '강수형태', '풍속', '풍향', '하늘상태']"
   ]
  },
  {
   "cell_type": "code",
   "execution_count": 100,
   "metadata": {
    "ExecuteTime": {
     "end_time": "2020-06-18T06:32:51.531003Z",
     "start_time": "2020-06-18T06:32:51.465801Z"
    }
   },
   "outputs": [],
   "source": [
    "data = [0 for i in range(2)] #0: 24hr, 1: 48hr\n",
    "for i in range(2):\n",
    "    data_temp = dict()\n",
    "    for t in types:\n",
    "        data_temp[t] = pd.DataFrame(columns=result_col)\n",
    "    \n",
    "    data[i] = data_temp"
   ]
  },
  {
   "cell_type": "code",
   "execution_count": 81,
   "metadata": {
    "ExecuteTime": {
     "end_time": "2020-06-18T06:26:44.066349Z",
     "start_time": "2020-06-18T06:26:44.063349Z"
    }
   },
   "outputs": [],
   "source": [
    "def reset_hour(df):\n",
    "    df['hour'] = df['hour']+100\n",
    "    return df"
   ]
  },
  {
   "cell_type": "code",
   "execution_count": 82,
   "metadata": {
    "ExecuteTime": {
     "end_time": "2020-06-18T06:26:47.642726Z",
     "start_time": "2020-06-18T06:26:47.636726Z"
    }
   },
   "outputs": [],
   "source": [
    "import re\n",
    "def make_date(df):\n",
    "    date = False\n",
    "    for i in range(len(df)):\n",
    "        now = str(df.day[i])\n",
    "        if len(str(df.day[i]))>3:\n",
    "            num_str = re.findall(\"\\d+\", df.day[i])\n",
    "            date = num_str[0][:6]\n",
    "            continue\n",
    "        if date:\n",
    "            if int(now) < 10:\n",
    "                now = '0'+str(int(now))\n",
    "            else: now = str(int(now))\n",
    "            hour = '%04d'%(int(df.hour[i]))\n",
    "            df.day[i] = date + now + hour\n",
    "            \n",
    "    return df"
   ]
  },
  {
   "cell_type": "code",
   "execution_count": 83,
   "metadata": {
    "ExecuteTime": {
     "end_time": "2020-06-18T06:26:51.220702Z",
     "start_time": "2020-06-18T06:26:51.216702Z"
    }
   },
   "outputs": [],
   "source": [
    "def match_t(t):\n",
    "    if t=='기온': return 'tem'\n",
    "    elif t=='습도': return 'hum'\n",
    "    elif t=='강수확률': return 'rain_p'\n",
    "    elif t=='강수형태': return 'rain_t'\n",
    "    elif t=='풍속': return 'wind_s'\n",
    "    elif t=='풍향': return 'wind_d'\n",
    "    elif t=='하늘상태': return 'sky'\n",
    "    else:\n",
    "        raise Error(\"matcht_ fuction error\")"
   ]
  },
  {
   "cell_type": "code",
   "execution_count": 84,
   "metadata": {
    "ExecuteTime": {
     "end_time": "2020-06-18T06:26:54.755904Z",
     "start_time": "2020-06-18T06:26:54.752904Z"
    }
   },
   "outputs": [],
   "source": [
    "def drop_col(df):\n",
    "    df.drop(['forecast', 'hour'], axis=1, inplace=True)\n",
    "    df.reset_index(drop=True, inplace=True)\n",
    "    \n",
    "    return df"
   ]
  },
  {
   "cell_type": "code",
   "execution_count": 85,
   "metadata": {
    "ExecuteTime": {
     "end_time": "2020-06-18T06:26:58.254061Z",
     "start_time": "2020-06-18T06:26:58.252061Z"
    }
   },
   "outputs": [],
   "source": [
    "def rename_col(df, t):\n",
    "    df.rename(columns={'day':'mea_ddhr', 'value':t}, inplace=True)\n",
    "    return df"
   ]
  },
  {
   "cell_type": "code",
   "execution_count": 96,
   "metadata": {
    "ExecuteTime": {
     "end_time": "2020-06-18T06:30:35.873518Z",
     "start_time": "2020-06-18T06:30:35.867518Z"
    }
   },
   "outputs": [],
   "source": [
    "# t: 기온/습도같은 str, year은 16, 17형태\n",
    "def read_file(year, t): \n",
    "    path = main_path + year\n",
    "    temp = pd.read_csv(path+'/'+t+'.csv', encoding='utf-8-sig')\n",
    "    temp.columns = column_data\n",
    "    s = ' Start : 20'+year+'0401 '\n",
    "    temp = pd.DataFrame(np.array([[s, None, None, None]]),\\\n",
    "                      columns=column_data).append(temp, ignore_index=True)\n",
    "\n",
    "    temp = reset_hour(temp)\n",
    "    temp = make_date(temp)\n",
    "    \n",
    "    d24 = temp.loc[temp['forecast']==25]\n",
    "    d48 = temp.loc[temp['forecast']==49]\n",
    "    \n",
    "    d24 = drop_col(d24)\n",
    "    d48 = drop_col(d48)\n",
    "    \n",
    "    data[0][t] = data[0][t].append(d24)\n",
    "    data[1][t] = data[1][t].append(d48)\n",
    "    \n",
    "    #data[0][t] = rename_col(data[0][t], match_t(t)+'_24')\n",
    "    #data[1][t] = rename_col(data[1][t], match_t(t)+'_48')"
   ]
  },
  {
   "cell_type": "code",
   "execution_count": null,
   "metadata": {},
   "outputs": [],
   "source": [
    "for t in types:\n",
    "    read_file('16', t)\n",
    "    read_file('17', t)\n",
    "    read_file('18', t)"
   ]
  },
  {
   "cell_type": "code",
   "execution_count": null,
   "metadata": {},
   "outputs": [],
   "source": [
    "# 날씨 데이터 저장\n",
    "for i in range(2):\n",
    "    for d in data[i]:\n",
    "        save_data(data[i][d], 'Data-Results/'+d+'_'+str(i)+'.csv')"
   ]
  },
  {
   "cell_type": "code",
   "execution_count": null,
   "metadata": {},
   "outputs": [],
   "source": [
    "# 날씨 데이터 읽어오기\n",
    "for i in range(2):\n",
    "    for d in data[i]:\n",
    "        data[i][d] = read_data('Data-Results/'+d+'_'+str(i)+'.csv')"
   ]
  },
  {
   "cell_type": "markdown",
   "metadata": {},
   "source": [
    "테스트데이터 만들기"
   ]
  },
  {
   "cell_type": "code",
   "execution_count": null,
   "metadata": {},
   "outputs": [],
   "source": [
    "for t in types:\n",
    "    read_file('19', t)"
   ]
  },
  {
   "cell_type": "code",
   "execution_count": null,
   "metadata": {},
   "outputs": [],
   "source": [
    "for i in range(2):\n",
    "    for t in types:\n",
    "        rename_col(data[i][t], t)"
   ]
  },
  {
   "cell_type": "code",
   "execution_count": 110,
   "metadata": {
    "ExecuteTime": {
     "end_time": "2020-06-18T06:55:09.613749Z",
     "start_time": "2020-06-18T06:55:09.478741Z"
    }
   },
   "outputs": [],
   "source": [
    "for i in range(2):\n",
    "    for t in types:\n",
    "        save_data(data[i][t], \"Data-Results/test/\"+t+\".csv\")"
   ]
  },
  {
   "cell_type": "code",
   "execution_count": 126,
   "metadata": {
    "ExecuteTime": {
     "end_time": "2020-06-18T07:00:52.235345Z",
     "start_time": "2020-06-18T07:00:52.188343Z"
    },
    "collapsed": true
   },
   "outputs": [
    {
     "ename": "ValueError",
     "evalue": "time data '0       201904010300\n1       201904010600\n2       201904010900\n3       201904011200\n4       201904011500\n            ...     \n2923    202003311200\n2924    202003311500\n2925    202003311800\n2926    202003312100\n2927    202003312400\nName: mea_ddhr, Length: 2928, dtype: object' does not match format '%Y%m%d%H%M' (match)",
     "output_type": "error",
     "traceback": [
      "\u001b[1;31m---------------------------------------------------------------------------\u001b[0m",
      "\u001b[1;31mTypeError\u001b[0m                                 Traceback (most recent call last)",
      "\u001b[1;32m~\\anaconda3\\lib\\site-packages\\pandas\\core\\tools\\datetimes.py\u001b[0m in \u001b[0;36m_convert_listlike_datetimes\u001b[1;34m(arg, format, name, tz, unit, errors, infer_datetime_format, dayfirst, yearfirst, exact)\u001b[0m\n\u001b[0;32m    431\u001b[0m             \u001b[1;32mtry\u001b[0m\u001b[1;33m:\u001b[0m\u001b[1;33m\u001b[0m\u001b[1;33m\u001b[0m\u001b[0m\n\u001b[1;32m--> 432\u001b[1;33m                 \u001b[0mvalues\u001b[0m\u001b[1;33m,\u001b[0m \u001b[0mtz\u001b[0m \u001b[1;33m=\u001b[0m \u001b[0mconversion\u001b[0m\u001b[1;33m.\u001b[0m\u001b[0mdatetime_to_datetime64\u001b[0m\u001b[1;33m(\u001b[0m\u001b[0marg\u001b[0m\u001b[1;33m)\u001b[0m\u001b[1;33m\u001b[0m\u001b[1;33m\u001b[0m\u001b[0m\n\u001b[0m\u001b[0;32m    433\u001b[0m                 \u001b[1;32mreturn\u001b[0m \u001b[0mDatetimeIndex\u001b[0m\u001b[1;33m.\u001b[0m\u001b[0m_simple_new\u001b[0m\u001b[1;33m(\u001b[0m\u001b[0mvalues\u001b[0m\u001b[1;33m,\u001b[0m \u001b[0mname\u001b[0m\u001b[1;33m=\u001b[0m\u001b[0mname\u001b[0m\u001b[1;33m,\u001b[0m \u001b[0mtz\u001b[0m\u001b[1;33m=\u001b[0m\u001b[0mtz\u001b[0m\u001b[1;33m)\u001b[0m\u001b[1;33m\u001b[0m\u001b[1;33m\u001b[0m\u001b[0m\n",
      "\u001b[1;32mpandas\\_libs\\tslibs\\conversion.pyx\u001b[0m in \u001b[0;36mpandas._libs.tslibs.conversion.datetime_to_datetime64\u001b[1;34m()\u001b[0m\n",
      "\u001b[1;31mTypeError\u001b[0m: Unrecognized value type: <class 'str'>",
      "\nDuring handling of the above exception, another exception occurred:\n",
      "\u001b[1;31mValueError\u001b[0m                                Traceback (most recent call last)",
      "\u001b[1;32m<ipython-input-126-b7b4af1e374c>\u001b[0m in \u001b[0;36m<module>\u001b[1;34m\u001b[0m\n\u001b[0;32m      3\u001b[0m         \u001b[1;32mif\u001b[0m \u001b[0mlen\u001b[0m\u001b[1;33m(\u001b[0m\u001b[0mstr\u001b[0m\u001b[1;33m(\u001b[0m\u001b[0mdata\u001b[0m\u001b[1;33m[\u001b[0m\u001b[0mi\u001b[0m\u001b[1;33m]\u001b[0m\u001b[1;33m[\u001b[0m\u001b[0mt\u001b[0m\u001b[1;33m]\u001b[0m\u001b[1;33m[\u001b[0m\u001b[1;34m'mea_ddhr'\u001b[0m\u001b[1;33m]\u001b[0m\u001b[1;33m)\u001b[0m\u001b[1;33m)\u001b[0m \u001b[1;33m<\u001b[0m \u001b[1;36m11\u001b[0m\u001b[1;33m:\u001b[0m\u001b[1;33m\u001b[0m\u001b[1;33m\u001b[0m\u001b[0m\n\u001b[0;32m      4\u001b[0m             \u001b[1;32mcontinue\u001b[0m\u001b[1;33m\u001b[0m\u001b[1;33m\u001b[0m\u001b[0m\n\u001b[1;32m----> 5\u001b[1;33m         \u001b[0mdata\u001b[0m\u001b[1;33m[\u001b[0m\u001b[0mi\u001b[0m\u001b[1;33m]\u001b[0m\u001b[1;33m[\u001b[0m\u001b[0mt\u001b[0m\u001b[1;33m]\u001b[0m\u001b[1;33m[\u001b[0m\u001b[1;34m'mea_ddhr'\u001b[0m\u001b[1;33m]\u001b[0m \u001b[1;33m=\u001b[0m \u001b[0mpd\u001b[0m\u001b[1;33m.\u001b[0m\u001b[0mto_datetime\u001b[0m\u001b[1;33m(\u001b[0m\u001b[0mstr\u001b[0m\u001b[1;33m(\u001b[0m\u001b[0mdata\u001b[0m\u001b[1;33m[\u001b[0m\u001b[0mi\u001b[0m\u001b[1;33m]\u001b[0m\u001b[1;33m[\u001b[0m\u001b[0mt\u001b[0m\u001b[1;33m]\u001b[0m\u001b[1;33m[\u001b[0m\u001b[1;34m'mea_ddhr'\u001b[0m\u001b[1;33m]\u001b[0m\u001b[1;33m)\u001b[0m\u001b[1;33m,\u001b[0m \u001b[0mformat\u001b[0m\u001b[1;33m=\u001b[0m\u001b[1;34m'%Y%m%d%H%M'\u001b[0m\u001b[1;33m)\u001b[0m\u001b[1;33m\u001b[0m\u001b[1;33m\u001b[0m\u001b[0m\n\u001b[0m",
      "\u001b[1;32m~\\anaconda3\\lib\\site-packages\\pandas\\core\\tools\\datetimes.py\u001b[0m in \u001b[0;36mto_datetime\u001b[1;34m(arg, errors, dayfirst, yearfirst, utc, format, exact, unit, infer_datetime_format, origin, cache)\u001b[0m\n\u001b[0;32m    754\u001b[0m             \u001b[0mresult\u001b[0m \u001b[1;33m=\u001b[0m \u001b[0mconvert_listlike\u001b[0m\u001b[1;33m(\u001b[0m\u001b[0marg\u001b[0m\u001b[1;33m,\u001b[0m \u001b[0mformat\u001b[0m\u001b[1;33m)\u001b[0m\u001b[1;33m\u001b[0m\u001b[1;33m\u001b[0m\u001b[0m\n\u001b[0;32m    755\u001b[0m     \u001b[1;32melse\u001b[0m\u001b[1;33m:\u001b[0m\u001b[1;33m\u001b[0m\u001b[1;33m\u001b[0m\u001b[0m\n\u001b[1;32m--> 756\u001b[1;33m         \u001b[0mresult\u001b[0m \u001b[1;33m=\u001b[0m \u001b[0mconvert_listlike\u001b[0m\u001b[1;33m(\u001b[0m\u001b[0mnp\u001b[0m\u001b[1;33m.\u001b[0m\u001b[0marray\u001b[0m\u001b[1;33m(\u001b[0m\u001b[1;33m[\u001b[0m\u001b[0marg\u001b[0m\u001b[1;33m]\u001b[0m\u001b[1;33m)\u001b[0m\u001b[1;33m,\u001b[0m \u001b[0mformat\u001b[0m\u001b[1;33m)\u001b[0m\u001b[1;33m[\u001b[0m\u001b[1;36m0\u001b[0m\u001b[1;33m]\u001b[0m\u001b[1;33m\u001b[0m\u001b[1;33m\u001b[0m\u001b[0m\n\u001b[0m\u001b[0;32m    757\u001b[0m \u001b[1;33m\u001b[0m\u001b[0m\n\u001b[0;32m    758\u001b[0m     \u001b[1;32mreturn\u001b[0m \u001b[0mresult\u001b[0m\u001b[1;33m\u001b[0m\u001b[1;33m\u001b[0m\u001b[0m\n",
      "\u001b[1;32m~\\anaconda3\\lib\\site-packages\\pandas\\core\\tools\\datetimes.py\u001b[0m in \u001b[0;36m_convert_listlike_datetimes\u001b[1;34m(arg, format, name, tz, unit, errors, infer_datetime_format, dayfirst, yearfirst, exact)\u001b[0m\n\u001b[0;32m    433\u001b[0m                 \u001b[1;32mreturn\u001b[0m \u001b[0mDatetimeIndex\u001b[0m\u001b[1;33m.\u001b[0m\u001b[0m_simple_new\u001b[0m\u001b[1;33m(\u001b[0m\u001b[0mvalues\u001b[0m\u001b[1;33m,\u001b[0m \u001b[0mname\u001b[0m\u001b[1;33m=\u001b[0m\u001b[0mname\u001b[0m\u001b[1;33m,\u001b[0m \u001b[0mtz\u001b[0m\u001b[1;33m=\u001b[0m\u001b[0mtz\u001b[0m\u001b[1;33m)\u001b[0m\u001b[1;33m\u001b[0m\u001b[1;33m\u001b[0m\u001b[0m\n\u001b[0;32m    434\u001b[0m             \u001b[1;32mexcept\u001b[0m \u001b[1;33m(\u001b[0m\u001b[0mValueError\u001b[0m\u001b[1;33m,\u001b[0m \u001b[0mTypeError\u001b[0m\u001b[1;33m)\u001b[0m\u001b[1;33m:\u001b[0m\u001b[1;33m\u001b[0m\u001b[1;33m\u001b[0m\u001b[0m\n\u001b[1;32m--> 435\u001b[1;33m                 \u001b[1;32mraise\u001b[0m \u001b[0me\u001b[0m\u001b[1;33m\u001b[0m\u001b[1;33m\u001b[0m\u001b[0m\n\u001b[0m\u001b[0;32m    436\u001b[0m \u001b[1;33m\u001b[0m\u001b[0m\n\u001b[0;32m    437\u001b[0m     \u001b[1;32mif\u001b[0m \u001b[0mresult\u001b[0m \u001b[1;32mis\u001b[0m \u001b[1;32mNone\u001b[0m\u001b[1;33m:\u001b[0m\u001b[1;33m\u001b[0m\u001b[1;33m\u001b[0m\u001b[0m\n",
      "\u001b[1;32m~\\anaconda3\\lib\\site-packages\\pandas\\core\\tools\\datetimes.py\u001b[0m in \u001b[0;36m_convert_listlike_datetimes\u001b[1;34m(arg, format, name, tz, unit, errors, infer_datetime_format, dayfirst, yearfirst, exact)\u001b[0m\n\u001b[0;32m    398\u001b[0m                 \u001b[1;32mtry\u001b[0m\u001b[1;33m:\u001b[0m\u001b[1;33m\u001b[0m\u001b[1;33m\u001b[0m\u001b[0m\n\u001b[0;32m    399\u001b[0m                     result, timezones = array_strptime(\n\u001b[1;32m--> 400\u001b[1;33m                         \u001b[0marg\u001b[0m\u001b[1;33m,\u001b[0m \u001b[0mformat\u001b[0m\u001b[1;33m,\u001b[0m \u001b[0mexact\u001b[0m\u001b[1;33m=\u001b[0m\u001b[0mexact\u001b[0m\u001b[1;33m,\u001b[0m \u001b[0merrors\u001b[0m\u001b[1;33m=\u001b[0m\u001b[0merrors\u001b[0m\u001b[1;33m\u001b[0m\u001b[1;33m\u001b[0m\u001b[0m\n\u001b[0m\u001b[0;32m    401\u001b[0m                     )\n\u001b[0;32m    402\u001b[0m                     \u001b[1;32mif\u001b[0m \u001b[1;34m\"%Z\"\u001b[0m \u001b[1;32min\u001b[0m \u001b[0mformat\u001b[0m \u001b[1;32mor\u001b[0m \u001b[1;34m\"%z\"\u001b[0m \u001b[1;32min\u001b[0m \u001b[0mformat\u001b[0m\u001b[1;33m:\u001b[0m\u001b[1;33m\u001b[0m\u001b[1;33m\u001b[0m\u001b[0m\n",
      "\u001b[1;32mpandas\\_libs\\tslibs\\strptime.pyx\u001b[0m in \u001b[0;36mpandas._libs.tslibs.strptime.array_strptime\u001b[1;34m()\u001b[0m\n",
      "\u001b[1;31mValueError\u001b[0m: time data '0       201904010300\n1       201904010600\n2       201904010900\n3       201904011200\n4       201904011500\n            ...     \n2923    202003311200\n2924    202003311500\n2925    202003311800\n2926    202003312100\n2927    202003312400\nName: mea_ddhr, Length: 2928, dtype: object' does not match format '%Y%m%d%H%M' (match)"
     ]
    }
   ],
   "source": [
    "for i in range(2):\n",
    "    for t in types:\n",
    "        if len(str(data[i][t]['mea_ddhr'])) < 11:\n",
    "            continue\n",
    "        data[i][t]['mea_ddhr'] = pd.to_datetime(str(data[i][t]['mea_ddhr']), format='%Y%m%d%H%M')"
   ]
  },
  {
   "cell_type": "markdown",
   "metadata": {},
   "source": [
    "test 데이터 더함"
   ]
  },
  {
   "cell_type": "code",
   "execution_count": 144,
   "metadata": {
    "ExecuteTime": {
     "end_time": "2020-06-18T08:07:57.459360Z",
     "start_time": "2020-06-18T08:07:57.421357Z"
    }
   },
   "outputs": [],
   "source": [
    "sample = data[0]['기온']\n",
    "for t in types[1:]:\n",
    "    sample = pd.merge(sample, data[0][t])"
   ]
  },
  {
   "cell_type": "code",
   "execution_count": 146,
   "metadata": {
    "ExecuteTime": {
     "end_time": "2020-06-18T08:08:20.514678Z",
     "start_time": "2020-06-18T08:08:20.487677Z"
    }
   },
   "outputs": [],
   "source": [
    "sample2 = data[1]['기온']\n",
    "for t in types[1:]:\n",
    "    sample2 = pd.merge(sample2, data[1][t])"
   ]
  },
  {
   "cell_type": "code",
   "execution_count": 164,
   "metadata": {
    "ExecuteTime": {
     "end_time": "2020-06-18T08:14:19.692222Z",
     "start_time": "2020-06-18T08:14:19.689222Z"
    },
    "scrolled": true
   },
   "outputs": [],
   "source": [
    "pat = '(?P<year>\\d{4})(?P<month>\\d{2})(?P<day>\\d{2})(?P<hour>\\d{2})(?P<minute>\\d{2})'"
   ]
  },
  {
   "cell_type": "code",
   "execution_count": 167,
   "metadata": {
    "ExecuteTime": {
     "end_time": "2020-06-18T08:14:40.778428Z",
     "start_time": "2020-06-18T08:14:40.649421Z"
    }
   },
   "outputs": [],
   "source": [
    "sample.mea_ddhr = pd.to_datetime(sample['mea_ddhr'].str.extract(pat, expand=True))"
   ]
  },
  {
   "cell_type": "code",
   "execution_count": 168,
   "metadata": {
    "ExecuteTime": {
     "end_time": "2020-06-18T08:14:53.825174Z",
     "start_time": "2020-06-18T08:14:53.772171Z"
    }
   },
   "outputs": [],
   "source": [
    "sample2.mea_ddhr = pd.to_datetime(sample2['mea_ddhr'].str.extract(pat, expand=True))"
   ]
  },
  {
   "cell_type": "code",
   "execution_count": null,
   "metadata": {},
   "outputs": [],
   "source": [
    "date = read_data('Data/please.csv')"
   ]
  },
  {
   "cell_type": "code",
   "execution_count": 180,
   "metadata": {
    "ExecuteTime": {
     "end_time": "2020-06-18T08:18:26.890361Z",
     "start_time": "2020-06-18T08:18:26.883361Z"
    }
   },
   "outputs": [],
   "source": [
    "date.rename(columns={\"MEA_DDHR\":\"mea_ddhr\"}, inplace=True)"
   ]
  },
  {
   "cell_type": "code",
   "execution_count": 182,
   "metadata": {
    "ExecuteTime": {
     "end_time": "2020-06-18T08:18:37.097945Z",
     "start_time": "2020-06-18T08:18:37.084944Z"
    }
   },
   "outputs": [],
   "source": [
    "date.mea_ddhr = pd.to_datetime(date['mea_ddhr'], format='%Y-%m-%d %H:%M')"
   ]
  },
  {
   "cell_type": "code",
   "execution_count": 185,
   "metadata": {
    "ExecuteTime": {
     "end_time": "2020-06-18T08:19:12.790986Z",
     "start_time": "2020-06-18T08:19:12.761985Z"
    }
   },
   "outputs": [
    {
     "data": {
      "text/html": [
       "<div>\n",
       "<style scoped>\n",
       "    .dataframe tbody tr th:only-of-type {\n",
       "        vertical-align: middle;\n",
       "    }\n",
       "\n",
       "    .dataframe tbody tr th {\n",
       "        vertical-align: top;\n",
       "    }\n",
       "\n",
       "    .dataframe thead th {\n",
       "        text-align: right;\n",
       "    }\n",
       "</style>\n",
       "<table border=\"1\" class=\"dataframe\">\n",
       "  <thead>\n",
       "    <tr style=\"text-align: right;\">\n",
       "      <th></th>\n",
       "      <th>mea_ddhr</th>\n",
       "      <th>기온</th>\n",
       "      <th>습도</th>\n",
       "      <th>강수확률</th>\n",
       "      <th>강수형태</th>\n",
       "      <th>풍속</th>\n",
       "      <th>풍향</th>\n",
       "      <th>하늘상태</th>\n",
       "    </tr>\n",
       "  </thead>\n",
       "  <tbody>\n",
       "    <tr>\n",
       "      <th>0</th>\n",
       "      <td>2019-04-01 03:00:00</td>\n",
       "      <td>10.0</td>\n",
       "      <td>30.0</td>\n",
       "      <td>0.0</td>\n",
       "      <td>0.0</td>\n",
       "      <td>4.5</td>\n",
       "      <td>336.0</td>\n",
       "      <td>1.0</td>\n",
       "    </tr>\n",
       "    <tr>\n",
       "      <th>1</th>\n",
       "      <td>2019-04-01 06:00:00</td>\n",
       "      <td>11.0</td>\n",
       "      <td>25.0</td>\n",
       "      <td>0.0</td>\n",
       "      <td>0.0</td>\n",
       "      <td>4.8</td>\n",
       "      <td>303.0</td>\n",
       "      <td>1.0</td>\n",
       "    </tr>\n",
       "    <tr>\n",
       "      <th>2</th>\n",
       "      <td>2019-04-01 09:00:00</td>\n",
       "      <td>8.0</td>\n",
       "      <td>35.0</td>\n",
       "      <td>20.0</td>\n",
       "      <td>0.0</td>\n",
       "      <td>3.0</td>\n",
       "      <td>285.0</td>\n",
       "      <td>3.0</td>\n",
       "    </tr>\n",
       "    <tr>\n",
       "      <th>3</th>\n",
       "      <td>2019-04-01 12:00:00</td>\n",
       "      <td>5.0</td>\n",
       "      <td>55.0</td>\n",
       "      <td>20.0</td>\n",
       "      <td>0.0</td>\n",
       "      <td>3.8</td>\n",
       "      <td>270.0</td>\n",
       "      <td>3.0</td>\n",
       "    </tr>\n",
       "    <tr>\n",
       "      <th>4</th>\n",
       "      <td>2019-04-01 15:00:00</td>\n",
       "      <td>4.0</td>\n",
       "      <td>70.0</td>\n",
       "      <td>10.0</td>\n",
       "      <td>0.0</td>\n",
       "      <td>3.1</td>\n",
       "      <td>264.0</td>\n",
       "      <td>2.0</td>\n",
       "    </tr>\n",
       "  </tbody>\n",
       "</table>\n",
       "</div>"
      ],
      "text/plain": [
       "             mea_ddhr    기온    습도  강수확률  강수형태   풍속     풍향  하늘상태\n",
       "0 2019-04-01 03:00:00  10.0  30.0   0.0   0.0  4.5  336.0   1.0\n",
       "1 2019-04-01 06:00:00  11.0  25.0   0.0   0.0  4.8  303.0   1.0\n",
       "2 2019-04-01 09:00:00   8.0  35.0  20.0   0.0  3.0  285.0   3.0\n",
       "3 2019-04-01 12:00:00   5.0  55.0  20.0   0.0  3.8  270.0   3.0\n",
       "4 2019-04-01 15:00:00   4.0  70.0  10.0   0.0  3.1  264.0   2.0"
      ]
     },
     "execution_count": 185,
     "metadata": {},
     "output_type": "execute_result"
    }
   ],
   "source": [
    "sample.head()"
   ]
  },
  {
   "cell_type": "code",
   "execution_count": 188,
   "metadata": {
    "ExecuteTime": {
     "end_time": "2020-06-18T08:20:30.153411Z",
     "start_time": "2020-06-18T08:20:30.132410Z"
    }
   },
   "outputs": [],
   "source": [
    "sample1_ = pd.merge(date, sample, how='outer', on='mea_ddhr', sort=True)"
   ]
  },
  {
   "cell_type": "code",
   "execution_count": 189,
   "metadata": {
    "ExecuteTime": {
     "end_time": "2020-06-18T08:20:35.961743Z",
     "start_time": "2020-06-18T08:20:35.934742Z"
    }
   },
   "outputs": [],
   "source": [
    "sample2_ = pd.merge(date, sample2, how='outer', on='mea_ddhr', sort=True)"
   ]
  },
  {
   "cell_type": "code",
   "execution_count": 193,
   "metadata": {
    "ExecuteTime": {
     "end_time": "2020-06-18T08:21:16.365054Z",
     "start_time": "2020-06-18T08:21:16.324052Z"
    }
   },
   "outputs": [
    {
     "data": {
      "text/html": [
       "<div>\n",
       "<style scoped>\n",
       "    .dataframe tbody tr th:only-of-type {\n",
       "        vertical-align: middle;\n",
       "    }\n",
       "\n",
       "    .dataframe tbody tr th {\n",
       "        vertical-align: top;\n",
       "    }\n",
       "\n",
       "    .dataframe thead th {\n",
       "        text-align: right;\n",
       "    }\n",
       "</style>\n",
       "<table border=\"1\" class=\"dataframe\">\n",
       "  <thead>\n",
       "    <tr style=\"text-align: right;\">\n",
       "      <th></th>\n",
       "      <th>mea_ddhr</th>\n",
       "      <th>기온</th>\n",
       "      <th>습도</th>\n",
       "      <th>강수확률</th>\n",
       "      <th>강수형태</th>\n",
       "      <th>풍속</th>\n",
       "      <th>풍향</th>\n",
       "      <th>하늘상태</th>\n",
       "    </tr>\n",
       "  </thead>\n",
       "  <tbody>\n",
       "    <tr>\n",
       "      <th>0</th>\n",
       "      <td>2019-04-01 03:00:00</td>\n",
       "      <td>10.0</td>\n",
       "      <td>30.0</td>\n",
       "      <td>0.0</td>\n",
       "      <td>0.0</td>\n",
       "      <td>4.5</td>\n",
       "      <td>336.0</td>\n",
       "      <td>1.0</td>\n",
       "    </tr>\n",
       "    <tr>\n",
       "      <th>1</th>\n",
       "      <td>2019-04-01 06:00:00</td>\n",
       "      <td>11.0</td>\n",
       "      <td>25.0</td>\n",
       "      <td>0.0</td>\n",
       "      <td>0.0</td>\n",
       "      <td>4.8</td>\n",
       "      <td>303.0</td>\n",
       "      <td>1.0</td>\n",
       "    </tr>\n",
       "    <tr>\n",
       "      <th>2</th>\n",
       "      <td>2019-04-01 09:00:00</td>\n",
       "      <td>8.0</td>\n",
       "      <td>35.0</td>\n",
       "      <td>20.0</td>\n",
       "      <td>0.0</td>\n",
       "      <td>3.0</td>\n",
       "      <td>285.0</td>\n",
       "      <td>3.0</td>\n",
       "    </tr>\n",
       "    <tr>\n",
       "      <th>3</th>\n",
       "      <td>2019-04-01 12:00:00</td>\n",
       "      <td>5.0</td>\n",
       "      <td>55.0</td>\n",
       "      <td>20.0</td>\n",
       "      <td>0.0</td>\n",
       "      <td>3.8</td>\n",
       "      <td>270.0</td>\n",
       "      <td>3.0</td>\n",
       "    </tr>\n",
       "    <tr>\n",
       "      <th>4</th>\n",
       "      <td>2019-04-01 15:00:00</td>\n",
       "      <td>4.0</td>\n",
       "      <td>70.0</td>\n",
       "      <td>10.0</td>\n",
       "      <td>0.0</td>\n",
       "      <td>3.1</td>\n",
       "      <td>264.0</td>\n",
       "      <td>2.0</td>\n",
       "    </tr>\n",
       "    <tr>\n",
       "      <th>...</th>\n",
       "      <td>...</td>\n",
       "      <td>...</td>\n",
       "      <td>...</td>\n",
       "      <td>...</td>\n",
       "      <td>...</td>\n",
       "      <td>...</td>\n",
       "      <td>...</td>\n",
       "      <td>...</td>\n",
       "    </tr>\n",
       "    <tr>\n",
       "      <th>2923</th>\n",
       "      <td>2020-03-31 12:00:00</td>\n",
       "      <td>9.0</td>\n",
       "      <td>50.0</td>\n",
       "      <td>0.0</td>\n",
       "      <td>0.0</td>\n",
       "      <td>2.5</td>\n",
       "      <td>353.0</td>\n",
       "      <td>1.0</td>\n",
       "    </tr>\n",
       "    <tr>\n",
       "      <th>2924</th>\n",
       "      <td>2020-03-31 15:00:00</td>\n",
       "      <td>6.0</td>\n",
       "      <td>70.0</td>\n",
       "      <td>0.0</td>\n",
       "      <td>0.0</td>\n",
       "      <td>1.4</td>\n",
       "      <td>12.0</td>\n",
       "      <td>1.0</td>\n",
       "    </tr>\n",
       "    <tr>\n",
       "      <th>2925</th>\n",
       "      <td>2020-03-31 18:00:00</td>\n",
       "      <td>5.0</td>\n",
       "      <td>80.0</td>\n",
       "      <td>0.0</td>\n",
       "      <td>0.0</td>\n",
       "      <td>1.4</td>\n",
       "      <td>352.0</td>\n",
       "      <td>1.0</td>\n",
       "    </tr>\n",
       "    <tr>\n",
       "      <th>2926</th>\n",
       "      <td>2020-03-31 21:00:00</td>\n",
       "      <td>4.0</td>\n",
       "      <td>80.0</td>\n",
       "      <td>0.0</td>\n",
       "      <td>0.0</td>\n",
       "      <td>1.4</td>\n",
       "      <td>356.0</td>\n",
       "      <td>1.0</td>\n",
       "    </tr>\n",
       "    <tr>\n",
       "      <th>2927</th>\n",
       "      <td>2020-04-01 00:00:00</td>\n",
       "      <td>8.0</td>\n",
       "      <td>65.0</td>\n",
       "      <td>20.0</td>\n",
       "      <td>0.0</td>\n",
       "      <td>1.4</td>\n",
       "      <td>309.0</td>\n",
       "      <td>3.0</td>\n",
       "    </tr>\n",
       "  </tbody>\n",
       "</table>\n",
       "<p>2928 rows × 8 columns</p>\n",
       "</div>"
      ],
      "text/plain": [
       "                mea_ddhr    기온    습도  강수확률  강수형태   풍속     풍향  하늘상태\n",
       "0    2019-04-01 03:00:00  10.0  30.0   0.0   0.0  4.5  336.0   1.0\n",
       "1    2019-04-01 06:00:00  11.0  25.0   0.0   0.0  4.8  303.0   1.0\n",
       "2    2019-04-01 09:00:00   8.0  35.0  20.0   0.0  3.0  285.0   3.0\n",
       "3    2019-04-01 12:00:00   5.0  55.0  20.0   0.0  3.8  270.0   3.0\n",
       "4    2019-04-01 15:00:00   4.0  70.0  10.0   0.0  3.1  264.0   2.0\n",
       "...                  ...   ...   ...   ...   ...  ...    ...   ...\n",
       "2923 2020-03-31 12:00:00   9.0  50.0   0.0   0.0  2.5  353.0   1.0\n",
       "2924 2020-03-31 15:00:00   6.0  70.0   0.0   0.0  1.4   12.0   1.0\n",
       "2925 2020-03-31 18:00:00   5.0  80.0   0.0   0.0  1.4  352.0   1.0\n",
       "2926 2020-03-31 21:00:00   4.0  80.0   0.0   0.0  1.4  356.0   1.0\n",
       "2927 2020-04-01 00:00:00   8.0  65.0  20.0   0.0  1.4  309.0   3.0\n",
       "\n",
       "[2928 rows x 8 columns]"
      ]
     },
     "execution_count": 193,
     "metadata": {},
     "output_type": "execute_result"
    }
   ],
   "source": [
    "sample"
   ]
  },
  {
   "cell_type": "code",
   "execution_count": 194,
   "metadata": {
    "ExecuteTime": {
     "end_time": "2020-06-18T08:24:36.577506Z",
     "start_time": "2020-06-18T08:24:36.298490Z"
    }
   },
   "outputs": [],
   "source": [
    "sample1_.interpolate(method='values', inplace=True)"
   ]
  },
  {
   "cell_type": "code",
   "execution_count": 195,
   "metadata": {
    "ExecuteTime": {
     "end_time": "2020-06-18T08:24:41.131766Z",
     "start_time": "2020-06-18T08:24:40.759745Z"
    }
   },
   "outputs": [],
   "source": [
    "sample2_.interpolate(method='values', inplace=True)"
   ]
  },
  {
   "cell_type": "code",
   "execution_count": 200,
   "metadata": {
    "ExecuteTime": {
     "end_time": "2020-06-18T08:26:02.545423Z",
     "start_time": "2020-06-18T08:26:02.521422Z"
    }
   },
   "outputs": [],
   "source": [
    "for t in types:\n",
    "    sample1_.rename(columns={t:match_t(t)+'_24hr'}, inplace=True)"
   ]
  },
  {
   "cell_type": "code",
   "execution_count": 202,
   "metadata": {
    "ExecuteTime": {
     "end_time": "2020-06-18T08:26:15.895187Z",
     "start_time": "2020-06-18T08:26:15.871185Z"
    }
   },
   "outputs": [],
   "source": [
    "for t in types:\n",
    "    sample2_.rename(columns={t:match_t(t)+'_48hr'}, inplace=True)"
   ]
  },
  {
   "cell_type": "code",
   "execution_count": 203,
   "metadata": {
    "ExecuteTime": {
     "end_time": "2020-06-18T08:27:03.111887Z",
     "start_time": "2020-06-18T08:27:03.103887Z"
    }
   },
   "outputs": [],
   "source": [
    "test = list()\n",
    "test.append(sample1_)\n",
    "test.append(sample2_)\n",
    "# test[0] : 24hr, test[1] : 48hr"
   ]
  },
  {
   "cell_type": "code",
   "execution_count": 206,
   "metadata": {
    "ExecuteTime": {
     "end_time": "2020-06-18T08:29:50.860482Z",
     "start_time": "2020-06-18T08:29:50.851481Z"
    }
   },
   "outputs": [],
   "source": [
    "for i in range(2):\n",
    "    test[i].drop(0, inplace=True)"
   ]
  },
  {
   "cell_type": "code",
   "execution_count": 209,
   "metadata": {
    "ExecuteTime": {
     "end_time": "2020-06-18T08:30:10.120583Z",
     "start_time": "2020-06-18T08:30:10.116583Z"
    }
   },
   "outputs": [
    {
     "data": {
      "text/plain": [
       "Index(['mea_ddhr', 'tem_24hr', 'hum_24hr', 'rain_p_24hr', 'rain_t_24hr',\n",
       "       'wind_s_24hr', 'wind_d_24hr', 'sky_24hr'],\n",
       "      dtype='object')"
      ]
     },
     "execution_count": 209,
     "metadata": {},
     "output_type": "execute_result"
    }
   ],
   "source": [
    "test[0].columns"
   ]
  },
  {
   "cell_type": "code",
   "execution_count": 210,
   "metadata": {
    "ExecuteTime": {
     "end_time": "2020-06-18T08:31:06.118786Z",
     "start_time": "2020-06-18T08:31:06.080784Z"
    }
   },
   "outputs": [],
   "source": [
    "cols1 = ['sky_24hr', 'rain_t_24hr']\n",
    "cols2 = ['sky_48hr', 'rain_t_48hr']\n",
    "for c in cols1:\n",
    "    test[0][c] = test[0][c].map(lambda x: round(x))\n",
    "for c in cols2:\n",
    "    test[1][c] = test[1][c].map(lambda x: round(x))"
   ]
  },
  {
   "cell_type": "code",
   "execution_count": 211,
   "metadata": {
    "ExecuteTime": {
     "end_time": "2020-06-18T08:32:13.926665Z",
     "start_time": "2020-06-18T08:32:13.894663Z"
    }
   },
   "outputs": [],
   "source": [
    "test[0] = pd.get_dummies(test[0], columns=cols1)\n",
    "test[1] = pd.get_dummies(test[1], columns=cols2)"
   ]
  },
  {
   "cell_type": "code",
   "execution_count": 222,
   "metadata": {
    "ExecuteTime": {
     "end_time": "2020-06-18T08:38:23.171784Z",
     "start_time": "2020-06-18T08:38:23.031776Z"
    }
   },
   "outputs": [],
   "source": [
    "save_data(test[0], 'Data-Results/test/test_24hr.csv')\n",
    "save_data(test[1], 'Data-Results/test/test_48hr.csv')"
   ]
  },
  {
   "cell_type": "code",
   "execution_count": 220,
   "metadata": {
    "ExecuteTime": {
     "end_time": "2020-06-18T08:35:56.730408Z",
     "start_time": "2020-06-18T08:35:56.714407Z"
    }
   },
   "outputs": [],
   "source": [
    "test[0].rename({'sky_24hr_1':'sky_1_24hr', 'sky_24hr_2':'sky_2_24hr', 'sky_24hr_3':'sky_3_24hr', 'sky_24hr_4':'sky_4_24hr', \n",
    "                'rain_t_24hr_0':'rain_t_24hr_0', 'rain_t_24hr_1':'rain_t_1_24hr', 'rain_t_24hr_2':'rain_t_2_24hr', 'rain_t_24hr_3':'rain_t_3_24hr', 'rain_t_24hr_4':'rain_t_4_24hr'}, inplace=True)"
   ]
  },
  {
   "cell_type": "code",
   "execution_count": 224,
   "metadata": {
    "ExecuteTime": {
     "end_time": "2020-06-18T08:39:23.672245Z",
     "start_time": "2020-06-18T08:39:23.651244Z"
    }
   },
   "outputs": [
    {
     "data": {
      "text/html": [
       "<div>\n",
       "<style scoped>\n",
       "    .dataframe tbody tr th:only-of-type {\n",
       "        vertical-align: middle;\n",
       "    }\n",
       "\n",
       "    .dataframe tbody tr th {\n",
       "        vertical-align: top;\n",
       "    }\n",
       "\n",
       "    .dataframe thead th {\n",
       "        text-align: right;\n",
       "    }\n",
       "</style>\n",
       "<table border=\"1\" class=\"dataframe\">\n",
       "  <thead>\n",
       "    <tr style=\"text-align: right;\">\n",
       "      <th></th>\n",
       "      <th>mea_ddhr</th>\n",
       "    </tr>\n",
       "  </thead>\n",
       "  <tbody>\n",
       "    <tr>\n",
       "      <th>0</th>\n",
       "      <td>2019-04-01 00:00:00</td>\n",
       "    </tr>\n",
       "    <tr>\n",
       "      <th>1</th>\n",
       "      <td>2019-04-01 04:30:00</td>\n",
       "    </tr>\n",
       "    <tr>\n",
       "      <th>2</th>\n",
       "      <td>2019-04-01 10:30:00</td>\n",
       "    </tr>\n",
       "    <tr>\n",
       "      <th>3</th>\n",
       "      <td>2019-04-01 11:00:00</td>\n",
       "    </tr>\n",
       "    <tr>\n",
       "      <th>4</th>\n",
       "      <td>2019-04-01 13:30:00</td>\n",
       "    </tr>\n",
       "  </tbody>\n",
       "</table>\n",
       "</div>"
      ],
      "text/plain": [
       "             mea_ddhr\n",
       "0 2019-04-01 00:00:00\n",
       "1 2019-04-01 04:30:00\n",
       "2 2019-04-01 10:30:00\n",
       "3 2019-04-01 11:00:00\n",
       "4 2019-04-01 13:30:00"
      ]
     },
     "execution_count": 224,
     "metadata": {},
     "output_type": "execute_result"
    }
   ],
   "source": [
    "date.head()"
   ]
  },
  {
   "cell_type": "code",
   "execution_count": 225,
   "metadata": {
    "ExecuteTime": {
     "end_time": "2020-06-18T08:39:27.738477Z",
     "start_time": "2020-06-18T08:39:27.717476Z"
    }
   },
   "outputs": [
    {
     "data": {
      "text/html": [
       "<div>\n",
       "<style scoped>\n",
       "    .dataframe tbody tr th:only-of-type {\n",
       "        vertical-align: middle;\n",
       "    }\n",
       "\n",
       "    .dataframe tbody tr th {\n",
       "        vertical-align: top;\n",
       "    }\n",
       "\n",
       "    .dataframe thead th {\n",
       "        text-align: right;\n",
       "    }\n",
       "</style>\n",
       "<table border=\"1\" class=\"dataframe\">\n",
       "  <thead>\n",
       "    <tr style=\"text-align: right;\">\n",
       "      <th></th>\n",
       "      <th>mea_ddhr</th>\n",
       "      <th>tem_24hr</th>\n",
       "      <th>hum_24hr</th>\n",
       "      <th>rain_p_24hr</th>\n",
       "      <th>wind_s_24hr</th>\n",
       "      <th>wind_d_24hr</th>\n",
       "      <th>sky_24hr_1</th>\n",
       "      <th>sky_24hr_2</th>\n",
       "      <th>sky_24hr_3</th>\n",
       "      <th>sky_24hr_4</th>\n",
       "      <th>rain_t_24hr_0</th>\n",
       "      <th>rain_t_24hr_1</th>\n",
       "      <th>rain_t_24hr_2</th>\n",
       "      <th>rain_t_24hr_3</th>\n",
       "      <th>rain_t_24hr_4</th>\n",
       "    </tr>\n",
       "  </thead>\n",
       "  <tbody>\n",
       "    <tr>\n",
       "      <th>1</th>\n",
       "      <td>2019-04-01 03:00:00</td>\n",
       "      <td>10.0</td>\n",
       "      <td>30.000000</td>\n",
       "      <td>0.0</td>\n",
       "      <td>4.500000</td>\n",
       "      <td>336.0</td>\n",
       "      <td>1</td>\n",
       "      <td>0</td>\n",
       "      <td>0</td>\n",
       "      <td>0</td>\n",
       "      <td>1</td>\n",
       "      <td>0</td>\n",
       "      <td>0</td>\n",
       "      <td>0</td>\n",
       "      <td>0</td>\n",
       "    </tr>\n",
       "    <tr>\n",
       "      <th>2</th>\n",
       "      <td>2019-04-01 04:30:00</td>\n",
       "      <td>10.5</td>\n",
       "      <td>27.500000</td>\n",
       "      <td>0.0</td>\n",
       "      <td>4.650000</td>\n",
       "      <td>319.5</td>\n",
       "      <td>1</td>\n",
       "      <td>0</td>\n",
       "      <td>0</td>\n",
       "      <td>0</td>\n",
       "      <td>1</td>\n",
       "      <td>0</td>\n",
       "      <td>0</td>\n",
       "      <td>0</td>\n",
       "      <td>0</td>\n",
       "    </tr>\n",
       "    <tr>\n",
       "      <th>3</th>\n",
       "      <td>2019-04-01 06:00:00</td>\n",
       "      <td>11.0</td>\n",
       "      <td>25.000000</td>\n",
       "      <td>0.0</td>\n",
       "      <td>4.800000</td>\n",
       "      <td>303.0</td>\n",
       "      <td>1</td>\n",
       "      <td>0</td>\n",
       "      <td>0</td>\n",
       "      <td>0</td>\n",
       "      <td>1</td>\n",
       "      <td>0</td>\n",
       "      <td>0</td>\n",
       "      <td>0</td>\n",
       "      <td>0</td>\n",
       "    </tr>\n",
       "    <tr>\n",
       "      <th>4</th>\n",
       "      <td>2019-04-01 09:00:00</td>\n",
       "      <td>8.0</td>\n",
       "      <td>35.000000</td>\n",
       "      <td>20.0</td>\n",
       "      <td>3.000000</td>\n",
       "      <td>285.0</td>\n",
       "      <td>0</td>\n",
       "      <td>0</td>\n",
       "      <td>1</td>\n",
       "      <td>0</td>\n",
       "      <td>1</td>\n",
       "      <td>0</td>\n",
       "      <td>0</td>\n",
       "      <td>0</td>\n",
       "      <td>0</td>\n",
       "    </tr>\n",
       "    <tr>\n",
       "      <th>5</th>\n",
       "      <td>2019-04-01 10:30:00</td>\n",
       "      <td>7.0</td>\n",
       "      <td>41.666667</td>\n",
       "      <td>20.0</td>\n",
       "      <td>3.266667</td>\n",
       "      <td>280.0</td>\n",
       "      <td>0</td>\n",
       "      <td>0</td>\n",
       "      <td>1</td>\n",
       "      <td>0</td>\n",
       "      <td>1</td>\n",
       "      <td>0</td>\n",
       "      <td>0</td>\n",
       "      <td>0</td>\n",
       "      <td>0</td>\n",
       "    </tr>\n",
       "  </tbody>\n",
       "</table>\n",
       "</div>"
      ],
      "text/plain": [
       "             mea_ddhr  tem_24hr   hum_24hr  rain_p_24hr  wind_s_24hr  \\\n",
       "1 2019-04-01 03:00:00      10.0  30.000000          0.0     4.500000   \n",
       "2 2019-04-01 04:30:00      10.5  27.500000          0.0     4.650000   \n",
       "3 2019-04-01 06:00:00      11.0  25.000000          0.0     4.800000   \n",
       "4 2019-04-01 09:00:00       8.0  35.000000         20.0     3.000000   \n",
       "5 2019-04-01 10:30:00       7.0  41.666667         20.0     3.266667   \n",
       "\n",
       "   wind_d_24hr  sky_24hr_1  sky_24hr_2  sky_24hr_3  sky_24hr_4  rain_t_24hr_0  \\\n",
       "1        336.0           1           0           0           0              1   \n",
       "2        319.5           1           0           0           0              1   \n",
       "3        303.0           1           0           0           0              1   \n",
       "4        285.0           0           0           1           0              1   \n",
       "5        280.0           0           0           1           0              1   \n",
       "\n",
       "   rain_t_24hr_1  rain_t_24hr_2  rain_t_24hr_3  rain_t_24hr_4  \n",
       "1              0              0              0              0  \n",
       "2              0              0              0              0  \n",
       "3              0              0              0              0  \n",
       "4              0              0              0              0  \n",
       "5              0              0              0              0  "
      ]
     },
     "execution_count": 225,
     "metadata": {},
     "output_type": "execute_result"
    }
   ],
   "source": [
    "test[0].head()"
   ]
  },
  {
   "cell_type": "code",
   "execution_count": 228,
   "metadata": {
    "ExecuteTime": {
     "end_time": "2020-06-18T08:40:44.256854Z",
     "start_time": "2020-06-18T08:40:44.064843Z"
    }
   },
   "outputs": [],
   "source": [
    "save_data(pd.merge(date, test[0], on='mea_ddhr', how='left'), 'Data-Results/test/test_24hr_result.csv')\n",
    "save_data(pd.merge(date, test[1], on='mea_ddhr', how='left'), 'Data-Results/test/test_48hr_result.csv')"
   ]
  },
  {
   "cell_type": "code",
   "execution_count": null,
   "metadata": {},
   "outputs": [],
   "source": []
  },
  {
   "cell_type": "code",
   "execution_count": null,
   "metadata": {},
   "outputs": [],
   "source": []
  },
  {
   "cell_type": "code",
   "execution_count": null,
   "metadata": {},
   "outputs": [],
   "source": []
  },
  {
   "cell_type": "code",
   "execution_count": null,
   "metadata": {},
   "outputs": [],
   "source": []
  },
  {
   "cell_type": "markdown",
   "metadata": {},
   "source": [
    "현대제철 데이터에 날씨정보 추가"
   ]
  },
  {
   "cell_type": "code",
   "execution_count": null,
   "metadata": {},
   "outputs": [],
   "source": [
    "path = 'Data/현대제철/'\n",
    "hdata = list()"
   ]
  },
  {
   "cell_type": "code",
   "execution_count": null,
   "metadata": {},
   "outputs": [],
   "source": [
    "# 현대제철 정보 읽어오기\n",
    "hdata = list()\n",
    "for i in range(2):\n",
    "    hdata.append(list())\n",
    "    for j in range(3):\n",
    "        fname = 'plant'+str(i+1)+str(j+1)+'_train4.csv'\n",
    "        hdata[i].append(read_data(path+fname))"
   ]
  },
  {
   "cell_type": "code",
   "execution_count": null,
   "metadata": {},
   "outputs": [],
   "source": [
    "for i in range(2):\n",
    "    if i==0: hr='24hr'\n",
    "    else: hr='48hr'\n",
    "    for d in data[i]:\n",
    "        data[i][d].columns = ['mea_ddhr', match_t(d)+'_'+hr]"
   ]
  },
  {
   "cell_type": "code",
   "execution_count": null,
   "metadata": {},
   "outputs": [],
   "source": [
    "for i in range(2):\n",
    "    for d in data[i]:\n",
    "        data[i][d].astype({'mea_ddhr':'int64'}).dtypes"
   ]
  },
  {
   "cell_type": "code",
   "execution_count": null,
   "metadata": {},
   "outputs": [],
   "source": [
    "for i in range(2):\n",
    "    for j in range(3):\n",
    "        for k in range(2):\n",
    "            for d in data[k]:\n",
    "                hdata[i][j] = pd.merge(hdata[i][j], data[k][d], how='left')"
   ]
  },
  {
   "cell_type": "code",
   "execution_count": null,
   "metadata": {},
   "outputs": [],
   "source": [
    "# 현대제철 데이터 저장\n",
    "for i in range(2):\n",
    "    for j in range(3):\n",
    "        fname = 'Data-Results/현대제철add/'+'plant'+str(i+1)+str(j+1)+'_train4_add.csv'\n",
    "        save_data(hdata[i][j], fname)"
   ]
  },
  {
   "cell_type": "code",
   "execution_count": null,
   "metadata": {},
   "outputs": [],
   "source": [
    "for i in range(2):\n",
    "    for d in data[i]:\n",
    "        save_data(data[i][d], 'Data-Results/'+d+'_'+str(i)+'.csv')"
   ]
  },
  {
   "cell_type": "code",
   "execution_count": null,
   "metadata": {},
   "outputs": [],
   "source": [
    "for i in range(2):\n",
    "    for j in range(3):\n",
    "        hdata[i][j] = hdata[i][j].interpolate(method='values')"
   ]
  },
  {
   "cell_type": "markdown",
   "metadata": {},
   "source": [
    "# 날씨 예측"
   ]
  },
  {
   "cell_type": "code",
   "execution_count": 6,
   "metadata": {},
   "outputs": [],
   "source": [
    "# 현대제철 데이터 read\n",
    "hdata = list()\n",
    "for i in range(2):\n",
    "    hdata.append(list())\n",
    "    for j in range(3):\n",
    "        fname = 'Data-Results/현대제철0610/'+'plant'+str(i+1)+str(j+1)+'_train4_add.csv'\n",
    "        hdata[i].append(read_data(fname))"
   ]
  },
  {
   "cell_type": "code",
   "execution_count": null,
   "metadata": {},
   "outputs": [],
   "source": [
    "# 현대제철 데이터 저장\n",
    "for i in range(2):\n",
    "    for j in range(3):\n",
    "        fname = 'Data-Results/현대제철0610/'+'plant'+str(i+1)+str(j+1)+'_train4_add.csv'\n",
    "        save_data(hdata[i][j], fname)"
   ]
  },
  {
   "cell_type": "code",
   "execution_count": 62,
   "metadata": {
    "ExecuteTime": {
     "end_time": "2020-06-18T05:24:50.043168Z",
     "start_time": "2020-06-18T05:24:49.840156Z"
    }
   },
   "outputs": [],
   "source": [
    "# 2공장 데이터 다시해야함 (0617)\n",
    "hdata = list()\n",
    "for i in range(3):\n",
    "    fname = 'Data/현대제철/'+'plant2'+str(i+1)+'.csv'\n",
    "    hdata.append(read_data(fname))"
   ]
  },
  {
   "cell_type": "code",
   "execution_count": 136,
   "metadata": {
    "ExecuteTime": {
     "end_time": "2020-06-19T06:00:28.826477Z",
     "start_time": "2020-06-19T06:00:28.801876Z"
    }
   },
   "outputs": [],
   "source": [
    "error_list = list()\n",
    "def make_predict(df, col_txt):\n",
    "    #col_txt = ['tem_in_loc', 'hum_in_loc', 'tem_coil_loc', 'tem_out_loc', 'hum_out_loc']\n",
    "    df.mea_ddhr = pd.to_datetime(df.mea_ddhr, format=\"%Y-%m-%d %H:%M\")\n",
    "    \n",
    "    i=0    \n",
    "    for date in df.mea_ddhr:   \n",
    "        h24 = date+timedelta(days=1)\n",
    "        h48 = date+timedelta(days=2)\n",
    "        \n",
    "        try:\n",
    "            for col in col_txt:\n",
    "                df.loc[i, col+\"_24hr\"] = df[col][df.mea_ddhr==h24].values[0]\n",
    "                df.loc[i, col+\"_48hr\"] = df[col][df.mea_ddhr==h48].values[0]\n",
    "        except:\n",
    "            error_list.append(h24)\n",
    "        i+=1\n",
    "\n",
    "    return df"
   ]
  },
  {
   "cell_type": "code",
   "execution_count": 6,
   "metadata": {
    "ExecuteTime": {
     "end_time": "2020-06-18T00:50:50.215913Z",
     "start_time": "2020-06-18T00:50:50.069706Z"
    },
    "collapsed": true
   },
   "outputs": [
    {
     "ename": "FileExistsError",
     "evalue": "[WinError 183] 파일이 이미 있으므로 만들 수 없습니다: 'Data-Results/현대제철0617/'",
     "output_type": "error",
     "traceback": [
      "\u001b[1;31m---------------------------------------------------------------------------\u001b[0m",
      "\u001b[1;31mFileExistsError\u001b[0m                           Traceback (most recent call last)",
      "\u001b[1;32m<ipython-input-6-04a36f2c2850>\u001b[0m in \u001b[0;36m<module>\u001b[1;34m\u001b[0m\n\u001b[0;32m      1\u001b[0m \u001b[1;32mimport\u001b[0m \u001b[0mos\u001b[0m\u001b[1;33m\u001b[0m\u001b[1;33m\u001b[0m\u001b[0m\n\u001b[1;32m----> 2\u001b[1;33m \u001b[0mos\u001b[0m\u001b[1;33m.\u001b[0m\u001b[0mmkdir\u001b[0m\u001b[1;33m(\u001b[0m\u001b[1;34m'Data-Results/현대제철0617/'\u001b[0m\u001b[1;33m)\u001b[0m\u001b[1;33m\u001b[0m\u001b[1;33m\u001b[0m\u001b[0m\n\u001b[0m",
      "\u001b[1;31mFileExistsError\u001b[0m: [WinError 183] 파일이 이미 있으므로 만들 수 없습니다: 'Data-Results/현대제철0617/'"
     ]
    }
   ],
   "source": [
    "import os\n",
    "os.mkdir('Data-Results/현대제철0617/')"
   ]
  },
  {
   "cell_type": "code",
   "execution_count": 66,
   "metadata": {
    "ExecuteTime": {
     "end_time": "2020-06-18T05:25:29.000396Z",
     "start_time": "2020-06-18T05:25:28.989396Z"
    }
   },
   "outputs": [],
   "source": [
    "# 2공장 데이터 다시해야함 (0617)\n",
    "for j in range(3):\n",
    "    sj = str(j+1)\n",
    "    hdata[j].rename(columns={'tem_in_loc'+sj:'tem_in_loc', 'hum_in_loc'+sj:'hum_in_loc', 'tem_coil_loc'+sj:'tem_coil_loc', 'tem_out_loc1':'tem_out_loc', 'hum_out_loc1':'hum_out_loc'}, inplace=True)"
   ]
  },
  {
   "cell_type": "code",
   "execution_count": 68,
   "metadata": {
    "ExecuteTime": {
     "end_time": "2020-06-18T05:25:42.758183Z",
     "start_time": "2020-06-18T05:25:42.721181Z"
    }
   },
   "outputs": [],
   "source": [
    "col_txt = ['tem_in_loc', 'hum_in_loc', 'tem_coil_loc', 'tem_out_loc', 'hum_out_loc']\n",
    "for i in range(3):\n",
    "    for col in col_txt:\n",
    "        hdata[i][col+'_24hr'] = np.nan\n",
    "        hdata[i][col+'_48hr'] = np.nan"
   ]
  },
  {
   "cell_type": "code",
   "execution_count": 70,
   "metadata": {
    "ExecuteTime": {
     "end_time": "2020-06-18T05:25:58.244069Z",
     "start_time": "2020-06-18T05:25:51.228668Z"
    }
   },
   "outputs": [],
   "source": [
    "for i in range(3):\n",
    "    hdata[i] = hdata[i].interpolate(method='values')"
   ]
  },
  {
   "cell_type": "code",
   "execution_count": 71,
   "metadata": {
    "ExecuteTime": {
     "end_time": "2020-06-18T05:26:03.749384Z",
     "start_time": "2020-06-18T05:26:01.785271Z"
    }
   },
   "outputs": [],
   "source": [
    "for i in range(3):\n",
    "    save_data(hdata[i], 'Data-Results/현대제철0617/'+'plant2'+str(i+1)+'_1.csv')"
   ]
  },
  {
   "cell_type": "code",
   "execution_count": 61,
   "metadata": {
    "ExecuteTime": {
     "end_time": "2020-06-18T05:24:41.280667Z",
     "start_time": "2020-06-18T05:24:41.047653Z"
    }
   },
   "outputs": [],
   "source": [
    "for i in range(3):\n",
    "    hdata[i] = read_data(\"Data-Results/현대제철0617/\"+\"plant2\"+str(i+1)+\"_1.csv\")"
   ]
  },
  {
   "cell_type": "code",
   "execution_count": 72,
   "metadata": {
    "ExecuteTime": {
     "end_time": "2020-06-18T05:50:59.329896Z",
     "start_time": "2020-06-18T05:26:38.271358Z"
    }
   },
   "outputs": [],
   "source": [
    "# 2공장 데이터 다시해야함 (0617)\n",
    "for i in range(3):\n",
    "    hdata[i] = make_predict(hdata[i])\n",
    "    save_data(hdata[i], 'Data-Results/현대제철0617/'+'plant2'+str(i+1)+'.csv')"
   ]
  },
  {
   "cell_type": "code",
   "execution_count": 74,
   "metadata": {
    "ExecuteTime": {
     "end_time": "2020-06-18T06:07:16.075558Z",
     "start_time": "2020-06-18T06:07:14.949494Z"
    }
   },
   "outputs": [
    {
     "data": {
      "text/plain": [
       "<matplotlib.axes._subplots.AxesSubplot at 0x12d2b988>"
      ]
     },
     "execution_count": 74,
     "metadata": {},
     "output_type": "execute_result"
    },
    {
     "data": {
      "image/png": "[encoded data removed]",
      "text/plain": [
       "<Figure size 432x288 with 1 Axes>"
      ]
     },
     "metadata": {
      "needs_background": "light"
     },
     "output_type": "display_data"
    }
   ],
   "source": [
    "sns.heatmap(hdata[1].isnull(), cbar=False)"
   ]
  },
  {
   "cell_type": "code",
   "execution_count": null,
   "metadata": {},
   "outputs": [],
   "source": [
    "df[\"mea_ddhr\"] = df.iloc[:,0].astype(\"datetime64[ns]\")"
   ]
  },
  {
   "cell_type": "code",
   "execution_count": 103,
   "metadata": {
    "collapsed": true
   },
   "outputs": [
    {
     "ename": "KeyError",
     "evalue": "0",
     "output_type": "error",
     "traceback": [
      "\u001b[1;31m---------------------------------------------------------------------------\u001b[0m",
      "\u001b[1;31mKeyError\u001b[0m                                  Traceback (most recent call last)",
      "\u001b[1;32m~\\anaconda3\\lib\\site-packages\\pandas\\core\\indexes\\base.py\u001b[0m in \u001b[0;36mget_loc\u001b[1;34m(self, key, method, tolerance)\u001b[0m\n\u001b[0;32m   2645\u001b[0m             \u001b[1;32mtry\u001b[0m\u001b[1;33m:\u001b[0m\u001b[1;33m\u001b[0m\u001b[1;33m\u001b[0m\u001b[0m\n\u001b[1;32m-> 2646\u001b[1;33m                 \u001b[1;32mreturn\u001b[0m \u001b[0mself\u001b[0m\u001b[1;33m.\u001b[0m\u001b[0m_engine\u001b[0m\u001b[1;33m.\u001b[0m\u001b[0mget_loc\u001b[0m\u001b[1;33m(\u001b[0m\u001b[0mkey\u001b[0m\u001b[1;33m)\u001b[0m\u001b[1;33m\u001b[0m\u001b[1;33m\u001b[0m\u001b[0m\n\u001b[0m\u001b[0;32m   2647\u001b[0m             \u001b[1;32mexcept\u001b[0m \u001b[0mKeyError\u001b[0m\u001b[1;33m:\u001b[0m\u001b[1;33m\u001b[0m\u001b[1;33m\u001b[0m\u001b[0m\n",
      "\u001b[1;32mpandas\\_libs\\index.pyx\u001b[0m in \u001b[0;36mpandas._libs.index.IndexEngine.get_loc\u001b[1;34m()\u001b[0m\n",
      "\u001b[1;32mpandas\\_libs\\index.pyx\u001b[0m in \u001b[0;36mpandas._libs.index.IndexEngine.get_loc\u001b[1;34m()\u001b[0m\n",
      "\u001b[1;32mpandas\\_libs\\hashtable_class_helper.pxi\u001b[0m in \u001b[0;36mpandas._libs.hashtable.PyObjectHashTable.get_item\u001b[1;34m()\u001b[0m\n",
      "\u001b[1;32mpandas\\_libs\\hashtable_class_helper.pxi\u001b[0m in \u001b[0;36mpandas._libs.hashtable.PyObjectHashTable.get_item\u001b[1;34m()\u001b[0m\n",
      "\u001b[1;31mKeyError\u001b[0m: 0",
      "\nDuring handling of the above exception, another exception occurred:\n",
      "\u001b[1;31mKeyError\u001b[0m                                  Traceback (most recent call last)",
      "\u001b[1;32m<ipython-input-103-b7b6a1f314a8>\u001b[0m in \u001b[0;36m<module>\u001b[1;34m\u001b[0m\n\u001b[0;32m      1\u001b[0m \u001b[1;32mfor\u001b[0m \u001b[0mi\u001b[0m \u001b[1;32min\u001b[0m \u001b[0mrange\u001b[0m\u001b[1;33m(\u001b[0m\u001b[1;36m2\u001b[0m\u001b[1;33m)\u001b[0m\u001b[1;33m:\u001b[0m\u001b[1;33m\u001b[0m\u001b[1;33m\u001b[0m\u001b[0m\n\u001b[0;32m      2\u001b[0m     \u001b[1;32mfor\u001b[0m \u001b[0mj\u001b[0m \u001b[1;32min\u001b[0m \u001b[0mrange\u001b[0m\u001b[1;33m(\u001b[0m\u001b[1;36m3\u001b[0m\u001b[1;33m)\u001b[0m\u001b[1;33m:\u001b[0m\u001b[1;33m\u001b[0m\u001b[1;33m\u001b[0m\u001b[0m\n\u001b[1;32m----> 3\u001b[1;33m         \u001b[0mhdata\u001b[0m\u001b[1;33m[\u001b[0m\u001b[0mi\u001b[0m\u001b[1;33m]\u001b[0m\u001b[1;33m[\u001b[0m\u001b[0mj\u001b[0m\u001b[1;33m]\u001b[0m \u001b[1;33m=\u001b[0m \u001b[0mmake_predict\u001b[0m\u001b[1;33m(\u001b[0m\u001b[0mhdata\u001b[0m\u001b[1;33m[\u001b[0m\u001b[0mi\u001b[0m\u001b[1;33m]\u001b[0m\u001b[1;33m[\u001b[0m\u001b[0mj\u001b[0m\u001b[1;33m]\u001b[0m\u001b[1;33m)\u001b[0m\u001b[1;33m\u001b[0m\u001b[1;33m\u001b[0m\u001b[0m\n\u001b[0m\u001b[0;32m      4\u001b[0m         \u001b[0msave_data\u001b[0m\u001b[1;33m(\u001b[0m\u001b[0mhdata\u001b[0m\u001b[1;33m[\u001b[0m\u001b[0mi\u001b[0m\u001b[1;33m]\u001b[0m\u001b[1;33m[\u001b[0m\u001b[0mj\u001b[0m\u001b[1;33m]\u001b[0m\u001b[1;33m,\u001b[0m \u001b[1;34m\"Data-Results/현대제철0611/\"\u001b[0m\u001b[1;33m+\u001b[0m\u001b[1;34m\"plant\"\u001b[0m\u001b[1;33m+\u001b[0m\u001b[0mstr\u001b[0m\u001b[1;33m(\u001b[0m\u001b[0mi\u001b[0m\u001b[1;33m+\u001b[0m\u001b[1;36m1\u001b[0m\u001b[1;33m)\u001b[0m\u001b[1;33m+\u001b[0m\u001b[0mstr\u001b[0m\u001b[1;33m(\u001b[0m\u001b[0mj\u001b[0m\u001b[1;33m+\u001b[0m\u001b[1;36m1\u001b[0m\u001b[1;33m)\u001b[0m\u001b[1;33m+\u001b[0m\u001b[1;34m\".csv\"\u001b[0m\u001b[1;33m)\u001b[0m\u001b[1;33m\u001b[0m\u001b[1;33m\u001b[0m\u001b[0m\n",
      "\u001b[1;32m~\\anaconda3\\lib\\site-packages\\pandas\\core\\frame.py\u001b[0m in \u001b[0;36m__getitem__\u001b[1;34m(self, key)\u001b[0m\n\u001b[0;32m   2798\u001b[0m             \u001b[1;32mif\u001b[0m \u001b[0mself\u001b[0m\u001b[1;33m.\u001b[0m\u001b[0mcolumns\u001b[0m\u001b[1;33m.\u001b[0m\u001b[0mnlevels\u001b[0m \u001b[1;33m>\u001b[0m \u001b[1;36m1\u001b[0m\u001b[1;33m:\u001b[0m\u001b[1;33m\u001b[0m\u001b[1;33m\u001b[0m\u001b[0m\n\u001b[0;32m   2799\u001b[0m                 \u001b[1;32mreturn\u001b[0m \u001b[0mself\u001b[0m\u001b[1;33m.\u001b[0m\u001b[0m_getitem_multilevel\u001b[0m\u001b[1;33m(\u001b[0m\u001b[0mkey\u001b[0m\u001b[1;33m)\u001b[0m\u001b[1;33m\u001b[0m\u001b[1;33m\u001b[0m\u001b[0m\n\u001b[1;32m-> 2800\u001b[1;33m             \u001b[0mindexer\u001b[0m \u001b[1;33m=\u001b[0m \u001b[0mself\u001b[0m\u001b[1;33m.\u001b[0m\u001b[0mcolumns\u001b[0m\u001b[1;33m.\u001b[0m\u001b[0mget_loc\u001b[0m\u001b[1;33m(\u001b[0m\u001b[0mkey\u001b[0m\u001b[1;33m)\u001b[0m\u001b[1;33m\u001b[0m\u001b[1;33m\u001b[0m\u001b[0m\n\u001b[0m\u001b[0;32m   2801\u001b[0m             \u001b[1;32mif\u001b[0m \u001b[0mis_integer\u001b[0m\u001b[1;33m(\u001b[0m\u001b[0mindexer\u001b[0m\u001b[1;33m)\u001b[0m\u001b[1;33m:\u001b[0m\u001b[1;33m\u001b[0m\u001b[1;33m\u001b[0m\u001b[0m\n\u001b[0;32m   2802\u001b[0m                 \u001b[0mindexer\u001b[0m \u001b[1;33m=\u001b[0m \u001b[1;33m[\u001b[0m\u001b[0mindexer\u001b[0m\u001b[1;33m]\u001b[0m\u001b[1;33m\u001b[0m\u001b[1;33m\u001b[0m\u001b[0m\n",
      "\u001b[1;32m~\\anaconda3\\lib\\site-packages\\pandas\\core\\indexes\\base.py\u001b[0m in \u001b[0;36mget_loc\u001b[1;34m(self, key, method, tolerance)\u001b[0m\n\u001b[0;32m   2646\u001b[0m                 \u001b[1;32mreturn\u001b[0m \u001b[0mself\u001b[0m\u001b[1;33m.\u001b[0m\u001b[0m_engine\u001b[0m\u001b[1;33m.\u001b[0m\u001b[0mget_loc\u001b[0m\u001b[1;33m(\u001b[0m\u001b[0mkey\u001b[0m\u001b[1;33m)\u001b[0m\u001b[1;33m\u001b[0m\u001b[1;33m\u001b[0m\u001b[0m\n\u001b[0;32m   2647\u001b[0m             \u001b[1;32mexcept\u001b[0m \u001b[0mKeyError\u001b[0m\u001b[1;33m:\u001b[0m\u001b[1;33m\u001b[0m\u001b[1;33m\u001b[0m\u001b[0m\n\u001b[1;32m-> 2648\u001b[1;33m                 \u001b[1;32mreturn\u001b[0m \u001b[0mself\u001b[0m\u001b[1;33m.\u001b[0m\u001b[0m_engine\u001b[0m\u001b[1;33m.\u001b[0m\u001b[0mget_loc\u001b[0m\u001b[1;33m(\u001b[0m\u001b[0mself\u001b[0m\u001b[1;33m.\u001b[0m\u001b[0m_maybe_cast_indexer\u001b[0m\u001b[1;33m(\u001b[0m\u001b[0mkey\u001b[0m\u001b[1;33m)\u001b[0m\u001b[1;33m)\u001b[0m\u001b[1;33m\u001b[0m\u001b[1;33m\u001b[0m\u001b[0m\n\u001b[0m\u001b[0;32m   2649\u001b[0m         \u001b[0mindexer\u001b[0m \u001b[1;33m=\u001b[0m \u001b[0mself\u001b[0m\u001b[1;33m.\u001b[0m\u001b[0mget_indexer\u001b[0m\u001b[1;33m(\u001b[0m\u001b[1;33m[\u001b[0m\u001b[0mkey\u001b[0m\u001b[1;33m]\u001b[0m\u001b[1;33m,\u001b[0m \u001b[0mmethod\u001b[0m\u001b[1;33m=\u001b[0m\u001b[0mmethod\u001b[0m\u001b[1;33m,\u001b[0m \u001b[0mtolerance\u001b[0m\u001b[1;33m=\u001b[0m\u001b[0mtolerance\u001b[0m\u001b[1;33m)\u001b[0m\u001b[1;33m\u001b[0m\u001b[1;33m\u001b[0m\u001b[0m\n\u001b[0;32m   2650\u001b[0m         \u001b[1;32mif\u001b[0m \u001b[0mindexer\u001b[0m\u001b[1;33m.\u001b[0m\u001b[0mndim\u001b[0m \u001b[1;33m>\u001b[0m \u001b[1;36m1\u001b[0m \u001b[1;32mor\u001b[0m \u001b[0mindexer\u001b[0m\u001b[1;33m.\u001b[0m\u001b[0msize\u001b[0m \u001b[1;33m>\u001b[0m \u001b[1;36m1\u001b[0m\u001b[1;33m:\u001b[0m\u001b[1;33m\u001b[0m\u001b[1;33m\u001b[0m\u001b[0m\n",
      "\u001b[1;32mpandas\\_libs\\index.pyx\u001b[0m in \u001b[0;36mpandas._libs.index.IndexEngine.get_loc\u001b[1;34m()\u001b[0m\n",
      "\u001b[1;32mpandas\\_libs\\index.pyx\u001b[0m in \u001b[0;36mpandas._libs.index.IndexEngine.get_loc\u001b[1;34m()\u001b[0m\n",
      "\u001b[1;32mpandas\\_libs\\hashtable_class_helper.pxi\u001b[0m in \u001b[0;36mpandas._libs.hashtable.PyObjectHashTable.get_item\u001b[1;34m()\u001b[0m\n",
      "\u001b[1;32mpandas\\_libs\\hashtable_class_helper.pxi\u001b[0m in \u001b[0;36mpandas._libs.hashtable.PyObjectHashTable.get_item\u001b[1;34m()\u001b[0m\n",
      "\u001b[1;31mKeyError\u001b[0m: 0"
     ]
    }
   ],
   "source": [
    "for i in range(2):\n",
    "    for j in range(3):\n",
    "        hdata[i][j] = make_predict(hdata[i][j])\n",
    "        save_data(hdata[i][j], \"Data-Results/현대제철0611/\"+\"plant\"+str(i+1)+str(j+1)+\".csv\")"
   ]
  },
  {
   "cell_type": "markdown",
   "metadata": {},
   "source": [
    "## plant2 데이터수정\n",
    "시계열데이터가 합쳐지지않는다  \n",
    "근데 안해도될거같다ㅋㅎㅋㅎㅎㅎㅋㅋ"
   ]
  },
  {
   "cell_type": "code",
   "execution_count": 41,
   "metadata": {},
   "outputs": [],
   "source": [
    "hdata_c = list()\n",
    "for i in range(1, 4):\n",
    "    hdata_c.append(read_data(\"Downloads/plant2\"+str(i)+\".csv\"))"
   ]
  },
  {
   "cell_type": "code",
   "execution_count": 43,
   "metadata": {},
   "outputs": [],
   "source": [
    "for j in range(3):\n",
    "    sj = str(j+1)\n",
    "    hdata_c[j].rename(columns={'tem_in_loc'+sj:'tem_in_loc', 'hum_in_loc'+sj:'hum_in_loc', 'tem_coil_loc'+sj:'tem_coil_loc', 'tem_out_loc'+sj:'tem_out_loc', 'hum_out_loc'+sj:'hum_out_loc'}, inplace=True)"
   ]
  },
  {
   "cell_type": "code",
   "execution_count": 39,
   "metadata": {},
   "outputs": [],
   "source": [
    "hdata = list()\n",
    "for j in range(3):\n",
    "    hdata.append(read_data('Data-Results/현대제철0611/'+'plant2'+str(j+1)+'.csv'))"
   ]
  },
  {
   "cell_type": "code",
   "execution_count": 44,
   "metadata": {},
   "outputs": [
    {
     "data": {
      "text/html": [
       "<div>\n",
       "<style scoped>\n",
       "    .dataframe tbody tr th:only-of-type {\n",
       "        vertical-align: middle;\n",
       "    }\n",
       "\n",
       "    .dataframe tbody tr th {\n",
       "        vertical-align: top;\n",
       "    }\n",
       "\n",
       "    .dataframe thead th {\n",
       "        text-align: right;\n",
       "    }\n",
       "</style>\n",
       "<table border=\"1\" class=\"dataframe\">\n",
       "  <thead>\n",
       "    <tr style=\"text-align: right;\">\n",
       "      <th></th>\n",
       "      <th>mea_ddhr</th>\n",
       "      <th>tem_in_loc</th>\n",
       "      <th>hum_in_loc</th>\n",
       "      <th>tem_coil_loc</th>\n",
       "      <th>tem_out_loc</th>\n",
       "      <th>hum_out_loc</th>\n",
       "    </tr>\n",
       "  </thead>\n",
       "  <tbody>\n",
       "    <tr>\n",
       "      <th>0</th>\n",
       "      <td>2016-07-19 18:00</td>\n",
       "      <td>22.39</td>\n",
       "      <td>55.46</td>\n",
       "      <td>27.46</td>\n",
       "      <td>17.72</td>\n",
       "      <td>62.94</td>\n",
       "    </tr>\n",
       "    <tr>\n",
       "      <th>1</th>\n",
       "      <td>2016-07-19 21:00</td>\n",
       "      <td>17.81</td>\n",
       "      <td>62.64</td>\n",
       "      <td>27.08</td>\n",
       "      <td>11.37</td>\n",
       "      <td>76.95</td>\n",
       "    </tr>\n",
       "    <tr>\n",
       "      <th>2</th>\n",
       "      <td>2016-07-20 0:00</td>\n",
       "      <td>15.13</td>\n",
       "      <td>66.70</td>\n",
       "      <td>26.93</td>\n",
       "      <td>9.79</td>\n",
       "      <td>79.46</td>\n",
       "    </tr>\n",
       "    <tr>\n",
       "      <th>3</th>\n",
       "      <td>2016-07-20 3:00</td>\n",
       "      <td>13.82</td>\n",
       "      <td>68.53</td>\n",
       "      <td>26.47</td>\n",
       "      <td>8.35</td>\n",
       "      <td>81.56</td>\n",
       "    </tr>\n",
       "    <tr>\n",
       "      <th>4</th>\n",
       "      <td>2016-07-20 6:00</td>\n",
       "      <td>12.93</td>\n",
       "      <td>73.87</td>\n",
       "      <td>26.20</td>\n",
       "      <td>7.68</td>\n",
       "      <td>89.10</td>\n",
       "    </tr>\n",
       "  </tbody>\n",
       "</table>\n",
       "</div>"
      ],
      "text/plain": [
       "           mea_ddhr  tem_in_loc  hum_in_loc  tem_coil_loc  tem_out_loc  \\\n",
       "0  2016-07-19 18:00       22.39       55.46         27.46        17.72   \n",
       "1  2016-07-19 21:00       17.81       62.64         27.08        11.37   \n",
       "2   2016-07-20 0:00       15.13       66.70         26.93         9.79   \n",
       "3   2016-07-20 3:00       13.82       68.53         26.47         8.35   \n",
       "4   2016-07-20 6:00       12.93       73.87         26.20         7.68   \n",
       "\n",
       "   hum_out_loc  \n",
       "0        62.94  \n",
       "1        76.95  \n",
       "2        79.46  \n",
       "3        81.56  \n",
       "4        89.10  "
      ]
     },
     "execution_count": 44,
     "metadata": {},
     "output_type": "execute_result"
    }
   ],
   "source": [
    "hdata_c[0].head()"
   ]
  },
  {
   "cell_type": "code",
   "execution_count": 45,
   "metadata": {},
   "outputs": [
    {
     "data": {
      "text/html": [
       "<div>\n",
       "<style scoped>\n",
       "    .dataframe tbody tr th:only-of-type {\n",
       "        vertical-align: middle;\n",
       "    }\n",
       "\n",
       "    .dataframe tbody tr th {\n",
       "        vertical-align: top;\n",
       "    }\n",
       "\n",
       "    .dataframe thead th {\n",
       "        text-align: right;\n",
       "    }\n",
       "</style>\n",
       "<table border=\"1\" class=\"dataframe\">\n",
       "  <thead>\n",
       "    <tr style=\"text-align: right;\">\n",
       "      <th></th>\n",
       "      <th>mea_ddhr</th>\n",
       "      <th>tem_in_loc</th>\n",
       "      <th>hum_in_loc</th>\n",
       "      <th>tem_coil_loc</th>\n",
       "      <th>tem_out_loc</th>\n",
       "      <th>hum_out_loc</th>\n",
       "      <th>cond_loc1</th>\n",
       "      <th>cond_24hr</th>\n",
       "      <th>cond_48hr</th>\n",
       "      <th>tem_24hr</th>\n",
       "      <th>...</th>\n",
       "      <th>tem_in_loc_24hr</th>\n",
       "      <th>tem_in_loc_48hr</th>\n",
       "      <th>hum_in_loc_24hr</th>\n",
       "      <th>hum_in_loc_48hr</th>\n",
       "      <th>tem_coil_loc_24hr</th>\n",
       "      <th>tem_coil_loc_48hr</th>\n",
       "      <th>tem_out_loc_24hr</th>\n",
       "      <th>tem_out_loc_48hr</th>\n",
       "      <th>hum_out_loc_24hr</th>\n",
       "      <th>hum_out_loc_48hr</th>\n",
       "    </tr>\n",
       "  </thead>\n",
       "  <tbody>\n",
       "    <tr>\n",
       "      <th>0</th>\n",
       "      <td>2016-04-01 00:00:00</td>\n",
       "      <td>16.0</td>\n",
       "      <td>24.0</td>\n",
       "      <td>11.0</td>\n",
       "      <td>9.0</td>\n",
       "      <td>42.0</td>\n",
       "      <td>0</td>\n",
       "      <td>0</td>\n",
       "      <td>0</td>\n",
       "      <td>20.000000</td>\n",
       "      <td>...</td>\n",
       "      <td>15.0</td>\n",
       "      <td>17.0</td>\n",
       "      <td>41.0</td>\n",
       "      <td>54.0</td>\n",
       "      <td>12.0</td>\n",
       "      <td>14.0</td>\n",
       "      <td>10.0</td>\n",
       "      <td>12.0</td>\n",
       "      <td>57.0</td>\n",
       "      <td>70.0</td>\n",
       "    </tr>\n",
       "    <tr>\n",
       "      <th>1</th>\n",
       "      <td>2016-04-01 03:00:00</td>\n",
       "      <td>14.0</td>\n",
       "      <td>28.0</td>\n",
       "      <td>10.0</td>\n",
       "      <td>7.0</td>\n",
       "      <td>59.0</td>\n",
       "      <td>0</td>\n",
       "      <td>0</td>\n",
       "      <td>0</td>\n",
       "      <td>20.000000</td>\n",
       "      <td>...</td>\n",
       "      <td>14.0</td>\n",
       "      <td>16.0</td>\n",
       "      <td>41.0</td>\n",
       "      <td>58.0</td>\n",
       "      <td>10.0</td>\n",
       "      <td>12.0</td>\n",
       "      <td>10.0</td>\n",
       "      <td>10.0</td>\n",
       "      <td>54.0</td>\n",
       "      <td>81.0</td>\n",
       "    </tr>\n",
       "    <tr>\n",
       "      <th>2</th>\n",
       "      <td>2016-04-01 06:00:00</td>\n",
       "      <td>13.0</td>\n",
       "      <td>33.0</td>\n",
       "      <td>10.0</td>\n",
       "      <td>6.0</td>\n",
       "      <td>56.0</td>\n",
       "      <td>0</td>\n",
       "      <td>0</td>\n",
       "      <td>0</td>\n",
       "      <td>20.700001</td>\n",
       "      <td>...</td>\n",
       "      <td>13.0</td>\n",
       "      <td>15.0</td>\n",
       "      <td>38.0</td>\n",
       "      <td>60.0</td>\n",
       "      <td>11.0</td>\n",
       "      <td>13.0</td>\n",
       "      <td>9.0</td>\n",
       "      <td>11.0</td>\n",
       "      <td>52.0</td>\n",
       "      <td>76.0</td>\n",
       "    </tr>\n",
       "    <tr>\n",
       "      <th>3</th>\n",
       "      <td>2016-04-01 09:00:00</td>\n",
       "      <td>13.0</td>\n",
       "      <td>33.0</td>\n",
       "      <td>10.0</td>\n",
       "      <td>18.0</td>\n",
       "      <td>30.0</td>\n",
       "      <td>0</td>\n",
       "      <td>0</td>\n",
       "      <td>0</td>\n",
       "      <td>17.500000</td>\n",
       "      <td>...</td>\n",
       "      <td>14.0</td>\n",
       "      <td>15.0</td>\n",
       "      <td>41.0</td>\n",
       "      <td>64.0</td>\n",
       "      <td>11.0</td>\n",
       "      <td>13.0</td>\n",
       "      <td>17.0</td>\n",
       "      <td>11.0</td>\n",
       "      <td>37.0</td>\n",
       "      <td>76.0</td>\n",
       "    </tr>\n",
       "    <tr>\n",
       "      <th>4</th>\n",
       "      <td>2016-04-01 12:00:00</td>\n",
       "      <td>16.0</td>\n",
       "      <td>28.0</td>\n",
       "      <td>10.0</td>\n",
       "      <td>18.0</td>\n",
       "      <td>20.0</td>\n",
       "      <td>0</td>\n",
       "      <td>0</td>\n",
       "      <td>0</td>\n",
       "      <td>13.300000</td>\n",
       "      <td>...</td>\n",
       "      <td>17.0</td>\n",
       "      <td>16.1</td>\n",
       "      <td>35.0</td>\n",
       "      <td>61.0</td>\n",
       "      <td>13.0</td>\n",
       "      <td>13.0</td>\n",
       "      <td>22.0</td>\n",
       "      <td>13.0</td>\n",
       "      <td>23.0</td>\n",
       "      <td>63.0</td>\n",
       "    </tr>\n",
       "  </tbody>\n",
       "</table>\n",
       "<p>5 rows × 33 columns</p>\n",
       "</div>"
      ],
      "text/plain": [
       "              mea_ddhr  tem_in_loc  hum_in_loc  tem_coil_loc  tem_out_loc  \\\n",
       "0  2016-04-01 00:00:00        16.0        24.0          11.0          9.0   \n",
       "1  2016-04-01 03:00:00        14.0        28.0          10.0          7.0   \n",
       "2  2016-04-01 06:00:00        13.0        33.0          10.0          6.0   \n",
       "3  2016-04-01 09:00:00        13.0        33.0          10.0         18.0   \n",
       "4  2016-04-01 12:00:00        16.0        28.0          10.0         18.0   \n",
       "\n",
       "   hum_out_loc  cond_loc1  cond_24hr  cond_48hr   tem_24hr  ...  \\\n",
       "0         42.0          0          0          0  20.000000  ...   \n",
       "1         59.0          0          0          0  20.000000  ...   \n",
       "2         56.0          0          0          0  20.700001  ...   \n",
       "3         30.0          0          0          0  17.500000  ...   \n",
       "4         20.0          0          0          0  13.300000  ...   \n",
       "\n",
       "   tem_in_loc_24hr  tem_in_loc_48hr  hum_in_loc_24hr  hum_in_loc_48hr  \\\n",
       "0             15.0             17.0             41.0             54.0   \n",
       "1             14.0             16.0             41.0             58.0   \n",
       "2             13.0             15.0             38.0             60.0   \n",
       "3             14.0             15.0             41.0             64.0   \n",
       "4             17.0             16.1             35.0             61.0   \n",
       "\n",
       "   tem_coil_loc_24hr  tem_coil_loc_48hr  tem_out_loc_24hr  tem_out_loc_48hr  \\\n",
       "0               12.0               14.0              10.0              12.0   \n",
       "1               10.0               12.0              10.0              10.0   \n",
       "2               11.0               13.0               9.0              11.0   \n",
       "3               11.0               13.0              17.0              11.0   \n",
       "4               13.0               13.0              22.0              13.0   \n",
       "\n",
       "   hum_out_loc_24hr  hum_out_loc_48hr  \n",
       "0              57.0              70.0  \n",
       "1              54.0              81.0  \n",
       "2              52.0              76.0  \n",
       "3              37.0              76.0  \n",
       "4              23.0              63.0  \n",
       "\n",
       "[5 rows x 33 columns]"
      ]
     },
     "execution_count": 45,
     "metadata": {},
     "output_type": "execute_result"
    }
   ],
   "source": [
    "hdata[0].head()"
   ]
  },
  {
   "cell_type": "code",
   "execution_count": null,
   "metadata": {},
   "outputs": [],
   "source": [
    "# 시간 타입 변경\n",
    "for i in range(2):\n",
    "    for j in range(3):\n",
    "        hdata[i][j]['mea_ddhr'] = pd.to_datetime(hdata[i][j]['mea_ddhr'], format='%Y%m%d%H%M')"
   ]
  },
  {
   "cell_type": "markdown",
   "metadata": {},
   "source": [
    "# 머신러닝\n",
    "맛만봤다"
   ]
  },
  {
   "cell_type": "code",
   "execution_count": null,
   "metadata": {},
   "outputs": [],
   "source": [
    "X = sample.loc[:, x_col]\n",
    "y = sample.loc[:, y_col]"
   ]
  },
  {
   "cell_type": "code",
   "execution_count": null,
   "metadata": {},
   "outputs": [],
   "source": [
    "from sklearn.model_selection import train_test_split\n",
    "X_train, X_test, y_train, y_test = train_test_split(X, y, test_size=0.3)\n",
    "X_train = X\n",
    "y_train = y"
   ]
  },
  {
   "cell_type": "code",
   "execution_count": null,
   "metadata": {},
   "outputs": [],
   "source": [
    "from sklearn.linear_model import LinearRegression\n",
    "model = LinearRegression()\n",
    "model.fit(X_train, y_train)"
   ]
  },
  {
   "cell_type": "code",
   "execution_count": null,
   "metadata": {},
   "outputs": [],
   "source": [
    "from sklearn.metrics import r2_score\n",
    "y_pred = model.predict(X_test)\n",
    "r2_score(y_test, y_pred)"
   ]
  },
  {
   "cell_type": "code",
   "execution_count": null,
   "metadata": {},
   "outputs": [],
   "source": [
    "y_pred"
   ]
  },
  {
   "cell_type": "code",
   "execution_count": null,
   "metadata": {},
   "outputs": [],
   "source": [
    "pr_df = pd.DataFrame(data=y_pred, columns=y_test.columns)"
   ]
  },
  {
   "cell_type": "code",
   "execution_count": null,
   "metadata": {},
   "outputs": [],
   "source": [
    "pr_df.to_csv(\"y_pred.csv\", encoding=\"utf-8-sig\")"
   ]
  },
  {
   "cell_type": "code",
   "execution_count": null,
   "metadata": {},
   "outputs": [],
   "source": [
    "y_test"
   ]
  },
  {
   "cell_type": "code",
   "execution_count": null,
   "metadata": {},
   "outputs": [],
   "source": [
    "from sklearn.ensemble import RandomForestRegressor\n",
    "model2 = RandomForestRegressor()\n",
    "model2.fit(X_train, y_train)\n",
    "y_pred = model2.predict(X_test)"
   ]
  },
  {
   "cell_type": "code",
   "execution_count": null,
   "metadata": {},
   "outputs": [],
   "source": [
    "y_pred"
   ]
  },
  {
   "cell_type": "markdown",
   "metadata": {},
   "source": [
    "# 레이블 인코딩\n",
    "하늘상태, 강수형태"
   ]
  },
  {
   "cell_type": "code",
   "execution_count": 22,
   "metadata": {},
   "outputs": [],
   "source": [
    "hdata = list()\n",
    "for j in range(3):\n",
    "    hdata.append(read_data('Data-Results/현대제철0611/'+'plant1'+str(j+1)+'.csv'))"
   ]
  },
  {
   "cell_type": "code",
   "execution_count": 36,
   "metadata": {},
   "outputs": [
    {
     "data": {
      "text/plain": [
       "Index(['mea_ddhr', 'tem_in_loc', 'hum_in_loc', 'tem_coil_loc', 'tem_out_loc',\n",
       "       'hum_out_loc', 'cond_loc1', 'cond_24hr', 'cond_48hr', 'tem_24hr',\n",
       "       'hum_24hr', 'rain_p_24hr', 'wind_s_24hr', 'wind_d_24hr', 'tem_48hr',\n",
       "       'hum_48hr', 'rain_p_48hr', 'wind_s_48hr', 'wind_d_48hr',\n",
       "       'tem_in_loc_24hr', 'tem_in_loc_48hr', 'hum_in_loc_24hr',\n",
       "       'hum_in_loc_48hr', 'tem_coil_loc_24hr', 'tem_coil_loc_48hr',\n",
       "       'tem_out_loc_24hr', 'tem_out_loc_48hr', 'hum_out_loc_24hr',\n",
       "       'hum_out_loc_48hr', 'sky_24hr_1', 'sky_24hr_2', 'sky_24hr_3',\n",
       "       'sky_24hr_4', 'sky_48hr_1', 'sky_48hr_2', 'sky_48hr_3', 'sky_48hr_4',\n",
       "       'rain_t_24hr_0', 'rain_t_24hr_1', 'rain_t_24hr_2', 'rain_t_24hr_3',\n",
       "       'rain_t_48hr_0', 'rain_t_48hr_1', 'rain_t_48hr_2', 'rain_t_48hr_3'],\n",
       "      dtype='object')"
      ]
     },
     "execution_count": 36,
     "metadata": {},
     "output_type": "execute_result"
    }
   ],
   "source": [
    "hdata[0].columns"
   ]
  },
  {
   "cell_type": "code",
   "execution_count": 25,
   "metadata": {},
   "outputs": [],
   "source": [
    "cols = ['sky_24hr', 'sky_48hr', 'rain_t_24hr', 'rain_t_48hr']\n",
    "for i in range(3):\n",
    "    for c in cols:\n",
    "        hdata[i][c] = hdata[i][c].map(lambda x: round(x))"
   ]
  },
  {
   "cell_type": "code",
   "execution_count": 29,
   "metadata": {},
   "outputs": [],
   "source": [
    "import os\n",
    "os.mkdir('Data-Results/현대제철0616/')"
   ]
  },
  {
   "cell_type": "code",
   "execution_count": 38,
   "metadata": {},
   "outputs": [],
   "source": [
    "for i in range(3):\n",
    "    save_data(hdata[i], 'Data-Results/현대제철0616/'+'plant1'+str(i+1)+'.csv')"
   ]
  },
  {
   "cell_type": "code",
   "execution_count": 31,
   "metadata": {},
   "outputs": [],
   "source": [
    "for i in range(3):\n",
    "    hdata[i] = pd.get_dummies(hdata[i], columns=cols)"
   ]
  },
  {
   "cell_type": "code",
   "execution_count": 37,
   "metadata": {},
   "outputs": [],
   "source": [
    "for i in range(3):\n",
    "    hdata[i].rename({'sky_24hr_1':'sky_1_24hr', 'sky_48hr_1':'sky_1_48hr',\n",
    "                     'sky_24hr_2':'sky_2_24hr', 'sky_48hr_2':'sky_2_48hr',\n",
    "                     'sky_24hr_3':'sky_3_24hr', 'sky_48hr_3':'sky_3_48hr',\n",
    "                     'sky_24hr_4':'sky_4_24hr', 'sky_48hr_4':'sky_4_48hr',\n",
    "                     'rain_t_24hr_1':'rain_t_1_24hr', 'rain_t_48hr_1':'rain_t_1_48hr',\n",
    "                     'rain_t_24hr_2':'rain_t_2_24hr', 'rain_t_48hr_2':'rain_t_2_48hr',\n",
    "                     'rain_t_24hr_3':'rain_t_3_24hr', 'rain_t_48hr_3':'rain_t_3_48hr',\n",
    "                     'rain_t_24hr_4':'rain_t_4_24hr', 'rain_t_48hr_4':'rain_t_4_48hr',\n",
    "                    })"
   ]
  },
  {
   "cell_type": "markdown",
   "metadata": {},
   "source": [
    "# 전처리언제끝나냐\n",
    "현대제철 cond 추가"
   ]
  },
  {
   "cell_type": "code",
   "execution_count": 127,
   "metadata": {
    "ExecuteTime": {
     "end_time": "2020-06-19T05:59:35.420910Z",
     "start_time": "2020-06-19T05:59:35.405309Z"
    }
   },
   "outputs": [],
   "source": [
    "path = 'Data/'"
   ]
  },
  {
   "cell_type": "code",
   "execution_count": 128,
   "metadata": {
    "ExecuteTime": {
     "end_time": "2020-06-19T05:59:36.118549Z",
     "start_time": "2020-06-19T05:59:35.992541Z"
    }
   },
   "outputs": [],
   "source": [
    "cond = read_data(path+'plant2_train_new.csv')"
   ]
  },
  {
   "cell_type": "code",
   "execution_count": 129,
   "metadata": {
    "ExecuteTime": {
     "end_time": "2020-06-19T05:59:36.399565Z",
     "start_time": "2020-06-19T05:59:36.390564Z"
    },
    "scrolled": true
   },
   "outputs": [],
   "source": [
    "cond = cond.iloc[:, [1, 13, 14, 15]]"
   ]
  },
  {
   "cell_type": "code",
   "execution_count": 130,
   "metadata": {
    "ExecuteTime": {
     "end_time": "2020-06-19T05:59:36.791587Z",
     "start_time": "2020-06-19T05:59:36.776586Z"
    }
   },
   "outputs": [
    {
     "data": {
      "text/html": [
       "<div>\n",
       "<style scoped>\n",
       "    .dataframe tbody tr th:only-of-type {\n",
       "        vertical-align: middle;\n",
       "    }\n",
       "\n",
       "    .dataframe tbody tr th {\n",
       "        vertical-align: top;\n",
       "    }\n",
       "\n",
       "    .dataframe thead th {\n",
       "        text-align: right;\n",
       "    }\n",
       "</style>\n",
       "<table border=\"1\" class=\"dataframe\">\n",
       "  <thead>\n",
       "    <tr style=\"text-align: right;\">\n",
       "      <th></th>\n",
       "      <th>plant2_train.mea_ddhr</th>\n",
       "      <th>plant2_train.cond_loc1</th>\n",
       "      <th>plant2_train.cond_loc2</th>\n",
       "      <th>plant2_train.cond_loc3</th>\n",
       "    </tr>\n",
       "  </thead>\n",
       "  <tbody>\n",
       "    <tr>\n",
       "      <th>0</th>\n",
       "      <td>2016-07-19 18:00</td>\n",
       "      <td>0.0</td>\n",
       "      <td>0.0</td>\n",
       "      <td>0.0</td>\n",
       "    </tr>\n",
       "    <tr>\n",
       "      <th>1</th>\n",
       "      <td>2016-07-19 21:00</td>\n",
       "      <td>0.0</td>\n",
       "      <td>0.0</td>\n",
       "      <td>0.0</td>\n",
       "    </tr>\n",
       "    <tr>\n",
       "      <th>2</th>\n",
       "      <td>2016-07-20 0:00</td>\n",
       "      <td>0.0</td>\n",
       "      <td>0.0</td>\n",
       "      <td>0.0</td>\n",
       "    </tr>\n",
       "    <tr>\n",
       "      <th>3</th>\n",
       "      <td>2016-07-20 3:00</td>\n",
       "      <td>0.0</td>\n",
       "      <td>0.0</td>\n",
       "      <td>0.0</td>\n",
       "    </tr>\n",
       "    <tr>\n",
       "      <th>4</th>\n",
       "      <td>2016-07-20 6:00</td>\n",
       "      <td>0.0</td>\n",
       "      <td>0.0</td>\n",
       "      <td>0.0</td>\n",
       "    </tr>\n",
       "    <tr>\n",
       "      <th>...</th>\n",
       "      <td>...</td>\n",
       "      <td>...</td>\n",
       "      <td>...</td>\n",
       "      <td>...</td>\n",
       "    </tr>\n",
       "    <tr>\n",
       "      <th>57909</th>\n",
       "      <td>2019-03-31 23:10</td>\n",
       "      <td>0.0</td>\n",
       "      <td>0.0</td>\n",
       "      <td>0.0</td>\n",
       "    </tr>\n",
       "    <tr>\n",
       "      <th>57910</th>\n",
       "      <td>2019-03-31 23:20</td>\n",
       "      <td>0.0</td>\n",
       "      <td>0.0</td>\n",
       "      <td>0.0</td>\n",
       "    </tr>\n",
       "    <tr>\n",
       "      <th>57911</th>\n",
       "      <td>2019-03-31 23:30</td>\n",
       "      <td>0.0</td>\n",
       "      <td>0.0</td>\n",
       "      <td>0.0</td>\n",
       "    </tr>\n",
       "    <tr>\n",
       "      <th>57912</th>\n",
       "      <td>2019-03-31 23:40</td>\n",
       "      <td>0.0</td>\n",
       "      <td>0.0</td>\n",
       "      <td>0.0</td>\n",
       "    </tr>\n",
       "    <tr>\n",
       "      <th>57913</th>\n",
       "      <td>2019-03-31 23:50</td>\n",
       "      <td>NaN</td>\n",
       "      <td>NaN</td>\n",
       "      <td>NaN</td>\n",
       "    </tr>\n",
       "  </tbody>\n",
       "</table>\n",
       "<p>57914 rows × 4 columns</p>\n",
       "</div>"
      ],
      "text/plain": [
       "      plant2_train.mea_ddhr  plant2_train.cond_loc1  plant2_train.cond_loc2  \\\n",
       "0          2016-07-19 18:00                     0.0                     0.0   \n",
       "1          2016-07-19 21:00                     0.0                     0.0   \n",
       "2           2016-07-20 0:00                     0.0                     0.0   \n",
       "3           2016-07-20 3:00                     0.0                     0.0   \n",
       "4           2016-07-20 6:00                     0.0                     0.0   \n",
       "...                     ...                     ...                     ...   \n",
       "57909      2019-03-31 23:10                     0.0                     0.0   \n",
       "57910      2019-03-31 23:20                     0.0                     0.0   \n",
       "57911      2019-03-31 23:30                     0.0                     0.0   \n",
       "57912      2019-03-31 23:40                     0.0                     0.0   \n",
       "57913      2019-03-31 23:50                     NaN                     NaN   \n",
       "\n",
       "       plant2_train.cond_loc3  \n",
       "0                         0.0  \n",
       "1                         0.0  \n",
       "2                         0.0  \n",
       "3                         0.0  \n",
       "4                         0.0  \n",
       "...                       ...  \n",
       "57909                     0.0  \n",
       "57910                     0.0  \n",
       "57911                     0.0  \n",
       "57912                     0.0  \n",
       "57913                     NaN  \n",
       "\n",
       "[57914 rows x 4 columns]"
      ]
     },
     "execution_count": 130,
     "metadata": {},
     "output_type": "execute_result"
    }
   ],
   "source": [
    "cond"
   ]
  },
  {
   "cell_type": "code",
   "execution_count": 131,
   "metadata": {
    "ExecuteTime": {
     "end_time": "2020-06-19T05:59:37.191610Z",
     "start_time": "2020-06-19T05:59:37.181609Z"
    }
   },
   "outputs": [],
   "source": [
    "cond.rename(columns=lambda x: x[len('plant2_train')+1:], inplace=True)"
   ]
  },
  {
   "cell_type": "code",
   "execution_count": 132,
   "metadata": {
    "ExecuteTime": {
     "end_time": "2020-06-19T05:59:37.902651Z",
     "start_time": "2020-06-19T05:59:37.590633Z"
    }
   },
   "outputs": [],
   "source": [
    "plant = list()\n",
    "for i in range(3):\n",
    "    plant.append(read_data('Data-Results/현대제철0617/'+'plant2'+str(i+1)+'.csv'))"
   ]
  },
  {
   "cell_type": "code",
   "execution_count": 133,
   "metadata": {
    "ExecuteTime": {
     "end_time": "2020-06-19T05:59:38.067660Z",
     "start_time": "2020-06-19T05:59:38.023658Z"
    }
   },
   "outputs": [],
   "source": [
    "cond.mea_ddhr = pd.to_datetime(cond['mea_ddhr'], format='%Y-%m-%d %H:%M')\n",
    "cond.mea_ddhr = cond['mea_ddhr'].astype(str)"
   ]
  },
  {
   "cell_type": "code",
   "execution_count": 135,
   "metadata": {
    "ExecuteTime": {
     "end_time": "2020-06-19T05:59:39.536322Z",
     "start_time": "2020-06-19T05:59:39.376312Z"
    }
   },
   "outputs": [],
   "source": [
    "for i in range(3):\n",
    "    plant[i] = pd.merge(plant[i], cond.loc[:, ['mea_ddhr', 'cond_loc'+str(i+1)]], how='left', on='mea_ddhr')"
   ]
  },
  {
   "cell_type": "code",
   "execution_count": 126,
   "metadata": {
    "ExecuteTime": {
     "end_time": "2020-06-19T03:25:30.906255Z",
     "start_time": "2020-06-19T03:25:30.875055Z"
    },
    "collapsed": true
   },
   "outputs": [
    {
     "name": "stdout",
     "output_type": "stream",
     "text": [
      "['mea_ddhr', 'tem_in_loc', 'hum_in_loc', 'tem_coil_loc', 'tem_out_loc', 'hum_out_loc', 'cond_loc1', 'tem_in_loc_24hr', 'tem_in_loc_48hr', 'hum_in_loc_24hr', 'hum_in_loc_48hr', 'tem_coil_loc_24hr', 'tem_coil_loc_48hr', 'tem_out_loc_24hr', 'tem_out_loc_48hr', 'hum_out_loc_24hr', 'hum_out_loc_48hr']\n"
     ]
    },
    {
     "ename": "TypeError",
     "evalue": "Cannot specify both 'axis' and any of 'index' or 'columns'.",
     "output_type": "error",
     "traceback": [
      "\u001b[1;31m---------------------------------------------------------------------------\u001b[0m",
      "\u001b[1;31mTypeError\u001b[0m                                 Traceback (most recent call last)",
      "\u001b[1;32m<ipython-input-126-72d60c4e52e4>\u001b[0m in \u001b[0;36m<module>\u001b[1;34m\u001b[0m\n\u001b[0;32m      5\u001b[0m     \u001b[0mcols\u001b[0m\u001b[1;33m.\u001b[0m\u001b[0mpop\u001b[0m\u001b[1;33m(\u001b[0m\u001b[0mlen\u001b[0m\u001b[1;33m(\u001b[0m\u001b[0mcols\u001b[0m\u001b[1;33m)\u001b[0m\u001b[1;33m-\u001b[0m\u001b[1;36m1\u001b[0m\u001b[1;33m)\u001b[0m\u001b[1;33m\u001b[0m\u001b[1;33m\u001b[0m\u001b[0m\n\u001b[0;32m      6\u001b[0m     \u001b[0mprint\u001b[0m\u001b[1;33m(\u001b[0m\u001b[0mcols\u001b[0m\u001b[1;33m)\u001b[0m\u001b[1;33m\u001b[0m\u001b[1;33m\u001b[0m\u001b[0m\n\u001b[1;32m----> 7\u001b[1;33m     \u001b[0mplant\u001b[0m\u001b[1;33m[\u001b[0m\u001b[0mi\u001b[0m\u001b[1;33m]\u001b[0m\u001b[1;33m.\u001b[0m\u001b[0mreindex\u001b[0m\u001b[1;33m(\u001b[0m\u001b[0mcolumns\u001b[0m\u001b[1;33m=\u001b[0m\u001b[0mcols\u001b[0m\u001b[1;33m,\u001b[0m \u001b[0maxis\u001b[0m\u001b[1;33m=\u001b[0m\u001b[1;34m'columns'\u001b[0m\u001b[1;33m)\u001b[0m\u001b[1;33m\u001b[0m\u001b[1;33m\u001b[0m\u001b[0m\n\u001b[0m",
      "\u001b[1;32m~\\anaconda3\\lib\\site-packages\\pandas\\util\\_decorators.py\u001b[0m in \u001b[0;36mwrapper\u001b[1;34m(*args, **kwargs)\u001b[0m\n\u001b[0;32m    225\u001b[0m         \u001b[1;33m@\u001b[0m\u001b[0mwraps\u001b[0m\u001b[1;33m(\u001b[0m\u001b[0mfunc\u001b[0m\u001b[1;33m)\u001b[0m\u001b[1;33m\u001b[0m\u001b[1;33m\u001b[0m\u001b[0m\n\u001b[0;32m    226\u001b[0m         \u001b[1;32mdef\u001b[0m \u001b[0mwrapper\u001b[0m\u001b[1;33m(\u001b[0m\u001b[1;33m*\u001b[0m\u001b[0margs\u001b[0m\u001b[1;33m,\u001b[0m \u001b[1;33m**\u001b[0m\u001b[0mkwargs\u001b[0m\u001b[1;33m)\u001b[0m \u001b[1;33m->\u001b[0m \u001b[0mCallable\u001b[0m\u001b[1;33m[\u001b[0m\u001b[1;33m...\u001b[0m\u001b[1;33m,\u001b[0m \u001b[0mAny\u001b[0m\u001b[1;33m]\u001b[0m\u001b[1;33m:\u001b[0m\u001b[1;33m\u001b[0m\u001b[1;33m\u001b[0m\u001b[0m\n\u001b[1;32m--> 227\u001b[1;33m             \u001b[1;32mreturn\u001b[0m \u001b[0mfunc\u001b[0m\u001b[1;33m(\u001b[0m\u001b[1;33m*\u001b[0m\u001b[0margs\u001b[0m\u001b[1;33m,\u001b[0m \u001b[1;33m**\u001b[0m\u001b[0mkwargs\u001b[0m\u001b[1;33m)\u001b[0m\u001b[1;33m\u001b[0m\u001b[1;33m\u001b[0m\u001b[0m\n\u001b[0m\u001b[0;32m    228\u001b[0m \u001b[1;33m\u001b[0m\u001b[0m\n\u001b[0;32m    229\u001b[0m         \u001b[0mkind\u001b[0m \u001b[1;33m=\u001b[0m \u001b[0minspect\u001b[0m\u001b[1;33m.\u001b[0m\u001b[0mParameter\u001b[0m\u001b[1;33m.\u001b[0m\u001b[0mPOSITIONAL_OR_KEYWORD\u001b[0m\u001b[1;33m\u001b[0m\u001b[1;33m\u001b[0m\u001b[0m\n",
      "\u001b[1;32m~\\anaconda3\\lib\\site-packages\\pandas\\core\\frame.py\u001b[0m in \u001b[0;36mreindex\u001b[1;34m(self, *args, **kwargs)\u001b[0m\n\u001b[0;32m   3849\u001b[0m     )\n\u001b[0;32m   3850\u001b[0m     \u001b[1;32mdef\u001b[0m \u001b[0mreindex\u001b[0m\u001b[1;33m(\u001b[0m\u001b[0mself\u001b[0m\u001b[1;33m,\u001b[0m \u001b[1;33m*\u001b[0m\u001b[0margs\u001b[0m\u001b[1;33m,\u001b[0m \u001b[1;33m**\u001b[0m\u001b[0mkwargs\u001b[0m\u001b[1;33m)\u001b[0m \u001b[1;33m->\u001b[0m \u001b[1;34m\"DataFrame\"\u001b[0m\u001b[1;33m:\u001b[0m\u001b[1;33m\u001b[0m\u001b[1;33m\u001b[0m\u001b[0m\n\u001b[1;32m-> 3851\u001b[1;33m         \u001b[0maxes\u001b[0m \u001b[1;33m=\u001b[0m \u001b[0mvalidate_axis_style_args\u001b[0m\u001b[1;33m(\u001b[0m\u001b[0mself\u001b[0m\u001b[1;33m,\u001b[0m \u001b[0margs\u001b[0m\u001b[1;33m,\u001b[0m \u001b[0mkwargs\u001b[0m\u001b[1;33m,\u001b[0m \u001b[1;34m\"labels\"\u001b[0m\u001b[1;33m,\u001b[0m \u001b[1;34m\"reindex\"\u001b[0m\u001b[1;33m)\u001b[0m\u001b[1;33m\u001b[0m\u001b[1;33m\u001b[0m\u001b[0m\n\u001b[0m\u001b[0;32m   3852\u001b[0m         \u001b[0mkwargs\u001b[0m\u001b[1;33m.\u001b[0m\u001b[0mupdate\u001b[0m\u001b[1;33m(\u001b[0m\u001b[0maxes\u001b[0m\u001b[1;33m)\u001b[0m\u001b[1;33m\u001b[0m\u001b[1;33m\u001b[0m\u001b[0m\n\u001b[0;32m   3853\u001b[0m         \u001b[1;31m# Pop these, since the values are in `kwargs` under different names\u001b[0m\u001b[1;33m\u001b[0m\u001b[1;33m\u001b[0m\u001b[1;33m\u001b[0m\u001b[0m\n",
      "\u001b[1;32m~\\anaconda3\\lib\\site-packages\\pandas\\util\\_validators.py\u001b[0m in \u001b[0;36mvalidate_axis_style_args\u001b[1;34m(data, args, kwargs, arg_name, method_name)\u001b[0m\n\u001b[0;32m    258\u001b[0m     \u001b[1;32mif\u001b[0m \u001b[1;34m\"axis\"\u001b[0m \u001b[1;32min\u001b[0m \u001b[0mkwargs\u001b[0m \u001b[1;32mand\u001b[0m \u001b[0many\u001b[0m\u001b[1;33m(\u001b[0m\u001b[0mx\u001b[0m \u001b[1;32min\u001b[0m \u001b[0mkwargs\u001b[0m \u001b[1;32mfor\u001b[0m \u001b[0mx\u001b[0m \u001b[1;32min\u001b[0m \u001b[0mdata\u001b[0m\u001b[1;33m.\u001b[0m\u001b[0m_AXIS_NUMBERS\u001b[0m\u001b[1;33m)\u001b[0m\u001b[1;33m:\u001b[0m\u001b[1;33m\u001b[0m\u001b[1;33m\u001b[0m\u001b[0m\n\u001b[0;32m    259\u001b[0m         \u001b[0mmsg\u001b[0m \u001b[1;33m=\u001b[0m \u001b[1;34m\"Cannot specify both 'axis' and any of 'index' or 'columns'.\"\u001b[0m\u001b[1;33m\u001b[0m\u001b[1;33m\u001b[0m\u001b[0m\n\u001b[1;32m--> 260\u001b[1;33m         \u001b[1;32mraise\u001b[0m \u001b[0mTypeError\u001b[0m\u001b[1;33m(\u001b[0m\u001b[0mmsg\u001b[0m\u001b[1;33m)\u001b[0m\u001b[1;33m\u001b[0m\u001b[1;33m\u001b[0m\u001b[0m\n\u001b[0m\u001b[0;32m    261\u001b[0m \u001b[1;33m\u001b[0m\u001b[0m\n\u001b[0;32m    262\u001b[0m     \u001b[1;31m# First fill with explicit values provided by the user...\u001b[0m\u001b[1;33m\u001b[0m\u001b[1;33m\u001b[0m\u001b[1;33m\u001b[0m\u001b[0m\n",
      "\u001b[1;31mTypeError\u001b[0m: Cannot specify both 'axis' and any of 'index' or 'columns'."
     ]
    }
   ],
   "source": [
    "# cond 컬럼 위치 변경\n",
    "for i in range(3):\n",
    "    cols = list(plant[i].columns.values)\n",
    "    cols.insert(6, 'cond_loc'+str(i+1))\n",
    "    cols.pop(len(cols)-1)\n",
    "\n",
    "    plant[i].reindex(columns=cols, axis='columns')"
   ]
  },
  {
   "cell_type": "code",
   "execution_count": 142,
   "metadata": {
    "ExecuteTime": {
     "end_time": "2020-06-19T06:01:46.758442Z",
     "start_time": "2020-06-19T06:01:46.714241Z"
    }
   },
   "outputs": [],
   "source": [
    "for i in range(3):\n",
    "    plant[i].rename({'cond_loc'+str(i+1):'cond'}, axis=1, inplace=True)"
   ]
  },
  {
   "cell_type": "code",
   "execution_count": 144,
   "metadata": {
    "ExecuteTime": {
     "end_time": "2020-06-19T06:03:07.483812Z",
     "start_time": "2020-06-19T06:03:07.452611Z"
    }
   },
   "outputs": [],
   "source": [
    "import os"
   ]
  },
  {
   "cell_type": "code",
   "execution_count": 146,
   "metadata": {
    "ExecuteTime": {
     "end_time": "2020-06-19T06:16:11.025100Z",
     "start_time": "2020-06-19T06:10:59.162523Z"
    }
   },
   "outputs": [],
   "source": [
    "result = list()\n",
    "for i in range(3):\n",
    "    result.append(make_predict(plant[i], ['cond']))\n",
    "    path = './Data-Results/0619/'\n",
    "    save_data(result[i], path+'plant2'+str(i+1)+'.csv')"
   ]
  },
  {
   "cell_type": "code",
   "execution_count": 155,
   "metadata": {
    "ExecuteTime": {
     "end_time": "2020-06-19T06:20:43.678384Z",
     "start_time": "2020-06-19T06:20:43.662784Z"
    }
   },
   "outputs": [
    {
     "data": {
      "text/plain": [
       "Index(['mea_ddhr', 'tem_in_loc', 'hum_in_loc', 'tem_coil_loc', 'tem_out_loc',\n",
       "       'hum_out_loc', 'tem_in_loc_24hr', 'tem_in_loc_48hr', 'hum_in_loc_24hr',\n",
       "       'hum_in_loc_48hr', 'tem_coil_loc_24hr', 'tem_coil_loc_48hr',\n",
       "       'tem_out_loc_24hr', 'tem_out_loc_48hr', 'hum_out_loc_24hr',\n",
       "       'hum_out_loc_48hr', 'cond', 'cond_24hr', 'cond_48hr'],\n",
       "      dtype='object')"
      ]
     },
     "execution_count": 155,
     "metadata": {},
     "output_type": "execute_result"
    }
   ],
   "source": [
    "result[0].columns"
   ]
  },
  {
   "cell_type": "code",
   "execution_count": 157,
   "metadata": {
    "ExecuteTime": {
     "end_time": "2020-06-19T06:21:26.994524Z",
     "start_time": "2020-06-19T06:21:26.960522Z"
    }
   },
   "outputs": [],
   "source": [
    "# for i in range(3):\n",
    "#     result[i].drop(['cond'], axis=1, inplace=True)"
   ]
  },
  {
   "cell_type": "code",
   "execution_count": 158,
   "metadata": {
    "ExecuteTime": {
     "end_time": "2020-06-19T06:21:45.258883Z",
     "start_time": "2020-06-19T06:21:42.278113Z"
    }
   },
   "outputs": [],
   "source": [
    "for i in range(3):\n",
    "    path = './Data-Results/0619/'\n",
    "    save_data(result[i], path+'plant2'+str(i+1)+'.csv')"
   ]
  },
  {
   "cell_type": "markdown",
   "metadata": {},
   "source": [
    "악 현재 cond 빠졌다"
   ]
  },
  {
   "cell_type": "code",
   "execution_count": 67,
   "metadata": {
    "ExecuteTime": {
     "end_time": "2020-06-19T06:56:24.503985Z",
     "start_time": "2020-06-19T06:56:23.995159Z"
    }
   },
   "outputs": [],
   "source": [
    "a = read_data(\"plant2_train_new.csv\")\n",
    "plant = list()\n",
    "for i in range(1, 4):\n",
    "    x = str(i)\n",
    "    plant.append(read_data(\"Data/train/plant2\"+x+\"_train_only.csv\"))"
   ]
  },
  {
   "cell_type": "code",
   "execution_count": 71,
   "metadata": {
    "ExecuteTime": {
     "end_time": "2020-06-19T06:56:42.794685Z",
     "start_time": "2020-06-19T06:56:42.763485Z"
    }
   },
   "outputs": [],
   "source": [
    "a = a.iloc[:, [1, len(a.columns)-3, len(a.columns)-2, len(a.columns)-1]]"
   ]
  },
  {
   "cell_type": "code",
   "execution_count": 72,
   "metadata": {
    "ExecuteTime": {
     "end_time": "2020-06-19T06:56:43.165707Z",
     "start_time": "2020-06-19T06:56:43.159706Z"
    }
   },
   "outputs": [
    {
     "name": "stderr",
     "output_type": "stream",
     "text": [
      "C:\\Users\\COM\\anaconda3\\lib\\site-packages\\pandas\\core\\frame.py:4133: SettingWithCopyWarning: \n",
      "A value is trying to be set on a copy of a slice from a DataFrame\n",
      "\n",
      "See the caveats in the documentation: https://pandas.pydata.org/pandas-docs/stable/user_guide/indexing.html#returning-a-view-versus-a-copy\n",
      "  errors=errors,\n"
     ]
    }
   ],
   "source": [
    "a.rename(columns=lambda x: x[len('plant2_train')+1:], inplace=True)"
   ]
  },
  {
   "cell_type": "code",
   "execution_count": 73,
   "metadata": {
    "ExecuteTime": {
     "end_time": "2020-06-19T06:56:43.541926Z",
     "start_time": "2020-06-19T06:56:43.535926Z"
    }
   },
   "outputs": [
    {
     "data": {
      "text/plain": [
       "Index(['mea_ddhr', 'cond_loc1', 'cond_loc2', 'cond_loc3'], dtype='object')"
      ]
     },
     "execution_count": 73,
     "metadata": {},
     "output_type": "execute_result"
    }
   ],
   "source": [
    "a.columns"
   ]
  },
  {
   "cell_type": "code",
   "execution_count": 74,
   "metadata": {
    "ExecuteTime": {
     "end_time": "2020-06-19T06:56:51.069533Z",
     "start_time": "2020-06-19T06:56:50.912925Z"
    }
   },
   "outputs": [
    {
     "name": "stderr",
     "output_type": "stream",
     "text": [
      "C:\\Users\\COM\\anaconda3\\lib\\site-packages\\pandas\\core\\generic.py:5303: SettingWithCopyWarning: \n",
      "A value is trying to be set on a copy of a slice from a DataFrame.\n",
      "Try using .loc[row_indexer,col_indexer] = value instead\n",
      "\n",
      "See the caveats in the documentation: https://pandas.pydata.org/pandas-docs/stable/user_guide/indexing.html#returning-a-view-versus-a-copy\n",
      "  self[name] = value\n"
     ]
    }
   ],
   "source": [
    "a.mea_ddhr = pd.to_datetime(a['mea_ddhr'], format='%Y-%m-%d %H:%M')\n",
    "a.mea_ddhr = a['mea_ddhr'].astype(str)"
   ]
  },
  {
   "cell_type": "code",
   "execution_count": 75,
   "metadata": {
    "ExecuteTime": {
     "end_time": "2020-06-19T06:56:52.338170Z",
     "start_time": "2020-06-19T06:56:52.181963Z"
    }
   },
   "outputs": [],
   "source": [
    "for i in range(3):\n",
    "    plant[i] = pd.merge(plant[i], a.iloc[:, [0, i+1]], how='left', on='mea_ddhr')"
   ]
  },
  {
   "cell_type": "code",
   "execution_count": 79,
   "metadata": {
    "ExecuteTime": {
     "end_time": "2020-06-19T06:57:13.333581Z",
     "start_time": "2020-06-19T06:57:10.525024Z"
    }
   },
   "outputs": [],
   "source": [
    "for i in range(3):\n",
    "    x = str(i+1)\n",
    "    save_data(plant[i], \"Data/train/plant2\"+x+\"_train_only.csv\")"
   ]
  },
  {
   "cell_type": "code",
   "execution_count": null,
   "metadata": {},
   "outputs": [],
   "source": []
  }
 ],
 "metadata": {
  "kernelspec": {
   "display_name": "Python 3",
   "language": "python",
   "name": "python3"
  },
  "language_info": {
   "codemirror_mode": {
    "name": "ipython",
    "version": 3
   },
   "file_extension": ".py",
   "mimetype": "text/x-python",
   "name": "python",
   "nbconvert_exporter": "python",
   "pygments_lexer": "ipython3",
   "version": "3.7.6"
  },
  "toc": {
   "base_numbering": 1,
   "nav_menu": {},
   "number_sections": true,
   "sideBar": true,
   "skip_h1_title": false,
   "title_cell": "Table of Contents",
   "title_sidebar": "Contents",
   "toc_cell": false,
   "toc_position": {},
   "toc_section_display": true,
   "toc_window_display": false
  },
  "varInspector": {
   "cols": {
    "lenName": 16,
    "lenType": 16,
    "lenVar": 40
   },
   "kernels_config": {
    "python": {
     "delete_cmd_postfix": "",
     "delete_cmd_prefix": "del ",
     "library": "var_list.py",
     "varRefreshCmd": "print(var_dic_list())"
    },
    "r": {
     "delete_cmd_postfix": ") ",
     "delete_cmd_prefix": "rm(",
     "library": "var_list.r",
     "varRefreshCmd": "cat(var_dic_list()) "
    }
   },
   "types_to_exclude": [
    "module",
    "function",
    "builtin_function_or_method",
    "instance",
    "_Feature"
   ],
   "window_display": false
  }
 },
 "nbformat": 4,
 "nbformat_minor": 4
}
