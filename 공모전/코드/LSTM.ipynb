{
 "cells": [
  {
   "cell_type": "code",
   "execution_count": 21,
   "metadata": {},
   "outputs": [
    {
     "data": {
      "text/html": [
       "<style>.container { width:100% !important;} *{font-family:'Consolas'; font-size:14;} </style>"
      ],
      "text/plain": [
       "<IPython.core.display.HTML object>"
      ]
     },
     "metadata": {},
     "output_type": "display_data"
    }
   ],
   "source": [
    "from IPython.core.display import display, HTML\n",
    "display(HTML(\"<style>.container { width:100% !important;} *{font-family:'Consolas'; font-size:14;} </style>\"))"
   ]
  },
  {
   "cell_type": "code",
   "execution_count": 28,
   "metadata": {},
   "outputs": [],
   "source": [
    "import pandas as pd\n",
    "import numpy as np\n",
    "import seaborn as sns\n",
    "\n",
    "import matplotlib.pyplot as plt\n",
    "%matplotlib inline\n",
    "\n",
    "import datetime\n",
    "from datetime import datetime as dt, timedelta"
   ]
  },
  {
   "cell_type": "code",
   "execution_count": 29,
   "metadata": {},
   "outputs": [],
   "source": [
    "def save_data(df, txt):\n",
    "    df.to_csv(txt, index=False, encoding=\"utf-8-sig\")\n",
    "def read_data(txt):\n",
    "    return pd.read_csv(txt, encoding='utf-8-sig')"
   ]
  },
  {
   "cell_type": "code",
   "execution_count": 80,
   "metadata": {},
   "outputs": [],
   "source": [
    "table = read_data(\"Data-Results/plant11_data.csv\")"
   ]
  },
  {
   "cell_type": "code",
   "execution_count": 81,
   "metadata": {},
   "outputs": [
    {
     "data": {
      "text/plain": [
       "Index(['mea_ddhr', 'cond_24hr', 'tem_in_loc', 'hum_in_loc', 'tem_coil_loc',\n",
       "       'tem_out_loc', 'hum_out_loc', 'cond_loc1', 'tem_in_loc_24hr',\n",
       "       'hum_in_loc_24hr', 'tem_coil_loc_24hr', 'year', 'month', 'day', 'hour',\n",
       "       'week_1', 'week_2', 'week_3', 'week_4', 'week_5', 'week_6', 'week_7',\n",
       "       'week_8', 'week_9', 'week_10', 'week_11', 'week_12', 'week_13',\n",
       "       'week_14', 'week_15', 'week_16', 'week_17', 'week_18', 'week_19',\n",
       "       'week_20', 'week_21', 'week_22', 'week_23', 'week_24', 'week_25',\n",
       "       'week_26', 'week_27', 'week_28', 'week_29', 'week_30', 'week_31',\n",
       "       'week_32', 'week_33', 'week_34', 'week_35', 'week_36', 'week_37',\n",
       "       'week_38', 'week_39', 'week_40', 'week_41', 'week_42', 'week_43',\n",
       "       'week_44', 'week_45', 'week_46', 'week_47', 'week_48', 'week_49',\n",
       "       'week_50', 'week_51', 'week_52', 'dj_aws_tem', 'dj_aws_wind_d',\n",
       "       'dj_aws_wind_s', 'dj_aws_hum', 'sp_aws_tem', 'sp_aws_wind_d',\n",
       "       'sp_aws_wind_s', 'sp_aws_spot_pr', 'sp_aws_sea_pr', 'tem_24hr',\n",
       "       'hum_24hr', 'rain_p_24hr', 'wind_s_24hr', 'wind_d_24hr', 'sky_1_24hr',\n",
       "       'sky_2_24hr', 'sky_3_24hr', 'sky_4_24hr', 'rain_t_0_24hr',\n",
       "       'rain_t_1_24hr', 'rain_t_2_24hr', 'rain_t_3_24hr', 'asos_tem',\n",
       "       'asos_rain', 'asos_wind_d', 'asos_wind_s', 'asos_spot_pr',\n",
       "       'asos_sea_pr', 'asos_hum', 'asos_sun', 'asos_sun_time'],\n",
       "      dtype='object')"
      ]
     },
     "execution_count": 81,
     "metadata": {},
     "output_type": "execute_result"
    }
   ],
   "source": [
    "table.columns"
   ]
  },
  {
   "cell_type": "markdown",
   "metadata": {},
   "source": [
    "# 예제"
   ]
  },
  {
   "cell_type": "markdown",
   "metadata": {},
   "source": [
    "RNN은 반복할 때 이전에 계산한 정보를 재사용하는 for루프나 다름없음"
   ]
  },
  {
   "cell_type": "code",
   "execution_count": 36,
   "metadata": {},
   "outputs": [],
   "source": [
    "timesteps = 100 # 입력 시퀀스에 있는 타임스텝의 수\n",
    "input_features = 32 # 입력 특성의 차원\n",
    "output_features = 64 # 출력 특성의 차원\n",
    "\n",
    "inputs = np.random.random((timesteps, input_features)) # 입력데이터: 예제를 위해 생성한 난수\n",
    "\n",
    "state_t = np.zeros((output_features, )) # 초기 상태: 모두 0인 벡터\n",
    "\n",
    "# 랜덤한 가중치 행렬을 만듦\n",
    "W = np.random.random((output_features, input_features))\n",
    "U = np.random.random((output_features, output_features))\n",
    "b = np.random.random((output_features, ))\n",
    "\n",
    "successive_outputs = list()\n",
    "for input_t in inputs: # input_t는 크기가 (input_features,) 인 벡터\n",
    "    output_t = np.tanh(np.dot(W, input_t) + np.dot(U, state_t) + b)\n",
    "                                             # 입력과 현재 상태(이전 출력)를 연결하여 현재 출력을 얻음\n",
    "    successive_outputs.append(output_t)\n",
    "    \n",
    "    state_t = output_t # 다음 타입스텝을 위해 네트워크의 상태를 업데이트\n",
    "    \n",
    "final_output_sequence = np.stack(successive_outputs, axis=0)\n",
    "# 최종 출력은 크기가 (timesteps, output_features)인 2D Tensor"
   ]
  },
  {
   "cell_type": "code",
   "execution_count": 39,
   "metadata": {},
   "outputs": [],
   "source": [
    "from tensorflow.keras.datasets import imdb\n",
    "from tensorflow.keras.preprocessing import sequence\n",
    "from tensorflow.keras.layers import LSTM, Embedding, SimpleRNN, Dense\n",
    "from tensorflow.keras.models import Sequential"
   ]
  },
  {
   "cell_type": "code",
   "execution_count": 42,
   "metadata": {},
   "outputs": [],
   "source": [
    "max_features = 10000 # 특성으로 사용할 단어의 수\n",
    "max_len = 500 # 사용할 텍스트의 길이(가장 빈번한 max_features개의 단어만 사용)\n",
    "batch_size = 32"
   ]
  },
  {
   "cell_type": "code",
   "execution_count": 47,
   "metadata": {},
   "outputs": [],
   "source": [
    "(input_train, y_train), (input_test, y_test) = imdb.load_data(num_words = max_features)\n",
    "input_train = sequence.pad_sequences(input_train, maxlen=max_len)\n",
    "input_test = sequence.pad_sequences(input_test, maxlen=max_len)"
   ]
  },
  {
   "cell_type": "code",
   "execution_count": 49,
   "metadata": {},
   "outputs": [
    {
     "name": "stdout",
     "output_type": "stream",
     "text": [
      "Train on 20000 samples, validate on 5000 samples\n",
      "Epoch 1/10\n",
      "20000/20000 [==============================] - 51s 3ms/sample - loss: 0.5439 - acc: 0.7340 - val_loss: 0.4259 - val_acc: 0.8316\n",
      "Epoch 2/10\n",
      "20000/20000 [==============================] - 50s 3ms/sample - loss: 0.3139 - acc: 0.8742 - val_loss: 0.3030 - val_acc: 0.8772\n",
      "Epoch 3/10\n",
      "20000/20000 [==============================] - 50s 2ms/sample - loss: 0.2463 - acc: 0.9057 - val_loss: 0.2943 - val_acc: 0.8814\n",
      "Epoch 4/10\n",
      "20000/20000 [==============================] - 49s 2ms/sample - loss: 0.2053 - acc: 0.9238 - val_loss: 0.2990 - val_acc: 0.8746\n",
      "Epoch 5/10\n",
      "20000/20000 [==============================] - 51s 3ms/sample - loss: 0.1779 - acc: 0.9349 - val_loss: 0.3364 - val_acc: 0.8530\n",
      "Epoch 6/10\n",
      "20000/20000 [==============================] - 49s 2ms/sample - loss: 0.1619 - acc: 0.9430 - val_loss: 0.3035 - val_acc: 0.8778\n",
      "Epoch 7/10\n",
      "20000/20000 [==============================] - 50s 2ms/sample - loss: 0.1467 - acc: 0.9472 - val_loss: 0.3570 - val_acc: 0.8862\n",
      "Epoch 8/10\n",
      "20000/20000 [==============================] - 50s 3ms/sample - loss: 0.1335 - acc: 0.9546 - val_loss: 0.3112 - val_acc: 0.8800\n",
      "Epoch 9/10\n",
      "20000/20000 [==============================] - 51s 3ms/sample - loss: 0.1224 - acc: 0.9579 - val_loss: 0.3328 - val_acc: 0.8652\n",
      "Epoch 10/10\n",
      "20000/20000 [==============================] - 57s 3ms/sample - loss: 0.1112 - acc: 0.9613 - val_loss: 0.4191 - val_acc: 0.8620\n"
     ]
    }
   ],
   "source": [
    "model = Sequential()\n",
    "model.add(Embedding(max_features, 32))\n",
    "model.add(LSTM(32))\n",
    "model.add(Dense(1, activation='sigmoid'))\n",
    "\n",
    "model.compile(optimizer='rmsprop', loss='binary_crossentropy', metrics=['acc'])\n",
    "history = model.fit(input_train, y_train, epochs=10, batch_size=128, validation_split=0.2)"
   ]
  },
  {
   "cell_type": "code",
   "execution_count": 50,
   "metadata": {},
   "outputs": [
    {
     "data": {
      "image/png": "[encoded data removed]",
      "text/plain": [
       "<Figure size 432x288 with 1 Axes>"
      ]
     },
     "metadata": {
      "needs_background": "light"
     },
     "output_type": "display_data"
    },
    {
     "data": {
      "image/png": "[encoded data removed]",
      "text/plain": [
       "<Figure size 432x288 with 1 Axes>"
      ]
     },
     "metadata": {
      "needs_background": "light"
     },
     "output_type": "display_data"
    }
   ],
   "source": [
    "acc = history.history['acc']\n",
    "val_acc = history.history['val_acc']\n",
    "loss = history.history['loss']\n",
    "val_loss = history.history['val_loss']\n",
    "\n",
    "epochs = range(1, len(acc)+1)\n",
    "\n",
    "plt.plot(epochs, acc, 'bo', label='Training acc')\n",
    "plt.plot(epochs, val_acc, 'b', label='Validation acc')\n",
    "plt.title('Training and validation accuracy')\n",
    "plt.legend()\n",
    "\n",
    "plt.figure()\n",
    "\n",
    "plt.plot(epochs, loss, 'bo', label='Training loss')\n",
    "plt.plot(epochs, val_loss, 'b', label='Validation loss')\n",
    "plt.title('Training and validation loss')\n",
    "plt.legend()\n",
    "\n",
    "plt.show()"
   ]
  },
  {
   "cell_type": "code",
   "execution_count": null,
   "metadata": {},
   "outputs": [],
   "source": []
  },
  {
   "cell_type": "markdown",
   "metadata": {},
   "source": [
    "# 습도 예측을 해봅시다"
   ]
  },
  {
   "cell_type": "code",
   "execution_count": 160,
   "metadata": {},
   "outputs": [],
   "source": [
    "save = table.copy()"
   ]
  },
  {
   "cell_type": "code",
   "execution_count": null,
   "metadata": {},
   "outputs": [],
   "source": [
    "table.drop(['cond_24hr', ])"
   ]
  },
  {
   "cell_type": "code",
   "execution_count": 53,
   "metadata": {},
   "outputs": [],
   "source": [
    "float_data = np.zeros((len(table), len(table.columns)-1))"
   ]
  },
  {
   "cell_type": "code",
   "execution_count": 75,
   "metadata": {},
   "outputs": [],
   "source": [
    "for i, line in enumerate(table.values):\n",
    "    values = [float(x) for x in line[1:]]\n",
    "    float_data[i, :] = values"
   ]
  },
  {
   "cell_type": "code",
   "execution_count": 76,
   "metadata": {},
   "outputs": [
    {
     "data": {
      "text/plain": [
       "Index(['mea_ddhr', 'cond_24hr', 'tem_in_loc', 'hum_in_loc', 'tem_coil_loc',\n",
       "       'tem_out_loc', 'hum_out_loc', 'cond_loc1', 'tem_in_loc_24hr',\n",
       "       'hum_in_loc_24hr', 'tem_coil_loc_24hr', 'year', 'month', 'day', 'hour',\n",
       "       'week_1', 'week_2', 'week_3', 'week_4', 'week_5', 'week_6', 'week_7',\n",
       "       'week_8', 'week_9', 'week_10', 'week_11', 'week_12', 'week_13',\n",
       "       'week_14', 'week_15', 'week_16', 'week_17', 'week_18', 'week_19',\n",
       "       'week_20', 'week_21', 'week_22', 'week_23', 'week_24', 'week_25',\n",
       "       'week_26', 'week_27', 'week_28', 'week_29', 'week_30', 'week_31',\n",
       "       'week_32', 'week_33', 'week_34', 'week_35', 'week_36', 'week_37',\n",
       "       'week_38', 'week_39', 'week_40', 'week_41', 'week_42', 'week_43',\n",
       "       'week_44', 'week_45', 'week_46', 'week_47', 'week_48', 'week_49',\n",
       "       'week_50', 'week_51', 'week_52', 'dj_aws_tem', 'dj_aws_wind_d',\n",
       "       'dj_aws_wind_s', 'dj_aws_hum', 'sp_aws_tem', 'sp_aws_wind_d',\n",
       "       'sp_aws_wind_s', 'sp_aws_spot_pr', 'sp_aws_sea_pr', 'tem_24hr',\n",
       "       'hum_24hr', 'rain_p_24hr', 'wind_s_24hr', 'wind_d_24hr', 'sky_1_24hr',\n",
       "       'sky_2_24hr', 'sky_3_24hr', 'sky_4_24hr', 'rain_t_0_24hr',\n",
       "       'rain_t_1_24hr', 'rain_t_2_24hr', 'rain_t_3_24hr', 'asos_tem',\n",
       "       'asos_rain', 'asos_wind_d', 'asos_wind_s', 'asos_spot_pr',\n",
       "       'asos_sea_pr', 'asos_hum', 'asos_sun', 'asos_sun_time'],\n",
       "      dtype='object')"
      ]
     },
     "execution_count": 76,
     "metadata": {},
     "output_type": "execute_result"
    }
   ],
   "source": [
    "table.columns"
   ]
  },
  {
   "cell_type": "code",
   "execution_count": 77,
   "metadata": {},
   "outputs": [
    {
     "data": {
      "text/plain": [
       "[<matplotlib.lines.Line2D at 0x1665d048>]"
      ]
     },
     "execution_count": 77,
     "metadata": {},
     "output_type": "execute_result"
    },
    {
     "data": {
      "image/png": "[encoded data removed]",
      "text/plain": [
       "<Figure size 432x288 with 1 Axes>"
      ]
     },
     "metadata": {
      "needs_background": "light"
     },
     "output_type": "display_data"
    }
   ],
   "source": [
    "temp = float_data[:, 3]\n",
    "plt.plot(range(len(temp)), temp)"
   ]
  },
  {
   "cell_type": "code",
   "execution_count": 123,
   "metadata": {},
   "outputs": [
    {
     "data": {
      "text/plain": [
       "mea_ddhr         2018-06-12 00:00:00\n",
       "cond_24hr                          0\n",
       "tem_in_loc                     24.74\n",
       "hum_in_loc                     61.84\n",
       "tem_coil_loc                   24.06\n",
       "                        ...         \n",
       "asos_spot_pr                   998.3\n",
       "asos_sea_pr                   1001.7\n",
       "asos_hum                        95.3\n",
       "asos_sun                       11.75\n",
       "asos_sun_time                  11400\n",
       "Name: 15780, Length: 98, dtype: object"
      ]
     },
     "execution_count": 123,
     "metadata": {},
     "output_type": "execute_result"
    }
   ],
   "source": [
    "table.iloc[15780]"
   ]
  },
  {
   "cell_type": "code",
   "execution_count": 124,
   "metadata": {},
   "outputs": [
    {
     "name": "stderr",
     "output_type": "stream",
     "text": [
      "C:\\Users\\COM\\anaconda3\\lib\\site-packages\\ipykernel_launcher.py:4: RuntimeWarning: divide by zero encountered in true_divide\n",
      "  after removing the cwd from sys.path.\n"
     ]
    }
   ],
   "source": [
    "mean = float_data[15780:].mean(axis=0)\n",
    "float_data -= mean\n",
    "std = float_data[15780:].std(axis=0)\n",
    "float_data /= std"
   ]
  },
  {
   "cell_type": "code",
   "execution_count": 128,
   "metadata": {},
   "outputs": [],
   "source": [
    "def generator(data, lookback, delay, min_index, max_index, shuffle=False, batch_size=128, step=6):\n",
    "    if max_index is None:\n",
    "        max_index = len(data) - delay - 1\n",
    "    i = min_index + lookback\n",
    "    while True:\n",
    "        if shuffle:\n",
    "            rows = np.random.randint(min_index + lookback, max_index, size=batch_size)\n",
    "        else:\n",
    "            if i + batch_size >= max_index:\n",
    "                i = min_index + lookback\n",
    "            rows = np.arange(i, min(i + batch_size, max_index))\n",
    "            i+= len(rows)\n",
    "        \n",
    "        samples = np.zeros((len(rows), lookback // step, data.shape[-1]))\n",
    "        targets = np.zeros((len(rows), ))\n",
    "        \n",
    "        for j, row in enumerate(rows):\n",
    "            indices = range(rows[j] - lookback, rows[j], step)\n",
    "            #print(data[indices].shape)\n",
    "            samples[j] = data[indices]\n",
    "            targets[j] = data[rows[j] + delay][1]\n",
    "        yield samples, targets"
   ]
  },
  {
   "cell_type": "code",
   "execution_count": 127,
   "metadata": {},
   "outputs": [
    {
     "data": {
      "text/plain": [
       "mea_ddhr         2018-03-22 00:00:00\n",
       "cond_24hr                          0\n",
       "tem_in_loc                      8.99\n",
       "hum_in_loc                     57.81\n",
       "tem_coil_loc                    8.31\n",
       "                        ...         \n",
       "asos_spot_pr                  1013.2\n",
       "asos_sea_pr                   1016.8\n",
       "asos_hum                        97.7\n",
       "asos_sun                        3.54\n",
       "asos_sun_time                      0\n",
       "Name: 11843, Length: 98, dtype: object"
      ]
     },
     "execution_count": 127,
     "metadata": {},
     "output_type": "execute_result"
    }
   ],
   "source": [
    "table.iloc[11843]"
   ]
  },
  {
   "cell_type": "code",
   "execution_count": 129,
   "metadata": {},
   "outputs": [],
   "source": [
    "lookback = 1000\n",
    "step = 6\n",
    "delay = 144\n",
    "batch_size = 128\n",
    "\n",
    "# 10분간격\n",
    "train_gen = generator(float_data, lookback=1440, delay=144, min_index=15780, max_index=57188, shuffle=True, step=6, batch_size=batch_size)\n",
    "\n",
    "# 30분 간격\n",
    "val_gen = generator(float_data, lookback=480, delay=48, min_index=11843, max_index=15779, step=2, batch_size=batch_size)\n",
    "\n",
    "# 1시간/3시간 간격\n",
    "test_gen = generator(float_data, lookback=80, delay=8, min_index=0, max_index=11842, step=1, batch_size=batch_size)\n",
    "\n",
    "val_steps = (15779 - 11843 - 480) // batch_size # 전체 검증 세트를 순회하기 위해 val_gen에서 추출할 횟수\n",
    "test_steps = (11842 - 0 - 80) // batch_size"
   ]
  },
  {
   "cell_type": "code",
   "execution_count": 148,
   "metadata": {},
   "outputs": [],
   "source": [
    "lookback = 1440\n",
    "step = 6\n",
    "delay = 144\n",
    "batch_size = 128\n",
    "\n",
    "train_gen = generator(float_data, lookback=lookback, delay=delay, min_index=15780, max_index=40000, shuffle=True, step=step, batch_size=batch_size)\n",
    "val_gen = generator(float_data, lookback=lookback, delay=delay, min_index=40001, max_index=50000, step=step, batch_size=batch_size)\n",
    "test_gen = generator(float_data, lookback=lookback, delay=delay, min_index=50001, max_index=None, step=step, batch_size=batch_size)\n",
    "\n",
    "val_steps = (50000 - 40001 - lookback) // batch_size # 전체 검증 세트를 순회하기 위해 val_gen에서 추출할 횟수\n",
    "test_steps = (len(float_data) - 50001 - lookback) // batch_size"
   ]
  },
  {
   "cell_type": "code",
   "execution_count": 143,
   "metadata": {},
   "outputs": [],
   "source": [
    "def evaluate_naive_method():\n",
    "    batch_maes = list()\n",
    "    for step in range(val_steps):\n",
    "        samples, targets = next(val_gen)\n",
    "        preds = samples[:, -1, 1]\n",
    "        mae = np.mean(np.abs(preds-targets))\n",
    "        batch_maes.append(mae)\n",
    "    print(np.mean(batch_maes))"
   ]
  },
  {
   "cell_type": "code",
   "execution_count": 144,
   "metadata": {},
   "outputs": [
    {
     "name": "stdout",
     "output_type": "stream",
     "text": [
      "0.10422642030177559\n"
     ]
    }
   ],
   "source": [
    "evaluate_naive_method()"
   ]
  },
  {
   "cell_type": "code",
   "execution_count": 159,
   "metadata": {},
   "outputs": [
    {
     "name": "stdout",
     "output_type": "stream",
     "text": [
      "Epoch 1/20\n",
      "500/500 [==============================] - 21s 43ms/step - loss: nan - val_loss: nan\n",
      "Epoch 2/20\n",
      "500/500 [==============================] - 21s 42ms/step - loss: nan - val_loss: nan\n",
      "Epoch 3/20\n",
      "500/500 [==============================] - 22s 43ms/step - loss: nan - val_loss: nan\n",
      "Epoch 4/20\n",
      "500/500 [==============================] - 23s 45ms/step - loss: nan - val_loss: nan\n",
      "Epoch 5/20\n",
      "500/500 [==============================] - 22s 45ms/step - loss: nan - val_loss: nan\n",
      "Epoch 6/20\n",
      "500/500 [==============================] - 22s 45ms/step - loss: nan - val_loss: nan\n",
      "Epoch 7/20\n",
      "500/500 [==============================] - 23s 45ms/step - loss: nan - val_loss: nan\n",
      "Epoch 8/20\n",
      "500/500 [==============================] - 22s 45ms/step - loss: nan - val_loss: nan\n",
      "Epoch 9/20\n",
      "500/500 [==============================] - 22s 43ms/step - loss: nan - val_loss: nan\n",
      "Epoch 10/20\n",
      "500/500 [==============================] - 21s 43ms/step - loss: nan - val_loss: nan\n",
      "Epoch 11/20\n",
      "500/500 [==============================] - 21s 43ms/step - loss: nan - val_loss: nan\n",
      "Epoch 12/20\n",
      "500/500 [==============================] - 23s 46ms/step - loss: nan - val_loss: nan\n",
      "Epoch 13/20\n",
      "500/500 [==============================] - 23s 46ms/step - loss: nan - val_loss: nan\n",
      "Epoch 14/20\n",
      "500/500 [==============================] - 22s 45ms/step - loss: nan - val_loss: nan\n",
      "Epoch 15/20\n",
      "500/500 [==============================] - 22s 44ms/step - loss: nan - val_loss: nan\n",
      "Epoch 16/20\n",
      "500/500 [==============================] - 23s 47ms/step - loss: nan - val_loss: nan\n",
      "Epoch 17/20\n",
      "500/500 [==============================] - 22s 44ms/step - loss: nan - val_loss: nan\n",
      "Epoch 18/20\n",
      "500/500 [==============================] - 23s 46ms/step - loss: nan - val_loss: nan\n",
      "Epoch 19/20\n",
      "500/500 [==============================] - 22s 44ms/step - loss: nan - val_loss: nan\n",
      "Epoch 20/20\n",
      "500/500 [==============================] - 23s 45ms/step - loss: nan - val_loss: nan\n"
     ]
    }
   ],
   "source": [
    "from tensorflow.keras.models import Sequential\n",
    "from tensorflow.keras import layers\n",
    "from tensorflow.keras.optimizers import RMSprop\n",
    "\n",
    "model = Sequential()\n",
    "model.add(layers.Flatten(input_shape=(lookback // step, float_data[15780:].shape[-1])))\n",
    "model.add(layers.Dense(32, activation='relu'))\n",
    "model.compile(optimizer=RMSprop(), loss='mae')\n",
    "history = model.fit_generator(train_gen, steps_per_epoch=500, epochs=20, validation_data=val_gen, validation_steps=val_steps)"
   ]
  },
  {
   "cell_type": "code",
   "execution_count": 161,
   "metadata": {},
   "outputs": [
    {
     "data": {
      "image/png": "[encoded data removed]",
      "text/plain": [
       "<Figure size 432x288 with 1 Axes>"
      ]
     },
     "metadata": {
      "needs_background": "light"
     },
     "output_type": "display_data"
    }
   ],
   "source": [
    "loss = history.history['loss']\n",
    "val_loss = history.history['val_loss']\n",
    "\n",
    "epochs = range(1, len(loss)+1)\n",
    "\n",
    "plt.figure()\n",
    "\n",
    "plt.plot(epochs, loss, 'bo', label='Training loss')\n",
    "plt.plot(epochs, val_loss, 'b', label='Validation loss')\n",
    "plt.title('Training and validation loss')\n",
    "plt.legend()\n",
    "\n",
    "plt.show()"
   ]
  },
  {
   "cell_type": "code",
   "execution_count": 150,
   "metadata": {},
   "outputs": [
    {
     "ename": "KeyError",
     "evalue": "'acc'",
     "output_type": "error",
     "traceback": [
      "\u001b[1;31m---------------------------------------------------------------------------\u001b[0m",
      "\u001b[1;31mKeyError\u001b[0m                                  Traceback (most recent call last)",
      "\u001b[1;32m<ipython-input-150-118e6dbceb1d>\u001b[0m in \u001b[0;36m<module>\u001b[1;34m\u001b[0m\n\u001b[1;32m----> 1\u001b[1;33m \u001b[0macc\u001b[0m \u001b[1;33m=\u001b[0m \u001b[0mhistory\u001b[0m\u001b[1;33m.\u001b[0m\u001b[0mhistory\u001b[0m\u001b[1;33m[\u001b[0m\u001b[1;34m'acc'\u001b[0m\u001b[1;33m]\u001b[0m\u001b[1;33m\u001b[0m\u001b[1;33m\u001b[0m\u001b[0m\n\u001b[0m\u001b[0;32m      2\u001b[0m \u001b[0mval_acc\u001b[0m \u001b[1;33m=\u001b[0m \u001b[0mhistory\u001b[0m\u001b[1;33m.\u001b[0m\u001b[0mhistory\u001b[0m\u001b[1;33m[\u001b[0m\u001b[1;34m'val_acc'\u001b[0m\u001b[1;33m]\u001b[0m\u001b[1;33m\u001b[0m\u001b[1;33m\u001b[0m\u001b[0m\n\u001b[0;32m      3\u001b[0m \u001b[0mloss\u001b[0m \u001b[1;33m=\u001b[0m \u001b[0mhistory\u001b[0m\u001b[1;33m.\u001b[0m\u001b[0mhistory\u001b[0m\u001b[1;33m[\u001b[0m\u001b[1;34m'loss'\u001b[0m\u001b[1;33m]\u001b[0m\u001b[1;33m\u001b[0m\u001b[1;33m\u001b[0m\u001b[0m\n\u001b[0;32m      4\u001b[0m \u001b[0mval_loss\u001b[0m \u001b[1;33m=\u001b[0m \u001b[0mhistory\u001b[0m\u001b[1;33m.\u001b[0m\u001b[0mhistory\u001b[0m\u001b[1;33m[\u001b[0m\u001b[1;34m'val_loss'\u001b[0m\u001b[1;33m]\u001b[0m\u001b[1;33m\u001b[0m\u001b[1;33m\u001b[0m\u001b[0m\n\u001b[0;32m      5\u001b[0m \u001b[1;33m\u001b[0m\u001b[0m\n",
      "\u001b[1;31mKeyError\u001b[0m: 'acc'"
     ]
    }
   ],
   "source": [
    "acc = history.history['acc']\n",
    "val_acc = history.history['val_acc']\n",
    "loss = history.history['loss']\n",
    "val_loss = history.history['val_loss']\n",
    "\n",
    "epochs = range(1, len(acc)+1)\n",
    "\n",
    "plt.plot(epochs, acc, 'bo', label='Training acc')\n",
    "plt.plot(epochs, val_acc, 'b', label='Validation acc')\n",
    "plt.title('Training and validation accuracy')\n",
    "plt.legend()\n",
    "\n",
    "plt.figure()\n",
    "\n",
    "plt.plot(epochs, loss, 'bo', label='Training loss')\n",
    "plt.plot(epochs, val_loss, 'b', label='Validation loss')\n",
    "plt.title('Training and validation loss')\n",
    "plt.legend()\n",
    "\n",
    "plt.show()"
   ]
  },
  {
   "cell_type": "code",
   "execution_count": 156,
   "metadata": {},
   "outputs": [
    {
     "data": {
      "text/plain": [
       "{'loss': [nan,\n",
       "  nan,\n",
       "  nan,\n",
       "  nan,\n",
       "  nan,\n",
       "  nan,\n",
       "  nan,\n",
       "  nan,\n",
       "  nan,\n",
       "  nan,\n",
       "  nan,\n",
       "  nan,\n",
       "  nan,\n",
       "  nan,\n",
       "  nan,\n",
       "  nan,\n",
       "  nan,\n",
       "  nan,\n",
       "  nan,\n",
       "  nan],\n",
       " 'val_loss': [nan,\n",
       "  nan,\n",
       "  nan,\n",
       "  nan,\n",
       "  nan,\n",
       "  nan,\n",
       "  nan,\n",
       "  nan,\n",
       "  nan,\n",
       "  nan,\n",
       "  nan,\n",
       "  nan,\n",
       "  nan,\n",
       "  nan,\n",
       "  nan,\n",
       "  nan,\n",
       "  nan,\n",
       "  nan,\n",
       "  nan,\n",
       "  nan]}"
      ]
     },
     "execution_count": 156,
     "metadata": {},
     "output_type": "execute_result"
    }
   ],
   "source": [
    "history.history"
   ]
  },
  {
   "cell_type": "code",
   "execution_count": null,
   "metadata": {},
   "outputs": [],
   "source": []
  }
 ],
 "metadata": {
  "kernelspec": {
   "display_name": "Python 3",
   "language": "python",
   "name": "python3"
  },
  "language_info": {
   "codemirror_mode": {
    "name": "ipython",
    "version": 3
   },
   "file_extension": ".py",
   "mimetype": "text/x-python",
   "name": "python",
   "nbconvert_exporter": "python",
   "pygments_lexer": "ipython3",
   "version": "3.7.6"
  },
  "toc": {
   "base_numbering": 1,
   "nav_menu": {},
   "number_sections": true,
   "sideBar": true,
   "skip_h1_title": false,
   "title_cell": "Table of Contents",
   "title_sidebar": "Contents",
   "toc_cell": false,
   "toc_position": {},
   "toc_section_display": true,
   "toc_window_display": false
  },
  "varInspector": {
   "cols": {
    "lenName": 16,
    "lenType": 16,
    "lenVar": 40
   },
   "kernels_config": {
    "python": {
     "delete_cmd_postfix": "",
     "delete_cmd_prefix": "del ",
     "library": "var_list.py",
     "varRefreshCmd": "print(var_dic_list())"
    },
    "r": {
     "delete_cmd_postfix": ") ",
     "delete_cmd_prefix": "rm(",
     "library": "var_list.r",
     "varRefreshCmd": "cat(var_dic_list()) "
    }
   },
   "types_to_exclude": [
    "module",
    "function",
    "builtin_function_or_method",
    "instance",
    "_Feature"
   ],
   "window_display": false
  }
 },
 "nbformat": 4,
 "nbformat_minor": 4
}
