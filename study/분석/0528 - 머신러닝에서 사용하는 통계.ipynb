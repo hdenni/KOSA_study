{
 "cells": [
  {
   "cell_type": "code",
   "execution_count": 37,
   "metadata": {},
   "outputs": [
    {
     "data": {
      "text/html": [
       "<style>.container { width:100% !important;} *{font-family:'Consolas'; font-size:14;} .cm-s-ipython span.cm-comment {color: #3cb371; font-style: italic;}</style>"
      ],
      "text/plain": [
       "<IPython.core.display.HTML object>"
      ]
     },
     "metadata": {},
     "output_type": "display_data"
    }
   ],
   "source": [
    "from IPython.core.display import display, HTML\n",
    "display(HTML(\"<style>.container { width:100% !important;} *{font-family:'Consolas'; font-size:14;} .cm-s-ipython span.cm-comment {color: #3cb371; font-style: italic;}</style>\"))"
   ]
  },
  {
   "cell_type": "code",
   "execution_count": 2,
   "metadata": {},
   "outputs": [],
   "source": [
    "import numpy as np"
   ]
  },
  {
   "cell_type": "markdown",
   "metadata": {},
   "source": [
    "# 이산 확률 분포"
   ]
  },
  {
   "cell_type": "markdown",
   "metadata": {},
   "source": [
    "## 이항분포"
   ]
  },
  {
   "cell_type": "code",
   "execution_count": 12,
   "metadata": {},
   "outputs": [],
   "source": [
    "binomial_x = np.random.binomial(n=10, p=0.5, size=500) # 이산형 확률 분포-이항분포"
   ]
  },
  {
   "cell_type": "code",
   "execution_count": 14,
   "metadata": {
    "collapsed": true
   },
   "outputs": [
    {
     "data": {
      "text/plain": [
       "array([ 7,  6,  2,  5,  3,  6,  5,  5,  9,  5,  7,  2,  3,  6,  4,  6,  3,\n",
       "        4,  7,  6,  3,  5,  3,  4,  5,  3,  4,  5,  3,  7,  5,  6,  6,  5,\n",
       "        7,  3,  6,  6,  5,  6,  5,  5,  3,  4,  5,  5,  5,  1,  8,  6,  8,\n",
       "        6,  6,  6,  6,  6,  7,  3,  7,  4,  5,  6,  4,  9,  6,  4,  6,  7,\n",
       "        5,  8,  6,  4,  4,  4,  4,  6,  4,  8,  5,  5,  5,  6,  6,  4,  6,\n",
       "        6,  5,  4,  2,  2,  3,  7,  5,  5,  2,  5,  6,  9,  7,  4,  5,  4,\n",
       "        3,  4,  6,  7,  4,  6,  4,  3,  3,  1,  1,  6,  7,  7,  7,  8,  5,\n",
       "        6,  2,  6,  4,  4,  9,  4,  3,  4,  3,  3,  4,  2,  8,  5,  2,  5,\n",
       "        6,  5,  4,  6,  4,  8,  5,  5,  4,  6,  4,  1,  5,  5,  6,  8,  2,\n",
       "        8,  6,  4,  2,  2,  5,  4,  4,  6,  3,  6,  5,  1,  3,  5,  7,  7,\n",
       "        3,  6,  4,  7,  1,  8,  3,  8,  3,  2,  1,  3,  8,  4,  4,  5,  7,\n",
       "        5,  5,  6,  3,  5,  7,  4,  3,  5,  6,  9,  6,  6,  6,  4,  5,  8,\n",
       "        5,  7,  6,  4,  3,  6,  5,  3,  8,  7,  4,  6,  7,  6,  5,  5,  4,\n",
       "        5,  3,  6,  4,  8,  5,  2,  3,  5,  3,  6,  5,  5,  4,  6,  5,  6,\n",
       "        6,  5,  8,  3,  8,  6,  4,  4,  4,  4,  6,  8,  2,  8,  7,  3,  5,\n",
       "        6,  5,  1,  6,  5,  5,  6,  4,  3,  4,  4,  3,  3,  5,  3,  1,  4,\n",
       "        4,  5,  6,  4,  4,  4,  6,  5,  6,  6,  8,  7,  5,  6,  5,  6,  4,\n",
       "        4,  6,  4,  8,  6,  3,  8,  4,  3,  3,  6,  2,  4,  2,  5,  4,  4,\n",
       "        5,  3,  7,  5,  5,  5,  7,  3,  4,  7,  5,  6,  7,  5,  5,  3,  8,\n",
       "        3,  5,  4,  5,  4,  2,  6,  6,  3,  3,  8,  7,  3,  3,  5,  7,  5,\n",
       "        6,  8,  6,  5,  6,  5,  3,  5,  5,  7,  5,  5,  7,  3,  6,  4,  4,\n",
       "        6,  7,  5, 10,  1,  6,  5,  4,  6,  4,  6,  3,  4,  7,  5,  1,  5,\n",
       "        4,  7,  5,  5,  6,  3,  4,  7,  7,  5,  5,  6,  8,  4,  3,  3,  7,\n",
       "        6,  7,  3,  5,  3,  2,  7,  6,  6,  5,  5,  6,  5,  7,  4,  4,  7,\n",
       "        3,  0,  5,  6,  4,  4,  6,  5,  6,  3,  6,  5,  9,  5,  4,  5,  2,\n",
       "        5,  5,  6,  4,  8,  5,  5,  4,  8,  8,  8,  4,  7,  8,  3,  7,  4,\n",
       "        5,  7,  8,  6,  5,  4,  5,  4,  6,  5,  5,  3,  5,  8,  4,  6,  6,\n",
       "        5,  4,  5,  4,  4,  5,  8,  3,  3,  5,  7,  4,  2,  4,  5,  3,  6,\n",
       "        7,  6,  3,  8,  6,  4,  5,  5,  7,  3,  5,  4,  6,  6,  4,  5,  5,\n",
       "        4,  4,  5,  3,  6,  4,  4])"
      ]
     },
     "execution_count": 14,
     "metadata": {},
     "output_type": "execute_result"
    }
   ],
   "source": [
    "binomial_x # 베르누이 시행(0 or 1)*10이 한번의 시행, 1이 나올 확률이 50%(0.5)를 500번 함"
   ]
  },
  {
   "cell_type": "code",
   "execution_count": 15,
   "metadata": {},
   "outputs": [
    {
     "data": {
      "text/plain": [
       "500"
      ]
     },
     "execution_count": 15,
     "metadata": {},
     "output_type": "execute_result"
    }
   ],
   "source": [
    "len(binomial_x) # size=500"
   ]
  },
  {
   "cell_type": "code",
   "execution_count": 10,
   "metadata": {},
   "outputs": [],
   "source": [
    "import matplotlib.pyplot as plt\n",
    "%matplotlib inline"
   ]
  },
  {
   "cell_type": "code",
   "execution_count": 19,
   "metadata": {},
   "outputs": [
    {
     "data": {
      "image/png": "[encoded data removed]",
      "text/plain": [
       "<Figure size 432x288 with 1 Axes>"
      ]
     },
     "metadata": {
      "needs_background": "light"
     },
     "output_type": "display_data"
    }
   ],
   "source": [
    "plt.hist(binomial_x, bins=10) # bins: 히스토그램의 두께\n",
    "plt.show()"
   ]
  },
  {
   "cell_type": "markdown",
   "metadata": {},
   "source": [
    "### 베르누이 분포"
   ]
  },
  {
   "cell_type": "code",
   "execution_count": 20,
   "metadata": {},
   "outputs": [
    {
     "data": {
      "image/png": "[encoded data removed]",
      "text/plain": [
       "<Figure size 432x288 with 1 Axes>"
      ]
     },
     "metadata": {
      "needs_background": "light"
     },
     "output_type": "display_data"
    }
   ],
   "source": [
    "bernoui_x = np.random.binomial(n=1, p=0.5, size=500)\n",
    "plt.hist(bernoui_x, bins=10)\n",
    "plt.show()"
   ]
  },
  {
   "cell_type": "markdown",
   "metadata": {},
   "source": [
    "## 기하분포"
   ]
  },
  {
   "cell_type": "code",
   "execution_count": 23,
   "metadata": {},
   "outputs": [
    {
     "data": {
      "image/png": "[encoded data removed]",
      "text/plain": [
       "<Figure size 432x288 with 1 Axes>"
      ]
     },
     "metadata": {
      "needs_background": "light"
     },
     "output_type": "display_data"
    }
   ],
   "source": [
    "geom_x = np.random.geometric(p=0.5, size=500) # 이산형 확률 분포 - 기하분포\n",
    "hist_ = plt.hist(geom_x, bins=10)\n",
    "plt.show()"
   ]
  },
  {
   "cell_type": "code",
   "execution_count": 24,
   "metadata": {},
   "outputs": [],
   "source": [
    "hist_cumsum = np.cumsum(hist_[0]) # cumsum: 누적합(Cumulative Sum)"
   ]
  },
  {
   "cell_type": "code",
   "execution_count": 25,
   "metadata": {},
   "outputs": [
    {
     "data": {
      "text/plain": [
       "array([222., 368., 441., 474., 474., 489., 494., 496., 499., 500.])"
      ]
     },
     "execution_count": 25,
     "metadata": {},
     "output_type": "execute_result"
    }
   ],
   "source": [
    "hist_cumsum"
   ]
  },
  {
   "cell_type": "code",
   "execution_count": 26,
   "metadata": {},
   "outputs": [
    {
     "data": {
      "image/png": "[encoded data removed]",
      "text/plain": [
       "<Figure size 432x288 with 1 Axes>"
      ]
     },
     "metadata": {
      "needs_background": "light"
     },
     "output_type": "display_data"
    }
   ],
   "source": [
    "plt.bar(range(1,11), hist_cumsum)\n",
    "plt.show()"
   ]
  },
  {
   "cell_type": "markdown",
   "metadata": {},
   "source": [
    "## 다항분포"
   ]
  },
  {
   "cell_type": "code",
   "execution_count": 28,
   "metadata": {},
   "outputs": [],
   "source": [
    "# 이산형 확률 분포 - 다항분포\n",
    "multinorm_x = np.random.multinomial(10, \n",
    "                                   [1/6, 1/6, 1/6, 1/6], \n",
    "                                   500)"
   ]
  },
  {
   "cell_type": "code",
   "execution_count": 29,
   "metadata": {},
   "outputs": [
    {
     "data": {
      "text/plain": [
       "array([[2, 2, 4, 2],\n",
       "       [1, 3, 2, 4],\n",
       "       [2, 4, 0, 4],\n",
       "       ...,\n",
       "       [2, 0, 4, 4],\n",
       "       [0, 2, 1, 7],\n",
       "       [5, 1, 2, 2]])"
      ]
     },
     "execution_count": 29,
     "metadata": {},
     "output_type": "execute_result"
    }
   ],
   "source": []
  },
  {
   "cell_type": "code",
   "execution_count": 30,
   "metadata": {},
   "outputs": [
    {
     "data": {
      "image/png": "[encoded data removed]",
      "text/plain": [
       "<Figure size 432x288 with 1 Axes>"
      ]
     },
     "metadata": {
      "needs_background": "light"
     },
     "output_type": "display_data"
    }
   ],
   "source": [
    "hist_ = plt.hist(multinorm_x, bins=10)\n",
    "plt.show()"
   ]
  },
  {
   "cell_type": "markdown",
   "metadata": {},
   "source": [
    "## 포아송"
   ]
  },
  {
   "cell_type": "code",
   "execution_count": 39,
   "metadata": {},
   "outputs": [
    {
     "data": {
      "image/png": "[encoded data removed]",
      "text/plain": [
       "<Figure size 432x288 with 1 Axes>"
      ]
     },
     "metadata": {
      "needs_background": "light"
     },
     "output_type": "display_data"
    }
   ],
   "source": [
    "pois_x = np.random.poisson(lam=10*(1/6), size=100)\n",
    "plt.hist(pois_x, bins=10)\n",
    "plt.show()\n",
    "# 사건이 0번 일어나는 경우가 21회정도\n",
    "# 1번 일어나는 정도가 34회정도...\n",
    "\n",
    "# 주사위를 10번 던졌을 경우, 주사위 눈 1이 나올 기댓값은 1.67\n",
    "# 이것을 이용해 포아송 분포가 따르는 난수 100개를 설정\n",
    "# 그 결과 데이터는 1.67 근처에 더 많은 난수가 발생함을 알 수 있음"
   ]
  },
  {
   "cell_type": "markdown",
   "metadata": {},
   "source": [
    "# 연속 확률 분포"
   ]
  },
  {
   "cell_type": "markdown",
   "metadata": {},
   "source": [
    "## 균일 분포(Uniform distribution)"
   ]
  },
  {
   "cell_type": "code",
   "execution_count": 42,
   "metadata": {},
   "outputs": [
    {
     "data": {
      "image/png": "[encoded data removed]",
      "text/plain": [
       "<Figure size 432x288 with 1 Axes>"
      ]
     },
     "metadata": {
      "needs_background": "light"
     },
     "output_type": "display_data"
    }
   ],
   "source": [
    "unif_x = np.random.uniform(low=0, high=10, size=1000)\n",
    "plt.hist(unif_x, bins=50)\n",
    "plt.show()"
   ]
  },
  {
   "cell_type": "markdown",
   "metadata": {},
   "source": [
    "## 정규 분포(Normal distribution)"
   ]
  },
  {
   "cell_type": "code",
   "execution_count": 45,
   "metadata": {
    "scrolled": true
   },
   "outputs": [
    {
     "data": {
      "image/png": "[encoded data removed]",
      "text/plain": [
       "<Figure size 432x288 with 1 Axes>"
      ]
     },
     "metadata": {
      "needs_background": "light"
     },
     "output_type": "display_data"
    }
   ],
   "source": [
    "norm_x = np.random.normal(loc=0, scale=0.5, size=1000)\n",
    "plt.hist(norm_x, bins=50)\n",
    "plt.show()"
   ]
  },
  {
   "cell_type": "markdown",
   "metadata": {},
   "source": [
    "## 지수 분포(Exponential distribution)"
   ]
  },
  {
   "cell_type": "code",
   "execution_count": 51,
   "metadata": {},
   "outputs": [
    {
     "data": {
      "image/png": "[encoded data removed]",
      "text/plain": [
       "<Figure size 432x288 with 1 Axes>"
      ]
     },
     "metadata": {
      "needs_background": "light"
     },
     "output_type": "display_data"
    }
   ],
   "source": [
    "exp_x = np.random.exponential(scale=0.5, size=1000)\n",
    "plt.hist(exp_x, bins=50)\n",
    "plt.show()"
   ]
  },
  {
   "cell_type": "markdown",
   "metadata": {},
   "source": [
    "## t-분포(t-distribution)"
   ]
  },
  {
   "cell_type": "code",
   "execution_count": 48,
   "metadata": {},
   "outputs": [
    {
     "data": {
      "image/png": "[encoded data removed]",
      "text/plain": [
       "<Figure size 432x288 with 1 Axes>"
      ]
     },
     "metadata": {
      "needs_background": "light"
     },
     "output_type": "display_data"
    }
   ],
   "source": [
    "t_x = np.random.standard_t(df=1, size=1000)\n",
    "plt.hist(t_x, bins=50)\n",
    "plt.show()"
   ]
  },
  {
   "cell_type": "markdown",
   "metadata": {},
   "source": [
    "## 카이저 제곱 분포(chi-squared distribution)"
   ]
  },
  {
   "cell_type": "code",
   "execution_count": 49,
   "metadata": {},
   "outputs": [
    {
     "data": {
      "image/png": "[encoded data removed]",
      "text/plain": [
       "<Figure size 432x288 with 1 Axes>"
      ]
     },
     "metadata": {
      "needs_background": "light"
     },
     "output_type": "display_data"
    }
   ],
   "source": [
    "chi_x = np.random.chisquare(df=1, size=1000)\n",
    "# 표준정규분포(평균 0, 표준편차 1)을 따르는\n",
    "# 데이터 2개(df, 자유도)를 제곱해서 합한 다음 얻어지는 분포\n",
    "# 신뢰구간 또는 가설검정(특히 적합도검정)에 사용됨\n",
    "plt.hist(chi_x, bins=50)\n",
    "plt.show()"
   ]
  },
  {
   "cell_type": "markdown",
   "metadata": {},
   "source": [
    "## f-분포 (f-distribution)"
   ]
  },
  {
   "cell_type": "code",
   "execution_count": 50,
   "metadata": {},
   "outputs": [
    {
     "data": {
      "image/png": "[encoded data removed]",
      "text/plain": [
       "<Figure size 432x288 with 1 Axes>"
      ]
     },
     "metadata": {
      "needs_background": "light"
     },
     "output_type": "display_data"
    }
   ],
   "source": [
    "f_x = np.random.f(dfnum=10, dfden=10, size=1000)\n",
    "plt.hist(f_x, bins=50)\n",
    "plt.show()"
   ]
  },
  {
   "cell_type": "markdown",
   "metadata": {},
   "source": [
    "# 통계적 추론"
   ]
  },
  {
   "cell_type": "code",
   "execution_count": 52,
   "metadata": {},
   "outputs": [],
   "source": [
    "import seaborn as sns\n",
    "iris = sns.load_dataset(\"iris\")"
   ]
  },
  {
   "cell_type": "code",
   "execution_count": 53,
   "metadata": {},
   "outputs": [
    {
     "data": {
      "text/html": [
       "<div>\n",
       "<style scoped>\n",
       "    .dataframe tbody tr th:only-of-type {\n",
       "        vertical-align: middle;\n",
       "    }\n",
       "\n",
       "    .dataframe tbody tr th {\n",
       "        vertical-align: top;\n",
       "    }\n",
       "\n",
       "    .dataframe thead th {\n",
       "        text-align: right;\n",
       "    }\n",
       "</style>\n",
       "<table border=\"1\" class=\"dataframe\">\n",
       "  <thead>\n",
       "    <tr style=\"text-align: right;\">\n",
       "      <th></th>\n",
       "      <th>sepal_length</th>\n",
       "      <th>sepal_width</th>\n",
       "      <th>petal_length</th>\n",
       "      <th>petal_width</th>\n",
       "      <th>species</th>\n",
       "    </tr>\n",
       "  </thead>\n",
       "  <tbody>\n",
       "    <tr>\n",
       "      <th>0</th>\n",
       "      <td>5.1</td>\n",
       "      <td>3.5</td>\n",
       "      <td>1.4</td>\n",
       "      <td>0.2</td>\n",
       "      <td>setosa</td>\n",
       "    </tr>\n",
       "    <tr>\n",
       "      <th>1</th>\n",
       "      <td>4.9</td>\n",
       "      <td>3.0</td>\n",
       "      <td>1.4</td>\n",
       "      <td>0.2</td>\n",
       "      <td>setosa</td>\n",
       "    </tr>\n",
       "    <tr>\n",
       "      <th>2</th>\n",
       "      <td>4.7</td>\n",
       "      <td>3.2</td>\n",
       "      <td>1.3</td>\n",
       "      <td>0.2</td>\n",
       "      <td>setosa</td>\n",
       "    </tr>\n",
       "    <tr>\n",
       "      <th>3</th>\n",
       "      <td>4.6</td>\n",
       "      <td>3.1</td>\n",
       "      <td>1.5</td>\n",
       "      <td>0.2</td>\n",
       "      <td>setosa</td>\n",
       "    </tr>\n",
       "    <tr>\n",
       "      <th>4</th>\n",
       "      <td>5.0</td>\n",
       "      <td>3.6</td>\n",
       "      <td>1.4</td>\n",
       "      <td>0.2</td>\n",
       "      <td>setosa</td>\n",
       "    </tr>\n",
       "  </tbody>\n",
       "</table>\n",
       "</div>"
      ],
      "text/plain": [
       "   sepal_length  sepal_width  petal_length  petal_width species\n",
       "0           5.1          3.5           1.4          0.2  setosa\n",
       "1           4.9          3.0           1.4          0.2  setosa\n",
       "2           4.7          3.2           1.3          0.2  setosa\n",
       "3           4.6          3.1           1.5          0.2  setosa\n",
       "4           5.0          3.6           1.4          0.2  setosa"
      ]
     },
     "execution_count": 53,
     "metadata": {},
     "output_type": "execute_result"
    }
   ],
   "source": [
    "iris.head()"
   ]
  },
  {
   "cell_type": "code",
   "execution_count": 54,
   "metadata": {},
   "outputs": [],
   "source": [
    "from scipy import stats"
   ]
  },
  {
   "cell_type": "code",
   "execution_count": 55,
   "metadata": {},
   "outputs": [],
   "source": [
    "r = stats.linregress(iris.petal_length, iris.petal_width)"
   ]
  },
  {
   "cell_type": "code",
   "execution_count": 56,
   "metadata": {},
   "outputs": [
    {
     "data": {
      "text/plain": [
       "LinregressResult(slope=0.41575541635241114, intercept=-0.36307552131902776, rvalue=0.9628654314027963, pvalue=4.6750039073255014e-86, stderr=0.009582435790766206)"
      ]
     },
     "execution_count": 56,
     "metadata": {},
     "output_type": "execute_result"
    }
   ],
   "source": [
    "r"
   ]
  },
  {
   "cell_type": "code",
   "execution_count": 57,
   "metadata": {},
   "outputs": [],
   "source": [
    "r2 = stats.linregress(iris.sepal_length, iris.sepal_width)"
   ]
  },
  {
   "cell_type": "code",
   "execution_count": 58,
   "metadata": {},
   "outputs": [
    {
     "data": {
      "text/plain": [
       "LinregressResult(slope=-0.061884797964144145, intercept=3.418946836103816, rvalue=-0.11756978413300208, pvalue=0.15189826071144782, stderr=0.04296698792989742)"
      ]
     },
     "execution_count": 58,
     "metadata": {},
     "output_type": "execute_result"
    }
   ],
   "source": [
    "r2"
   ]
  },
  {
   "cell_type": "markdown",
   "metadata": {},
   "source": [
    "# R - 데이터프레임"
   ]
  },
  {
   "cell_type": "code",
   "execution_count": 59,
   "metadata": {},
   "outputs": [],
   "source": [
    "import pandas as pd"
   ]
  },
  {
   "cell_type": "code",
   "execution_count": 62,
   "metadata": {},
   "outputs": [],
   "source": [
    "data = {\"names\":[\"a\", \"b\", \"c\", \"d\"],\n",
    "       \"num1\":[100,200,300,400],\n",
    "       \"num2\":[4,6,8,9]}"
   ]
  },
  {
   "cell_type": "code",
   "execution_count": 63,
   "metadata": {},
   "outputs": [],
   "source": [
    "df = pd.DataFrame(data)"
   ]
  },
  {
   "cell_type": "code",
   "execution_count": null,
   "metadata": {},
   "outputs": [],
   "source": [
    " "
   ]
  }
 ],
 "metadata": {
  "kernelspec": {
   "display_name": "Python 3",
   "language": "python",
   "name": "python3"
  },
  "language_info": {
   "codemirror_mode": {
    "name": "ipython",
    "version": 3
   },
   "file_extension": ".py",
   "mimetype": "text/x-python",
   "name": "python",
   "nbconvert_exporter": "python",
   "pygments_lexer": "ipython3",
   "version": "3.7.6"
  }
 },
 "nbformat": 4,
 "nbformat_minor": 4
}
