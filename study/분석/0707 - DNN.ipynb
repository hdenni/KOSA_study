{
 "cells": [
  {
   "cell_type": "code",
   "execution_count": 1,
   "metadata": {},
   "outputs": [
    {
     "data": {
      "text/html": [
       "<style>.container { width:100% !important;} *{font-family:'Consolas'; font-size:14;} </style>"
      ],
      "text/plain": [
       "<IPython.core.display.HTML object>"
      ]
     },
     "metadata": {},
     "output_type": "display_data"
    }
   ],
   "source": [
    "from IPython.core.display import display, HTML\n",
    "display(HTML(\"<style>.container { width:100% !important;} *{font-family:'Consolas'; font-size:14;} </style>\"))"
   ]
  },
  {
   "cell_type": "code",
   "execution_count": 2,
   "metadata": {},
   "outputs": [],
   "source": [
    "import warnings\n",
    "warnings.filterwarnings(action='ignore')"
   ]
  },
  {
   "cell_type": "markdown",
   "metadata": {},
   "source": [
    "# 머신러닝 라이브러리를 이용한 분류"
   ]
  },
  {
   "cell_type": "code",
   "execution_count": 44,
   "metadata": {},
   "outputs": [],
   "source": [
    "import numpy as np\n",
    "import pandas as pd\n",
    "from sklearn import datasets"
   ]
  },
  {
   "cell_type": "code",
   "execution_count": 8,
   "metadata": {},
   "outputs": [],
   "source": [
    "iris = datasets.load_iris()\n",
    "iris_X = iris.data\n",
    "iris_y = pd.get_dummies(iris.target).to_numpy()"
   ]
  },
  {
   "cell_type": "code",
   "execution_count": 12,
   "metadata": {},
   "outputs": [],
   "source": [
    "from sklearn.model_selection import train_test_split\n",
    "train_X, test_X, train_y, test_y = train_test_split(iris_X, iris_y, test_size=0.3,\n",
    "                                                    random_state=1)"
   ]
  },
  {
   "cell_type": "code",
   "execution_count": 14,
   "metadata": {},
   "outputs": [],
   "source": [
    "from sklearn.neural_network import MLPClassifier\n",
    "mlp = MLPClassifier(hidden_layer_sizes = (50,50,30))"
   ]
  },
  {
   "cell_type": "code",
   "execution_count": 15,
   "metadata": {
    "collapsed": true
   },
   "outputs": [
    {
     "name": "stderr",
     "output_type": "stream",
     "text": [
      "C:\\Users\\COM\\AppData\\Roaming\\Python\\Python37\\site-packages\\sklearn\\neural_network\\_multilayer_perceptron.py:571: ConvergenceWarning: Stochastic Optimizer: Maximum iterations (200) reached and the optimization hasn't converged yet.\n",
      "  % self.max_iter, ConvergenceWarning)\n"
     ]
    },
    {
     "data": {
      "text/plain": [
       "MLPClassifier(activation='relu', alpha=0.0001, batch_size='auto', beta_1=0.9,\n",
       "              beta_2=0.999, early_stopping=False, epsilon=1e-08,\n",
       "              hidden_layer_sizes=(50, 50, 30), learning_rate='constant',\n",
       "              learning_rate_init=0.001, max_fun=15000, max_iter=200,\n",
       "              momentum=0.9, n_iter_no_change=10, nesterovs_momentum=True,\n",
       "              power_t=0.5, random_state=None, shuffle=True, solver='adam',\n",
       "              tol=0.0001, validation_fraction=0.1, verbose=False,\n",
       "              warm_start=False)"
      ]
     },
     "execution_count": 15,
     "metadata": {},
     "output_type": "execute_result"
    }
   ],
   "source": [
    "mlp.fit(train_X, train_y)"
   ]
  },
  {
   "cell_type": "code",
   "execution_count": 16,
   "metadata": {
    "collapsed": true
   },
   "outputs": [
    {
     "data": {
      "text/plain": [
       "0.9777777777777777"
      ]
     },
     "execution_count": 16,
     "metadata": {},
     "output_type": "execute_result"
    }
   ],
   "source": [
    "mlp.score(test_X, test_y)"
   ]
  },
  {
   "cell_type": "markdown",
   "metadata": {},
   "source": [
    "# 텐서플로우를 이용한 분류"
   ]
  },
  {
   "cell_type": "code",
   "execution_count": 26,
   "metadata": {},
   "outputs": [],
   "source": [
    "import tensorflow as tf"
   ]
  },
  {
   "cell_type": "code",
   "execution_count": 27,
   "metadata": {},
   "outputs": [],
   "source": [
    "# 텐서플로우 2.x 이상일 경우\n",
    "import tensorflow.compat.v1 as tf\n",
    "tf.disable_v2_behavior()"
   ]
  },
  {
   "cell_type": "code",
   "execution_count": 28,
   "metadata": {},
   "outputs": [],
   "source": [
    "# 입력한 값을 저장할 Tensor\n",
    "# [행의 수, 열의 수] : None인 경우 아직 알 수 없음(지정하지 않음)\n",
    "x = tf.placeholder(tf.float32, [None, 4])\n",
    "y = tf.placeholder(tf.float32, [None, 3])"
   ]
  },
  {
   "cell_type": "code",
   "execution_count": 29,
   "metadata": {},
   "outputs": [],
   "source": [
    "# define Weight & Bias\n",
    "W = tf.Variable(tf.zeros([4, 3]))\n",
    "b = tf.Variable(tf.zeros([3]))"
   ]
  },
  {
   "cell_type": "code",
   "execution_count": 30,
   "metadata": {},
   "outputs": [],
   "source": [
    "h = tf.nn.softmax(tf.matmul(x, W)+b)"
   ]
  },
  {
   "cell_type": "code",
   "execution_count": 31,
   "metadata": {},
   "outputs": [],
   "source": [
    "# cross_entropy도 Tensor\n",
    "cross_entropy = -tf.reduce_sum(y * tf.log(h),\n",
    "                               reduction_indices=[1])"
   ]
  },
  {
   "cell_type": "code",
   "execution_count": 32,
   "metadata": {},
   "outputs": [],
   "source": [
    "loss = tf.reduce_mean(cross_entropy)"
   ]
  },
  {
   "cell_type": "code",
   "execution_count": 33,
   "metadata": {},
   "outputs": [],
   "source": [
    "train = tf.train.GradientDescentOptimizer(0.001).minimize(loss)"
   ]
  },
  {
   "cell_type": "code",
   "execution_count": 34,
   "metadata": {},
   "outputs": [],
   "source": [
    "init = tf.global_variables_initializer()\n",
    "sess = tf.Session()\n",
    "sess.run(init)"
   ]
  },
  {
   "cell_type": "code",
   "execution_count": 35,
   "metadata": {
    "collapsed": true
   },
   "outputs": [
    {
     "name": "stdout",
     "output_type": "stream",
     "text": [
      "Step 0, 1.09861\n",
      "Step 10000, 0.34161\n",
      "Step 20000, 0.25734\n",
      "Step 30000, 0.21406\n",
      "Step 40000, 0.18753\n",
      "Step 50000, 0.16957\n",
      "Step 60000, 0.15658\n",
      "Step 70000, 0.14673\n",
      "Step 80000, 0.13899\n",
      "Step 90000, 0.13274\n",
      "Step 100000, 0.12758\n"
     ]
    }
   ],
   "source": [
    "for i in range(100001):\n",
    "    _, loss_value = sess.run([train, loss], feed_dict={x: train_X, y: train_y})\n",
    "    if i % 10000 == 0:\n",
    "        print(\"Step %d, %.5f\" % (i, loss_value))"
   ]
  },
  {
   "cell_type": "code",
   "execution_count": 38,
   "metadata": {
    "collapsed": true
   },
   "outputs": [
    {
     "name": "stdout",
     "output_type": "stream",
     "text": [
      "0.9777778\n"
     ]
    }
   ],
   "source": [
    "correct_prediction = tf.equal(tf.argmax(h, 1), tf.argmax(y, 1))\n",
    "accuracy = tf.reduce_mean(tf.cast(correct_prediction, tf.float32))\n",
    "print(sess.run(accuracy, feed_dict={x:test_X, y:test_y}))"
   ]
  },
  {
   "cell_type": "code",
   "execution_count": 39,
   "metadata": {
    "collapsed": true
   },
   "outputs": [
    {
     "name": "stdout",
     "output_type": "stream",
     "text": [
      "[[9.98785913e-01 1.21412973e-03 1.14380692e-10]\n",
      " [1.21662505e-01 8.65827620e-01 1.25099365e-02]\n",
      " [1.11910831e-02 9.52915967e-01 3.58929113e-02]\n",
      " [9.97843385e-01 2.15664413e-03 1.68622261e-09]\n",
      " [1.24174898e-04 3.19967151e-01 6.79908633e-01]\n",
      " [7.99214933e-03 7.64345944e-01 2.27661923e-01]\n",
      " [4.96162567e-04 2.62597650e-01 7.36906230e-01]\n",
      " [9.86688554e-01 1.33113479e-02 1.60573222e-07]\n",
      " [9.74976122e-01 2.50234734e-02 3.16451974e-07]\n",
      " [2.89404798e-05 5.79523407e-02 9.42018747e-01]]\n"
     ]
    }
   ],
   "source": [
    "print(sess.run(h, feed_dict={x:test_X, y:test_y})[0:10])"
   ]
  },
  {
   "cell_type": "code",
   "execution_count": 40,
   "metadata": {},
   "outputs": [],
   "source": [
    "predict_y = sess.run(tf.argmax(h, 1), feed_dict={x:test_X})"
   ]
  },
  {
   "cell_type": "code",
   "execution_count": 41,
   "metadata": {
    "collapsed": true
   },
   "outputs": [
    {
     "name": "stdout",
     "output_type": "stream",
     "text": [
      "[0 1 1 0 2 1 2 0 0 2 1 0 2 1 1 0 1 1 0 0]\n"
     ]
    }
   ],
   "source": [
    "print(predict_y[0:20])"
   ]
  },
  {
   "cell_type": "code",
   "execution_count": 42,
   "metadata": {
    "collapsed": true
   },
   "outputs": [
    {
     "name": "stdout",
     "output_type": "stream",
     "text": [
      "[0 1 1 0 2 1 2 0 0 2 1 0 2 1 1 0 1 1 0 0]\n"
     ]
    }
   ],
   "source": [
    "print(test_y.argmax(axis=1)[0:20])"
   ]
  },
  {
   "cell_type": "code",
   "execution_count": 44,
   "metadata": {},
   "outputs": [
    {
     "data": {
      "text/html": [
       "<div>\n",
       "<style scoped>\n",
       "    .dataframe tbody tr th:only-of-type {\n",
       "        vertical-align: middle;\n",
       "    }\n",
       "\n",
       "    .dataframe tbody tr th {\n",
       "        vertical-align: top;\n",
       "    }\n",
       "\n",
       "    .dataframe thead th {\n",
       "        text-align: right;\n",
       "    }\n",
       "</style>\n",
       "<table border=\"1\" class=\"dataframe\">\n",
       "  <thead>\n",
       "    <tr style=\"text-align: right;\">\n",
       "      <th>col_0</th>\n",
       "      <th>0</th>\n",
       "      <th>1</th>\n",
       "      <th>2</th>\n",
       "      <th>All</th>\n",
       "    </tr>\n",
       "    <tr>\n",
       "      <th>row_0</th>\n",
       "      <th></th>\n",
       "      <th></th>\n",
       "      <th></th>\n",
       "      <th></th>\n",
       "    </tr>\n",
       "  </thead>\n",
       "  <tbody>\n",
       "    <tr>\n",
       "      <th>0</th>\n",
       "      <td>14</td>\n",
       "      <td>0</td>\n",
       "      <td>0</td>\n",
       "      <td>14</td>\n",
       "    </tr>\n",
       "    <tr>\n",
       "      <th>1</th>\n",
       "      <td>0</td>\n",
       "      <td>17</td>\n",
       "      <td>1</td>\n",
       "      <td>18</td>\n",
       "    </tr>\n",
       "    <tr>\n",
       "      <th>2</th>\n",
       "      <td>0</td>\n",
       "      <td>0</td>\n",
       "      <td>13</td>\n",
       "      <td>13</td>\n",
       "    </tr>\n",
       "    <tr>\n",
       "      <th>All</th>\n",
       "      <td>14</td>\n",
       "      <td>17</td>\n",
       "      <td>14</td>\n",
       "      <td>45</td>\n",
       "    </tr>\n",
       "  </tbody>\n",
       "</table>\n",
       "</div>"
      ],
      "text/plain": [
       "col_0   0   1   2  All\n",
       "row_0                 \n",
       "0      14   0   0   14\n",
       "1       0  17   1   18\n",
       "2       0   0  13   13\n",
       "All    14  17  14   45"
      ]
     },
     "execution_count": 44,
     "metadata": {},
     "output_type": "execute_result"
    }
   ],
   "source": [
    "cross_tab = pd.crosstab(test_y.argmax(axis=1), predict_y, margins=True)\n",
    "cross_tab"
   ]
  },
  {
   "cell_type": "markdown",
   "metadata": {},
   "source": [
    "# 케라스를 이용한 분류"
   ]
  },
  {
   "cell_type": "code",
   "execution_count": 46,
   "metadata": {},
   "outputs": [],
   "source": [
    "iris = datasets.load_iris()\n",
    "iris_X = iris.data\n",
    "iris_y = pd.get_dummies(iris.target).to_numpy()"
   ]
  },
  {
   "cell_type": "code",
   "execution_count": 47,
   "metadata": {},
   "outputs": [],
   "source": [
    "from sklearn.model_selection import train_test_split\n",
    "train_X, test_X, train_y, test_y = train_test_split(iris_X, iris_y, test_size=0.3,\n",
    "                                                    random_state=1)"
   ]
  },
  {
   "cell_type": "code",
   "execution_count": 48,
   "metadata": {},
   "outputs": [
    {
     "data": {
      "text/plain": [
       "((105, 4), (105, 3))"
      ]
     },
     "execution_count": 48,
     "metadata": {},
     "output_type": "execute_result"
    }
   ],
   "source": [
    "train_X.shape, train_y.shape"
   ]
  },
  {
   "cell_type": "code",
   "execution_count": 50,
   "metadata": {},
   "outputs": [],
   "source": [
    "from tensorflow.keras.models import Sequential\n",
    "model = Sequential()"
   ]
  },
  {
   "cell_type": "code",
   "execution_count": 51,
   "metadata": {
    "collapsed": true
   },
   "outputs": [
    {
     "name": "stdout",
     "output_type": "stream",
     "text": [
      "WARNING:tensorflow:From C:\\Users\\COM\\anaconda3\\lib\\site-packages\\tensorflow_core\\python\\ops\\resource_variable_ops.py:1630: calling BaseResourceVariable.__init__ (from tensorflow.python.ops.resource_variable_ops) with constraint is deprecated and will be removed in a future version.\n",
      "Instructions for updating:\n",
      "If using Keras pass *_constraint arguments to layers.\n"
     ]
    }
   ],
   "source": [
    "from tensorflow.keras.layers import Input, Dense\n",
    "model.add(Input(4))\n",
    "model.add(Dense(50, activation='relu'))\n",
    "model.add(Dense(50, activation='relu'))\n",
    "model.add(Dense(30, activation='relu'))\n",
    "model.add(Dense(3, activation='softmax'))"
   ]
  },
  {
   "cell_type": "code",
   "execution_count": 53,
   "metadata": {},
   "outputs": [],
   "source": [
    "model.compile(optimizer=\"adam\", loss=\"categorical_crossentropy\", \n",
    "              metrics=[\"accuracy\"])"
   ]
  },
  {
   "cell_type": "code",
   "execution_count": 54,
   "metadata": {
    "collapsed": true
   },
   "outputs": [
    {
     "name": "stdout",
     "output_type": "stream",
     "text": [
      "Train on 105 samples\n",
      "Epoch 1/200\n",
      "105/105 [==============================] - 0s 495us/sample - loss: 1.1168 - acc: 0.3524\n",
      "Epoch 2/200\n",
      "105/105 [==============================] - 0s 38us/sample - loss: 1.0443 - acc: 0.3524\n",
      "Epoch 3/200\n",
      "105/105 [==============================] - 0s 38us/sample - loss: 0.9955 - acc: 0.3810\n",
      "Epoch 4/200\n",
      "105/105 [==============================] - 0s 38us/sample - loss: 0.9609 - acc: 0.6857\n",
      "Epoch 5/200\n",
      "105/105 [==============================] - 0s 29us/sample - loss: 0.9339 - acc: 0.6952\n",
      "Epoch 6/200\n",
      "105/105 [==============================] - 0s 48us/sample - loss: 0.9038 - acc: 0.6952\n",
      "Epoch 7/200\n",
      "105/105 [==============================] - 0s 67us/sample - loss: 0.8772 - acc: 0.6952\n",
      "Epoch 8/200\n",
      "105/105 [==============================] - 0s 29us/sample - loss: 0.8548 - acc: 0.6952\n",
      "Epoch 9/200\n",
      "105/105 [==============================] - 0s 48us/sample - loss: 0.8296 - acc: 0.6952\n",
      "Epoch 10/200\n",
      "105/105 [==============================] - 0s 48us/sample - loss: 0.8033 - acc: 0.6952\n",
      "Epoch 11/200\n",
      "105/105 [==============================] - 0s 48us/sample - loss: 0.7810 - acc: 0.6952\n",
      "Epoch 12/200\n",
      "105/105 [==============================] - 0s 48us/sample - loss: 0.7569 - acc: 0.6952\n",
      "Epoch 13/200\n",
      "105/105 [==============================] - 0s 38us/sample - loss: 0.7315 - acc: 0.6952\n",
      "Epoch 14/200\n",
      "105/105 [==============================] - 0s 57us/sample - loss: 0.7131 - acc: 0.6952\n",
      "Epoch 15/200\n",
      "105/105 [==============================] - 0s 48us/sample - loss: 0.6909 - acc: 0.6952\n",
      "Epoch 16/200\n",
      "105/105 [==============================] - 0s 57us/sample - loss: 0.6663 - acc: 0.6952\n",
      "Epoch 17/200\n",
      "105/105 [==============================] - 0s 48us/sample - loss: 0.6427 - acc: 0.6952\n",
      "Epoch 18/200\n",
      "105/105 [==============================] - 0s 29us/sample - loss: 0.6183 - acc: 0.6952\n",
      "Epoch 19/200\n",
      "105/105 [==============================] - 0s 48us/sample - loss: 0.5916 - acc: 0.6952\n",
      "Epoch 20/200\n",
      "105/105 [==============================] - 0s 48us/sample - loss: 0.5651 - acc: 0.8000\n",
      "Epoch 21/200\n",
      "105/105 [==============================] - 0s 48us/sample - loss: 0.5396 - acc: 0.8571\n",
      "Epoch 22/200\n",
      "105/105 [==============================] - 0s 57us/sample - loss: 0.5165 - acc: 0.9048\n",
      "Epoch 23/200\n",
      "105/105 [==============================] - 0s 38us/sample - loss: 0.4931 - acc: 0.9619\n",
      "Epoch 24/200\n",
      "105/105 [==============================] - 0s 38us/sample - loss: 0.4746 - acc: 0.9619\n",
      "Epoch 25/200\n",
      "105/105 [==============================] - 0s 38us/sample - loss: 0.4518 - acc: 0.9619\n",
      "Epoch 26/200\n",
      "105/105 [==============================] - 0s 38us/sample - loss: 0.4268 - acc: 0.9619\n",
      "Epoch 27/200\n",
      "105/105 [==============================] - 0s 38us/sample - loss: 0.4081 - acc: 0.8857\n",
      "Epoch 28/200\n",
      "105/105 [==============================] - 0s 48us/sample - loss: 0.3954 - acc: 0.8286\n",
      "Epoch 29/200\n",
      "105/105 [==============================] - 0s 29us/sample - loss: 0.3806 - acc: 0.8095\n",
      "Epoch 30/200\n",
      "105/105 [==============================] - 0s 38us/sample - loss: 0.3564 - acc: 0.8857\n",
      "Epoch 31/200\n",
      "105/105 [==============================] - 0s 38us/sample - loss: 0.3384 - acc: 0.9619\n",
      "Epoch 32/200\n",
      "105/105 [==============================] - 0s 38us/sample - loss: 0.3240 - acc: 0.9619\n",
      "Epoch 33/200\n",
      "105/105 [==============================] - 0s 48us/sample - loss: 0.3117 - acc: 0.9333\n",
      "Epoch 34/200\n",
      "105/105 [==============================] - 0s 38us/sample - loss: 0.2985 - acc: 0.9429\n",
      "Epoch 35/200\n",
      "105/105 [==============================] - 0s 38us/sample - loss: 0.2878 - acc: 0.9619\n",
      "Epoch 36/200\n",
      "105/105 [==============================] - 0s 48us/sample - loss: 0.2767 - acc: 0.9619\n",
      "Epoch 37/200\n",
      "105/105 [==============================] - 0s 38us/sample - loss: 0.2676 - acc: 0.9524\n",
      "Epoch 38/200\n",
      "105/105 [==============================] - 0s 29us/sample - loss: 0.2826 - acc: 0.8952\n",
      "Epoch 39/200\n",
      "105/105 [==============================] - 0s 48us/sample - loss: 0.2540 - acc: 0.9429\n",
      "Epoch 40/200\n",
      "105/105 [==============================] - 0s 38us/sample - loss: 0.2498 - acc: 0.9714\n",
      "Epoch 41/200\n",
      "105/105 [==============================] - 0s 29us/sample - loss: 0.2355 - acc: 0.9619\n",
      "Epoch 42/200\n",
      "105/105 [==============================] - 0s 57us/sample - loss: 0.2319 - acc: 0.9619\n",
      "Epoch 43/200\n",
      "105/105 [==============================] - 0s 38us/sample - loss: 0.2307 - acc: 0.9524\n",
      "Epoch 44/200\n",
      "105/105 [==============================] - 0s 38us/sample - loss: 0.2146 - acc: 0.9619\n",
      "Epoch 45/200\n",
      "105/105 [==============================] - 0s 38us/sample - loss: 0.2336 - acc: 0.9333\n",
      "Epoch 46/200\n",
      "105/105 [==============================] - 0s 29us/sample - loss: 0.2368 - acc: 0.9429\n",
      "Epoch 47/200\n",
      "105/105 [==============================] - 0s 48us/sample - loss: 0.2010 - acc: 0.9619\n",
      "Epoch 48/200\n",
      "105/105 [==============================] - 0s 38us/sample - loss: 0.2048 - acc: 0.9524\n",
      "Epoch 49/200\n",
      "105/105 [==============================] - 0s 38us/sample - loss: 0.2130 - acc: 0.9429\n",
      "Epoch 50/200\n",
      "105/105 [==============================] - 0s 57us/sample - loss: 0.1872 - acc: 0.9619\n",
      "Epoch 51/200\n",
      "105/105 [==============================] - 0s 29us/sample - loss: 0.1881 - acc: 0.9524\n",
      "Epoch 52/200\n",
      "105/105 [==============================] - 0s 29us/sample - loss: 0.2018 - acc: 0.9333\n",
      "Epoch 53/200\n",
      "105/105 [==============================] - 0s 48us/sample - loss: 0.1885 - acc: 0.9429\n",
      "Epoch 54/200\n",
      "105/105 [==============================] - 0s 38us/sample - loss: 0.1707 - acc: 0.9619\n",
      "Epoch 55/200\n",
      "105/105 [==============================] - 0s 48us/sample - loss: 0.1655 - acc: 0.9619\n",
      "Epoch 56/200\n",
      "105/105 [==============================] - 0s 38us/sample - loss: 0.1626 - acc: 0.9619\n",
      "Epoch 57/200\n",
      "105/105 [==============================] - 0s 29us/sample - loss: 0.1584 - acc: 0.9619\n",
      "Epoch 58/200\n",
      "105/105 [==============================] - 0s 76us/sample - loss: 0.1550 - acc: 0.9619\n",
      "Epoch 59/200\n",
      "105/105 [==============================] - 0s 38us/sample - loss: 0.1615 - acc: 0.9619\n",
      "Epoch 60/200\n",
      "105/105 [==============================] - 0s 38us/sample - loss: 0.1593 - acc: 0.9619\n",
      "Epoch 61/200\n",
      "105/105 [==============================] - 0s 67us/sample - loss: 0.1451 - acc: 0.9714\n",
      "Epoch 62/200\n",
      "105/105 [==============================] - 0s 38us/sample - loss: 0.1748 - acc: 0.9333\n",
      "Epoch 63/200\n",
      "105/105 [==============================] - 0s 38us/sample - loss: 0.1700 - acc: 0.9333\n",
      "Epoch 64/200\n",
      "105/105 [==============================] - 0s 48us/sample - loss: 0.1455 - acc: 0.9619\n",
      "Epoch 65/200\n",
      "105/105 [==============================] - 0s 38us/sample - loss: 0.1453 - acc: 0.9619\n",
      "Epoch 66/200\n",
      "105/105 [==============================] - 0s 57us/sample - loss: 0.1389 - acc: 0.9714\n",
      "Epoch 67/200\n",
      "105/105 [==============================] - 0s 38us/sample - loss: 0.1368 - acc: 0.9714\n",
      "Epoch 68/200\n",
      "105/105 [==============================] - 0s 29us/sample - loss: 0.1291 - acc: 0.9714\n",
      "Epoch 69/200\n",
      "105/105 [==============================] - 0s 57us/sample - loss: 0.1300 - acc: 0.9619\n",
      "Epoch 70/200\n",
      "105/105 [==============================] - 0s 38us/sample - loss: 0.1369 - acc: 0.9619\n",
      "Epoch 71/200\n",
      "105/105 [==============================] - 0s 38us/sample - loss: 0.1272 - acc: 0.9619\n",
      "Epoch 72/200\n",
      "105/105 [==============================] - 0s 38us/sample - loss: 0.1444 - acc: 0.9429\n",
      "Epoch 73/200\n",
      "105/105 [==============================] - 0s 48us/sample - loss: 0.1301 - acc: 0.9714\n",
      "Epoch 74/200\n",
      "105/105 [==============================] - 0s 38us/sample - loss: 0.1657 - acc: 0.9429\n",
      "Epoch 75/200\n",
      "105/105 [==============================] - 0s 38us/sample - loss: 0.1462 - acc: 0.9619\n",
      "Epoch 76/200\n",
      "105/105 [==============================] - 0s 38us/sample - loss: 0.1142 - acc: 0.9714\n",
      "Epoch 77/200\n",
      "105/105 [==============================] - 0s 48us/sample - loss: 0.1339 - acc: 0.9429\n",
      "Epoch 78/200\n",
      "105/105 [==============================] - 0s 48us/sample - loss: 0.1297 - acc: 0.9619\n",
      "Epoch 79/200\n",
      "105/105 [==============================] - 0s 29us/sample - loss: 0.1224 - acc: 0.9619\n",
      "Epoch 80/200\n",
      "105/105 [==============================] - 0s 48us/sample - loss: 0.1350 - acc: 0.9619\n",
      "Epoch 81/200\n",
      "105/105 [==============================] - 0s 38us/sample - loss: 0.1152 - acc: 0.9619\n",
      "Epoch 82/200\n",
      "105/105 [==============================] - 0s 38us/sample - loss: 0.1122 - acc: 0.9810\n",
      "Epoch 83/200\n",
      "105/105 [==============================] - 0s 48us/sample - loss: 0.1157 - acc: 0.9619\n",
      "Epoch 84/200\n",
      "105/105 [==============================] - 0s 29us/sample - loss: 0.1090 - acc: 0.9619\n",
      "Epoch 85/200\n",
      "105/105 [==============================] - 0s 38us/sample - loss: 0.1070 - acc: 0.9714\n",
      "Epoch 86/200\n",
      "105/105 [==============================] - 0s 38us/sample - loss: 0.1121 - acc: 0.9619\n",
      "Epoch 87/200\n",
      "105/105 [==============================] - 0s 29us/sample - loss: 0.1132 - acc: 0.9619\n",
      "Epoch 88/200\n",
      "105/105 [==============================] - 0s 38us/sample - loss: 0.1043 - acc: 0.9619\n",
      "Epoch 89/200\n",
      "105/105 [==============================] - 0s 48us/sample - loss: 0.1066 - acc: 0.9714\n",
      "Epoch 90/200\n",
      "105/105 [==============================] - 0s 29us/sample - loss: 0.1085 - acc: 0.9714\n",
      "Epoch 91/200\n",
      "105/105 [==============================] - 0s 38us/sample - loss: 0.1039 - acc: 0.9619\n",
      "Epoch 92/200\n",
      "105/105 [==============================] - 0s 48us/sample - loss: 0.1005 - acc: 0.9619\n",
      "Epoch 93/200\n",
      "105/105 [==============================] - 0s 29us/sample - loss: 0.0990 - acc: 0.9619\n",
      "Epoch 94/200\n",
      "105/105 [==============================] - 0s 29us/sample - loss: 0.1046 - acc: 0.9619\n",
      "Epoch 95/200\n",
      "105/105 [==============================] - 0s 29us/sample - loss: 0.1084 - acc: 0.9619\n",
      "Epoch 96/200\n",
      "105/105 [==============================] - 0s 29us/sample - loss: 0.0987 - acc: 0.9619\n",
      "Epoch 97/200\n",
      "105/105 [==============================] - 0s 29us/sample - loss: 0.1000 - acc: 0.9619\n",
      "Epoch 98/200\n",
      "105/105 [==============================] - 0s 38us/sample - loss: 0.0994 - acc: 0.9619\n",
      "Epoch 99/200\n",
      "105/105 [==============================] - 0s 38us/sample - loss: 0.0965 - acc: 0.9619\n",
      "Epoch 100/200\n",
      "105/105 [==============================] - 0s 29us/sample - loss: 0.1026 - acc: 0.9619\n",
      "Epoch 101/200\n",
      "105/105 [==============================] - 0s 48us/sample - loss: 0.0991 - acc: 0.9619\n",
      "Epoch 102/200\n",
      "105/105 [==============================] - 0s 29us/sample - loss: 0.0960 - acc: 0.9714\n",
      "Epoch 103/200\n",
      "105/105 [==============================] - 0s 29us/sample - loss: 0.0958 - acc: 0.9619\n",
      "Epoch 104/200\n",
      "105/105 [==============================] - 0s 38us/sample - loss: 0.0950 - acc: 0.9619\n",
      "Epoch 105/200\n",
      "105/105 [==============================] - 0s 38us/sample - loss: 0.1235 - acc: 0.9524\n",
      "Epoch 106/200\n",
      "105/105 [==============================] - 0s 29us/sample - loss: 0.1870 - acc: 0.9333\n",
      "Epoch 107/200\n",
      "105/105 [==============================] - 0s 38us/sample - loss: 0.1157 - acc: 0.9524\n",
      "Epoch 108/200\n",
      "105/105 [==============================] - 0s 38us/sample - loss: 0.0971 - acc: 0.9619\n",
      "Epoch 109/200\n",
      "105/105 [==============================] - 0s 38us/sample - loss: 0.1204 - acc: 0.9619\n",
      "Epoch 110/200\n",
      "105/105 [==============================] - 0s 38us/sample - loss: 0.0965 - acc: 0.9714\n",
      "Epoch 111/200\n",
      "105/105 [==============================] - 0s 38us/sample - loss: 0.1098 - acc: 0.9619\n",
      "Epoch 112/200\n",
      "105/105 [==============================] - 0s 29us/sample - loss: 0.1122 - acc: 0.9524\n",
      "Epoch 113/200\n",
      "105/105 [==============================] - 0s 29us/sample - loss: 0.0925 - acc: 0.9810\n",
      "Epoch 114/200\n",
      "105/105 [==============================] - 0s 29us/sample - loss: 0.0981 - acc: 0.9619\n",
      "Epoch 115/200\n",
      "105/105 [==============================] - 0s 38us/sample - loss: 0.1088 - acc: 0.9619\n",
      "Epoch 116/200\n",
      "105/105 [==============================] - 0s 29us/sample - loss: 0.1005 - acc: 0.9619\n",
      "Epoch 117/200\n",
      "105/105 [==============================] - 0s 48us/sample - loss: 0.0919 - acc: 0.9619\n",
      "Epoch 118/200\n",
      "105/105 [==============================] - 0s 38us/sample - loss: 0.0907 - acc: 0.9619\n",
      "Epoch 119/200\n",
      "105/105 [==============================] - 0s 29us/sample - loss: 0.0910 - acc: 0.9619\n",
      "Epoch 120/200\n",
      "105/105 [==============================] - 0s 38us/sample - loss: 0.0901 - acc: 0.9619\n",
      "Epoch 121/200\n",
      "105/105 [==============================] - 0s 29us/sample - loss: 0.0890 - acc: 0.9619\n",
      "Epoch 122/200\n",
      "105/105 [==============================] - 0s 38us/sample - loss: 0.0883 - acc: 0.9714\n",
      "Epoch 123/200\n",
      "105/105 [==============================] - 0s 29us/sample - loss: 0.0879 - acc: 0.9714\n",
      "Epoch 124/200\n",
      "105/105 [==============================] - 0s 38us/sample - loss: 0.0910 - acc: 0.9714\n",
      "Epoch 125/200\n",
      "105/105 [==============================] - 0s 48us/sample - loss: 0.0946 - acc: 0.9714\n",
      "Epoch 126/200\n",
      "105/105 [==============================] - 0s 48us/sample - loss: 0.0898 - acc: 0.9619\n",
      "Epoch 127/200\n",
      "105/105 [==============================] - 0s 29us/sample - loss: 0.0911 - acc: 0.9619\n",
      "Epoch 128/200\n",
      "105/105 [==============================] - 0s 38us/sample - loss: 0.0922 - acc: 0.9619\n",
      "Epoch 129/200\n",
      "105/105 [==============================] - 0s 48us/sample - loss: 0.0893 - acc: 0.9619\n",
      "Epoch 130/200\n",
      "105/105 [==============================] - 0s 29us/sample - loss: 0.0868 - acc: 0.9714\n",
      "Epoch 131/200\n",
      "105/105 [==============================] - 0s 29us/sample - loss: 0.0873 - acc: 0.9714\n",
      "Epoch 132/200\n",
      "105/105 [==============================] - 0s 38us/sample - loss: 0.0880 - acc: 0.9619\n",
      "Epoch 133/200\n",
      "105/105 [==============================] - 0s 38us/sample - loss: 0.0952 - acc: 0.9619\n",
      "Epoch 134/200\n",
      "105/105 [==============================] - 0s 38us/sample - loss: 0.0958 - acc: 0.9524\n",
      "Epoch 135/200\n",
      "105/105 [==============================] - 0s 48us/sample - loss: 0.0998 - acc: 0.9619\n",
      "Epoch 136/200\n",
      "105/105 [==============================] - 0s 38us/sample - loss: 0.0986 - acc: 0.9714\n",
      "Epoch 137/200\n",
      "105/105 [==============================] - 0s 38us/sample - loss: 0.0833 - acc: 0.9619\n",
      "Epoch 138/200\n",
      "105/105 [==============================] - 0s 48us/sample - loss: 0.0860 - acc: 0.9619\n",
      "Epoch 139/200\n",
      "105/105 [==============================] - 0s 29us/sample - loss: 0.0981 - acc: 0.9619\n",
      "Epoch 140/200\n",
      "105/105 [==============================] - 0s 38us/sample - loss: 0.0978 - acc: 0.9619\n",
      "Epoch 141/200\n",
      "105/105 [==============================] - 0s 29us/sample - loss: 0.0869 - acc: 0.9619\n",
      "Epoch 142/200\n",
      "105/105 [==============================] - 0s 38us/sample - loss: 0.0884 - acc: 0.9714\n",
      "Epoch 143/200\n",
      "105/105 [==============================] - 0s 38us/sample - loss: 0.1070 - acc: 0.9429\n",
      "Epoch 144/200\n",
      "105/105 [==============================] - 0s 29us/sample - loss: 0.0989 - acc: 0.9714\n",
      "Epoch 145/200\n",
      "105/105 [==============================] - 0s 48us/sample - loss: 0.0840 - acc: 0.9619\n",
      "Epoch 146/200\n",
      "105/105 [==============================] - 0s 29us/sample - loss: 0.0862 - acc: 0.9619\n",
      "Epoch 147/200\n",
      "105/105 [==============================] - 0s 29us/sample - loss: 0.0856 - acc: 0.9714\n",
      "Epoch 148/200\n",
      "105/105 [==============================] - 0s 38us/sample - loss: 0.0826 - acc: 0.9619\n",
      "Epoch 149/200\n",
      "105/105 [==============================] - 0s 29us/sample - loss: 0.0840 - acc: 0.9619\n",
      "Epoch 150/200\n",
      "105/105 [==============================] - 0s 38us/sample - loss: 0.0870 - acc: 0.9619\n",
      "Epoch 151/200\n",
      "105/105 [==============================] - 0s 38us/sample - loss: 0.0835 - acc: 0.9714\n",
      "Epoch 152/200\n",
      "105/105 [==============================] - 0s 29us/sample - loss: 0.0866 - acc: 0.9714\n",
      "Epoch 153/200\n",
      "105/105 [==============================] - 0s 38us/sample - loss: 0.0871 - acc: 0.9714\n",
      "Epoch 154/200\n",
      "105/105 [==============================] - 0s 48us/sample - loss: 0.0838 - acc: 0.9619\n",
      "Epoch 155/200\n",
      "105/105 [==============================] - 0s 29us/sample - loss: 0.0830 - acc: 0.9619\n",
      "Epoch 156/200\n",
      "105/105 [==============================] - 0s 38us/sample - loss: 0.0849 - acc: 0.9619\n",
      "Epoch 157/200\n",
      "105/105 [==============================] - 0s 38us/sample - loss: 0.0947 - acc: 0.9619\n",
      "Epoch 158/200\n",
      "105/105 [==============================] - 0s 29us/sample - loss: 0.0957 - acc: 0.9619\n",
      "Epoch 159/200\n",
      "105/105 [==============================] - 0s 29us/sample - loss: 0.0835 - acc: 0.9619\n",
      "Epoch 160/200\n",
      "105/105 [==============================] - 0s 29us/sample - loss: 0.0816 - acc: 0.9619\n",
      "Epoch 161/200\n",
      "105/105 [==============================] - 0s 29us/sample - loss: 0.0854 - acc: 0.9714\n",
      "Epoch 162/200\n",
      "105/105 [==============================] - 0s 38us/sample - loss: 0.0811 - acc: 0.9619\n",
      "Epoch 163/200\n"
     ]
    },
    {
     "name": "stdout",
     "output_type": "stream",
     "text": [
      "105/105 [==============================] - 0s 29us/sample - loss: 0.0795 - acc: 0.9714\n",
      "Epoch 164/200\n",
      "105/105 [==============================] - 0s 38us/sample - loss: 0.0863 - acc: 0.9714\n",
      "Epoch 165/200\n",
      "105/105 [==============================] - 0s 29us/sample - loss: 0.0811 - acc: 0.9714\n",
      "Epoch 166/200\n",
      "105/105 [==============================] - 0s 38us/sample - loss: 0.0844 - acc: 0.9714\n",
      "Epoch 167/200\n",
      "105/105 [==============================] - 0s 38us/sample - loss: 0.0912 - acc: 0.9714\n",
      "Epoch 168/200\n",
      "105/105 [==============================] - 0s 29us/sample - loss: 0.0834 - acc: 0.9619\n",
      "Epoch 169/200\n",
      "105/105 [==============================] - 0s 38us/sample - loss: 0.0808 - acc: 0.9619\n",
      "Epoch 170/200\n",
      "105/105 [==============================] - 0s 57us/sample - loss: 0.1024 - acc: 0.9619\n",
      "Epoch 171/200\n",
      "105/105 [==============================] - 0s 38us/sample - loss: 0.0909 - acc: 0.9714\n",
      "Epoch 172/200\n",
      "105/105 [==============================] - 0s 29us/sample - loss: 0.0838 - acc: 0.9714\n",
      "Epoch 173/200\n",
      "105/105 [==============================] - 0s 38us/sample - loss: 0.0796 - acc: 0.9714\n",
      "Epoch 174/200\n",
      "105/105 [==============================] - 0s 38us/sample - loss: 0.1007 - acc: 0.9619\n",
      "Epoch 175/200\n",
      "105/105 [==============================] - 0s 29us/sample - loss: 0.0914 - acc: 0.9619\n",
      "Epoch 176/200\n",
      "105/105 [==============================] - 0s 38us/sample - loss: 0.0790 - acc: 0.9714\n",
      "Epoch 177/200\n",
      "105/105 [==============================] - 0s 38us/sample - loss: 0.0991 - acc: 0.9524\n",
      "Epoch 178/200\n",
      "105/105 [==============================] - 0s 38us/sample - loss: 0.1095 - acc: 0.9429\n",
      "Epoch 179/200\n",
      "105/105 [==============================] - 0s 57us/sample - loss: 0.0831 - acc: 0.9619\n",
      "Epoch 180/200\n",
      "105/105 [==============================] - 0s 38us/sample - loss: 0.0802 - acc: 0.9714\n",
      "Epoch 181/200\n",
      "105/105 [==============================] - 0s 29us/sample - loss: 0.0931 - acc: 0.9619\n",
      "Epoch 182/200\n",
      "105/105 [==============================] - 0s 48us/sample - loss: 0.0920 - acc: 0.9619\n",
      "Epoch 183/200\n",
      "105/105 [==============================] - 0s 29us/sample - loss: 0.0847 - acc: 0.9619\n",
      "Epoch 184/200\n",
      "105/105 [==============================] - 0s 29us/sample - loss: 0.0814 - acc: 0.9619\n",
      "Epoch 185/200\n",
      "105/105 [==============================] - 0s 19us/sample - loss: 0.0896 - acc: 0.9714\n",
      "Epoch 186/200\n",
      "105/105 [==============================] - 0s 38us/sample - loss: 0.0767 - acc: 0.9810\n",
      "Epoch 187/200\n",
      "105/105 [==============================] - 0s 29us/sample - loss: 0.0886 - acc: 0.9619\n",
      "Epoch 188/200\n",
      "105/105 [==============================] - 0s 29us/sample - loss: 0.0925 - acc: 0.9619\n",
      "Epoch 189/200\n",
      "105/105 [==============================] - 0s 48us/sample - loss: 0.0847 - acc: 0.9619\n",
      "Epoch 190/200\n",
      "105/105 [==============================] - 0s 38us/sample - loss: 0.0779 - acc: 0.9714\n",
      "Epoch 191/200\n",
      "105/105 [==============================] - 0s 38us/sample - loss: 0.0809 - acc: 0.9619\n",
      "Epoch 192/200\n",
      "105/105 [==============================] - 0s 38us/sample - loss: 0.0834 - acc: 0.9714\n",
      "Epoch 193/200\n",
      "105/105 [==============================] - 0s 29us/sample - loss: 0.0793 - acc: 0.9714\n",
      "Epoch 194/200\n",
      "105/105 [==============================] - 0s 38us/sample - loss: 0.0763 - acc: 0.9619\n",
      "Epoch 195/200\n",
      "105/105 [==============================] - 0s 29us/sample - loss: 0.0791 - acc: 0.9714\n",
      "Epoch 196/200\n",
      "105/105 [==============================] - 0s 38us/sample - loss: 0.0784 - acc: 0.9714\n",
      "Epoch 197/200\n",
      "105/105 [==============================] - 0s 29us/sample - loss: 0.0766 - acc: 0.9714\n",
      "Epoch 198/200\n",
      "105/105 [==============================] - 0s 29us/sample - loss: 0.0781 - acc: 0.9619\n",
      "Epoch 199/200\n",
      "105/105 [==============================] - 0s 29us/sample - loss: 0.0794 - acc: 0.9714\n",
      "Epoch 200/200\n",
      "105/105 [==============================] - 0s 29us/sample - loss: 0.0823 - acc: 0.9714\n"
     ]
    },
    {
     "data": {
      "text/plain": [
       "<tensorflow.python.keras.callbacks.History at 0x20878f88>"
      ]
     },
     "execution_count": 54,
     "metadata": {},
     "output_type": "execute_result"
    }
   ],
   "source": [
    "model.fit(train_X, train_y, batch_size=50, epochs=200, verbose=1)"
   ]
  },
  {
   "cell_type": "code",
   "execution_count": 56,
   "metadata": {
    "collapsed": true
   },
   "outputs": [
    {
     "data": {
      "text/plain": [
       "array([0, 1, 1, 0, 2, 1, 2, 0, 0, 2, 1, 0, 2, 1, 1, 0, 1, 1, 0, 0, 1, 1,\n",
       "       1, 0, 2, 1, 0, 0, 1, 2, 1, 2, 1, 2, 2, 0, 1, 0, 1, 2, 2, 0, 2, 2,\n",
       "       1], dtype=int64)"
      ]
     },
     "execution_count": 56,
     "metadata": {},
     "output_type": "execute_result"
    }
   ],
   "source": [
    "pred = np.argmax(model.predict(test_X), axis=1)\n",
    "pred"
   ]
  },
  {
   "cell_type": "code",
   "execution_count": 59,
   "metadata": {
    "collapsed": true
   },
   "outputs": [
    {
     "data": {
      "text/plain": [
       "array([0, 1, 1, 0, 2, 1, 2, 0, 0, 2, 1, 0, 2, 1, 1, 0, 1, 1, 0, 0, 1, 1,\n",
       "       1, 0, 2, 1, 0, 0, 1, 2, 1, 2, 1, 2, 2, 0, 1, 0, 1, 2, 2, 0, 2, 2,\n",
       "       1], dtype=int64)"
      ]
     },
     "execution_count": 59,
     "metadata": {},
     "output_type": "execute_result"
    }
   ],
   "source": [
    "np.argmax(test_y, axis=1) # 테스트 데이터의 정답"
   ]
  },
  {
   "cell_type": "code",
   "execution_count": 60,
   "metadata": {
    "collapsed": true
   },
   "outputs": [
    {
     "data": {
      "text/html": [
       "<div>\n",
       "<style scoped>\n",
       "    .dataframe tbody tr th:only-of-type {\n",
       "        vertical-align: middle;\n",
       "    }\n",
       "\n",
       "    .dataframe tbody tr th {\n",
       "        vertical-align: top;\n",
       "    }\n",
       "\n",
       "    .dataframe thead th {\n",
       "        text-align: right;\n",
       "    }\n",
       "</style>\n",
       "<table border=\"1\" class=\"dataframe\">\n",
       "  <thead>\n",
       "    <tr style=\"text-align: right;\">\n",
       "      <th>col_0</th>\n",
       "      <th>0</th>\n",
       "      <th>1</th>\n",
       "      <th>2</th>\n",
       "    </tr>\n",
       "    <tr>\n",
       "      <th>row_0</th>\n",
       "      <th></th>\n",
       "      <th></th>\n",
       "      <th></th>\n",
       "    </tr>\n",
       "  </thead>\n",
       "  <tbody>\n",
       "    <tr>\n",
       "      <th>0</th>\n",
       "      <td>14</td>\n",
       "      <td>0</td>\n",
       "      <td>0</td>\n",
       "    </tr>\n",
       "    <tr>\n",
       "      <th>1</th>\n",
       "      <td>0</td>\n",
       "      <td>18</td>\n",
       "      <td>0</td>\n",
       "    </tr>\n",
       "    <tr>\n",
       "      <th>2</th>\n",
       "      <td>0</td>\n",
       "      <td>0</td>\n",
       "      <td>13</td>\n",
       "    </tr>\n",
       "  </tbody>\n",
       "</table>\n",
       "</div>"
      ],
      "text/plain": [
       "col_0   0   1   2\n",
       "row_0            \n",
       "0      14   0   0\n",
       "1       0  18   0\n",
       "2       0   0  13"
      ]
     },
     "execution_count": 60,
     "metadata": {},
     "output_type": "execute_result"
    }
   ],
   "source": [
    "pd.crosstab(np.argmax(test_y, axis=1), pred)"
   ]
  },
  {
   "cell_type": "code",
   "execution_count": 61,
   "metadata": {
    "collapsed": true
   },
   "outputs": [
    {
     "name": "stdout",
     "output_type": "stream",
     "text": [
      "45/45 [==============================] - 0s 200us/sample - loss: 0.0462 - acc: 1.0000\n"
     ]
    },
    {
     "data": {
      "text/plain": [
       "[0.04622440002858639, 1.0]"
      ]
     },
     "execution_count": 61,
     "metadata": {},
     "output_type": "execute_result"
    }
   ],
   "source": [
    "model.evaluate(test_X, test_y)"
   ]
  },
  {
   "cell_type": "markdown",
   "metadata": {},
   "source": [
    "# Redwine 데이터 분류하기"
   ]
  },
  {
   "cell_type": "markdown",
   "metadata": {},
   "source": [
    "## Tensorflow"
   ]
  },
  {
   "cell_type": "code",
   "execution_count": 63,
   "metadata": {},
   "outputs": [],
   "source": [
    "import numpy as np\n",
    "import pandas as pd"
   ]
  },
  {
   "cell_type": "code",
   "execution_count": 81,
   "metadata": {},
   "outputs": [],
   "source": [
    "redwine = pd.read_csv(\"winequality-red.csv\", sep=';')\n",
    "redwine_X = redwine.iloc[:, :-1].to_numpy()\n",
    "redwine_y = pd.get_dummies(redwine.iloc[:, -1]).to_numpy()"
   ]
  },
  {
   "cell_type": "code",
   "execution_count": 82,
   "metadata": {},
   "outputs": [],
   "source": [
    "from sklearn.model_selection import train_test_split\n",
    "train_X, test_X, train_y, test_y = train_test_split(redwine_X, redwine_y, test_size=0.3, random_state=1)"
   ]
  },
  {
   "cell_type": "code",
   "execution_count": 83,
   "metadata": {},
   "outputs": [],
   "source": [
    "# 텐서플로우 2.x 이상일 경우\n",
    "import tensorflow.compat.v1 as tf\n",
    "tf.disable_v2_behavior()"
   ]
  },
  {
   "cell_type": "code",
   "execution_count": 84,
   "metadata": {},
   "outputs": [],
   "source": [
    "x = tf.placeholder(tf.float32, [None, 11])\n",
    "y = tf.placeholder(tf.float32, [None, 6])\n",
    "\n",
    "# placeholder: Tensor를 할당  \n",
    "# tf.placeholder(dtype, shape=None, name=None)"
   ]
  },
  {
   "cell_type": "code",
   "execution_count": 85,
   "metadata": {},
   "outputs": [],
   "source": [
    "# define Weight & Bias\n",
    "W = tf.Variable(tf.zeros([11, 6]))\n",
    "b = tf.Variable(tf.zeros([6]))\n",
    "\n",
    "# Variable: 모델을 훈련할 때, 모델 파라미터들을 저장할 변수들\n",
    "# 텐서를 메모리에 저장"
   ]
  },
  {
   "cell_type": "code",
   "execution_count": 86,
   "metadata": {},
   "outputs": [],
   "source": [
    "h = tf.nn.softmax(tf.matmul(x, W)+b)"
   ]
  },
  {
   "cell_type": "code",
   "execution_count": 87,
   "metadata": {},
   "outputs": [],
   "source": [
    "# cross_entropy도 Tensor\n",
    "cross_entropy = -tf.reduce_sum(y * tf.log(h),\n",
    "                               reduction_indices=[1])"
   ]
  },
  {
   "cell_type": "code",
   "execution_count": 88,
   "metadata": {},
   "outputs": [],
   "source": [
    "loss = tf.reduce_mean(cross_entropy)"
   ]
  },
  {
   "cell_type": "code",
   "execution_count": 89,
   "metadata": {},
   "outputs": [],
   "source": [
    "train = tf.train.GradientDescentOptimizer(0.001).minimize(loss)"
   ]
  },
  {
   "cell_type": "code",
   "execution_count": 90,
   "metadata": {},
   "outputs": [],
   "source": [
    "init = tf.global_variables_initializer()\n",
    "sess = tf.Session()\n",
    "sess.run(init)"
   ]
  },
  {
   "cell_type": "code",
   "execution_count": 98,
   "metadata": {
    "collapsed": true
   },
   "outputs": [
    {
     "name": "stdout",
     "output_type": "stream",
     "text": [
      "Step 0, 0.98717\n",
      "Step 10000, 0.98460\n",
      "Step 20000, 0.98234\n",
      "Step 30000, 0.98032\n",
      "Step 40000, 0.97848\n",
      "Step 50000, 0.97679\n",
      "Step 60000, 0.97523\n",
      "Step 70000, 0.97378\n",
      "Step 80000, 0.97241\n",
      "Step 90000, 0.97113\n",
      "Step 100000, 0.96991\n",
      "Step 110000, 0.96876\n",
      "Step 120000, 0.96765\n",
      "Step 130000, 0.96660\n",
      "Step 140000, 0.96560\n",
      "Step 150000, 0.96463\n",
      "Step 160000, 0.96371\n",
      "Step 170000, 0.96281\n",
      "Step 180000, 0.96196\n",
      "Step 190000, 0.96113\n",
      "Step 200000, 0.96033\n",
      "Step 210000, 0.95956\n",
      "Step 220000, 0.95882\n",
      "Step 230000, 0.95809\n",
      "Step 240000, 0.95739\n",
      "Step 250000, 0.95672\n",
      "Step 260000, 0.95607\n",
      "Step 270000, 0.95543\n",
      "Step 280000, 0.95481\n",
      "Step 290000, 0.95421\n",
      "Step 300000, 0.95363\n",
      "Step 310000, 0.95306\n",
      "Step 320000, 0.95251\n",
      "Step 330000, 0.95197\n",
      "Step 340000, 0.95144\n",
      "Step 350000, 0.95093\n",
      "Step 360000, 0.95043\n",
      "Step 370000, 0.94995\n",
      "Step 380000, 0.94948\n",
      "Step 390000, 0.94902\n",
      "Step 400000, 0.94857\n",
      "Step 410000, 0.94813\n",
      "Step 420000, 0.94769\n",
      "Step 430000, 0.94728\n",
      "Step 440000, 0.94688\n",
      "Step 450000, 0.94648\n",
      "Step 460000, 0.94608\n",
      "Step 470000, 0.94570\n",
      "Step 480000, 0.94532\n",
      "Step 490000, 0.94495\n",
      "Step 500000, 0.94459\n",
      "Step 510000, 0.94424\n",
      "Step 520000, 0.94389\n",
      "Step 530000, 0.94356\n",
      "Step 540000, 0.94323\n",
      "Step 550000, 0.94291\n",
      "Step 560000, 0.94259\n",
      "Step 570000, 0.94228\n",
      "Step 580000, 0.94198\n",
      "Step 590000, 0.94168\n",
      "Step 600000, 0.94138\n",
      "Step 610000, 0.94109\n",
      "Step 620000, 0.94081\n",
      "Step 630000, 0.94053\n",
      "Step 640000, 0.94026\n",
      "Step 650000, 0.93999\n",
      "Step 660000, 0.93973\n",
      "Step 670000, 0.93948\n",
      "Step 680000, 0.93922\n",
      "Step 690000, 0.93897\n",
      "Step 700000, 0.93872\n",
      "Step 710000, 0.93848\n",
      "Step 720000, 0.93824\n",
      "Step 730000, 0.93800\n",
      "Step 740000, 0.93777\n",
      "Step 750000, 0.93755\n",
      "Step 760000, 0.93734\n",
      "Step 770000, 0.93713\n",
      "Step 780000, 0.93691\n",
      "Step 790000, 0.93671\n",
      "Step 800000, 0.93650\n",
      "Step 810000, 0.93630\n",
      "Step 820000, 0.93610\n",
      "Step 830000, 0.93590\n",
      "Step 840000, 0.93570\n",
      "Step 850000, 0.93551\n",
      "Step 860000, 0.93532\n",
      "Step 870000, 0.93513\n",
      "Step 880000, 0.93495\n",
      "Step 890000, 0.93477\n",
      "Step 900000, 0.93459\n",
      "Step 910000, 0.93441\n",
      "Step 920000, 0.93424\n",
      "Step 930000, 0.93407\n",
      "Step 940000, 0.93390\n",
      "Step 950000, 0.93373\n",
      "Step 960000, 0.93356\n",
      "Step 970000, 0.93340\n",
      "Step 980000, 0.93324\n",
      "Step 990000, 0.93308\n",
      "Step 1000000, 0.93293\n"
     ]
    }
   ],
   "source": [
    "for i in range(1000001):\n",
    "    _, loss_value = sess.run([train, loss], feed_dict={x: train_X, y: train_y})\n",
    "    if i % 10000 == 0:\n",
    "        print(\"Step %d, %.5f\" % (i, loss_value))"
   ]
  },
  {
   "cell_type": "code",
   "execution_count": 99,
   "metadata": {},
   "outputs": [
    {
     "name": "stdout",
     "output_type": "stream",
     "text": [
      "0.59791666\n"
     ]
    }
   ],
   "source": [
    "correct_prediction = tf.equal(tf.argmax(h, 1), tf.argmax(y, 1))\n",
    "accuracy = tf.reduce_mean(tf.cast(correct_prediction, tf.float32))\n",
    "print(sess.run(accuracy, feed_dict={x:test_X, y:test_y}))"
   ]
  },
  {
   "cell_type": "code",
   "execution_count": 100,
   "metadata": {},
   "outputs": [],
   "source": [
    "predict_y = sess.run(tf.argmax(h, 1), feed_dict={x:test_X})"
   ]
  },
  {
   "cell_type": "code",
   "execution_count": 101,
   "metadata": {},
   "outputs": [
    {
     "data": {
      "text/html": [
       "<div>\n",
       "<style scoped>\n",
       "    .dataframe tbody tr th:only-of-type {\n",
       "        vertical-align: middle;\n",
       "    }\n",
       "\n",
       "    .dataframe tbody tr th {\n",
       "        vertical-align: top;\n",
       "    }\n",
       "\n",
       "    .dataframe thead th {\n",
       "        text-align: right;\n",
       "    }\n",
       "</style>\n",
       "<table border=\"1\" class=\"dataframe\">\n",
       "  <thead>\n",
       "    <tr style=\"text-align: right;\">\n",
       "      <th>col_0</th>\n",
       "      <th>2</th>\n",
       "      <th>3</th>\n",
       "      <th>4</th>\n",
       "      <th>All</th>\n",
       "    </tr>\n",
       "    <tr>\n",
       "      <th>row_0</th>\n",
       "      <th></th>\n",
       "      <th></th>\n",
       "      <th></th>\n",
       "      <th></th>\n",
       "    </tr>\n",
       "  </thead>\n",
       "  <tbody>\n",
       "    <tr>\n",
       "      <th>0</th>\n",
       "      <td>2</td>\n",
       "      <td>0</td>\n",
       "      <td>0</td>\n",
       "      <td>2</td>\n",
       "    </tr>\n",
       "    <tr>\n",
       "      <th>1</th>\n",
       "      <td>12</td>\n",
       "      <td>8</td>\n",
       "      <td>1</td>\n",
       "      <td>21</td>\n",
       "    </tr>\n",
       "    <tr>\n",
       "      <th>2</th>\n",
       "      <td>156</td>\n",
       "      <td>49</td>\n",
       "      <td>2</td>\n",
       "      <td>207</td>\n",
       "    </tr>\n",
       "    <tr>\n",
       "      <th>3</th>\n",
       "      <td>63</td>\n",
       "      <td>117</td>\n",
       "      <td>15</td>\n",
       "      <td>195</td>\n",
       "    </tr>\n",
       "    <tr>\n",
       "      <th>4</th>\n",
       "      <td>4</td>\n",
       "      <td>34</td>\n",
       "      <td>14</td>\n",
       "      <td>52</td>\n",
       "    </tr>\n",
       "    <tr>\n",
       "      <th>5</th>\n",
       "      <td>0</td>\n",
       "      <td>1</td>\n",
       "      <td>2</td>\n",
       "      <td>3</td>\n",
       "    </tr>\n",
       "    <tr>\n",
       "      <th>All</th>\n",
       "      <td>237</td>\n",
       "      <td>209</td>\n",
       "      <td>34</td>\n",
       "      <td>480</td>\n",
       "    </tr>\n",
       "  </tbody>\n",
       "</table>\n",
       "</div>"
      ],
      "text/plain": [
       "col_0    2    3   4  All\n",
       "row_0                   \n",
       "0        2    0   0    2\n",
       "1       12    8   1   21\n",
       "2      156   49   2  207\n",
       "3       63  117  15  195\n",
       "4        4   34  14   52\n",
       "5        0    1   2    3\n",
       "All    237  209  34  480"
      ]
     },
     "execution_count": 101,
     "metadata": {},
     "output_type": "execute_result"
    }
   ],
   "source": [
    "cross_tab = pd.crosstab(test_y.argmax(axis=1), predict_y, margins=True)\n",
    "cross_tab"
   ]
  },
  {
   "cell_type": "markdown",
   "metadata": {},
   "source": [
    "## Keras"
   ]
  },
  {
   "cell_type": "code",
   "execution_count": 102,
   "metadata": {},
   "outputs": [],
   "source": [
    "redwine = pd.read_csv(\"winequality-red.csv\", sep=';')\n",
    "redwine_X = redwine.iloc[:, :-1].to_numpy()\n",
    "redwine_y = pd.get_dummies(redwine.iloc[:, -1]).to_numpy()"
   ]
  },
  {
   "cell_type": "code",
   "execution_count": 103,
   "metadata": {},
   "outputs": [],
   "source": [
    "from sklearn.model_selection import train_test_split\n",
    "train_X, test_X, train_y, test_y = train_test_split(redwine_X, redwine_y, test_size=0.3, random_state=1)"
   ]
  },
  {
   "cell_type": "code",
   "execution_count": 104,
   "metadata": {},
   "outputs": [
    {
     "data": {
      "text/plain": [
       "((1119, 11), (1119, 6))"
      ]
     },
     "execution_count": 104,
     "metadata": {},
     "output_type": "execute_result"
    }
   ],
   "source": [
    "train_X.shape, train_y.shape"
   ]
  },
  {
   "cell_type": "code",
   "execution_count": 109,
   "metadata": {},
   "outputs": [],
   "source": [
    "from tensorflow.keras.models import Sequential\n",
    "model = Sequential()"
   ]
  },
  {
   "cell_type": "code",
   "execution_count": 110,
   "metadata": {},
   "outputs": [],
   "source": [
    "from tensorflow.keras.layers import Input, Dense\n",
    "model.add(Input(11))\n",
    "model.add(Dense(50, activation='relu'))\n",
    "model.add(Dense(50, activation='relu'))\n",
    "model.add(Dense(30, activation='relu'))\n",
    "model.add(Dense(6, activation='softmax'))"
   ]
  },
  {
   "cell_type": "code",
   "execution_count": 111,
   "metadata": {},
   "outputs": [],
   "source": [
    "model.compile(optimizer=\"adam\", loss=\"categorical_crossentropy\", \n",
    "              metrics=[\"accuracy\"])"
   ]
  },
  {
   "cell_type": "code",
   "execution_count": 112,
   "metadata": {
    "collapsed": true
   },
   "outputs": [
    {
     "name": "stdout",
     "output_type": "stream",
     "text": [
      "Train on 1119 samples\n",
      "Epoch 1/200\n",
      "1119/1119 [==============================] - 0s 57us/sample - loss: 1.5122 - acc: 0.4173\n",
      "Epoch 2/200\n",
      "1119/1119 [==============================] - 0s 17us/sample - loss: 1.1933 - acc: 0.4906\n",
      "Epoch 3/200\n",
      "1119/1119 [==============================] - 0s 19us/sample - loss: 1.1638 - acc: 0.4861\n",
      "Epoch 4/200\n",
      "1119/1119 [==============================] - 0s 20us/sample - loss: 1.1474 - acc: 0.5049\n",
      "Epoch 5/200\n",
      "1119/1119 [==============================] - 0s 18us/sample - loss: 1.1385 - acc: 0.4951\n",
      "Epoch 6/200\n",
      "1119/1119 [==============================] - 0s 21us/sample - loss: 1.1267 - acc: 0.5183\n",
      "Epoch 7/200\n",
      "1119/1119 [==============================] - 0s 21us/sample - loss: 1.1191 - acc: 0.5237\n",
      "Epoch 8/200\n",
      "1119/1119 [==============================] - 0s 19us/sample - loss: 1.1198 - acc: 0.5174\n",
      "Epoch 9/200\n",
      "1119/1119 [==============================] - 0s 20us/sample - loss: 1.1177 - acc: 0.5273\n",
      "Epoch 10/200\n",
      "1119/1119 [==============================] - 0s 19us/sample - loss: 1.1223 - acc: 0.5085\n",
      "Epoch 11/200\n",
      "1119/1119 [==============================] - 0s 21us/sample - loss: 1.1155 - acc: 0.5219\n",
      "Epoch 12/200\n",
      "1119/1119 [==============================] - 0s 17us/sample - loss: 1.0963 - acc: 0.5416\n",
      "Epoch 13/200\n",
      "1119/1119 [==============================] - 0s 19us/sample - loss: 1.1024 - acc: 0.5353\n",
      "Epoch 14/200\n",
      "1119/1119 [==============================] - 0s 21us/sample - loss: 1.1012 - acc: 0.5192\n",
      "Epoch 15/200\n",
      "1119/1119 [==============================] - 0s 19us/sample - loss: 1.1039 - acc: 0.5210\n",
      "Epoch 16/200\n",
      "1119/1119 [==============================] - 0s 20us/sample - loss: 1.0922 - acc: 0.5407\n",
      "Epoch 17/200\n",
      "1119/1119 [==============================] - 0s 20us/sample - loss: 1.0905 - acc: 0.5219\n",
      "Epoch 18/200\n",
      "1119/1119 [==============================] - 0s 21us/sample - loss: 1.0741 - acc: 0.5541\n",
      "Epoch 19/200\n",
      "1119/1119 [==============================] - 0s 17us/sample - loss: 1.0997 - acc: 0.5210\n",
      "Epoch 20/200\n",
      "1119/1119 [==============================] - 0s 18us/sample - loss: 1.0794 - acc: 0.5371\n",
      "Epoch 21/200\n",
      "1119/1119 [==============================] - 0s 18us/sample - loss: 1.0644 - acc: 0.5416\n",
      "Epoch 22/200\n",
      "1119/1119 [==============================] - 0s 17us/sample - loss: 1.0490 - acc: 0.5532\n",
      "Epoch 23/200\n",
      "1119/1119 [==============================] - 0s 17us/sample - loss: 1.0761 - acc: 0.5362\n",
      "Epoch 24/200\n",
      "1119/1119 [==============================] - 0s 18us/sample - loss: 1.0493 - acc: 0.5666\n",
      "Epoch 25/200\n",
      "1119/1119 [==============================] - 0s 17us/sample - loss: 1.0523 - acc: 0.5559\n",
      "Epoch 26/200\n",
      "1119/1119 [==============================] - 0s 18us/sample - loss: 1.0458 - acc: 0.5451\n",
      "Epoch 27/200\n",
      "1119/1119 [==============================] - 0s 17us/sample - loss: 1.0530 - acc: 0.5630\n",
      "Epoch 28/200\n",
      "1119/1119 [==============================] - 0s 18us/sample - loss: 1.0361 - acc: 0.5791\n",
      "Epoch 29/200\n",
      "1119/1119 [==============================] - 0s 16us/sample - loss: 1.0168 - acc: 0.5764\n",
      "Epoch 30/200\n",
      "1119/1119 [==============================] - 0s 18us/sample - loss: 1.0086 - acc: 0.5898\n",
      "Epoch 31/200\n",
      "1119/1119 [==============================] - 0s 17us/sample - loss: 1.0207 - acc: 0.5728\n",
      "Epoch 32/200\n",
      "1119/1119 [==============================] - 0s 19us/sample - loss: 1.0109 - acc: 0.5853\n",
      "Epoch 33/200\n",
      "1119/1119 [==============================] - 0s 17us/sample - loss: 1.0060 - acc: 0.5836\n",
      "Epoch 34/200\n",
      "1119/1119 [==============================] - 0s 18us/sample - loss: 0.9982 - acc: 0.5818\n",
      "Epoch 35/200\n",
      "1119/1119 [==============================] - 0s 21us/sample - loss: 1.0104 - acc: 0.5746\n",
      "Epoch 36/200\n",
      "1119/1119 [==============================] - 0s 17us/sample - loss: 0.9961 - acc: 0.5934\n",
      "Epoch 37/200\n",
      "1119/1119 [==============================] - 0s 17us/sample - loss: 0.9838 - acc: 0.5862\n",
      "Epoch 38/200\n",
      "1119/1119 [==============================] - 0s 17us/sample - loss: 1.0149 - acc: 0.5603\n",
      "Epoch 39/200\n",
      "1119/1119 [==============================] - 0s 20us/sample - loss: 0.9921 - acc: 0.5987\n",
      "Epoch 40/200\n",
      "1119/1119 [==============================] - 0s 17us/sample - loss: 0.9978 - acc: 0.5827\n",
      "Epoch 41/200\n",
      "1119/1119 [==============================] - 0s 17us/sample - loss: 0.9756 - acc: 0.5961\n",
      "Epoch 42/200\n",
      "1119/1119 [==============================] - 0s 20us/sample - loss: 0.9613 - acc: 0.6193\n",
      "Epoch 43/200\n",
      "1119/1119 [==============================] - 0s 17us/sample - loss: 0.9760 - acc: 0.6014\n",
      "Epoch 44/200\n",
      "1119/1119 [==============================] - 0s 18us/sample - loss: 0.9656 - acc: 0.5970\n",
      "Epoch 45/200\n",
      "1119/1119 [==============================] - 0s 22us/sample - loss: 0.9585 - acc: 0.6041\n",
      "Epoch 46/200\n",
      "1119/1119 [==============================] - 0s 19us/sample - loss: 0.9707 - acc: 0.5880\n",
      "Epoch 47/200\n",
      "1119/1119 [==============================] - 0s 19us/sample - loss: 0.9421 - acc: 0.6050\n",
      "Epoch 48/200\n",
      "1119/1119 [==============================] - 0s 20us/sample - loss: 0.9542 - acc: 0.5996\n",
      "Epoch 49/200\n",
      "1119/1119 [==============================] - 0s 18us/sample - loss: 0.9424 - acc: 0.6095\n",
      "Epoch 50/200\n",
      "1119/1119 [==============================] - 0s 19us/sample - loss: 0.9729 - acc: 0.5961\n",
      "Epoch 51/200\n",
      "1119/1119 [==============================] - 0s 17us/sample - loss: 0.9610 - acc: 0.5979\n",
      "Epoch 52/200\n",
      "1119/1119 [==============================] - 0s 17us/sample - loss: 0.9379 - acc: 0.6148\n",
      "Epoch 53/200\n",
      "1119/1119 [==============================] - 0s 18us/sample - loss: 0.9322 - acc: 0.6193\n",
      "Epoch 54/200\n",
      "1119/1119 [==============================] - 0s 19us/sample - loss: 0.9279 - acc: 0.6157\n",
      "Epoch 55/200\n",
      "1119/1119 [==============================] - 0s 19us/sample - loss: 0.9357 - acc: 0.6166\n",
      "Epoch 56/200\n",
      "1119/1119 [==============================] - 0s 19us/sample - loss: 0.9650 - acc: 0.5961\n",
      "Epoch 57/200\n",
      "1119/1119 [==============================] - 0s 20us/sample - loss: 0.9543 - acc: 0.6023\n",
      "Epoch 58/200\n",
      "1119/1119 [==============================] - 0s 21us/sample - loss: 0.9258 - acc: 0.6220\n",
      "Epoch 59/200\n",
      "1119/1119 [==============================] - 0s 19us/sample - loss: 0.9199 - acc: 0.6068\n",
      "Epoch 60/200\n",
      "1119/1119 [==============================] - 0s 21us/sample - loss: 0.9235 - acc: 0.6166\n",
      "Epoch 61/200\n",
      "1119/1119 [==============================] - 0s 19us/sample - loss: 0.9275 - acc: 0.6273\n",
      "Epoch 62/200\n",
      "1119/1119 [==============================] - 0s 19us/sample - loss: 0.9274 - acc: 0.6220\n",
      "Epoch 63/200\n",
      "1119/1119 [==============================] - 0s 21us/sample - loss: 0.9255 - acc: 0.6300\n",
      "Epoch 64/200\n",
      "1119/1119 [==============================] - 0s 21us/sample - loss: 0.9069 - acc: 0.6300\n",
      "Epoch 65/200\n",
      "1119/1119 [==============================] - 0s 20us/sample - loss: 0.9067 - acc: 0.6104\n",
      "Epoch 66/200\n",
      "1119/1119 [==============================] - 0s 19us/sample - loss: 0.9123 - acc: 0.6193\n",
      "Epoch 67/200\n",
      "1119/1119 [==============================] - 0s 19us/sample - loss: 0.8958 - acc: 0.6184\n",
      "Epoch 68/200\n",
      "1119/1119 [==============================] - 0s 18us/sample - loss: 0.9233 - acc: 0.6175\n",
      "Epoch 69/200\n",
      "1119/1119 [==============================] - 0s 18us/sample - loss: 0.9291 - acc: 0.6050\n",
      "Epoch 70/200\n",
      "1119/1119 [==============================] - 0s 20us/sample - loss: 0.9248 - acc: 0.6113\n",
      "Epoch 71/200\n",
      "1119/1119 [==============================] - 0s 18us/sample - loss: 0.8924 - acc: 0.6291\n",
      "Epoch 72/200\n",
      "1119/1119 [==============================] - 0s 17us/sample - loss: 0.9039 - acc: 0.6318\n",
      "Epoch 73/200\n",
      "1119/1119 [==============================] - 0s 19us/sample - loss: 0.9000 - acc: 0.6238\n",
      "Epoch 74/200\n",
      "1119/1119 [==============================] - 0s 18us/sample - loss: 0.9022 - acc: 0.6318\n",
      "Epoch 75/200\n",
      "1119/1119 [==============================] - 0s 17us/sample - loss: 0.8984 - acc: 0.6139\n",
      "Epoch 76/200\n",
      "1119/1119 [==============================] - 0s 18us/sample - loss: 0.9161 - acc: 0.6166\n",
      "Epoch 77/200\n",
      "1119/1119 [==============================] - 0s 17us/sample - loss: 0.9078 - acc: 0.6229\n",
      "Epoch 78/200\n",
      "1119/1119 [==============================] - 0s 17us/sample - loss: 0.8831 - acc: 0.6416\n",
      "Epoch 79/200\n",
      "1119/1119 [==============================] - 0s 16us/sample - loss: 0.8750 - acc: 0.6390\n",
      "Epoch 80/200\n",
      "1119/1119 [==============================] - 0s 18us/sample - loss: 0.8895 - acc: 0.6318\n",
      "Epoch 81/200\n",
      "1119/1119 [==============================] - 0s 17us/sample - loss: 0.8940 - acc: 0.6336\n",
      "Epoch 82/200\n",
      "1119/1119 [==============================] - 0s 17us/sample - loss: 0.8781 - acc: 0.6408\n",
      "Epoch 83/200\n",
      "1119/1119 [==============================] - 0s 17us/sample - loss: 0.9173 - acc: 0.6148\n",
      "Epoch 84/200\n",
      "1119/1119 [==============================] - 0s 19us/sample - loss: 0.8928 - acc: 0.6256\n",
      "Epoch 85/200\n",
      "1119/1119 [==============================] - 0s 17us/sample - loss: 0.8854 - acc: 0.6220\n",
      "Epoch 86/200\n",
      "1119/1119 [==============================] - 0s 16us/sample - loss: 0.8803 - acc: 0.6345\n",
      "Epoch 87/200\n",
      "1119/1119 [==============================] - 0s 16us/sample - loss: 0.9071 - acc: 0.5987\n",
      "Epoch 88/200\n",
      "1119/1119 [==============================] - 0s 15us/sample - loss: 0.8790 - acc: 0.6282\n",
      "Epoch 89/200\n",
      "1119/1119 [==============================] - 0s 16us/sample - loss: 0.8712 - acc: 0.6354\n",
      "Epoch 90/200\n",
      "1119/1119 [==============================] - 0s 16us/sample - loss: 0.8657 - acc: 0.6372\n",
      "Epoch 91/200\n",
      "1119/1119 [==============================] - 0s 16us/sample - loss: 0.8756 - acc: 0.6372\n",
      "Epoch 92/200\n",
      "1119/1119 [==============================] - 0s 16us/sample - loss: 0.8786 - acc: 0.6336\n",
      "Epoch 93/200\n",
      "1119/1119 [==============================] - 0s 16us/sample - loss: 0.8619 - acc: 0.6488\n",
      "Epoch 94/200\n",
      "1119/1119 [==============================] - 0s 18us/sample - loss: 0.8809 - acc: 0.6425\n",
      "Epoch 95/200\n",
      "1119/1119 [==============================] - 0s 16us/sample - loss: 0.8771 - acc: 0.6443\n",
      "Epoch 96/200\n",
      "1119/1119 [==============================] - 0s 16us/sample - loss: 0.8586 - acc: 0.6434\n",
      "Epoch 97/200\n",
      "1119/1119 [==============================] - 0s 16us/sample - loss: 0.8501 - acc: 0.6381\n",
      "Epoch 98/200\n",
      "1119/1119 [==============================] - 0s 16us/sample - loss: 0.8566 - acc: 0.6524\n",
      "Epoch 99/200\n",
      "1119/1119 [==============================] - 0s 16us/sample - loss: 0.8537 - acc: 0.6354\n",
      "Epoch 100/200\n",
      "1119/1119 [==============================] - 0s 17us/sample - loss: 0.8552 - acc: 0.6381\n",
      "Epoch 101/200\n",
      "1119/1119 [==============================] - 0s 16us/sample - loss: 0.8441 - acc: 0.6542\n",
      "Epoch 102/200\n",
      "1119/1119 [==============================] - 0s 16us/sample - loss: 0.8588 - acc: 0.6309\n",
      "Epoch 103/200\n",
      "1119/1119 [==============================] - 0s 15us/sample - loss: 0.8462 - acc: 0.6542\n",
      "Epoch 104/200\n",
      "1119/1119 [==============================] - 0s 15us/sample - loss: 0.8512 - acc: 0.6416\n",
      "Epoch 105/200\n",
      "1119/1119 [==============================] - 0s 16us/sample - loss: 0.8501 - acc: 0.6533\n",
      "Epoch 106/200\n",
      "1119/1119 [==============================] - 0s 16us/sample - loss: 0.8806 - acc: 0.6408\n",
      "Epoch 107/200\n",
      "1119/1119 [==============================] - 0s 16us/sample - loss: 0.8423 - acc: 0.6533\n",
      "Epoch 108/200\n",
      "1119/1119 [==============================] - 0s 17us/sample - loss: 0.8565 - acc: 0.6425\n",
      "Epoch 109/200\n",
      "1119/1119 [==============================] - 0s 16us/sample - loss: 0.8608 - acc: 0.6416\n",
      "Epoch 110/200\n",
      "1119/1119 [==============================] - 0s 16us/sample - loss: 0.8419 - acc: 0.6515\n",
      "Epoch 111/200\n",
      "1119/1119 [==============================] - 0s 16us/sample - loss: 0.8414 - acc: 0.6533\n",
      "Epoch 112/200\n",
      "1119/1119 [==============================] - 0s 16us/sample - loss: 0.8377 - acc: 0.6390\n",
      "Epoch 113/200\n",
      "1119/1119 [==============================] - 0s 17us/sample - loss: 0.8378 - acc: 0.6693\n",
      "Epoch 114/200\n",
      "1119/1119 [==============================] - 0s 16us/sample - loss: 0.8411 - acc: 0.6434\n",
      "Epoch 115/200\n",
      "1119/1119 [==============================] - 0s 15us/sample - loss: 0.8424 - acc: 0.6559\n",
      "Epoch 116/200\n",
      "1119/1119 [==============================] - 0s 16us/sample - loss: 0.8336 - acc: 0.6613\n",
      "Epoch 117/200\n",
      "1119/1119 [==============================] - 0s 16us/sample - loss: 0.8302 - acc: 0.6506\n",
      "Epoch 118/200\n",
      "1119/1119 [==============================] - 0s 16us/sample - loss: 0.8299 - acc: 0.6488\n",
      "Epoch 119/200\n",
      "1119/1119 [==============================] - 0s 17us/sample - loss: 0.8686 - acc: 0.6282\n",
      "Epoch 120/200\n",
      "1119/1119 [==============================] - 0s 17us/sample - loss: 0.8710 - acc: 0.6434\n",
      "Epoch 121/200\n",
      "1119/1119 [==============================] - 0s 18us/sample - loss: 0.8411 - acc: 0.6595\n",
      "Epoch 122/200\n",
      "1119/1119 [==============================] - 0s 17us/sample - loss: 0.8435 - acc: 0.6470\n",
      "Epoch 123/200\n",
      "1119/1119 [==============================] - 0s 16us/sample - loss: 0.8337 - acc: 0.6577\n",
      "Epoch 124/200\n",
      "1119/1119 [==============================] - 0s 17us/sample - loss: 0.8335 - acc: 0.6559\n",
      "Epoch 125/200\n",
      "1119/1119 [==============================] - 0s 17us/sample - loss: 0.8284 - acc: 0.6649\n",
      "Epoch 126/200\n",
      "1119/1119 [==============================] - 0s 17us/sample - loss: 0.8213 - acc: 0.6586\n",
      "Epoch 127/200\n",
      "1119/1119 [==============================] - 0s 17us/sample - loss: 0.8370 - acc: 0.6354\n",
      "Epoch 128/200\n",
      "1119/1119 [==============================] - 0s 17us/sample - loss: 0.8207 - acc: 0.6586\n",
      "Epoch 129/200\n",
      "1119/1119 [==============================] - 0s 16us/sample - loss: 0.8276 - acc: 0.6685\n",
      "Epoch 130/200\n",
      "1119/1119 [==============================] - 0s 16us/sample - loss: 0.8170 - acc: 0.6568\n",
      "Epoch 131/200\n",
      "1119/1119 [==============================] - 0s 16us/sample - loss: 0.8302 - acc: 0.6559\n",
      "Epoch 132/200\n",
      "1119/1119 [==============================] - 0s 17us/sample - loss: 0.8271 - acc: 0.6676\n",
      "Epoch 133/200\n",
      "1119/1119 [==============================] - 0s 16us/sample - loss: 0.8099 - acc: 0.6711\n",
      "Epoch 134/200\n",
      "1119/1119 [==============================] - 0s 16us/sample - loss: 0.8399 - acc: 0.6488\n",
      "Epoch 135/200\n",
      "1119/1119 [==============================] - 0s 17us/sample - loss: 0.8052 - acc: 0.6631\n",
      "Epoch 136/200\n",
      "1119/1119 [==============================] - 0s 17us/sample - loss: 0.8276 - acc: 0.6506\n",
      "Epoch 137/200\n",
      "1119/1119 [==============================] - 0s 18us/sample - loss: 0.8260 - acc: 0.6515\n",
      "Epoch 138/200\n",
      "1119/1119 [==============================] - 0s 19us/sample - loss: 0.8261 - acc: 0.6747\n",
      "Epoch 139/200\n",
      "1119/1119 [==============================] - 0s 17us/sample - loss: 0.8073 - acc: 0.6667\n",
      "Epoch 140/200\n",
      "1119/1119 [==============================] - 0s 18us/sample - loss: 0.8152 - acc: 0.6542\n",
      "Epoch 141/200\n",
      "1119/1119 [==============================] - 0s 17us/sample - loss: 0.8010 - acc: 0.6685\n",
      "Epoch 142/200\n",
      "1119/1119 [==============================] - 0s 17us/sample - loss: 0.8323 - acc: 0.6497\n",
      "Epoch 143/200\n",
      "1119/1119 [==============================] - 0s 16us/sample - loss: 0.8109 - acc: 0.6631\n",
      "Epoch 144/200\n",
      "1119/1119 [==============================] - 0s 17us/sample - loss: 0.8253 - acc: 0.6568\n",
      "Epoch 145/200\n",
      "1119/1119 [==============================] - 0s 17us/sample - loss: 0.8057 - acc: 0.6685\n",
      "Epoch 146/200\n",
      "1119/1119 [==============================] - 0s 17us/sample - loss: 0.8105 - acc: 0.6676\n",
      "Epoch 147/200\n",
      "1119/1119 [==============================] - 0s 18us/sample - loss: 0.8334 - acc: 0.6550\n",
      "Epoch 148/200\n",
      "1119/1119 [==============================] - 0s 18us/sample - loss: 0.8358 - acc: 0.6479\n",
      "Epoch 149/200\n",
      "1119/1119 [==============================] - 0s 18us/sample - loss: 0.8222 - acc: 0.6577\n",
      "Epoch 150/200\n",
      "1119/1119 [==============================] - 0s 17us/sample - loss: 0.8056 - acc: 0.6631\n",
      "Epoch 151/200\n",
      "1119/1119 [==============================] - 0s 17us/sample - loss: 0.7966 - acc: 0.6702\n",
      "Epoch 152/200\n",
      "1119/1119 [==============================] - 0s 17us/sample - loss: 0.8054 - acc: 0.6747\n",
      "Epoch 153/200\n",
      "1119/1119 [==============================] - 0s 17us/sample - loss: 0.8130 - acc: 0.6586\n",
      "Epoch 154/200\n",
      "1119/1119 [==============================] - 0s 16us/sample - loss: 0.8059 - acc: 0.6515\n",
      "Epoch 155/200\n",
      "1119/1119 [==============================] - 0s 17us/sample - loss: 0.8084 - acc: 0.6693\n",
      "Epoch 156/200\n",
      "1119/1119 [==============================] - 0s 17us/sample - loss: 0.8014 - acc: 0.6792\n",
      "Epoch 157/200\n",
      "1119/1119 [==============================] - 0s 17us/sample - loss: 0.7893 - acc: 0.6845\n",
      "Epoch 158/200\n",
      "1119/1119 [==============================] - 0s 17us/sample - loss: 0.7923 - acc: 0.6693\n",
      "Epoch 159/200\n",
      "1119/1119 [==============================] - 0s 18us/sample - loss: 0.8058 - acc: 0.6702\n",
      "Epoch 160/200\n"
     ]
    },
    {
     "name": "stdout",
     "output_type": "stream",
     "text": [
      "1119/1119 [==============================] - 0s 18us/sample - loss: 0.7965 - acc: 0.6765\n",
      "Epoch 161/200\n",
      "1119/1119 [==============================] - 0s 17us/sample - loss: 0.8189 - acc: 0.6568\n",
      "Epoch 162/200\n",
      "1119/1119 [==============================] - 0s 17us/sample - loss: 0.7938 - acc: 0.6693\n",
      "Epoch 163/200\n",
      "1119/1119 [==============================] - 0s 17us/sample - loss: 0.8049 - acc: 0.6524\n",
      "Epoch 164/200\n",
      "1119/1119 [==============================] - 0s 17us/sample - loss: 0.7900 - acc: 0.6801\n",
      "Epoch 165/200\n",
      "1119/1119 [==============================] - 0s 17us/sample - loss: 0.8054 - acc: 0.6702\n",
      "Epoch 166/200\n",
      "1119/1119 [==============================] - 0s 17us/sample - loss: 0.8024 - acc: 0.6693\n",
      "Epoch 167/200\n",
      "1119/1119 [==============================] - 0s 16us/sample - loss: 0.7953 - acc: 0.6765\n",
      "Epoch 168/200\n",
      "1119/1119 [==============================] - 0s 16us/sample - loss: 0.8112 - acc: 0.6693\n",
      "Epoch 169/200\n",
      "1119/1119 [==============================] - 0s 16us/sample - loss: 0.7862 - acc: 0.6810\n",
      "Epoch 170/200\n",
      "1119/1119 [==============================] - 0s 16us/sample - loss: 0.7887 - acc: 0.6738\n",
      "Epoch 171/200\n",
      "1119/1119 [==============================] - 0s 17us/sample - loss: 0.7895 - acc: 0.6711\n",
      "Epoch 172/200\n",
      "1119/1119 [==============================] - 0s 16us/sample - loss: 0.7791 - acc: 0.6935\n",
      "Epoch 173/200\n",
      "1119/1119 [==============================] - 0s 17us/sample - loss: 0.7931 - acc: 0.6685\n",
      "Epoch 174/200\n",
      "1119/1119 [==============================] - 0s 16us/sample - loss: 0.7867 - acc: 0.6801\n",
      "Epoch 175/200\n",
      "1119/1119 [==============================] - 0s 17us/sample - loss: 0.7890 - acc: 0.6622\n",
      "Epoch 176/200\n",
      "1119/1119 [==============================] - 0s 18us/sample - loss: 0.7993 - acc: 0.6738\n",
      "Epoch 177/200\n",
      "1119/1119 [==============================] - 0s 16us/sample - loss: 0.7890 - acc: 0.6667\n",
      "Epoch 178/200\n",
      "1119/1119 [==============================] - 0s 17us/sample - loss: 0.7944 - acc: 0.6801\n",
      "Epoch 179/200\n",
      "1119/1119 [==============================] - 0s 17us/sample - loss: 0.7926 - acc: 0.6586\n",
      "Epoch 180/200\n",
      "1119/1119 [==============================] - 0s 16us/sample - loss: 0.7817 - acc: 0.6729\n",
      "Epoch 181/200\n",
      "1119/1119 [==============================] - 0s 16us/sample - loss: 0.7773 - acc: 0.6783\n",
      "Epoch 182/200\n",
      "1119/1119 [==============================] - 0s 16us/sample - loss: 0.7737 - acc: 0.6819\n",
      "Epoch 183/200\n",
      "1119/1119 [==============================] - 0s 17us/sample - loss: 0.7805 - acc: 0.6783\n",
      "Epoch 184/200\n",
      "1119/1119 [==============================] - 0s 18us/sample - loss: 0.7716 - acc: 0.6872\n",
      "Epoch 185/200\n",
      "1119/1119 [==============================] - 0s 17us/sample - loss: 0.7681 - acc: 0.6801\n",
      "Epoch 186/200\n",
      "1119/1119 [==============================] - 0s 17us/sample - loss: 0.7654 - acc: 0.6899\n",
      "Epoch 187/200\n",
      "1119/1119 [==============================] - 0s 16us/sample - loss: 0.7737 - acc: 0.6953\n",
      "Epoch 188/200\n",
      "1119/1119 [==============================] - 0s 17us/sample - loss: 0.7662 - acc: 0.6854\n",
      "Epoch 189/200\n",
      "1119/1119 [==============================] - 0s 17us/sample - loss: 0.8128 - acc: 0.6577\n",
      "Epoch 190/200\n",
      "1119/1119 [==============================] - 0s 18us/sample - loss: 0.8110 - acc: 0.6631\n",
      "Epoch 191/200\n",
      "1119/1119 [==============================] - 0s 17us/sample - loss: 0.7879 - acc: 0.6783\n",
      "Epoch 192/200\n",
      "1119/1119 [==============================] - 0s 16us/sample - loss: 0.7703 - acc: 0.6819\n",
      "Epoch 193/200\n",
      "1119/1119 [==============================] - 0s 16us/sample - loss: 0.7664 - acc: 0.6738\n",
      "Epoch 194/200\n",
      "1119/1119 [==============================] - 0s 16us/sample - loss: 0.7693 - acc: 0.6926\n",
      "Epoch 195/200\n",
      "1119/1119 [==============================] - 0s 18us/sample - loss: 0.7763 - acc: 0.6854\n",
      "Epoch 196/200\n",
      "1119/1119 [==============================] - 0s 18us/sample - loss: 0.7789 - acc: 0.6836\n",
      "Epoch 197/200\n",
      "1119/1119 [==============================] - 0s 16us/sample - loss: 0.7679 - acc: 0.6854\n",
      "Epoch 198/200\n",
      "1119/1119 [==============================] - 0s 17us/sample - loss: 0.7690 - acc: 0.6899\n",
      "Epoch 199/200\n",
      "1119/1119 [==============================] - 0s 17us/sample - loss: 0.7659 - acc: 0.6845\n",
      "Epoch 200/200\n",
      "1119/1119 [==============================] - 0s 16us/sample - loss: 0.7652 - acc: 0.6917\n"
     ]
    },
    {
     "data": {
      "text/plain": [
       "<tensorflow.python.keras.callbacks.History at 0x241cbb08>"
      ]
     },
     "execution_count": 112,
     "metadata": {},
     "output_type": "execute_result"
    }
   ],
   "source": [
    "model.fit(train_X, train_y, batch_size=50, epochs=200, verbose=1)"
   ]
  },
  {
   "cell_type": "code",
   "execution_count": 113,
   "metadata": {},
   "outputs": [],
   "source": [
    "pred = np.argmax(model.predict(test_X), axis=1)"
   ]
  },
  {
   "cell_type": "code",
   "execution_count": 114,
   "metadata": {},
   "outputs": [
    {
     "data": {
      "text/html": [
       "<div>\n",
       "<style scoped>\n",
       "    .dataframe tbody tr th:only-of-type {\n",
       "        vertical-align: middle;\n",
       "    }\n",
       "\n",
       "    .dataframe tbody tr th {\n",
       "        vertical-align: top;\n",
       "    }\n",
       "\n",
       "    .dataframe thead th {\n",
       "        text-align: right;\n",
       "    }\n",
       "</style>\n",
       "<table border=\"1\" class=\"dataframe\">\n",
       "  <thead>\n",
       "    <tr style=\"text-align: right;\">\n",
       "      <th>col_0</th>\n",
       "      <th>1</th>\n",
       "      <th>2</th>\n",
       "      <th>3</th>\n",
       "      <th>4</th>\n",
       "    </tr>\n",
       "    <tr>\n",
       "      <th>row_0</th>\n",
       "      <th></th>\n",
       "      <th></th>\n",
       "      <th></th>\n",
       "      <th></th>\n",
       "    </tr>\n",
       "  </thead>\n",
       "  <tbody>\n",
       "    <tr>\n",
       "      <th>0</th>\n",
       "      <td>1</td>\n",
       "      <td>1</td>\n",
       "      <td>0</td>\n",
       "      <td>0</td>\n",
       "    </tr>\n",
       "    <tr>\n",
       "      <th>1</th>\n",
       "      <td>0</td>\n",
       "      <td>17</td>\n",
       "      <td>3</td>\n",
       "      <td>1</td>\n",
       "    </tr>\n",
       "    <tr>\n",
       "      <th>2</th>\n",
       "      <td>0</td>\n",
       "      <td>162</td>\n",
       "      <td>41</td>\n",
       "      <td>4</td>\n",
       "    </tr>\n",
       "    <tr>\n",
       "      <th>3</th>\n",
       "      <td>0</td>\n",
       "      <td>66</td>\n",
       "      <td>118</td>\n",
       "      <td>11</td>\n",
       "    </tr>\n",
       "    <tr>\n",
       "      <th>4</th>\n",
       "      <td>0</td>\n",
       "      <td>6</td>\n",
       "      <td>29</td>\n",
       "      <td>17</td>\n",
       "    </tr>\n",
       "    <tr>\n",
       "      <th>5</th>\n",
       "      <td>0</td>\n",
       "      <td>1</td>\n",
       "      <td>0</td>\n",
       "      <td>2</td>\n",
       "    </tr>\n",
       "  </tbody>\n",
       "</table>\n",
       "</div>"
      ],
      "text/plain": [
       "col_0  1    2    3   4\n",
       "row_0                 \n",
       "0      1    1    0   0\n",
       "1      0   17    3   1\n",
       "2      0  162   41   4\n",
       "3      0   66  118  11\n",
       "4      0    6   29  17\n",
       "5      0    1    0   2"
      ]
     },
     "execution_count": 114,
     "metadata": {},
     "output_type": "execute_result"
    }
   ],
   "source": [
    "pd.crosstab(np.argmax(test_y, axis=1), pred)"
   ]
  },
  {
   "cell_type": "code",
   "execution_count": 115,
   "metadata": {},
   "outputs": [
    {
     "name": "stdout",
     "output_type": "stream",
     "text": [
      "480/480 [==============================] - 0s 75us/sample - loss: 1.1147 - acc: 0.6187\n"
     ]
    },
    {
     "data": {
      "text/plain": [
       "[1.1147265553474426, 0.61875]"
      ]
     },
     "execution_count": 115,
     "metadata": {},
     "output_type": "execute_result"
    }
   ],
   "source": [
    "model.evaluate(test_X, test_y) # loss, accuracy"
   ]
  },
  {
   "cell_type": "markdown",
   "metadata": {},
   "source": [
    "# 숫자 이미지 분류하기"
   ]
  },
  {
   "cell_type": "markdown",
   "metadata": {},
   "source": [
    "## 머신러닝"
   ]
  },
  {
   "cell_type": "code",
   "execution_count": 3,
   "metadata": {},
   "outputs": [
    {
     "name": "stdout",
     "output_type": "stream",
     "text": [
      "(1000, 2000)\n"
     ]
    }
   ],
   "source": [
    "import cv2\n",
    "import numpy as np\n",
    "\n",
    "img = cv2.imread(\"images/digits.png\", cv2.IMREAD_GRAYSCALE)\n",
    "print(img.shape)"
   ]
  },
  {
   "cell_type": "code",
   "execution_count": 118,
   "metadata": {},
   "outputs": [],
   "source": [
    "cv2.imshow(\"number\", img)\n",
    "cv2.waitKey(0)\n",
    "cv2.destroyAllWindows()"
   ]
  },
  {
   "cell_type": "code",
   "execution_count": 119,
   "metadata": {},
   "outputs": [],
   "source": [
    "cells = [np.hsplit(row, 100) for row in np.vsplit(img, 50)]\n",
    "x = np.array(cells)"
   ]
  },
  {
   "cell_type": "code",
   "execution_count": 120,
   "metadata": {},
   "outputs": [
    {
     "data": {
      "text/plain": [
       "(50, 100, 20, 20)"
      ]
     },
     "execution_count": 120,
     "metadata": {},
     "output_type": "execute_result"
    }
   ],
   "source": [
    "x.shape"
   ]
  },
  {
   "cell_type": "code",
   "execution_count": 121,
   "metadata": {},
   "outputs": [],
   "source": [
    "X = x[:,:].reshape(-1, 400).astype(np.float32)\n",
    "y = np.repeat(np.arange(10), 500)"
   ]
  },
  {
   "cell_type": "code",
   "execution_count": 122,
   "metadata": {},
   "outputs": [],
   "source": [
    "from sklearn.model_selection import train_test_split\n",
    "train_X, test_X, train_y, test_y = train_test_split(X, y, test_size=0.3, random_state=1)"
   ]
  },
  {
   "cell_type": "code",
   "execution_count": 124,
   "metadata": {},
   "outputs": [],
   "source": [
    "from sklearn.neural_network import MLPClassifier\n",
    "mlp = MLPClassifier(hidden_layer_sizes=(512, 256, 128), verbose=True)"
   ]
  },
  {
   "cell_type": "code",
   "execution_count": 125,
   "metadata": {
    "collapsed": true
   },
   "outputs": [
    {
     "name": "stdout",
     "output_type": "stream",
     "text": [
      "Iteration 1, loss = 17.11732132\n",
      "Iteration 2, loss = 1.49612161\n",
      "Iteration 3, loss = 0.64257926\n",
      "Iteration 4, loss = 0.30388067\n",
      "Iteration 5, loss = 0.14290359\n",
      "Iteration 6, loss = 0.05101895\n",
      "Iteration 7, loss = 0.02703091\n",
      "Iteration 8, loss = 0.01008356\n",
      "Iteration 9, loss = 0.00931235\n",
      "Iteration 10, loss = 0.00879675\n",
      "Iteration 11, loss = 0.00529933\n",
      "Iteration 12, loss = 0.00350962\n",
      "Iteration 13, loss = 0.00184601\n",
      "Iteration 14, loss = 0.00067759\n",
      "Iteration 15, loss = 0.00052721\n",
      "Iteration 16, loss = 0.00047438\n",
      "Iteration 17, loss = 0.00044835\n",
      "Iteration 18, loss = 0.00043110\n",
      "Iteration 19, loss = 0.00041599\n",
      "Iteration 20, loss = 0.00040456\n",
      "Iteration 21, loss = 0.00039483\n",
      "Iteration 22, loss = 0.00038614\n",
      "Iteration 23, loss = 0.00037811\n",
      "Iteration 24, loss = 0.00037162\n",
      "Iteration 25, loss = 0.00036526\n",
      "Iteration 26, loss = 0.00035952\n",
      "Training loss did not improve more than tol=0.000100 for 10 consecutive epochs. Stopping.\n"
     ]
    },
    {
     "data": {
      "text/plain": [
       "MLPClassifier(activation='relu', alpha=0.0001, batch_size='auto', beta_1=0.9,\n",
       "              beta_2=0.999, early_stopping=False, epsilon=1e-08,\n",
       "              hidden_layer_sizes=(512, 256, 128), learning_rate='constant',\n",
       "              learning_rate_init=0.001, max_fun=15000, max_iter=200,\n",
       "              momentum=0.9, n_iter_no_change=10, nesterovs_momentum=True,\n",
       "              power_t=0.5, random_state=None, shuffle=True, solver='adam',\n",
       "              tol=0.0001, validation_fraction=0.1, verbose=True,\n",
       "              warm_start=False)"
      ]
     },
     "execution_count": 125,
     "metadata": {},
     "output_type": "execute_result"
    }
   ],
   "source": [
    "mlp.fit(train_X, train_y)"
   ]
  },
  {
   "cell_type": "code",
   "execution_count": 126,
   "metadata": {},
   "outputs": [
    {
     "data": {
      "text/plain": [
       "0.9026666666666666"
      ]
     },
     "execution_count": 126,
     "metadata": {},
     "output_type": "execute_result"
    }
   ],
   "source": [
    "mlp.score(test_X, test_y)"
   ]
  },
  {
   "cell_type": "code",
   "execution_count": null,
   "metadata": {},
   "outputs": [],
   "source": [
    "mlp.predict(proba=)"
   ]
  },
  {
   "cell_type": "markdown",
   "metadata": {},
   "source": [
    "## Tensorflow"
   ]
  },
  {
   "cell_type": "code",
   "execution_count": 9,
   "metadata": {},
   "outputs": [],
   "source": [
    "cells = [np.hsplit(row,100) for row in np.vsplit(img, 50)]\n",
    "x = np.array(cells)\n",
    "X = x[:,:].reshape(-1,400).astype(np.float32)\n",
    "y = pd.get_dummies(np.repeat(np.arange(10), 500)).to_numpy()"
   ]
  },
  {
   "cell_type": "code",
   "execution_count": 10,
   "metadata": {},
   "outputs": [],
   "source": [
    "from sklearn.model_selection import train_test_split\n",
    "train_X, test_X, train_y, test_y = train_test_split(X, y, test_size=0.3, random_state=1)"
   ]
  },
  {
   "cell_type": "code",
   "execution_count": 11,
   "metadata": {},
   "outputs": [
    {
     "name": "stdout",
     "output_type": "stream",
     "text": [
      "WARNING:tensorflow:From C:\\Users\\COM\\anaconda3\\lib\\site-packages\\tensorflow_core\\python\\compat\\v2_compat.py:65: disable_resource_variables (from tensorflow.python.ops.variable_scope) is deprecated and will be removed in a future version.\n",
      "Instructions for updating:\n",
      "non-resource variables are not supported in the long term\n"
     ]
    }
   ],
   "source": [
    "import tensorflow.compat.v1 as tf\n",
    "tf.disable_v2_behavior()"
   ]
  },
  {
   "cell_type": "code",
   "execution_count": 12,
   "metadata": {},
   "outputs": [],
   "source": [
    "x = tf.placeholder(tf.float32, [None, 400])\n",
    "y = tf.placeholder(tf.float32, [None, 10])"
   ]
  },
  {
   "cell_type": "code",
   "execution_count": 13,
   "metadata": {},
   "outputs": [],
   "source": [
    "W1 = tf.Variable(tf.zeros([400, 512]))\n",
    "b1 = tf.Variable(tf.zeros([512]))\n",
    "h1 = tf.nn.relu(tf.matmul(x, W1)+b1)"
   ]
  },
  {
   "cell_type": "code",
   "execution_count": 14,
   "metadata": {},
   "outputs": [],
   "source": [
    "W2 = tf.Variable(tf.zeros([512, 256]))\n",
    "b2 = tf.Variable(tf.zeros([256]))\n",
    "h2 = tf.nn.relu(tf.matmul(h1, W2)+b2)"
   ]
  },
  {
   "cell_type": "code",
   "execution_count": 15,
   "metadata": {},
   "outputs": [],
   "source": [
    "W3 = tf.Variable(tf.zeros([256, 128]))\n",
    "b3 = tf.Variable(tf.zeros([128]))\n",
    "h3 = tf.nn.relu(tf.matmul(h2, W3)+b3)"
   ]
  },
  {
   "cell_type": "code",
   "execution_count": 16,
   "metadata": {},
   "outputs": [],
   "source": [
    "W = tf.Variable(tf.zeros([128, 10]))\n",
    "b = tf.Variable(tf.zeros([10]))"
   ]
  },
  {
   "cell_type": "code",
   "execution_count": 17,
   "metadata": {},
   "outputs": [],
   "source": [
    "h = tf.nn.softmax(tf.matmul(h3, W)+b)"
   ]
  },
  {
   "cell_type": "code",
   "execution_count": 18,
   "metadata": {},
   "outputs": [],
   "source": [
    "cross_entropy = -tf.reduce_sum(y * tf.log(h), reduction_indices=[1])"
   ]
  },
  {
   "cell_type": "code",
   "execution_count": 19,
   "metadata": {},
   "outputs": [],
   "source": [
    "loss = tf.reduce_mean(cross_entropy)"
   ]
  },
  {
   "cell_type": "code",
   "execution_count": 20,
   "metadata": {},
   "outputs": [],
   "source": [
    "train = tf.train.GradientDescentOptimizer(0.001).minimize(loss)"
   ]
  },
  {
   "cell_type": "code",
   "execution_count": 21,
   "metadata": {},
   "outputs": [],
   "source": [
    "init = tf.global_variables_initializer()\n",
    "sess = tf.Session()\n",
    "sess.run(init)"
   ]
  },
  {
   "cell_type": "code",
   "execution_count": 146,
   "metadata": {},
   "outputs": [
    {
     "name": "stdout",
     "output_type": "stream",
     "text": [
      "Step 0, 2.30260\n",
      "Step 10000, 2.30214\n",
      "Step 20000, 2.30208\n",
      "Step 30000, 2.30205\n",
      "Step 40000, 2.30206\n",
      "Step 50000, 2.30207\n",
      "Step 60000, 2.30207\n",
      "Step 70000, 2.30206\n",
      "Step 80000, 2.30206\n",
      "Step 90000, 2.30207\n",
      "Step 100000, 2.30207\n"
     ]
    }
   ],
   "source": [
    "for i in range(100001):\n",
    "    _, loss_value = sess.run([train, loss], feed_dict={x:train_X, y:train_y})\n",
    "    if i % 10000 == 0:\n",
    "        print(\"Step %d, %.5f\" % (i, loss_value))"
   ]
  },
  {
   "cell_type": "code",
   "execution_count": 147,
   "metadata": {},
   "outputs": [
    {
     "name": "stdout",
     "output_type": "stream",
     "text": [
      "0.086666666\n"
     ]
    }
   ],
   "source": [
    "correct_prediction = tf.equal(tf.argmax(h, 1), tf.argmax(y, 1))\n",
    "accuracy = tf.reduce_mean(tf.cast(correct_prediction, tf.float32))\n",
    "print(sess.run(accuracy, feed_dict={x:test_X, y:test_y}))"
   ]
  },
  {
   "cell_type": "code",
   "execution_count": 148,
   "metadata": {},
   "outputs": [],
   "source": [
    "predict_y = sess.run(tf.argmax(h, 1), feed_dict={x:test_X})"
   ]
  },
  {
   "cell_type": "code",
   "execution_count": 151,
   "metadata": {},
   "outputs": [
    {
     "data": {
      "text/plain": [
       "array([4, 4, 4, 4, 4, 4, 4, 4, 4, 4, 4, 4, 4, 4, 4, 4, 4, 4, 4, 4],\n",
       "      dtype=int64)"
      ]
     },
     "execution_count": 151,
     "metadata": {},
     "output_type": "execute_result"
    }
   ],
   "source": [
    "predict_y[0:20]"
   ]
  },
  {
   "cell_type": "code",
   "execution_count": 149,
   "metadata": {},
   "outputs": [
    {
     "data": {
      "text/html": [
       "<div>\n",
       "<style scoped>\n",
       "    .dataframe tbody tr th:only-of-type {\n",
       "        vertical-align: middle;\n",
       "    }\n",
       "\n",
       "    .dataframe tbody tr th {\n",
       "        vertical-align: top;\n",
       "    }\n",
       "\n",
       "    .dataframe thead th {\n",
       "        text-align: right;\n",
       "    }\n",
       "</style>\n",
       "<table border=\"1\" class=\"dataframe\">\n",
       "  <thead>\n",
       "    <tr style=\"text-align: right;\">\n",
       "      <th>col_0</th>\n",
       "      <th>4</th>\n",
       "      <th>All</th>\n",
       "    </tr>\n",
       "    <tr>\n",
       "      <th>row_0</th>\n",
       "      <th></th>\n",
       "      <th></th>\n",
       "    </tr>\n",
       "  </thead>\n",
       "  <tbody>\n",
       "    <tr>\n",
       "      <th>0</th>\n",
       "      <td>155</td>\n",
       "      <td>155</td>\n",
       "    </tr>\n",
       "    <tr>\n",
       "      <th>1</th>\n",
       "      <td>149</td>\n",
       "      <td>149</td>\n",
       "    </tr>\n",
       "    <tr>\n",
       "      <th>2</th>\n",
       "      <td>152</td>\n",
       "      <td>152</td>\n",
       "    </tr>\n",
       "    <tr>\n",
       "      <th>3</th>\n",
       "      <td>171</td>\n",
       "      <td>171</td>\n",
       "    </tr>\n",
       "    <tr>\n",
       "      <th>4</th>\n",
       "      <td>130</td>\n",
       "      <td>130</td>\n",
       "    </tr>\n",
       "    <tr>\n",
       "      <th>5</th>\n",
       "      <td>148</td>\n",
       "      <td>148</td>\n",
       "    </tr>\n",
       "    <tr>\n",
       "      <th>6</th>\n",
       "      <td>135</td>\n",
       "      <td>135</td>\n",
       "    </tr>\n",
       "    <tr>\n",
       "      <th>7</th>\n",
       "      <td>160</td>\n",
       "      <td>160</td>\n",
       "    </tr>\n",
       "    <tr>\n",
       "      <th>8</th>\n",
       "      <td>156</td>\n",
       "      <td>156</td>\n",
       "    </tr>\n",
       "    <tr>\n",
       "      <th>9</th>\n",
       "      <td>144</td>\n",
       "      <td>144</td>\n",
       "    </tr>\n",
       "    <tr>\n",
       "      <th>All</th>\n",
       "      <td>1500</td>\n",
       "      <td>1500</td>\n",
       "    </tr>\n",
       "  </tbody>\n",
       "</table>\n",
       "</div>"
      ],
      "text/plain": [
       "col_0     4   All\n",
       "row_0            \n",
       "0       155   155\n",
       "1       149   149\n",
       "2       152   152\n",
       "3       171   171\n",
       "4       130   130\n",
       "5       148   148\n",
       "6       135   135\n",
       "7       160   160\n",
       "8       156   156\n",
       "9       144   144\n",
       "All    1500  1500"
      ]
     },
     "execution_count": 149,
     "metadata": {},
     "output_type": "execute_result"
    }
   ],
   "source": [
    "cross_tab = pd.crosstab(test_y.argmax(axis=1), predict_y, margins=True)\n",
    "cross_tab"
   ]
  },
  {
   "cell_type": "markdown",
   "metadata": {},
   "source": [
    "## Tensorflow + "
   ]
  },
  {
   "cell_type": "code",
   "execution_count": null,
   "metadata": {},
   "outputs": [],
   "source": [
    "cells = [np.hsplit(row,100) for row in np.vsplit(img, 50)]\n",
    "x = np.array(cells)\n",
    "X = x[:,:].reshape(-1,400).astype(np.float32)\n",
    "y = pd.get_dummies(np.repeat(np.arange(10), 500)).to_numpy()"
   ]
  },
  {
   "cell_type": "code",
   "execution_count": null,
   "metadata": {},
   "outputs": [],
   "source": [
    "from sklearn.model_selection import train_test_split\n",
    "train_X, test_X, train_y, test_y = train_test_split(X, y, test_size=0.3, random_state=1)"
   ]
  },
  {
   "cell_type": "code",
   "execution_count": null,
   "metadata": {},
   "outputs": [],
   "source": [
    "import tensorflow.compat.v1 as tf\n",
    "tf.disable_v2_behavior()"
   ]
  },
  {
   "cell_type": "code",
   "execution_count": null,
   "metadata": {},
   "outputs": [],
   "source": [
    "x = tf.placeholder(tf.float32, [None, 400])\n",
    "y = tf.placeholder(tf.float32, [None, 10])"
   ]
  },
  {
   "cell_type": "code",
   "execution_count": null,
   "metadata": {},
   "outputs": [],
   "source": [
    "W1 = tf.Variable(tf.zeros([400, 512]))\n",
    "b1 = tf.Variable(tf.zeros([512]))\n",
    "h1 = tf.nn.relu(tf.matmul(x, W1)+b1)"
   ]
  },
  {
   "cell_type": "code",
   "execution_count": null,
   "metadata": {},
   "outputs": [],
   "source": [
    "W2 = tf.Variable(tf.zeros([512, 256]))\n",
    "b2 = tf.Variable(tf.zeros([256]))\n",
    "h2 = tf.nn.relu(tf.matmul(h1, W2)+b2)"
   ]
  },
  {
   "cell_type": "code",
   "execution_count": null,
   "metadata": {},
   "outputs": [],
   "source": [
    "W3 = tf.Variable(tf.zeros([256, 128]))\n",
    "b3 = tf.Variable(tf.zeros([128]))\n",
    "h3 = tf.nn.relu(tf.matmul(h2, W3)+b3)"
   ]
  },
  {
   "cell_type": "code",
   "execution_count": null,
   "metadata": {},
   "outputs": [],
   "source": [
    "W = tf.Variable(tf.zeros([128, 10]))\n",
    "b = tf.Variable(tf.zeros([10]))"
   ]
  },
  {
   "cell_type": "code",
   "execution_count": null,
   "metadata": {},
   "outputs": [],
   "source": [
    "h = tf.nn.softmax(tf.matmul(h3, W)+b)"
   ]
  },
  {
   "cell_type": "code",
   "execution_count": null,
   "metadata": {},
   "outputs": [],
   "source": [
    "cross_entropy = -tf.reduce_sum(y * tf.log(h), reduction_indices=[1])"
   ]
  },
  {
   "cell_type": "code",
   "execution_count": null,
   "metadata": {},
   "outputs": [],
   "source": [
    "loss = tf.reduce_mean(cross_entropy)"
   ]
  },
  {
   "cell_type": "code",
   "execution_count": null,
   "metadata": {},
   "outputs": [],
   "source": [
    "train = tf.train.GradientDescentOptimizer(0.001).minimize(loss)"
   ]
  },
  {
   "cell_type": "code",
   "execution_count": null,
   "metadata": {},
   "outputs": [],
   "source": [
    "init = tf.global_variables_initializer()\n",
    "sess = tf.Session()\n",
    "sess.run(init)"
   ]
  },
  {
   "cell_type": "code",
   "execution_count": 22,
   "metadata": {},
   "outputs": [
    {
     "name": "stdout",
     "output_type": "stream",
     "text": [
      "step 0, train loss 2.387868996019716\n",
      "step 100, train loss 2.3876843099240905\n",
      "step 200, train loss 2.3875784697356046\n",
      "step 300, train loss 2.387517522882532\n",
      "step 400, train loss 2.3874825371636286\n",
      "step 500, train loss 2.387462271584405\n",
      "step 600, train loss 2.3874505979043468\n",
      "step 700, train loss 2.3874437455777775\n",
      "step 800, train loss 2.3874398778986046\n",
      "step 900, train loss 2.387437582015991\n",
      "026 - 2.303089\r"
     ]
    }
   ],
   "source": [
    "tot_cnt = len(train_X)\n",
    "\n",
    "for epoch in range(1000):\n",
    "    avg_loss = 0\n",
    "    batch_size = 128\n",
    "    tot_iter = int(tot_cnt / batch_size)\n",
    "    for step in range(tot_iter):\n",
    "        batch_X = train_X[int(step*batch_size):int((step+1)*batch_size)]\n",
    "        batch_y = train_y[int(step*batch_size):int((step+1)*batch_size)]\n",
    "        _, loss_ = sess.run([train, loss], feed_dict={x:batch_X, y:batch_y})\n",
    "        avg_loss += (loss_ / tot_iter)\n",
    "        print(\"{:03d} - {:f}\".format(step, loss_), end=\"\\r\")\n",
    "    if tot_cnt//tot_iter != 0:\n",
    "        batch_X = train_X[int(tot_iter*batch_size):]\n",
    "        batch_y = train_y[int(tot_iter*batch_size):]\n",
    "        _, loss_ = sess.run([train, loss], feed_dict={x:batch_X, y:batch_y})\n",
    "        avg_loss += (loss_ / tot_iter)\n",
    "        print(\"{:03d} - {:f}\".format(step, loss_), end=\"\\r\")\n",
    "    if epoch%100 == 0:\n",
    "        print(\"step {}, train loss {}\".format(epoch, avg_loss))"
   ]
  },
  {
   "cell_type": "code",
   "execution_count": 23,
   "metadata": {},
   "outputs": [
    {
     "name": "stdout",
     "output_type": "stream",
     "text": [
      "0.086666666\n"
     ]
    }
   ],
   "source": [
    "correct_prediction = tf.equal(tf.argmax(h, 1), tf.argmax(y, 1))\n",
    "accuracy = tf.reduce_mean(tf.cast(correct_prediction, tf.float32))\n",
    "print(sess.run(accuracy, feed_dict={x:test_X, y:test_y}))"
   ]
  },
  {
   "cell_type": "code",
   "execution_count": 24,
   "metadata": {},
   "outputs": [],
   "source": [
    "sess.close()"
   ]
  },
  {
   "cell_type": "markdown",
   "metadata": {},
   "source": [
    "## Gradient Vanishing 문제 해결을 위해"
   ]
  },
  {
   "cell_type": "code",
   "execution_count": null,
   "metadata": {},
   "outputs": [],
   "source": [
    "import numpy as np\n",
    "import pandas as pd"
   ]
  },
  {
   "cell_type": "code",
   "execution_count": 25,
   "metadata": {},
   "outputs": [],
   "source": [
    "cells = [np.hsplit(row,100) for row in np.vsplit(img, 50)]\n",
    "x = np.array(cells) / 255\n",
    "X = x[:,:].reshape(-1,400).astype(np.float32)\n",
    "y = pd.get_dummies(np.repeat(np.arange(10), 500)).to_numpy()"
   ]
  },
  {
   "cell_type": "code",
   "execution_count": 26,
   "metadata": {},
   "outputs": [],
   "source": [
    "from sklearn.model_selection import train_test_split\n",
    "train_X, test_X, train_y, test_y = train_test_split(X, y, test_size=0.3, random_state=1)"
   ]
  },
  {
   "cell_type": "code",
   "execution_count": 27,
   "metadata": {},
   "outputs": [],
   "source": [
    "import tensorflow.compat.v1 as tf\n",
    "tf.disable_v2_behavior()"
   ]
  },
  {
   "cell_type": "code",
   "execution_count": 28,
   "metadata": {},
   "outputs": [],
   "source": [
    "x = tf.placeholder(tf.float32, [None, 400])\n",
    "y = tf.placeholder(tf.float32, [None, 10])"
   ]
  },
  {
   "cell_type": "code",
   "execution_count": 29,
   "metadata": {},
   "outputs": [],
   "source": [
    "W1 = tf.Variable(tf.truncated_normal([400, 512], stddev=0.1))\n",
    "b1 = tf.Variable(tf.constant(0.1, shape=[512]))\n",
    "h1 = tf.nn.relu(tf.matmul(x, W1)+b1)"
   ]
  },
  {
   "cell_type": "code",
   "execution_count": 30,
   "metadata": {},
   "outputs": [],
   "source": [
    "W2 = tf.Variable(tf.truncated_normal([512, 256], stddev=0.1))\n",
    "b2 = tf.Variable(tf.constant(0.1, shape=[256]))\n",
    "h2 = tf.nn.relu(tf.matmul(h1, W2)+b2)"
   ]
  },
  {
   "cell_type": "code",
   "execution_count": 31,
   "metadata": {},
   "outputs": [],
   "source": [
    "# 너무 느려서 layer 수 줄였음 "
   ]
  },
  {
   "cell_type": "code",
   "execution_count": 32,
   "metadata": {},
   "outputs": [],
   "source": [
    "W = tf.Variable(tf.zeros([256, 10]))\n",
    "b = tf.Variable(tf.zeros([10]))"
   ]
  },
  {
   "cell_type": "code",
   "execution_count": 34,
   "metadata": {},
   "outputs": [],
   "source": [
    "h = tf.nn.softmax(tf.matmul(h2, W)+b)"
   ]
  },
  {
   "cell_type": "code",
   "execution_count": 35,
   "metadata": {},
   "outputs": [],
   "source": [
    "cross_entropy = -tf.reduce_sum(y * tf.log(h), reduction_indices=[1])"
   ]
  },
  {
   "cell_type": "code",
   "execution_count": 36,
   "metadata": {},
   "outputs": [],
   "source": [
    "loss = tf.reduce_mean(cross_entropy)"
   ]
  },
  {
   "cell_type": "code",
   "execution_count": 37,
   "metadata": {},
   "outputs": [],
   "source": [
    "train = tf.train.GradientDescentOptimizer(0.5).minimize(loss) \n",
    "# 학습률 변경: 0.001 > 0.5\n",
    "# 크게 해도 상관은 없음"
   ]
  },
  {
   "cell_type": "code",
   "execution_count": 38,
   "metadata": {},
   "outputs": [],
   "source": [
    "init = tf.global_variables_initializer()\n",
    "sess = tf.Session()\n",
    "sess.run(init)"
   ]
  },
  {
   "cell_type": "code",
   "execution_count": 39,
   "metadata": {},
   "outputs": [
    {
     "name": "stdout",
     "output_type": "stream",
     "text": [
      "step 0, train loss 1.4903600789882523\n",
      "step 100, train loss 0.0005546786369113424\n",
      "step 200, train loss 0.00023321167369700827\n",
      "step 300, train loss 0.0001425827809995368\n",
      "step 400, train loss 0.00010100715897149508\n",
      "step 500, train loss 7.747906245101519e-05\n",
      "step 600, train loss 6.246288042651335e-05\n",
      "step 700, train loss 5.209508856717515e-05\n",
      "step 800, train loss 4.454168412040518e-05\n",
      "step 900, train loss 3.881289005760293e-05\n",
      "026 - 0.000005\r"
     ]
    }
   ],
   "source": [
    "tot_cnt = len(train_X)\n",
    "\n",
    "for epoch in range(1000):\n",
    "    avg_loss = 0\n",
    "    batch_size = 128\n",
    "    tot_iter = int(tot_cnt / batch_size)\n",
    "    for step in range(tot_iter):\n",
    "        batch_X = train_X[int(step*batch_size):int((step+1)*batch_size)]\n",
    "        batch_y = train_y[int(step*batch_size):int((step+1)*batch_size)]\n",
    "        _, loss_ = sess.run([train, loss], feed_dict={x:batch_X, y:batch_y})\n",
    "        avg_loss += (loss_ / tot_iter)\n",
    "        print(\"{:03d} - {:f}\".format(step, loss_), end=\"\\r\")\n",
    "    if tot_cnt//tot_iter != 0:\n",
    "        batch_X = train_X[int(tot_iter*batch_size):]\n",
    "        batch_y = train_y[int(tot_iter*batch_size):]\n",
    "        _, loss_ = sess.run([train, loss], feed_dict={x:batch_X, y:batch_y})\n",
    "        avg_loss += (loss_ / tot_iter)\n",
    "        print(\"{:03d} - {:f}\".format(step, loss_), end=\"\\r\")\n",
    "    if epoch%100 == 0:\n",
    "        print(\"step {}, train loss {}\".format(epoch, avg_loss))"
   ]
  },
  {
   "cell_type": "code",
   "execution_count": 40,
   "metadata": {},
   "outputs": [
    {
     "name": "stdout",
     "output_type": "stream",
     "text": [
      "0.948\n"
     ]
    }
   ],
   "source": [
    "correct_prediction = tf.equal(tf.argmax(h, 1), tf.argmax(y, 1))\n",
    "accuracy = tf.reduce_mean(tf.cast(correct_prediction, tf.float32))\n",
    "print(sess.run(accuracy, feed_dict={x:test_X, y:test_y}))"
   ]
  },
  {
   "cell_type": "code",
   "execution_count": 41,
   "metadata": {},
   "outputs": [],
   "source": [
    "sess.close() # 메모리를 잡아먹기 때문에 session은 종료할 것"
   ]
  },
  {
   "cell_type": "markdown",
   "metadata": {},
   "source": [
    "# CNN을 이용한 MNIST 데이터 모델링의 코드와 실행"
   ]
  },
  {
   "cell_type": "code",
   "execution_count": 6,
   "metadata": {},
   "outputs": [],
   "source": [
    "import numpy as np\n",
    "import pandas as pd\n",
    "from sklearn import datasets"
   ]
  },
  {
   "cell_type": "markdown",
   "metadata": {},
   "source": [
    "## 입력 데이터"
   ]
  },
  {
   "cell_type": "code",
   "execution_count": 7,
   "metadata": {},
   "outputs": [],
   "source": [
    "import cv2\n",
    "img = cv2.imread(\"images/digits.png\", cv2.IMREAD_GRAYSCALE)"
   ]
  },
  {
   "cell_type": "code",
   "execution_count": 8,
   "metadata": {},
   "outputs": [],
   "source": [
    "cells = [np.hsplit(row,100) for row in np.vsplit(img, 50)]\n",
    "x = np.array(cells) / 255\n",
    "X = x[:,:].reshape(-1,400).astype(np.float32)\n",
    "y = pd.get_dummies(np.repeat(np.arange(10), 500)).to_numpy()"
   ]
  },
  {
   "cell_type": "code",
   "execution_count": 9,
   "metadata": {},
   "outputs": [],
   "source": [
    "from sklearn.model_selection import train_test_split\n",
    "train_X, test_X, train_y, test_y = train_test_split(X, y, test_size=0.3, random_state=1)"
   ]
  },
  {
   "cell_type": "markdown",
   "metadata": {},
   "source": [
    "## 레이어 정의"
   ]
  },
  {
   "cell_type": "code",
   "execution_count": 11,
   "metadata": {},
   "outputs": [
    {
     "name": "stdout",
     "output_type": "stream",
     "text": [
      "WARNING:tensorflow:From C:\\Users\\COM\\anaconda3\\lib\\site-packages\\tensorflow_core\\python\\compat\\v2_compat.py:65: disable_resource_variables (from tensorflow.python.ops.variable_scope) is deprecated and will be removed in a future version.\n",
      "Instructions for updating:\n",
      "non-resource variables are not supported in the long term\n"
     ]
    }
   ],
   "source": [
    "import tensorflow.compat.v1 as tf\n",
    "tf.disable_v2_behavior()"
   ]
  },
  {
   "cell_type": "code",
   "execution_count": 12,
   "metadata": {},
   "outputs": [],
   "source": [
    "x = tf.placeholder(tf.float32, [None, 400])\n",
    "y = tf.placeholder(tf.float32, [None, 10])\n",
    "x_image = tf.reshape(x, [-1, 20, 20, 1]) # 행의 수: -1(남은 수를 할당), images:20*20 , channel수:1"
   ]
  },
  {
   "cell_type": "code",
   "execution_count": 13,
   "metadata": {},
   "outputs": [],
   "source": [
    "# convolution layer의 weight = filter\n",
    "# > filter의 shape대로 weight를 만들어야 함\n",
    "# DNN의 Weight는 스칼라값 \n",
    "\n",
    "# 3*3, channel이 1개인 32개의 뉴런을 만듦\n",
    "W_conv1 = tf.Variable(tf.truncated_normal([3,3,1,32], stddev=0.1)) # Weight\n",
    "# b_conv1 = tf.constant(0.1, shape=[32]) # bias. 넣어도 되고 안넣어도 됨\n",
    "# bias의 shape는 뉴런의 수와 같아야 함(32) = 필터의 수\n",
    "\n",
    "# Weight(W_conv1)와 입력값(x_image) 사이에 합성곱이 이루어져야 함\n",
    "# > tensorflow.nn.conv2d 함수가 이를 수행\n",
    "h_conv1 = tf.nn.relu(tf.nn.conv2d(x_image, W_conv1, strides=[1,1,1,1], padding='SAME'))# + b_conv1)\n",
    "# stride: 감소시킨 화소에 따라 stride 값이 달라짐\n",
    "# 화소를 1/2로 줄임: stride=2\n",
    "# 화소를 1/3로 줄임: stride=3\n",
    "# stride=[안씀, x방향, y방향, 안씀] (0,3 index는 확장성을 위해 사용하는 것. 우선은 쓰지 않음)\n",
    "h_pool1 = tf.nn.max_pool(h_conv1, ksize=[1,2,2,1], strides=[1,2,2,1], padding='SAME')\n",
    "# ksize를 2씩 줄였으니 stride도 2로\n",
    "h_pool1_drop = tf.nn.dropout(h_pool1, rate=0.1)\n",
    "# 뉴런이 너무 많아서 학습이 너무 잘돼서..덜 하라고 dropout(Overfitting 방지)\n",
    "# :10%의 확률로 Weight가 조정이 되지 않음\n",
    "# 최대 40%까지 dropout. 물론 절대적인 수치는 없음"
   ]
  },
  {
   "cell_type": "code",
   "execution_count": 14,
   "metadata": {},
   "outputs": [],
   "source": [
    "W_conv2 = tf.Variable(tf.truncated_normal([3,3,32,64], stddev=0.1))\n",
    "# 이전 레이어의 뉴런이 32개였음: 3*3 image가 32개가 들어옴\n",
    "# 현재 레이어의 뉴런의 수는 64\n",
    "# 32, 64 등의 뉴런의 수는 연구자가 임의로 지정해야 하는 수. 당연히 뉴런이 많으면 실행 속도가 느리므로, 적당한 수치를 찾아내야 함\n",
    "# b_conv2 = tf.constant(0.1, shape=[64])\n",
    "\n",
    "h_conv2 = tf.nn.relu(tf.nn.conv2d(h_pool1_drop, W_conv2, strides=[1,1,1,1], padding='SAME'))# + b_conv2)\n",
    "h_pool2 = tf.nn.max_pool(h_conv2, ksize=[1,2,2,1], strides=[1,2,2,1], padding='SAME')\n",
    "# 2*2로 pooling, 화소가 모자라면 한개 채우기\n",
    "\n",
    "h_pool2_drop = tf.nn.dropout(h_pool2, rate=0.25)"
   ]
  },
  {
   "cell_type": "code",
   "execution_count": 15,
   "metadata": {},
   "outputs": [],
   "source": [
    "W_fc1 = tf.Variable(tf.truncated_normal([5*5*64, 1024], stddev=0.1)) # 5*5는 이미지 따라 바꿔야 함\n",
    "# convolution에 따라 나온 이미지 크기가 5*5. 그게 64개\n",
    "# 은닉층 뉴런의 수가 1024개\n",
    "# b_fc1 = tf.constant(0.1, shape=[1024])\n",
    "\n",
    "h_pool2_flat = tf.reshape(h_pool2, [-1, 5*5*64])\n",
    "h_fc1 = tf.nn.relu(tf.matmul(h_pool2_flat, W_fc1))\n",
    "h_fc1_drop = tf.nn.dropout(h_fc1, rate=0.5)"
   ]
  },
  {
   "cell_type": "code",
   "execution_count": 16,
   "metadata": {},
   "outputs": [],
   "source": [
    "W_fc2 = tf.Variable(tf.truncated_normal([1024, 10], stddev=0.1))\n",
    "# b_fc2 = tf.constant(0.1, shape=[10])\n",
    "\n",
    "h = tf.nn.softmax(tf.matmul(h_fc1_drop, W_fc2)) # + b_fc2)"
   ]
  },
  {
   "cell_type": "markdown",
   "metadata": {},
   "source": [
    "## 훈련 정의"
   ]
  },
  {
   "cell_type": "code",
   "execution_count": 17,
   "metadata": {},
   "outputs": [],
   "source": [
    "cross_entropy = -tf.reduce_sum(y*tf.log(h), reduction_indices=[1])\n",
    "loss = tf.reduce_mean(cross_entropy)\n",
    "train = tf.train.AdamOptimizer(0.001).minimize(loss)\n",
    "# GradientDescentOptimizer는 학습률이 높아도 괜찮지만(최저점만나면 멈춤), \n",
    "# AdamOptimizer는 학습률이 너무 높은 것은 좋지 않음(확산률이 높아짐, 최저점 만나도 그방향으로 계속 지속해서 NaN 등이 발생할 수 있음)\n",
    "# 둘의 기본 Learning Rate 크기가 다르기 때문에 주의해야 함."
   ]
  },
  {
   "cell_type": "markdown",
   "metadata": {},
   "source": [
    "## 세션 초기화 및 학습"
   ]
  },
  {
   "cell_type": "code",
   "execution_count": 18,
   "metadata": {},
   "outputs": [],
   "source": [
    "init = tf.global_variables_initializer()\n",
    "sess = tf.Session()\n",
    "sess.run(init)"
   ]
  },
  {
   "cell_type": "code",
   "execution_count": 19,
   "metadata": {},
   "outputs": [
    {
     "name": "stdout",
     "output_type": "stream",
     "text": [
      "step 0, train loss 1.3935686283641397\n",
      "026 - 0.000064\r"
     ]
    }
   ],
   "source": [
    "tot_cnt = len(train_X)\n",
    "\n",
    "for epoch in range(40):\n",
    "    avg_loss = 0\n",
    "    batch_size = 128\n",
    "    tot_iter = int(tot_cnt / batch_size)\n",
    "    for step in range(tot_iter):\n",
    "        batch_X = train_X[int(step*batch_size):int((step+1)*batch_size)]\n",
    "        batch_y = train_y[int(step*batch_size):int((step+1)*batch_size)]\n",
    "        _, loss_ = sess.run([train, loss], feed_dict={x:batch_X, y:batch_y})\n",
    "        avg_loss += (loss_ / tot_iter)\n",
    "        print(\"{:03d} - {:f}\".format(step, loss_), end=\"\\r\")\n",
    "    if tot_cnt//tot_iter != 0:\n",
    "        batch_X = train_X[int(tot_iter*batch_size):]\n",
    "        batch_y = train_y[int(tot_iter*batch_size):]\n",
    "        _, loss_ = sess.run([train, loss], feed_dict={x:batch_X, y:batch_y})\n",
    "        avg_loss += (loss_ / tot_iter)\n",
    "        print(\"{:03d} - {:f}\".format(step, loss_), end=\"\\r\")\n",
    "    if epoch%100 == 0:\n",
    "        print(\"step {}, train loss {}\".format(epoch, avg_loss))"
   ]
  },
  {
   "cell_type": "code",
   "execution_count": 20,
   "metadata": {},
   "outputs": [
    {
     "name": "stdout",
     "output_type": "stream",
     "text": [
      "0.97533333\n"
     ]
    }
   ],
   "source": [
    "correct_prediction = tf.equal(tf.argmax(h, 1), tf.argmax(y, 1))\n",
    "accuracy = tf.reduce_mean(tf.cast(correct_prediction, tf.float32))\n",
    "print(sess.run(accuracy, feed_dict={x:test_X, y:test_y}))"
   ]
  },
  {
   "cell_type": "code",
   "execution_count": 21,
   "metadata": {},
   "outputs": [],
   "source": [
    "sess.close()"
   ]
  },
  {
   "cell_type": "markdown",
   "metadata": {},
   "source": [
    "# Keras"
   ]
  },
  {
   "cell_type": "markdown",
   "metadata": {},
   "source": [
    "## 입력 데이터"
   ]
  },
  {
   "cell_type": "code",
   "execution_count": 23,
   "metadata": {},
   "outputs": [],
   "source": [
    "import cv2\n",
    "img = cv2.imread(\"images/digits.png\", cv2.IMREAD_GRAYSCALE)"
   ]
  },
  {
   "cell_type": "code",
   "execution_count": 24,
   "metadata": {},
   "outputs": [],
   "source": [
    "cells = [np.hsplit(row,100) for row in np.vsplit(img,50)] \n",
    "x = np.array(cells) / 255\n",
    "# keras에서는 tensorflow를 섞어쓸 수 없기 때문에(tf.reshape 사용할 수 없음) 다음과 같이 shape를 정의\n",
    "img_rows, img_cols = 20, 20\n",
    "X = x.reshape(-1, img_rows, img_cols, 1) # numpy reshape 사용\n",
    "# X = x[:,:].reshape(-1, 400).astype(np.float32)\n",
    "y = pd.get_dummies(np.repeat(np.arange(10), 500)).to_numpy()"
   ]
  },
  {
   "cell_type": "code",
   "execution_count": 25,
   "metadata": {},
   "outputs": [],
   "source": [
    "from sklearn.model_selection import train_test_split\n",
    "train_X, test_X, train_y, test_y = train_test_split(X, y, test_size=0.3, random_state=1)"
   ]
  },
  {
   "cell_type": "code",
   "execution_count": 26,
   "metadata": {},
   "outputs": [
    {
     "data": {
      "text/plain": [
       "((3500, 20, 20, 1), (3500, 10))"
      ]
     },
     "execution_count": 26,
     "metadata": {},
     "output_type": "execute_result"
    }
   ],
   "source": [
    "train_X.shape, train_y.shape"
   ]
  },
  {
   "cell_type": "markdown",
   "metadata": {},
   "source": [
    "## 레이어 정의"
   ]
  },
  {
   "cell_type": "code",
   "execution_count": 27,
   "metadata": {},
   "outputs": [
    {
     "name": "stdout",
     "output_type": "stream",
     "text": [
      "WARNING:tensorflow:From C:\\Users\\COM\\anaconda3\\lib\\site-packages\\tensorflow_core\\python\\ops\\resource_variable_ops.py:1630: calling BaseResourceVariable.__init__ (from tensorflow.python.ops.resource_variable_ops) with constraint is deprecated and will be removed in a future version.\n",
      "Instructions for updating:\n",
      "If using Keras pass *_constraint arguments to layers.\n"
     ]
    }
   ],
   "source": [
    "from tensorflow.keras.models import Sequential\n",
    "model = Sequential()\n",
    "\n",
    "from tensorflow.keras.layers import Input, Dense, Dropout, Flatten\n",
    "from tensorflow.keras.layers import Conv2D, MaxPooling2D\n",
    "model.add(Conv2D(32, kernel_size=(3, 3),\n",
    "                 input_shape=(img_rows, img_cols, 1), activation='relu'))\n",
    "model.add(MaxPooling2D(pool_size=(2, 2))) # stride 크기:2*2\n",
    "model.add(Dropout(0.1))\n",
    "\n",
    "model.add(Conv2D(64, (3, 3), activation='relu'))\n",
    "model.add(MaxPooling2D(pool_size=(2, 2)))\n",
    "model.add(Dropout(0.25))\n",
    "\n",
    "model.add(Flatten())\n",
    "model.add(Dense(128, activation='relu'))\n",
    "model.add(Dropout(0.5))\n",
    "model.add(Dense(10, activation='softmax'))"
   ]
  },
  {
   "cell_type": "markdown",
   "metadata": {},
   "source": [
    "## 학습"
   ]
  },
  {
   "cell_type": "code",
   "execution_count": 28,
   "metadata": {},
   "outputs": [],
   "source": [
    "model.compile(loss=tf.keras.losses.categorical_crossentropy,\n",
    "              optimizer=tf.keras.optimizers.Adam(0.001),\n",
    "              metrics=['accuracy'])"
   ]
  },
  {
   "cell_type": "code",
   "execution_count": 29,
   "metadata": {
    "collapsed": true
   },
   "outputs": [
    {
     "name": "stdout",
     "output_type": "stream",
     "text": [
      "Train on 3500 samples, validate on 1500 samples\n",
      "Epoch 1/200\n",
      "3500/3500 [==============================] - 1s 278us/sample - loss: 2.0305 - acc: 0.3406 - val_loss: 1.3139 - val_acc: 0.7480\n",
      "Epoch 2/200\n",
      "3500/3500 [==============================] - 1s 224us/sample - loss: 0.9859 - acc: 0.6997 - val_loss: 0.4299 - val_acc: 0.8820\n",
      "Epoch 3/200\n",
      "3500/3500 [==============================] - 1s 216us/sample - loss: 0.5241 - acc: 0.8417 - val_loss: 0.2687 - val_acc: 0.9200\n",
      "Epoch 4/200\n",
      "3500/3500 [==============================] - 1s 217us/sample - loss: 0.3791 - acc: 0.8863 - val_loss: 0.2260 - val_acc: 0.9333\n",
      "Epoch 5/200\n",
      "3500/3500 [==============================] - 1s 214us/sample - loss: 0.3291 - acc: 0.9020 - val_loss: 0.1962 - val_acc: 0.9427\n",
      "Epoch 6/200\n",
      "3500/3500 [==============================] - 1s 212us/sample - loss: 0.2799 - acc: 0.9137 - val_loss: 0.1725 - val_acc: 0.9427\n",
      "Epoch 7/200\n",
      "3500/3500 [==============================] - 1s 223us/sample - loss: 0.2402 - acc: 0.9283 - val_loss: 0.1687 - val_acc: 0.9440\n",
      "Epoch 8/200\n",
      "3500/3500 [==============================] - 1s 226us/sample - loss: 0.2248 - acc: 0.9337 - val_loss: 0.1528 - val_acc: 0.9540\n",
      "Epoch 9/200\n",
      "3500/3500 [==============================] - 1s 220us/sample - loss: 0.1942 - acc: 0.9346 - val_loss: 0.1415 - val_acc: 0.9567\n",
      "Epoch 10/200\n",
      "3500/3500 [==============================] - 1s 221us/sample - loss: 0.1959 - acc: 0.9451 - val_loss: 0.1397 - val_acc: 0.9533\n",
      "Epoch 11/200\n",
      "3500/3500 [==============================] - 1s 219us/sample - loss: 0.1721 - acc: 0.9506 - val_loss: 0.1319 - val_acc: 0.9573\n",
      "Epoch 12/200\n",
      "3500/3500 [==============================] - 1s 225us/sample - loss: 0.1563 - acc: 0.9526 - val_loss: 0.1277 - val_acc: 0.9600\n",
      "Epoch 13/200\n",
      "3500/3500 [==============================] - 1s 225us/sample - loss: 0.1544 - acc: 0.9569 - val_loss: 0.1232 - val_acc: 0.9613\n",
      "Epoch 14/200\n",
      "3500/3500 [==============================] - 1s 233us/sample - loss: 0.1489 - acc: 0.9589 - val_loss: 0.1257 - val_acc: 0.9573\n",
      "Epoch 15/200\n",
      "3500/3500 [==============================] - 1s 225us/sample - loss: 0.1354 - acc: 0.9591 - val_loss: 0.1196 - val_acc: 0.9513\n",
      "Epoch 16/200\n",
      "3500/3500 [==============================] - 1s 246us/sample - loss: 0.1255 - acc: 0.9660 - val_loss: 0.1239 - val_acc: 0.9580\n",
      "Epoch 17/200\n",
      "3500/3500 [==============================] - 1s 231us/sample - loss: 0.1238 - acc: 0.9649 - val_loss: 0.1197 - val_acc: 0.9573\n",
      "Epoch 18/200\n",
      "3500/3500 [==============================] - 1s 233us/sample - loss: 0.1146 - acc: 0.9689 - val_loss: 0.1153 - val_acc: 0.9633\n",
      "Epoch 19/200\n",
      "3500/3500 [==============================] - 1s 243us/sample - loss: 0.1082 - acc: 0.9697 - val_loss: 0.1129 - val_acc: 0.9647\n",
      "Epoch 20/200\n",
      "3500/3500 [==============================] - 1s 235us/sample - loss: 0.1061 - acc: 0.9677 - val_loss: 0.1137 - val_acc: 0.9660\n",
      "Epoch 21/200\n",
      "3500/3500 [==============================] - 1s 229us/sample - loss: 0.1034 - acc: 0.9669 - val_loss: 0.1098 - val_acc: 0.9647\n",
      "Epoch 22/200\n",
      "3500/3500 [==============================] - 1s 243us/sample - loss: 0.1005 - acc: 0.9677 - val_loss: 0.1021 - val_acc: 0.9660\n",
      "Epoch 23/200\n",
      "3500/3500 [==============================] - 1s 265us/sample - loss: 0.0981 - acc: 0.9706 - val_loss: 0.1060 - val_acc: 0.9667\n",
      "Epoch 24/200\n",
      "3500/3500 [==============================] - 1s 230us/sample - loss: 0.0936 - acc: 0.9703 - val_loss: 0.1026 - val_acc: 0.9707\n",
      "Epoch 25/200\n",
      "3500/3500 [==============================] - 1s 224us/sample - loss: 0.0870 - acc: 0.9746 - val_loss: 0.1056 - val_acc: 0.9680\n",
      "Epoch 26/200\n",
      "3500/3500 [==============================] - 1s 223us/sample - loss: 0.0809 - acc: 0.9743 - val_loss: 0.1052 - val_acc: 0.9680\n",
      "Epoch 27/200\n",
      "3500/3500 [==============================] - 1s 225us/sample - loss: 0.0749 - acc: 0.9769 - val_loss: 0.1047 - val_acc: 0.9700\n",
      "Epoch 28/200\n",
      "3500/3500 [==============================] - 1s 255us/sample - loss: 0.0735 - acc: 0.9746 - val_loss: 0.0999 - val_acc: 0.9687\n",
      "Epoch 29/200\n",
      "3500/3500 [==============================] - 1s 245us/sample - loss: 0.0746 - acc: 0.9766 - val_loss: 0.0976 - val_acc: 0.9687\n",
      "Epoch 30/200\n",
      "3500/3500 [==============================] - 1s 227us/sample - loss: 0.0642 - acc: 0.9797 - val_loss: 0.0989 - val_acc: 0.9693\n",
      "Epoch 31/200\n",
      "3500/3500 [==============================] - 1s 260us/sample - loss: 0.0706 - acc: 0.9783 - val_loss: 0.1040 - val_acc: 0.9680\n",
      "Epoch 32/200\n",
      "3500/3500 [==============================] - 1s 235us/sample - loss: 0.0695 - acc: 0.9803 - val_loss: 0.0974 - val_acc: 0.9653\n",
      "Epoch 33/200\n",
      "3500/3500 [==============================] - 1s 225us/sample - loss: 0.0569 - acc: 0.9834 - val_loss: 0.1022 - val_acc: 0.9673\n",
      "Epoch 34/200\n",
      "3500/3500 [==============================] - 1s 238us/sample - loss: 0.0565 - acc: 0.9817 - val_loss: 0.1042 - val_acc: 0.9707\n",
      "Epoch 35/200\n",
      "3500/3500 [==============================] - 1s 248us/sample - loss: 0.0605 - acc: 0.9814 - val_loss: 0.1022 - val_acc: 0.9713\n",
      "Epoch 36/200\n",
      "3500/3500 [==============================] - 1s 242us/sample - loss: 0.0501 - acc: 0.9849 - val_loss: 0.1034 - val_acc: 0.9733\n",
      "Epoch 37/200\n",
      "3500/3500 [==============================] - 1s 237us/sample - loss: 0.0533 - acc: 0.9840 - val_loss: 0.0976 - val_acc: 0.9700\n",
      "Epoch 38/200\n",
      "3500/3500 [==============================] - 1s 243us/sample - loss: 0.0512 - acc: 0.9849 - val_loss: 0.0974 - val_acc: 0.9720\n",
      "Epoch 39/200\n",
      "3500/3500 [==============================] - 1s 235us/sample - loss: 0.0526 - acc: 0.9851 - val_loss: 0.1042 - val_acc: 0.9687\n",
      "Epoch 40/200\n",
      "3500/3500 [==============================] - 1s 240us/sample - loss: 0.0487 - acc: 0.9880 - val_loss: 0.1049 - val_acc: 0.9693\n",
      "Epoch 41/200\n",
      "3500/3500 [==============================] - 1s 235us/sample - loss: 0.0491 - acc: 0.9829 - val_loss: 0.1059 - val_acc: 0.9700\n",
      "Epoch 42/200\n",
      "3500/3500 [==============================] - 1s 240us/sample - loss: 0.0497 - acc: 0.9837 - val_loss: 0.1078 - val_acc: 0.9727\n",
      "Epoch 43/200\n",
      "3500/3500 [==============================] - 1s 231us/sample - loss: 0.0415 - acc: 0.9863 - val_loss: 0.1028 - val_acc: 0.9713\n",
      "Epoch 44/200\n",
      "3500/3500 [==============================] - 1s 243us/sample - loss: 0.0399 - acc: 0.9886 - val_loss: 0.1003 - val_acc: 0.9687\n",
      "Epoch 45/200\n",
      "3500/3500 [==============================] - 1s 239us/sample - loss: 0.0353 - acc: 0.9900 - val_loss: 0.1003 - val_acc: 0.9713\n",
      "Epoch 46/200\n",
      "3500/3500 [==============================] - 1s 245us/sample - loss: 0.0443 - acc: 0.9860 - val_loss: 0.0991 - val_acc: 0.9727\n",
      "Epoch 47/200\n",
      "3500/3500 [==============================] - 1s 237us/sample - loss: 0.0416 - acc: 0.9863 - val_loss: 0.1110 - val_acc: 0.9707\n",
      "Epoch 48/200\n",
      "3500/3500 [==============================] - 1s 248us/sample - loss: 0.0386 - acc: 0.9883 - val_loss: 0.1019 - val_acc: 0.9713\n",
      "Epoch 49/200\n",
      "3500/3500 [==============================] - 1s 244us/sample - loss: 0.0433 - acc: 0.9860 - val_loss: 0.1116 - val_acc: 0.9713\n",
      "Epoch 50/200\n",
      "3500/3500 [==============================] - 1s 235us/sample - loss: 0.0416 - acc: 0.9880 - val_loss: 0.1054 - val_acc: 0.9740\n",
      "Epoch 51/200\n",
      "3500/3500 [==============================] - 1s 242us/sample - loss: 0.0422 - acc: 0.9874 - val_loss: 0.1104 - val_acc: 0.9707\n",
      "Epoch 52/200\n",
      "3500/3500 [==============================] - 1s 230us/sample - loss: 0.0367 - acc: 0.9897 - val_loss: 0.1028 - val_acc: 0.9747\n",
      "Epoch 53/200\n",
      "3500/3500 [==============================] - 1s 232us/sample - loss: 0.0323 - acc: 0.9894 - val_loss: 0.0988 - val_acc: 0.9733\n",
      "Epoch 54/200\n",
      "3500/3500 [==============================] - 1s 232us/sample - loss: 0.0320 - acc: 0.9889 - val_loss: 0.1042 - val_acc: 0.9720\n",
      "Epoch 55/200\n",
      "3500/3500 [==============================] - 1s 229us/sample - loss: 0.0270 - acc: 0.9926 - val_loss: 0.1036 - val_acc: 0.9767\n",
      "Epoch 56/200\n",
      "3500/3500 [==============================] - 1s 231us/sample - loss: 0.0325 - acc: 0.9900 - val_loss: 0.1002 - val_acc: 0.9760\n",
      "Epoch 57/200\n",
      "3500/3500 [==============================] - 1s 229us/sample - loss: 0.0297 - acc: 0.9906 - val_loss: 0.1024 - val_acc: 0.9740\n",
      "Epoch 58/200\n",
      "3500/3500 [==============================] - 1s 239us/sample - loss: 0.0262 - acc: 0.9926 - val_loss: 0.1097 - val_acc: 0.9747\n",
      "Epoch 59/200\n"
     ]
    },
    {
     "name": "stdout",
     "output_type": "stream",
     "text": [
      "3500/3500 [==============================] - 1s 227us/sample - loss: 0.0290 - acc: 0.9917 - val_loss: 0.1056 - val_acc: 0.9713\n",
      "Epoch 60/200\n",
      "3500/3500 [==============================] - 1s 224us/sample - loss: 0.0269 - acc: 0.9917 - val_loss: 0.1037 - val_acc: 0.9747\n",
      "Epoch 61/200\n",
      "3500/3500 [==============================] - 1s 224us/sample - loss: 0.0266 - acc: 0.9909 - val_loss: 0.1113 - val_acc: 0.9740\n",
      "Epoch 62/200\n",
      "3500/3500 [==============================] - 1s 223us/sample - loss: 0.0242 - acc: 0.9934 - val_loss: 0.1094 - val_acc: 0.9733\n",
      "Epoch 63/200\n",
      "3500/3500 [==============================] - 1s 224us/sample - loss: 0.0349 - acc: 0.9880 - val_loss: 0.1032 - val_acc: 0.9727\n",
      "Epoch 64/200\n",
      "3500/3500 [==============================] - 1s 221us/sample - loss: 0.0283 - acc: 0.9920 - val_loss: 0.1043 - val_acc: 0.9740\n",
      "Epoch 65/200\n",
      "3500/3500 [==============================] - 1s 220us/sample - loss: 0.0281 - acc: 0.9911 - val_loss: 0.0975 - val_acc: 0.9760\n",
      "Epoch 66/200\n",
      "3500/3500 [==============================] - 1s 221us/sample - loss: 0.0192 - acc: 0.9943 - val_loss: 0.1010 - val_acc: 0.9727\n",
      "Epoch 67/200\n",
      "3500/3500 [==============================] - 1s 220us/sample - loss: 0.0238 - acc: 0.9917 - val_loss: 0.1108 - val_acc: 0.9740\n",
      "Epoch 68/200\n",
      "3500/3500 [==============================] - 1s 224us/sample - loss: 0.0224 - acc: 0.9920 - val_loss: 0.1026 - val_acc: 0.9693\n",
      "Epoch 69/200\n",
      "3500/3500 [==============================] - 1s 225us/sample - loss: 0.0220 - acc: 0.9929 - val_loss: 0.1113 - val_acc: 0.9747\n",
      "Epoch 70/200\n",
      "3500/3500 [==============================] - 1s 223us/sample - loss: 0.0198 - acc: 0.9943 - val_loss: 0.1071 - val_acc: 0.9740\n",
      "Epoch 71/200\n",
      "3500/3500 [==============================] - 1s 223us/sample - loss: 0.0222 - acc: 0.9940 - val_loss: 0.1118 - val_acc: 0.9740\n",
      "Epoch 72/200\n",
      "3500/3500 [==============================] - 1s 218us/sample - loss: 0.0273 - acc: 0.9926 - val_loss: 0.1063 - val_acc: 0.9753\n",
      "Epoch 73/200\n",
      "3500/3500 [==============================] - 1s 219us/sample - loss: 0.0202 - acc: 0.9946 - val_loss: 0.1088 - val_acc: 0.9760\n",
      "Epoch 74/200\n",
      "3500/3500 [==============================] - 1s 220us/sample - loss: 0.0241 - acc: 0.9917 - val_loss: 0.1165 - val_acc: 0.9753\n",
      "Epoch 75/200\n",
      "3500/3500 [==============================] - 1s 219us/sample - loss: 0.0241 - acc: 0.9914 - val_loss: 0.1144 - val_acc: 0.9700\n",
      "Epoch 76/200\n",
      "3500/3500 [==============================] - 1s 219us/sample - loss: 0.0223 - acc: 0.9920 - val_loss: 0.1129 - val_acc: 0.9733\n",
      "Epoch 77/200\n",
      "3500/3500 [==============================] - 1s 219us/sample - loss: 0.0269 - acc: 0.9917 - val_loss: 0.0974 - val_acc: 0.9767\n",
      "Epoch 78/200\n",
      "3500/3500 [==============================] - 1s 218us/sample - loss: 0.0321 - acc: 0.9911 - val_loss: 0.0948 - val_acc: 0.9740\n",
      "Epoch 79/200\n",
      "3500/3500 [==============================] - 1s 221us/sample - loss: 0.0179 - acc: 0.9940 - val_loss: 0.1017 - val_acc: 0.9760\n",
      "Epoch 80/200\n",
      "3500/3500 [==============================] - 1s 216us/sample - loss: 0.0212 - acc: 0.9934 - val_loss: 0.1009 - val_acc: 0.9760\n",
      "Epoch 81/200\n",
      "3500/3500 [==============================] - 1s 219us/sample - loss: 0.0208 - acc: 0.9940 - val_loss: 0.1006 - val_acc: 0.9767\n",
      "Epoch 82/200\n",
      "3500/3500 [==============================] - 1s 221us/sample - loss: 0.0209 - acc: 0.9949 - val_loss: 0.0987 - val_acc: 0.9760\n",
      "Epoch 83/200\n",
      "3500/3500 [==============================] - 1s 221us/sample - loss: 0.0162 - acc: 0.9951 - val_loss: 0.0994 - val_acc: 0.9753\n",
      "Epoch 84/200\n",
      "3500/3500 [==============================] - 1s 220us/sample - loss: 0.0181 - acc: 0.9951 - val_loss: 0.0974 - val_acc: 0.9727\n",
      "Epoch 85/200\n",
      "3500/3500 [==============================] - 1s 220us/sample - loss: 0.0167 - acc: 0.9951 - val_loss: 0.1035 - val_acc: 0.9747\n",
      "Epoch 86/200\n",
      "3500/3500 [==============================] - 1s 229us/sample - loss: 0.0147 - acc: 0.9957 - val_loss: 0.1046 - val_acc: 0.9740\n",
      "Epoch 87/200\n",
      "3500/3500 [==============================] - 1s 217us/sample - loss: 0.0144 - acc: 0.9954 - val_loss: 0.1141 - val_acc: 0.9773\n",
      "Epoch 88/200\n",
      "3500/3500 [==============================] - 1s 212us/sample - loss: 0.0169 - acc: 0.9949 - val_loss: 0.1098 - val_acc: 0.9747\n",
      "Epoch 89/200\n",
      "3500/3500 [==============================] - 1s 213us/sample - loss: 0.0159 - acc: 0.9963 - val_loss: 0.1027 - val_acc: 0.9767\n",
      "Epoch 90/200\n",
      "3500/3500 [==============================] - 1s 208us/sample - loss: 0.0139 - acc: 0.9960 - val_loss: 0.1065 - val_acc: 0.9753\n",
      "Epoch 91/200\n",
      "3500/3500 [==============================] - 1s 206us/sample - loss: 0.0137 - acc: 0.9957 - val_loss: 0.1011 - val_acc: 0.9733\n",
      "Epoch 92/200\n",
      "3500/3500 [==============================] - 1s 206us/sample - loss: 0.0203 - acc: 0.9923 - val_loss: 0.1214 - val_acc: 0.9740\n",
      "Epoch 93/200\n",
      "3500/3500 [==============================] - 1s 209us/sample - loss: 0.0183 - acc: 0.9943 - val_loss: 0.1074 - val_acc: 0.9767\n",
      "Epoch 94/200\n",
      "3500/3500 [==============================] - 1s 211us/sample - loss: 0.0119 - acc: 0.9969 - val_loss: 0.1015 - val_acc: 0.9760\n",
      "Epoch 95/200\n",
      "3500/3500 [==============================] - 1s 212us/sample - loss: 0.0144 - acc: 0.9949 - val_loss: 0.1151 - val_acc: 0.9760\n",
      "Epoch 96/200\n",
      "3500/3500 [==============================] - 1s 211us/sample - loss: 0.0224 - acc: 0.9914 - val_loss: 0.1084 - val_acc: 0.9720\n",
      "Epoch 97/200\n",
      "3500/3500 [==============================] - 1s 212us/sample - loss: 0.0165 - acc: 0.9957 - val_loss: 0.1011 - val_acc: 0.9773\n",
      "Epoch 98/200\n",
      "3500/3500 [==============================] - 1s 212us/sample - loss: 0.0129 - acc: 0.9954 - val_loss: 0.1057 - val_acc: 0.9747\n",
      "Epoch 99/200\n",
      "3500/3500 [==============================] - 1s 211us/sample - loss: 0.0208 - acc: 0.9943 - val_loss: 0.1090 - val_acc: 0.9753\n",
      "Epoch 100/200\n",
      "3500/3500 [==============================] - 1s 215us/sample - loss: 0.0122 - acc: 0.9969 - val_loss: 0.1081 - val_acc: 0.9767\n",
      "Epoch 101/200\n",
      "3500/3500 [==============================] - 1s 238us/sample - loss: 0.0137 - acc: 0.9949 - val_loss: 0.1047 - val_acc: 0.9747\n",
      "Epoch 102/200\n",
      "3500/3500 [==============================] - 1s 248us/sample - loss: 0.0132 - acc: 0.9960 - val_loss: 0.1083 - val_acc: 0.9767\n",
      "Epoch 103/200\n",
      "3500/3500 [==============================] - 1s 235us/sample - loss: 0.0178 - acc: 0.9937 - val_loss: 0.1172 - val_acc: 0.9747\n",
      "Epoch 104/200\n",
      "3500/3500 [==============================] - 1s 230us/sample - loss: 0.0129 - acc: 0.9969 - val_loss: 0.1122 - val_acc: 0.9767\n",
      "Epoch 105/200\n",
      "3500/3500 [==============================] - 1s 230us/sample - loss: 0.0134 - acc: 0.9951 - val_loss: 0.1047 - val_acc: 0.9753\n",
      "Epoch 106/200\n",
      "3500/3500 [==============================] - 1s 231us/sample - loss: 0.0123 - acc: 0.9974 - val_loss: 0.1086 - val_acc: 0.9767\n",
      "Epoch 107/200\n",
      "3500/3500 [==============================] - 1s 221us/sample - loss: 0.0164 - acc: 0.9940 - val_loss: 0.1219 - val_acc: 0.9753\n",
      "Epoch 108/200\n",
      "3500/3500 [==============================] - 1s 222us/sample - loss: 0.0144 - acc: 0.9966 - val_loss: 0.1069 - val_acc: 0.9760\n",
      "Epoch 109/200\n",
      "3500/3500 [==============================] - 1s 222us/sample - loss: 0.0120 - acc: 0.9969 - val_loss: 0.1107 - val_acc: 0.9773\n",
      "Epoch 110/200\n",
      "3500/3500 [==============================] - 1s 241us/sample - loss: 0.0155 - acc: 0.9963 - val_loss: 0.1118 - val_acc: 0.9767\n",
      "Epoch 111/200\n",
      "3500/3500 [==============================] - 1s 223us/sample - loss: 0.0148 - acc: 0.9949 - val_loss: 0.1095 - val_acc: 0.9753\n",
      "Epoch 112/200\n",
      "3500/3500 [==============================] - 1s 233us/sample - loss: 0.0197 - acc: 0.9931 - val_loss: 0.1107 - val_acc: 0.9740\n",
      "Epoch 113/200\n",
      "3500/3500 [==============================] - 1s 231us/sample - loss: 0.0173 - acc: 0.9937 - val_loss: 0.1041 - val_acc: 0.9767\n",
      "Epoch 114/200\n",
      "3500/3500 [==============================] - 1s 222us/sample - loss: 0.0180 - acc: 0.9940 - val_loss: 0.1145 - val_acc: 0.9767\n",
      "Epoch 115/200\n",
      "3500/3500 [==============================] - 1s 222us/sample - loss: 0.0135 - acc: 0.9954 - val_loss: 0.1041 - val_acc: 0.9780\n",
      "Epoch 116/200\n",
      "3500/3500 [==============================] - 1s 223us/sample - loss: 0.0178 - acc: 0.9940 - val_loss: 0.1062 - val_acc: 0.9780\n",
      "Epoch 117/200\n"
     ]
    },
    {
     "name": "stdout",
     "output_type": "stream",
     "text": [
      "3500/3500 [==============================] - 1s 236us/sample - loss: 0.0153 - acc: 0.9937 - val_loss: 0.0954 - val_acc: 0.9787\n",
      "Epoch 118/200\n",
      "3500/3500 [==============================] - 1s 290us/sample - loss: 0.0136 - acc: 0.9960 - val_loss: 0.1050 - val_acc: 0.9767\n",
      "Epoch 119/200\n",
      "3500/3500 [==============================] - 1s 250us/sample - loss: 0.0172 - acc: 0.9949 - val_loss: 0.1111 - val_acc: 0.9760\n",
      "Epoch 120/200\n",
      "3500/3500 [==============================] - 1s 285us/sample - loss: 0.0155 - acc: 0.9937 - val_loss: 0.1170 - val_acc: 0.9760\n",
      "Epoch 121/200\n",
      "3500/3500 [==============================] - 1s 269us/sample - loss: 0.0106 - acc: 0.9966 - val_loss: 0.1094 - val_acc: 0.9767\n",
      "Epoch 122/200\n",
      "3500/3500 [==============================] - 1s 265us/sample - loss: 0.0085 - acc: 0.9974 - val_loss: 0.1136 - val_acc: 0.9793\n",
      "Epoch 123/200\n",
      "3500/3500 [==============================] - 1s 253us/sample - loss: 0.0115 - acc: 0.9969 - val_loss: 0.1238 - val_acc: 0.9787\n",
      "Epoch 124/200\n",
      "3500/3500 [==============================] - 1s 232us/sample - loss: 0.0130 - acc: 0.9963 - val_loss: 0.1065 - val_acc: 0.9793\n",
      "Epoch 125/200\n",
      "3500/3500 [==============================] - 1s 228us/sample - loss: 0.0099 - acc: 0.9971 - val_loss: 0.1089 - val_acc: 0.9793\n",
      "Epoch 126/200\n",
      "3500/3500 [==============================] - 1s 228us/sample - loss: 0.0079 - acc: 0.9980 - val_loss: 0.1185 - val_acc: 0.9787\n",
      "Epoch 127/200\n",
      "3500/3500 [==============================] - 1s 227us/sample - loss: 0.0106 - acc: 0.9969 - val_loss: 0.1070 - val_acc: 0.9773\n",
      "Epoch 128/200\n",
      "3500/3500 [==============================] - 1s 212us/sample - loss: 0.0087 - acc: 0.9974 - val_loss: 0.1284 - val_acc: 0.9767\n",
      "Epoch 129/200\n",
      "3500/3500 [==============================] - 1s 242us/sample - loss: 0.0073 - acc: 0.9980 - val_loss: 0.1153 - val_acc: 0.9753\n",
      "Epoch 130/200\n",
      "3500/3500 [==============================] - 1s 229us/sample - loss: 0.0077 - acc: 0.9980 - val_loss: 0.1180 - val_acc: 0.9753\n",
      "Epoch 131/200\n",
      "3500/3500 [==============================] - 1s 239us/sample - loss: 0.0172 - acc: 0.9946 - val_loss: 0.1069 - val_acc: 0.9740\n",
      "Epoch 132/200\n",
      "3500/3500 [==============================] - 1s 222us/sample - loss: 0.0085 - acc: 0.9969 - val_loss: 0.1230 - val_acc: 0.9760\n",
      "Epoch 133/200\n",
      "3500/3500 [==============================] - 1s 227us/sample - loss: 0.0104 - acc: 0.9960 - val_loss: 0.1330 - val_acc: 0.9773\n",
      "Epoch 134/200\n",
      "3500/3500 [==============================] - 1s 224us/sample - loss: 0.0096 - acc: 0.9960 - val_loss: 0.1214 - val_acc: 0.9760\n",
      "Epoch 135/200\n",
      "3500/3500 [==============================] - 1s 217us/sample - loss: 0.0106 - acc: 0.9963 - val_loss: 0.1217 - val_acc: 0.9767\n",
      "Epoch 136/200\n",
      "3500/3500 [==============================] - 1s 230us/sample - loss: 0.0074 - acc: 0.9983 - val_loss: 0.1226 - val_acc: 0.9767\n",
      "Epoch 137/200\n",
      "3500/3500 [==============================] - 1s 236us/sample - loss: 0.0107 - acc: 0.9957 - val_loss: 0.1198 - val_acc: 0.9760\n",
      "Epoch 138/200\n",
      "3500/3500 [==============================] - 1s 221us/sample - loss: 0.0075 - acc: 0.9974 - val_loss: 0.1124 - val_acc: 0.9787\n",
      "Epoch 139/200\n",
      "3500/3500 [==============================] - 1s 224us/sample - loss: 0.0076 - acc: 0.9977 - val_loss: 0.1165 - val_acc: 0.9780\n",
      "Epoch 140/200\n",
      "3500/3500 [==============================] - 1s 220us/sample - loss: 0.0101 - acc: 0.9963 - val_loss: 0.1263 - val_acc: 0.9780\n",
      "Epoch 141/200\n",
      "3500/3500 [==============================] - 1s 245us/sample - loss: 0.0084 - acc: 0.9971 - val_loss: 0.1268 - val_acc: 0.9760\n",
      "Epoch 142/200\n",
      "3500/3500 [==============================] - 1s 234us/sample - loss: 0.0064 - acc: 0.9983 - val_loss: 0.1150 - val_acc: 0.9780\n",
      "Epoch 143/200\n",
      "3500/3500 [==============================] - 1s 237us/sample - loss: 0.0092 - acc: 0.9957 - val_loss: 0.1194 - val_acc: 0.9773\n",
      "Epoch 144/200\n",
      "3500/3500 [==============================] - 1s 224us/sample - loss: 0.0130 - acc: 0.9960 - val_loss: 0.1088 - val_acc: 0.9800\n",
      "Epoch 145/200\n",
      "3500/3500 [==============================] - 1s 222us/sample - loss: 0.0087 - acc: 0.9974 - val_loss: 0.1149 - val_acc: 0.9793\n",
      "Epoch 146/200\n",
      "3500/3500 [==============================] - 1s 224us/sample - loss: 0.0109 - acc: 0.9960 - val_loss: 0.1280 - val_acc: 0.9740\n",
      "Epoch 147/200\n",
      "3500/3500 [==============================] - 1s 225us/sample - loss: 0.0089 - acc: 0.9974 - val_loss: 0.1125 - val_acc: 0.9793\n",
      "Epoch 148/200\n",
      "3500/3500 [==============================] - 1s 219us/sample - loss: 0.0085 - acc: 0.9969 - val_loss: 0.1186 - val_acc: 0.9780\n",
      "Epoch 149/200\n",
      "3500/3500 [==============================] - 1s 220us/sample - loss: 0.0119 - acc: 0.9943 - val_loss: 0.1240 - val_acc: 0.9780\n",
      "Epoch 150/200\n",
      "3500/3500 [==============================] - 1s 236us/sample - loss: 0.0094 - acc: 0.9963 - val_loss: 0.1125 - val_acc: 0.9760\n",
      "Epoch 151/200\n",
      "3500/3500 [==============================] - 1s 255us/sample - loss: 0.0081 - acc: 0.9977 - val_loss: 0.1150 - val_acc: 0.9767\n",
      "Epoch 152/200\n",
      "3500/3500 [==============================] - 1s 254us/sample - loss: 0.0138 - acc: 0.9954 - val_loss: 0.1335 - val_acc: 0.9780\n",
      "Epoch 153/200\n",
      "3500/3500 [==============================] - 1s 242us/sample - loss: 0.0092 - acc: 0.9971 - val_loss: 0.1174 - val_acc: 0.9773\n",
      "Epoch 154/200\n",
      "3500/3500 [==============================] - 1s 235us/sample - loss: 0.0067 - acc: 0.9974 - val_loss: 0.1186 - val_acc: 0.9760\n",
      "Epoch 155/200\n",
      "3500/3500 [==============================] - 1s 219us/sample - loss: 0.0075 - acc: 0.9971 - val_loss: 0.1184 - val_acc: 0.9773\n",
      "Epoch 156/200\n",
      "3500/3500 [==============================] - 1s 222us/sample - loss: 0.0090 - acc: 0.9969 - val_loss: 0.1180 - val_acc: 0.9747\n",
      "Epoch 157/200\n",
      "3500/3500 [==============================] - 1s 221us/sample - loss: 0.0078 - acc: 0.9977 - val_loss: 0.1162 - val_acc: 0.9767\n",
      "Epoch 158/200\n",
      "3500/3500 [==============================] - 1s 221us/sample - loss: 0.0091 - acc: 0.9969 - val_loss: 0.1169 - val_acc: 0.9767\n",
      "Epoch 159/200\n",
      "3500/3500 [==============================] - 1s 222us/sample - loss: 0.0159 - acc: 0.9951 - val_loss: 0.1228 - val_acc: 0.9713\n",
      "Epoch 160/200\n",
      "3500/3500 [==============================] - 1s 222us/sample - loss: 0.0097 - acc: 0.9966 - val_loss: 0.1288 - val_acc: 0.9773\n",
      "Epoch 161/200\n",
      "3500/3500 [==============================] - 1s 224us/sample - loss: 0.0083 - acc: 0.9980 - val_loss: 0.1241 - val_acc: 0.9767\n",
      "Epoch 162/200\n",
      "3500/3500 [==============================] - 1s 225us/sample - loss: 0.0106 - acc: 0.9966 - val_loss: 0.1231 - val_acc: 0.9787\n",
      "Epoch 163/200\n",
      "3500/3500 [==============================] - 1s 222us/sample - loss: 0.0131 - acc: 0.9957 - val_loss: 0.1247 - val_acc: 0.9800\n",
      "Epoch 164/200\n",
      "3500/3500 [==============================] - 1s 223us/sample - loss: 0.0134 - acc: 0.9949 - val_loss: 0.1252 - val_acc: 0.9753\n",
      "Epoch 165/200\n",
      "3500/3500 [==============================] - 1s 221us/sample - loss: 0.0094 - acc: 0.9963 - val_loss: 0.1268 - val_acc: 0.9753\n",
      "Epoch 166/200\n",
      "3500/3500 [==============================] - 1s 234us/sample - loss: 0.0106 - acc: 0.9966 - val_loss: 0.1345 - val_acc: 0.9740\n",
      "Epoch 167/200\n",
      "3500/3500 [==============================] - 1s 227us/sample - loss: 0.0124 - acc: 0.9966 - val_loss: 0.1206 - val_acc: 0.9780\n",
      "Epoch 168/200\n",
      "3500/3500 [==============================] - 1s 227us/sample - loss: 0.0126 - acc: 0.9960 - val_loss: 0.1199 - val_acc: 0.9800\n",
      "Epoch 169/200\n",
      "3500/3500 [==============================] - 1s 237us/sample - loss: 0.0113 - acc: 0.9966 - val_loss: 0.1119 - val_acc: 0.9747\n",
      "Epoch 170/200\n",
      "3500/3500 [==============================] - 1s 211us/sample - loss: 0.0072 - acc: 0.9974 - val_loss: 0.1191 - val_acc: 0.9793\n",
      "Epoch 171/200\n",
      "3500/3500 [==============================] - 1s 213us/sample - loss: 0.0123 - acc: 0.9971 - val_loss: 0.1187 - val_acc: 0.9773\n",
      "Epoch 172/200\n",
      "3500/3500 [==============================] - 1s 215us/sample - loss: 0.0086 - acc: 0.9977 - val_loss: 0.1054 - val_acc: 0.9807\n",
      "Epoch 173/200\n",
      "3500/3500 [==============================] - 1s 215us/sample - loss: 0.0100 - acc: 0.9960 - val_loss: 0.1112 - val_acc: 0.9787\n",
      "Epoch 174/200\n",
      "3500/3500 [==============================] - 1s 218us/sample - loss: 0.0080 - acc: 0.9974 - val_loss: 0.1173 - val_acc: 0.9807\n",
      "Epoch 175/200\n"
     ]
    },
    {
     "name": "stdout",
     "output_type": "stream",
     "text": [
      "3500/3500 [==============================] - 1s 216us/sample - loss: 0.0077 - acc: 0.9977 - val_loss: 0.1183 - val_acc: 0.9773\n",
      "Epoch 176/200\n",
      "3500/3500 [==============================] - 1s 207us/sample - loss: 0.0078 - acc: 0.9974 - val_loss: 0.1263 - val_acc: 0.9780\n",
      "Epoch 177/200\n",
      "3500/3500 [==============================] - 1s 226us/sample - loss: 0.0082 - acc: 0.9974 - val_loss: 0.1254 - val_acc: 0.9793\n",
      "Epoch 178/200\n",
      "3500/3500 [==============================] - 1s 211us/sample - loss: 0.0101 - acc: 0.9969 - val_loss: 0.1123 - val_acc: 0.9793\n",
      "Epoch 179/200\n",
      "3500/3500 [==============================] - 1s 209us/sample - loss: 0.0079 - acc: 0.9983 - val_loss: 0.1199 - val_acc: 0.9793\n",
      "Epoch 180/200\n",
      "3500/3500 [==============================] - 1s 222us/sample - loss: 0.0059 - acc: 0.9980 - val_loss: 0.1168 - val_acc: 0.9807\n",
      "Epoch 181/200\n",
      "3500/3500 [==============================] - 1s 208us/sample - loss: 0.0062 - acc: 0.9986 - val_loss: 0.1308 - val_acc: 0.9807\n",
      "Epoch 182/200\n",
      "3500/3500 [==============================] - 1s 208us/sample - loss: 0.0069 - acc: 0.9980 - val_loss: 0.1312 - val_acc: 0.9760\n",
      "Epoch 183/200\n",
      "3500/3500 [==============================] - 1s 207us/sample - loss: 0.0035 - acc: 0.9994 - val_loss: 0.1185 - val_acc: 0.9780\n",
      "Epoch 184/200\n",
      "3500/3500 [==============================] - 1s 209us/sample - loss: 0.0045 - acc: 0.9986 - val_loss: 0.1204 - val_acc: 0.9767\n",
      "Epoch 185/200\n",
      "3500/3500 [==============================] - 1s 214us/sample - loss: 0.0055 - acc: 0.9989 - val_loss: 0.1179 - val_acc: 0.9787\n",
      "Epoch 186/200\n",
      "3500/3500 [==============================] - 1s 209us/sample - loss: 0.0073 - acc: 0.9980 - val_loss: 0.1145 - val_acc: 0.9807\n",
      "Epoch 187/200\n",
      "3500/3500 [==============================] - 1s 235us/sample - loss: 0.0091 - acc: 0.9974 - val_loss: 0.1224 - val_acc: 0.9767\n",
      "Epoch 188/200\n",
      "3500/3500 [==============================] - 1s 224us/sample - loss: 0.0110 - acc: 0.9963 - val_loss: 0.1131 - val_acc: 0.9760\n",
      "Epoch 189/200\n",
      "3500/3500 [==============================] - 1s 220us/sample - loss: 0.0049 - acc: 0.9989 - val_loss: 0.1222 - val_acc: 0.9767\n",
      "Epoch 190/200\n",
      "3500/3500 [==============================] - 1s 223us/sample - loss: 0.0068 - acc: 0.9980 - val_loss: 0.1145 - val_acc: 0.9753\n",
      "Epoch 191/200\n",
      "3500/3500 [==============================] - 1s 221us/sample - loss: 0.0114 - acc: 0.9960 - val_loss: 0.1293 - val_acc: 0.9807\n",
      "Epoch 192/200\n",
      "3500/3500 [==============================] - 1s 220us/sample - loss: 0.0055 - acc: 0.9986 - val_loss: 0.1351 - val_acc: 0.9773\n",
      "Epoch 193/200\n",
      "3500/3500 [==============================] - 1s 222us/sample - loss: 0.0061 - acc: 0.9986 - val_loss: 0.1202 - val_acc: 0.9753\n",
      "Epoch 194/200\n",
      "3500/3500 [==============================] - 1s 218us/sample - loss: 0.0075 - acc: 0.9977 - val_loss: 0.1188 - val_acc: 0.9813\n",
      "Epoch 195/200\n",
      "3500/3500 [==============================] - 1s 220us/sample - loss: 0.0086 - acc: 0.9974 - val_loss: 0.1176 - val_acc: 0.9780\n",
      "Epoch 196/200\n",
      "3500/3500 [==============================] - 1s 220us/sample - loss: 0.0042 - acc: 0.9983 - val_loss: 0.1220 - val_acc: 0.9787\n",
      "Epoch 197/200\n",
      "3500/3500 [==============================] - 1s 221us/sample - loss: 0.0055 - acc: 0.9983 - val_loss: 0.1227 - val_acc: 0.9780\n",
      "Epoch 198/200\n",
      "3500/3500 [==============================] - 1s 223us/sample - loss: 0.0089 - acc: 0.9971 - val_loss: 0.1125 - val_acc: 0.9787\n",
      "Epoch 199/200\n",
      "3500/3500 [==============================] - 1s 222us/sample - loss: 0.0040 - acc: 0.9994 - val_loss: 0.1295 - val_acc: 0.9767\n",
      "Epoch 200/200\n",
      "3500/3500 [==============================] - 1s 221us/sample - loss: 0.0052 - acc: 0.9983 - val_loss: 0.1370 - val_acc: 0.9760\n"
     ]
    },
    {
     "data": {
      "text/plain": [
       "<tensorflow.python.keras.callbacks.History at 0x1772ac08>"
      ]
     },
     "execution_count": 29,
     "metadata": {},
     "output_type": "execute_result"
    }
   ],
   "source": [
    "model.fit(train_X, train_y, validation_data=(test_X, test_y),\n",
    "          batch_size=128, epochs=200, verbose=1)\n",
    "# 모든 test 이미지가 훈련 데이터에 맞추어져 있다는 보장은 없음\n",
    "# > fit_generator 사용"
   ]
  },
  {
   "cell_type": "markdown",
   "metadata": {},
   "source": [
    "## 평가"
   ]
  },
  {
   "cell_type": "code",
   "execution_count": 31,
   "metadata": {},
   "outputs": [
    {
     "data": {
      "text/plain": [
       "[0.13704303781346727, 0.976]"
      ]
     },
     "execution_count": 31,
     "metadata": {},
     "output_type": "execute_result"
    }
   ],
   "source": [
    "model.evaluate(test_X, test_y, verbose=0)"
   ]
  },
  {
   "cell_type": "code",
   "execution_count": null,
   "metadata": {},
   "outputs": [],
   "source": []
  },
  {
   "cell_type": "code",
   "execution_count": null,
   "metadata": {},
   "outputs": [],
   "source": []
  },
  {
   "cell_type": "code",
   "execution_count": null,
   "metadata": {},
   "outputs": [],
   "source": []
  },
  {
   "cell_type": "code",
   "execution_count": null,
   "metadata": {},
   "outputs": [],
   "source": []
  },
  {
   "cell_type": "code",
   "execution_count": null,
   "metadata": {},
   "outputs": [],
   "source": []
  },
  {
   "cell_type": "code",
   "execution_count": null,
   "metadata": {},
   "outputs": [],
   "source": []
  },
  {
   "cell_type": "code",
   "execution_count": null,
   "metadata": {},
   "outputs": [],
   "source": []
  },
  {
   "cell_type": "code",
   "execution_count": null,
   "metadata": {},
   "outputs": [],
   "source": []
  },
  {
   "cell_type": "code",
   "execution_count": null,
   "metadata": {},
   "outputs": [],
   "source": []
  },
  {
   "cell_type": "code",
   "execution_count": null,
   "metadata": {},
   "outputs": [],
   "source": []
  },
  {
   "cell_type": "code",
   "execution_count": null,
   "metadata": {},
   "outputs": [],
   "source": []
  },
  {
   "cell_type": "code",
   "execution_count": null,
   "metadata": {},
   "outputs": [],
   "source": []
  },
  {
   "cell_type": "code",
   "execution_count": null,
   "metadata": {},
   "outputs": [],
   "source": []
  }
 ],
 "metadata": {
  "kernelspec": {
   "display_name": "Python 3",
   "language": "python",
   "name": "python3"
  },
  "language_info": {
   "codemirror_mode": {
    "name": "ipython",
    "version": 3
   },
   "file_extension": ".py",
   "mimetype": "text/x-python",
   "name": "python",
   "nbconvert_exporter": "python",
   "pygments_lexer": "ipython3",
   "version": "3.7.6"
  },
  "toc": {
   "base_numbering": 1,
   "nav_menu": {},
   "number_sections": true,
   "sideBar": false,
   "skip_h1_title": false,
   "title_cell": "Table of Contents",
   "title_sidebar": "Contents",
   "toc_cell": false,
   "toc_position": {
    "height": "572px",
    "left": "1693px",
    "top": "92px",
    "width": "227px"
   },
   "toc_section_display": true,
   "toc_window_display": true
  },
  "varInspector": {
   "cols": {
    "lenName": 16,
    "lenType": 16,
    "lenVar": 40
   },
   "kernels_config": {
    "python": {
     "delete_cmd_postfix": "",
     "delete_cmd_prefix": "del ",
     "library": "var_list.py",
     "varRefreshCmd": "print(var_dic_list())"
    },
    "r": {
     "delete_cmd_postfix": ") ",
     "delete_cmd_prefix": "rm(",
     "library": "var_list.r",
     "varRefreshCmd": "cat(var_dic_list()) "
    }
   },
   "types_to_exclude": [
    "module",
    "function",
    "builtin_function_or_method",
    "instance",
    "_Feature"
   ],
   "window_display": false
  }
 },
 "nbformat": 4,
 "nbformat_minor": 4
}
