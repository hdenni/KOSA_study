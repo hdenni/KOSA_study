{
 "cells": [
  {
   "cell_type": "code",
   "execution_count": 1,
   "metadata": {},
   "outputs": [],
   "source": [
    "import numpy as np\n",
    "import pandas as pd"
   ]
  },
  {
   "cell_type": "code",
   "execution_count": 2,
   "metadata": {},
   "outputs": [],
   "source": [
    "import matplotlib.pyplot as plt\n",
    "%matplotlib inline\n",
    "%config InlineBackend.figure_format = 'retina'"
   ]
  },
  {
   "cell_type": "code",
   "execution_count": 3,
   "metadata": {},
   "outputs": [
    {
     "data": {
      "text/html": [
       "<style>.container { width:100% !important;} *{font-family:'Consolas'; font-size:14;} .cm-s-ipython span.cm-comment {color: #87CEFA; font-style: italic;}</style>"
      ],
      "text/plain": [
       "<IPython.core.display.HTML object>"
      ]
     },
     "metadata": {},
     "output_type": "display_data"
    }
   ],
   "source": [
    "from IPython.core.display import display, HTML\n",
    "display(HTML(\"<style>.container { width:100% !important;} *{font-family:'Consolas'; font-size:14;} .cm-s-ipython span.cm-comment {color: #87CEFA; font-style: italic;}</style>\"))"
   ]
  },
  {
   "cell_type": "code",
   "execution_count": 4,
   "metadata": {},
   "outputs": [],
   "source": [
    "pd.options.display.max_columns = 1000"
   ]
  },
  {
   "cell_type": "code",
   "execution_count": 5,
   "metadata": {},
   "outputs": [],
   "source": [
    "pd.options.display.max_rows = 1000"
   ]
  },
  {
   "cell_type": "code",
   "execution_count": 6,
   "metadata": {},
   "outputs": [],
   "source": [
    "cust = pd.read_csv(\"CUST_DATA.csv\", encoding=\"utf-16\")\n",
    "claim = pd.read_csv(\"CLAIM_DATA.csv\", encoding=\"utf-16\")"
   ]
  },
  {
   "cell_type": "markdown",
   "metadata": {},
   "source": [
    "결측치 확인"
   ]
  },
  {
   "cell_type": "code",
   "execution_count": 7,
   "metadata": {},
   "outputs": [],
   "source": [
    "# import missingno\n",
    "# missingno.matrix(cust)\n",
    "# plt.show()"
   ]
  },
  {
   "cell_type": "code",
   "execution_count": 8,
   "metadata": {},
   "outputs": [],
   "source": [
    "# import missingno\n",
    "# missingno.matrix(claim)\n",
    "# plt.show()"
   ]
  },
  {
   "cell_type": "markdown",
   "metadata": {},
   "source": [
    "# CUST_DATA"
   ]
  },
  {
   "cell_type": "markdown",
   "metadata": {},
   "source": [
    "## 나이"
   ]
  },
  {
   "cell_type": "code",
   "execution_count": 9,
   "metadata": {},
   "outputs": [],
   "source": [
    "cust['AGE'] = cust['AGE'].map(lambda x: int(x//10))"
   ]
  },
  {
   "cell_type": "code",
   "execution_count": 10,
   "metadata": {},
   "outputs": [],
   "source": [
    "cust['LTBN_CHLD_AGE'] = cust['LTBN_CHLD_AGE'].map(lambda x: x//10)"
   ]
  },
  {
   "cell_type": "markdown",
   "metadata": {},
   "source": [
    "## 직업"
   ]
  },
  {
   "cell_type": "code",
   "execution_count": 11,
   "metadata": {},
   "outputs": [],
   "source": [
    "cust.drop(\"OCCP_GRP_2\", axis=1, inplace=True)"
   ]
  },
  {
   "cell_type": "code",
   "execution_count": 12,
   "metadata": {},
   "outputs": [],
   "source": [
    "cust['OCCP_GRP_1'] = cust['OCCP_GRP_1'].map(lambda x:str(x)[2:])"
   ]
  },
  {
   "cell_type": "code",
   "execution_count": 13,
   "metadata": {},
   "outputs": [],
   "source": [
    "cust.drop(\"MATE_OCCP_GRP_2\", axis=1, inplace=True)"
   ]
  },
  {
   "cell_type": "code",
   "execution_count": 14,
   "metadata": {},
   "outputs": [],
   "source": [
    "cust['MATE_OCCP_GRP_1'] = cust['MATE_OCCP_GRP_1'].map(lambda x: str(x)[2:])"
   ]
  },
  {
   "cell_type": "markdown",
   "metadata": {},
   "source": [
    "## Date 관련 변수 삭제"
   ]
  },
  {
   "cell_type": "code",
   "execution_count": 15,
   "metadata": {},
   "outputs": [],
   "source": [
    "from datetime import datetime\n",
    "today_y = str(datetime.today().year)\n",
    "today_m = str(datetime.today().month)\n",
    "today = today_y + today_m"
   ]
  },
  {
   "cell_type": "code",
   "execution_count": 16,
   "metadata": {},
   "outputs": [],
   "source": [
    "def calc_month(a, b):\n",
    "    try:\n",
    "        a = str(a)\n",
    "        a_y = int(a[:4])\n",
    "        a_m = int(a[4:6])\n",
    "\n",
    "        b = str(b)\n",
    "        b_y = int(b[:4])\n",
    "        b_m = int(b[4:6])\n",
    "    \n",
    "        return (a_y - b_y) * 12 + (a_m - b_m) + 1\n",
    "    except:\n",
    "        return 0"
   ]
  },
  {
   "cell_type": "code",
   "execution_count": 17,
   "metadata": {},
   "outputs": [],
   "source": [
    "max_ym = list()\n",
    "for i in range(len(cust)):\n",
    "    max_ym.append(calc_month(cust.MAX_PAYM_YM[i], cust.CUST_RGST[i]))"
   ]
  },
  {
   "cell_type": "code",
   "execution_count": 18,
   "metadata": {},
   "outputs": [],
   "source": [
    "cust[\"CUST_RGST\"] = cust.CUST_RGST.map(lambda x: calc_month(today, x))\n",
    "cust[\"MAX_PAYM_YM\"] = max_ym"
   ]
  },
  {
   "cell_type": "code",
   "execution_count": 19,
   "metadata": {},
   "outputs": [],
   "source": [
    "# cust.drop(['CUST_RGST', 'MAX_PAYM_YM'], axis=1, inplace=True)"
   ]
  },
  {
   "cell_type": "code",
   "execution_count": 20,
   "metadata": {},
   "outputs": [],
   "source": [
    "cust.to_csv(\"CUST_DATA_1-1.csv\", encoding=\"utf-8-sig\", index=False)"
   ]
  },
  {
   "cell_type": "code",
   "execution_count": 21,
   "metadata": {},
   "outputs": [],
   "source": [
    "# import missingno\n",
    "# missingno.bar(cust)\n",
    "# plt.show()"
   ]
  },
  {
   "cell_type": "markdown",
   "metadata": {},
   "source": [
    "# 결측치 처리"
   ]
  },
  {
   "cell_type": "markdown",
   "metadata": {},
   "source": [
    "신용등급"
   ]
  },
  {
   "cell_type": "code",
   "execution_count": 22,
   "metadata": {},
   "outputs": [],
   "source": [
    "cust.drop(['MINCRDT', 'MAXCRDT'], axis=1, inplace=True)"
   ]
  },
  {
   "cell_type": "markdown",
   "metadata": {},
   "source": [
    "개인소득 "
   ]
  },
  {
   "cell_type": "markdown",
   "metadata": {},
   "source": [
    "* 직업별 평균 소득으로 채움"
   ]
  },
  {
   "cell_type": "code",
   "execution_count": 23,
   "metadata": {},
   "outputs": [],
   "source": [
    "occp_age_cust = cust.pivot_table(index=[\"AGE\", \"OCCP_GRP_1\"],\n",
    "                                 values=\"CUST_INCM\", aggfunc=\"mean\")"
   ]
  },
  {
   "cell_type": "code",
   "execution_count": 24,
   "metadata": {},
   "outputs": [],
   "source": [
    "# occp_age_cust.head()"
   ]
  },
  {
   "cell_type": "code",
   "execution_count": 25,
   "metadata": {},
   "outputs": [],
   "source": [
    "def fill_income(row):\n",
    "    try:\n",
    "        avg_income = occp_age_cust[\"CUST_INCM\"][row.AGE][row.OCCP_GRP_1]\n",
    "    except:\n",
    "        avg_income = 0\n",
    "    return avg_income"
   ]
  },
  {
   "cell_type": "code",
   "execution_count": 26,
   "metadata": {},
   "outputs": [
    {
     "name": "stderr",
     "output_type": "stream",
     "text": [
      "C:\\Users\\COM\\anaconda3\\lib\\site-packages\\ipykernel_launcher.py:1: SettingWithCopyWarning: \n",
      "A value is trying to be set on a copy of a slice from a DataFrame\n",
      "\n",
      "See the caveats in the documentation: https://pandas.pydata.org/pandas-docs/stable/user_guide/indexing.html#returning-a-view-versus-a-copy\n",
      "  \"\"\"Entry point for launching an IPython kernel.\n"
     ]
    }
   ],
   "source": [
    "cust[\"CUST_INCM\"][cust.CUST_INCM.isnull()] = cust[cust.CUST_INCM.isnull()].apply(fill_income, axis=1)"
   ]
  },
  {
   "cell_type": "markdown",
   "metadata": {},
   "source": [
    "가구 소득"
   ]
  },
  {
   "cell_type": "code",
   "execution_count": 27,
   "metadata": {},
   "outputs": [],
   "source": [
    "avg_income_by_job = cust.pivot_table(index=[\"OCCP_GRP_1\"],\n",
    "                                     values=[\"JPBASE_HSHD_INCM\"],\n",
    "                                     aggfunc=\"mean\")"
   ]
  },
  {
   "cell_type": "code",
   "execution_count": 28,
   "metadata": {},
   "outputs": [],
   "source": [
    "def fill_jpbase_incm(row):\n",
    "    try:\n",
    "        avg_jpbase = jpbase_df[\"JPBASE_HSHD_INCM\"][row.OCCP_GRP_1]\n",
    "    except:\n",
    "        avg_jpbase = 0\n",
    "    return avg_jpbase"
   ]
  },
  {
   "cell_type": "code",
   "execution_count": 29,
   "metadata": {},
   "outputs": [
    {
     "name": "stderr",
     "output_type": "stream",
     "text": [
      "C:\\Users\\COM\\anaconda3\\lib\\site-packages\\ipykernel_launcher.py:1: SettingWithCopyWarning: \n",
      "A value is trying to be set on a copy of a slice from a DataFrame\n",
      "\n",
      "See the caveats in the documentation: https://pandas.pydata.org/pandas-docs/stable/user_guide/indexing.html#returning-a-view-versus-a-copy\n",
      "  \"\"\"Entry point for launching an IPython kernel.\n"
     ]
    }
   ],
   "source": [
    "cust['JPBASE_HSHD_INCM'][cust.JPBASE_HSHD_INCM.isnull()] = cust[cust['JPBASE_HSHD_INCM'].isnull()].apply(fill_jpbase_incm, axis=1)"
   ]
  },
  {
   "cell_type": "code",
   "execution_count": 30,
   "metadata": {},
   "outputs": [],
   "source": [
    "# cust.to_csv(\"CUST_DATA_1-2.csv\", encoding='utf-8-sig', index=False)"
   ]
  },
  {
   "cell_type": "markdown",
   "metadata": {},
   "source": [
    "기타 변수"
   ]
  },
  {
   "cell_type": "markdown",
   "metadata": {},
   "source": [
    "* RESI_TYPE_CODE, CTPR: 최빈값"
   ]
  },
  {
   "cell_type": "code",
   "execution_count": 31,
   "metadata": {},
   "outputs": [],
   "source": [
    "# cust = pd.read_csv(\"CUST_DATA_1-2.csv\", encoding='utf-8-sig')"
   ]
  },
  {
   "cell_type": "code",
   "execution_count": 32,
   "metadata": {},
   "outputs": [],
   "source": [
    "# cust"
   ]
  },
  {
   "cell_type": "code",
   "execution_count": 33,
   "metadata": {},
   "outputs": [],
   "source": [
    "resi_mean = cust.groupby(\"RESI_TYPE_CODE\").mean()"
   ]
  },
  {
   "cell_type": "code",
   "execution_count": 34,
   "metadata": {},
   "outputs": [],
   "source": [
    "# resi_mean"
   ]
  },
  {
   "cell_type": "code",
   "execution_count": 35,
   "metadata": {},
   "outputs": [],
   "source": [
    "# cust[\"RESI_TYPE_CODE\"].value_counts()"
   ]
  },
  {
   "cell_type": "code",
   "execution_count": 36,
   "metadata": {},
   "outputs": [],
   "source": [
    "cust[\"RESI_TYPE_CODE\"].fillna(20, inplace=True)"
   ]
  },
  {
   "cell_type": "code",
   "execution_count": 37,
   "metadata": {},
   "outputs": [],
   "source": [
    "def na2mean(x):\n",
    "    if x.RESI_COST==0:\n",
    "        x.RESI_COST = resi_mean.loc[x['RESI_TYPE_CODE']]['RESI_COST']\n",
    "    return x"
   ]
  },
  {
   "cell_type": "code",
   "execution_count": 38,
   "metadata": {},
   "outputs": [],
   "source": [
    "cust = cust.apply(na2mean, axis=1)"
   ]
  },
  {
   "cell_type": "code",
   "execution_count": 39,
   "metadata": {},
   "outputs": [],
   "source": [
    "# cust"
   ]
  },
  {
   "cell_type": "code",
   "execution_count": 40,
   "metadata": {},
   "outputs": [],
   "source": [
    "# len(cust.loc[cust.CTPR.isnull()])"
   ]
  },
  {
   "cell_type": "code",
   "execution_count": 41,
   "metadata": {},
   "outputs": [],
   "source": [
    "# cust[\"CTPR\"].value_counts()"
   ]
  },
  {
   "cell_type": "code",
   "execution_count": 42,
   "metadata": {},
   "outputs": [],
   "source": [
    "cust[\"CTPR\"].fillna(\"경기\", inplace=True)"
   ]
  },
  {
   "cell_type": "markdown",
   "metadata": {},
   "source": [
    "* WEDD_YN: N"
   ]
  },
  {
   "cell_type": "code",
   "execution_count": 43,
   "metadata": {},
   "outputs": [],
   "source": [
    "cust[\"WEDD_YN\"].fillna(\"N\", inplace=True)"
   ]
  },
  {
   "cell_type": "code",
   "execution_count": 44,
   "metadata": {},
   "outputs": [
    {
     "data": {
      "text/html": [
       "<div>\n",
       "<style scoped>\n",
       "    .dataframe tbody tr th:only-of-type {\n",
       "        vertical-align: middle;\n",
       "    }\n",
       "\n",
       "    .dataframe tbody tr th {\n",
       "        vertical-align: top;\n",
       "    }\n",
       "\n",
       "    .dataframe thead th {\n",
       "        text-align: right;\n",
       "    }\n",
       "</style>\n",
       "<table border=\"1\" class=\"dataframe\">\n",
       "  <thead>\n",
       "    <tr style=\"text-align: right;\">\n",
       "      <th></th>\n",
       "      <th>CUST_ID</th>\n",
       "      <th>DIVIDED_SET</th>\n",
       "      <th>SIU_CUST_YN</th>\n",
       "      <th>SEX</th>\n",
       "      <th>AGE</th>\n",
       "      <th>RESI_COST</th>\n",
       "      <th>RESI_TYPE_CODE</th>\n",
       "      <th>FP_CAREER</th>\n",
       "      <th>CUST_RGST</th>\n",
       "      <th>CTPR</th>\n",
       "      <th>OCCP_GRP_1</th>\n",
       "      <th>TOTALPREM</th>\n",
       "      <th>WEDD_YN</th>\n",
       "      <th>MATE_OCCP_GRP_1</th>\n",
       "      <th>CHLD_CNT</th>\n",
       "      <th>LTBN_CHLD_AGE</th>\n",
       "      <th>MAX_PAYM_YM</th>\n",
       "      <th>MAX_PRM</th>\n",
       "      <th>CUST_INCM</th>\n",
       "      <th>RCBASE_HSHD_INCM</th>\n",
       "      <th>JPBASE_HSHD_INCM</th>\n",
       "    </tr>\n",
       "  </thead>\n",
       "  <tbody>\n",
       "    <tr>\n",
       "      <th>0</th>\n",
       "      <td>1</td>\n",
       "      <td>1</td>\n",
       "      <td>N</td>\n",
       "      <td>2</td>\n",
       "      <td>4</td>\n",
       "      <td>21111.000000</td>\n",
       "      <td>20.0</td>\n",
       "      <td>N</td>\n",
       "      <td>249</td>\n",
       "      <td>충북</td>\n",
       "      <td>사무직</td>\n",
       "      <td>146980441.0</td>\n",
       "      <td>Y</td>\n",
       "      <td>사무직</td>\n",
       "      <td>2.0</td>\n",
       "      <td>1.0</td>\n",
       "      <td>110</td>\n",
       "      <td>319718.0</td>\n",
       "      <td>4879.000000</td>\n",
       "      <td>10094</td>\n",
       "      <td>11337.0</td>\n",
       "    </tr>\n",
       "    <tr>\n",
       "      <th>1</th>\n",
       "      <td>2</td>\n",
       "      <td>1</td>\n",
       "      <td>N</td>\n",
       "      <td>1</td>\n",
       "      <td>5</td>\n",
       "      <td>40000.000000</td>\n",
       "      <td>20.0</td>\n",
       "      <td>N</td>\n",
       "      <td>249</td>\n",
       "      <td>서울</td>\n",
       "      <td>사무직</td>\n",
       "      <td>94600109.0</td>\n",
       "      <td>Y</td>\n",
       "      <td>주부</td>\n",
       "      <td>2.0</td>\n",
       "      <td>1.0</td>\n",
       "      <td>15</td>\n",
       "      <td>341341.0</td>\n",
       "      <td>6509.000000</td>\n",
       "      <td>9143</td>\n",
       "      <td>6509.0</td>\n",
       "    </tr>\n",
       "    <tr>\n",
       "      <th>2</th>\n",
       "      <td>3</td>\n",
       "      <td>1</td>\n",
       "      <td>N</td>\n",
       "      <td>1</td>\n",
       "      <td>6</td>\n",
       "      <td>22133.007305</td>\n",
       "      <td>20.0</td>\n",
       "      <td>N</td>\n",
       "      <td>249</td>\n",
       "      <td>서울</td>\n",
       "      <td>서비스</td>\n",
       "      <td>18501269.0</td>\n",
       "      <td>N</td>\n",
       "      <td>n</td>\n",
       "      <td>0.0</td>\n",
       "      <td>0.0</td>\n",
       "      <td>44</td>\n",
       "      <td>131300.0</td>\n",
       "      <td>4180.000000</td>\n",
       "      <td>0</td>\n",
       "      <td>4180.0</td>\n",
       "    </tr>\n",
       "    <tr>\n",
       "      <th>3</th>\n",
       "      <td>4</td>\n",
       "      <td>1</td>\n",
       "      <td>N</td>\n",
       "      <td>2</td>\n",
       "      <td>6</td>\n",
       "      <td>12861.000000</td>\n",
       "      <td>40.0</td>\n",
       "      <td>Y</td>\n",
       "      <td>249</td>\n",
       "      <td>경기</td>\n",
       "      <td>자영업</td>\n",
       "      <td>317223657.0</td>\n",
       "      <td>N</td>\n",
       "      <td>n</td>\n",
       "      <td>0.0</td>\n",
       "      <td>0.0</td>\n",
       "      <td>132</td>\n",
       "      <td>1493184.0</td>\n",
       "      <td>4813.837838</td>\n",
       "      <td>4270</td>\n",
       "      <td>5914.0</td>\n",
       "    </tr>\n",
       "    <tr>\n",
       "      <th>4</th>\n",
       "      <td>5</td>\n",
       "      <td>1</td>\n",
       "      <td>N</td>\n",
       "      <td>2</td>\n",
       "      <td>5</td>\n",
       "      <td>22133.007305</td>\n",
       "      <td>20.0</td>\n",
       "      <td>Y</td>\n",
       "      <td>249</td>\n",
       "      <td>광주</td>\n",
       "      <td>자영업</td>\n",
       "      <td>10506072.0</td>\n",
       "      <td>Y</td>\n",
       "      <td>사무직</td>\n",
       "      <td>3.0</td>\n",
       "      <td>1.0</td>\n",
       "      <td>106</td>\n",
       "      <td>166760.0</td>\n",
       "      <td>3894.000000</td>\n",
       "      <td>0</td>\n",
       "      <td>8885.0</td>\n",
       "    </tr>\n",
       "  </tbody>\n",
       "</table>\n",
       "</div>"
      ],
      "text/plain": [
       "   CUST_ID  DIVIDED_SET SIU_CUST_YN  SEX  AGE     RESI_COST  RESI_TYPE_CODE  \\\n",
       "0        1            1           N    2    4  21111.000000            20.0   \n",
       "1        2            1           N    1    5  40000.000000            20.0   \n",
       "2        3            1           N    1    6  22133.007305            20.0   \n",
       "3        4            1           N    2    6  12861.000000            40.0   \n",
       "4        5            1           N    2    5  22133.007305            20.0   \n",
       "\n",
       "  FP_CAREER  CUST_RGST CTPR OCCP_GRP_1    TOTALPREM WEDD_YN MATE_OCCP_GRP_1  \\\n",
       "0         N        249   충북        사무직  146980441.0       Y             사무직   \n",
       "1         N        249   서울        사무직   94600109.0       Y              주부   \n",
       "2         N        249   서울        서비스   18501269.0       N               n   \n",
       "3         Y        249   경기        자영업  317223657.0       N               n   \n",
       "4         Y        249   광주        자영업   10506072.0       Y             사무직   \n",
       "\n",
       "   CHLD_CNT  LTBN_CHLD_AGE  MAX_PAYM_YM    MAX_PRM    CUST_INCM  \\\n",
       "0       2.0            1.0          110   319718.0  4879.000000   \n",
       "1       2.0            1.0           15   341341.0  6509.000000   \n",
       "2       0.0            0.0           44   131300.0  4180.000000   \n",
       "3       0.0            0.0          132  1493184.0  4813.837838   \n",
       "4       3.0            1.0          106   166760.0  3894.000000   \n",
       "\n",
       "   RCBASE_HSHD_INCM  JPBASE_HSHD_INCM  \n",
       "0             10094           11337.0  \n",
       "1              9143            6509.0  \n",
       "2                 0            4180.0  \n",
       "3              4270            5914.0  \n",
       "4                 0            8885.0  "
      ]
     },
     "execution_count": 44,
     "metadata": {},
     "output_type": "execute_result"
    }
   ],
   "source": [
    "cust.head()"
   ]
  },
  {
   "cell_type": "code",
   "execution_count": 45,
   "metadata": {},
   "outputs": [],
   "source": [
    "# len(cust.loc[cust.WEDD_YN.isnull()]), len(cust.loc[cust.MATE_OCCP_GRP_1.isnull()]), len(cust.loc[cust.LTBN_CHLD_AGE.isnull()]), "
   ]
  },
  {
   "cell_type": "markdown",
   "metadata": {},
   "source": [
    "* LBTN_CHLD_AGE, CHLD_CNT, TOTALPREM, MAX_PRM: 0"
   ]
  },
  {
   "cell_type": "code",
   "execution_count": 46,
   "metadata": {},
   "outputs": [],
   "source": [
    "def fillna_zero(cust, col):\n",
    "    return cust[col].fillna(0, inplace=True)"
   ]
  },
  {
   "cell_type": "code",
   "execution_count": 47,
   "metadata": {},
   "outputs": [],
   "source": [
    "fillna_zero(cust, \"LTBN_CHLD_AGE\")\n",
    "fillna_zero(cust, \"CHLD_CNT\")\n",
    "fillna_zero(cust, \"TOTALPREM\")\n",
    "fillna_zero(cust, \"MAX_PRM\")"
   ]
  },
  {
   "cell_type": "markdown",
   "metadata": {},
   "source": [
    "* FP_CAREER: 분석에 유의미하지 않다고 판단, 삭제"
   ]
  },
  {
   "cell_type": "code",
   "execution_count": 48,
   "metadata": {},
   "outputs": [],
   "source": [
    "cust.drop(\"FP_CAREER\", axis=1, inplace=True)"
   ]
  },
  {
   "cell_type": "markdown",
   "metadata": {},
   "source": [
    "## 원-핫 인코딩"
   ]
  },
  {
   "cell_type": "code",
   "execution_count": 49,
   "metadata": {},
   "outputs": [],
   "source": [
    "category = [\"SEX\", \"RESI_TYPE_CODE\", \"CTPR\", \"OCCP_GRP_1\", \"WEDD_YN\", \"MATE_OCCP_GRP_1\"]\n",
    "cust = pd.get_dummies(cust, columns=category)"
   ]
  },
  {
   "cell_type": "code",
   "execution_count": null,
   "metadata": {},
   "outputs": [],
   "source": [
    "cust.to_csv(\"CUST_DATA_after_dummy.csv\", index=False, encoding=\"utf-8-sig\")"
   ]
  },
  {
   "cell_type": "markdown",
   "metadata": {},
   "source": [
    "# CLAIM_DATA"
   ]
  },
  {
   "cell_type": "markdown",
   "metadata": {},
   "source": [
    "* 결측치가 너무 많은 변수, 날짜변수 삭제"
   ]
  },
  {
   "cell_type": "code",
   "execution_count": 50,
   "metadata": {},
   "outputs": [],
   "source": [
    "# 결측치가 지나치게 많음(그냥 흰기둥수준)\n",
    "drops = [\"SELF_CHAM\", \"NON_PAY\", \"TAMT_SFCA\", \"PATT_CHRG_TOTA\", \"DSCT_AMT\", \"COUNT_TRMT_ITEM\", \"DCAF_CMPS_XCPA\"]\n",
    "claim.drop(drops, axis=1, inplace=True)"
   ]
  },
  {
   "cell_type": "code",
   "execution_count": 51,
   "metadata": {},
   "outputs": [],
   "source": [
    "# 입원 기간은 따로 변수 있음(VLID_HOSP_OTDA)\n",
    "# 얼마나 자주 입원하는지를 뽑아낼 수 있으면 좋을 것 같긴 한데..좀 어렵다\n",
    "date_drops = [\"HOSP_OTPA_STDT\", \"HOSP_OTPA_ENDT\"]\n",
    "claim.drop(date_drops, axis=1, inplace=True)"
   ]
  },
  {
   "cell_type": "markdown",
   "metadata": {},
   "source": [
    "## HOSP_DAYS \n",
    "각 고객별 평균 입원 일수"
   ]
  },
  {
   "cell_type": "code",
   "execution_count": 52,
   "metadata": {},
   "outputs": [],
   "source": [
    "claim_df = claim.pivot_table(index='CUST_ID', values='VLID_HOSP_OTDA', aggfunc='mean')\n",
    "claim_df.reset_index(inplace=True)\n",
    "cust = pd.merge(cust, claim_df, how='left', on='CUST_ID')\n",
    "cust.rename(columns={\"VLID_HOSP_OTDA\":\"HOSP_DAYS\"}, inplace=True)"
   ]
  },
  {
   "cell_type": "markdown",
   "metadata": {},
   "source": [
    "## HEED_HOSP\n",
    "각 고객별 유의병원 출입여부"
   ]
  },
  {
   "cell_type": "code",
   "execution_count": 53,
   "metadata": {},
   "outputs": [],
   "source": [
    "id_heed = claim[claim['HEED_HOSP_YN'] == 'Y']['CUST_ID'].unique()"
   ]
  },
  {
   "cell_type": "code",
   "execution_count": 54,
   "metadata": {},
   "outputs": [
    {
     "name": "stderr",
     "output_type": "stream",
     "text": [
      "C:\\Users\\COM\\anaconda3\\lib\\site-packages\\ipykernel_launcher.py:2: SettingWithCopyWarning: \n",
      "A value is trying to be set on a copy of a slice from a DataFrame\n",
      "\n",
      "See the caveats in the documentation: https://pandas.pydata.org/pandas-docs/stable/user_guide/indexing.html#returning-a-view-versus-a-copy\n",
      "  \n"
     ]
    }
   ],
   "source": [
    "cust['HEED_HOSP'] = np.nan\n",
    "cust['HEED_HOSP'][cust['CUST_ID'].isin(id_heed)] = 1 # 방문한 적이 있다면 1\n",
    "cust['HEED_HOSP'].fillna(0, inplace=True) # 나머지는 nan으로 초기화되어 결측치로 취급되고 있음. 0으로 채우기"
   ]
  },
  {
   "cell_type": "markdown",
   "metadata": {},
   "source": [
    "## CLAIM_COUNT\n",
    "각 고객별 청구횟수"
   ]
  },
  {
   "cell_type": "code",
   "execution_count": 55,
   "metadata": {},
   "outputs": [],
   "source": [
    "# claim_count = claim.loc[:, [\"CUST_ID\", \"POLY_NO\"]]\n",
    "# claim_count_g = claim_count.groupby(claim_count.CUST_ID).count()\n",
    "# cust[\"CLAIM_COUNT\"] = claim_count_g\n",
    "# cust.CLAIM_COUNT.fillna(1, inplace=True)"
   ]
  },
  {
   "cell_type": "code",
   "execution_count": 56,
   "metadata": {},
   "outputs": [],
   "source": [
    "c_count = claim.pivot_table(index='CUST_ID', values='POLY_NO', aggfunc='count').reset_index()\n",
    "c_count.columns = ['CUST_ID', 'CLAIM_COUNT']\n",
    "cust = pd.merge(cust, c_count, on='CUST_ID', how='left')"
   ]
  },
  {
   "cell_type": "markdown",
   "metadata": {},
   "source": [
    "## 의사별 사기비율"
   ]
  },
  {
   "cell_type": "code",
   "execution_count": 57,
   "metadata": {},
   "outputs": [],
   "source": [
    "# 의사별 사기수/전체 청구수\n",
    "data = pd.merge(claim, cust[['CUST_ID', 'SIU_CUST_YN']], how='left', on='CUST_ID')\n",
    "doc_all = data.pivot_table(index=[\"CHME_LICE_NO\"], values=\"POLY_NO\", aggfunc=\"count\").reset_index()\n",
    "doc_YN = data.pivot_table(index=[\"CHME_LICE_NO\", \"SIU_CUST_YN\"], values=\"POLY_NO\", aggfunc='count').reset_index()\n",
    "doc_YN = doc_YN[doc_YN['SIU_CUST_YN']=='Y']\n",
    "doc_all = pd.merge(doc_all, doc_YN, how='left', on='CHME_LICE_NO')\n",
    "\n",
    "doc_all[\"DOC_SIU_RATIO\"] = doc_all[\"POLY_NO_y\"]/doc_all[\"POLY_NO_y\"]\n",
    "doc_all.fillna(0, inplace=True)\n",
    "doc_fake = doc_all[['CHME_LICE_NO', 'DOC_SIU_RATIO']]"
   ]
  },
  {
   "cell_type": "code",
   "execution_count": 58,
   "metadata": {},
   "outputs": [
    {
     "data": {
      "text/html": [
       "<div>\n",
       "<style scoped>\n",
       "    .dataframe tbody tr th:only-of-type {\n",
       "        vertical-align: middle;\n",
       "    }\n",
       "\n",
       "    .dataframe tbody tr th {\n",
       "        vertical-align: top;\n",
       "    }\n",
       "\n",
       "    .dataframe thead th {\n",
       "        text-align: right;\n",
       "    }\n",
       "</style>\n",
       "<table border=\"1\" class=\"dataframe\">\n",
       "  <thead>\n",
       "    <tr style=\"text-align: right;\">\n",
       "      <th></th>\n",
       "      <th>CHME_LICE_NO</th>\n",
       "      <th>DOC_SIU_RATIO</th>\n",
       "    </tr>\n",
       "  </thead>\n",
       "  <tbody>\n",
       "    <tr>\n",
       "      <th>0</th>\n",
       "      <td>6</td>\n",
       "      <td>0.0</td>\n",
       "    </tr>\n",
       "    <tr>\n",
       "      <th>1</th>\n",
       "      <td>7</td>\n",
       "      <td>0.0</td>\n",
       "    </tr>\n",
       "    <tr>\n",
       "      <th>2</th>\n",
       "      <td>8</td>\n",
       "      <td>1.0</td>\n",
       "    </tr>\n",
       "    <tr>\n",
       "      <th>3</th>\n",
       "      <td>9</td>\n",
       "      <td>0.0</td>\n",
       "    </tr>\n",
       "    <tr>\n",
       "      <th>4</th>\n",
       "      <td>10</td>\n",
       "      <td>0.0</td>\n",
       "    </tr>\n",
       "  </tbody>\n",
       "</table>\n",
       "</div>"
      ],
      "text/plain": [
       "   CHME_LICE_NO  DOC_SIU_RATIO\n",
       "0             6            0.0\n",
       "1             7            0.0\n",
       "2             8            1.0\n",
       "3             9            0.0\n",
       "4            10            0.0"
      ]
     },
     "execution_count": 58,
     "metadata": {},
     "output_type": "execute_result"
    }
   ],
   "source": [
    "doc_fake.head()"
   ]
  },
  {
   "cell_type": "code",
   "execution_count": 59,
   "metadata": {},
   "outputs": [],
   "source": [
    "# CUST_ID 별 의사사기비율 max\n",
    "df_lice = claim.pivot_table(index=[\"CUST_ID\", \"CHME_LICE_NO\"], values=\"POLY_NO\", aggfunc=\"count\").reset_index()\n",
    "df_lice = pd.merge(data, doc_fake, how='left', on='CHME_LICE_NO')\n",
    "idlice_ratio = df_lice.pivot_table(index='CUST_ID', values='DOC_SIU_RATIO', aggfunc='max').reset_index()"
   ]
  },
  {
   "cell_type": "code",
   "execution_count": 60,
   "metadata": {},
   "outputs": [],
   "source": [
    "cust = pd.merge(cust, idlice_ratio, how='left', on='CUST_ID')"
   ]
  },
  {
   "cell_type": "markdown",
   "metadata": {},
   "source": [
    "## HOSP_SIU_RATIO \n",
    "병원별 사기비율"
   ]
  },
  {
   "cell_type": "code",
   "execution_count": 61,
   "metadata": {},
   "outputs": [],
   "source": [
    "# 병원별 사기수/전체 청구수\n",
    "hosp_all = data.pivot_table(index=['HOSP_CODE'], values='POLY_NO', aggfunc='count').reset_index()\n",
    "hosp_YN = data.pivot_table(index=['HOSP_CODE', 'SIU_CUST_YN'], values='POLY_NO', aggfunc='count').reset_index()\n",
    "hosp_YN = hosp_YN[hosp_YN[\"SIU_CUST_YN\"]=='Y']\n",
    "hosp_all = pd.merge(hosp_all, hosp_YN, how=\"left\", on=\"HOSP_CODE\")\n",
    "\n",
    "hosp_all[\"HOSP_SIU_RATIO\"] = hosp_all[\"POLY_NO_y\"] / hosp_all[\"POLY_NO_x\"]\n",
    "hosp_all.fillna(0, inplace=True)\n",
    "hosp_fake = hosp_all[[\"HOSP_CODE\", \"HOSP_SIU_RATIO\"]]"
   ]
  },
  {
   "cell_type": "code",
   "execution_count": 62,
   "metadata": {},
   "outputs": [],
   "source": [
    "# CUST_ID별 병원 사기비율 max\n",
    "df_hosp = claim.pivot_table(index=[\"CUST_ID\", \"HOSP_CODE\"], values=\"POLY_NO\", aggfunc=\"count\").reset_index()\n",
    "df_hosp = pd.merge(data, hosp_fake, how='left', on='HOSP_CODE')"
   ]
  },
  {
   "cell_type": "code",
   "execution_count": 63,
   "metadata": {},
   "outputs": [],
   "source": [
    "idhosp_ratio = df_hosp.pivot_table(index=\"CUST_ID\", values=\"HOSP_SIU_RATIO\", aggfunc=\"max\").reset_index()"
   ]
  },
  {
   "cell_type": "code",
   "execution_count": 64,
   "metadata": {},
   "outputs": [],
   "source": [
    "cust = pd.merge(cust, idhosp_ratio, how='left', on='CUST_ID')"
   ]
  },
  {
   "cell_type": "markdown",
   "metadata": {},
   "source": [
    "## HOSP_DOC_SIU\n",
    "의사 사기 비율 * 병원 사기 비율"
   ]
  },
  {
   "cell_type": "code",
   "execution_count": 65,
   "metadata": {},
   "outputs": [],
   "source": [
    "cust[\"HOSP_DOC_SIU\"] = cust[\"DOC_SIU_RATIO\"] * cust[\"HOSP_SIU_RATIO\"]"
   ]
  },
  {
   "cell_type": "markdown",
   "metadata": {},
   "source": [
    "## ACCI_RATIO_N \n",
    "각 ACCI_DVSN(1,2,3) / 청구횟수"
   ]
  },
  {
   "cell_type": "code",
   "execution_count": 66,
   "metadata": {},
   "outputs": [],
   "source": [
    "acci_claim = claim.pivot_table(index=[\"CUST_ID\", \"ACCI_DVSN\"], values=\"POLY_NO\", aggfunc=\"count\").unstack(1).reset_index()\n",
    "acci_claim = acci_claim.values\n",
    "acci_claim = pd.DataFrame(acci_claim)\n",
    "acci_claim.fillna(0, inplace=True)\n",
    "acci_claim.columns = [\"CUST_ID\", \"ACCI_RATIO_1\", \"ACCI_RATIO_2\", \"ACCI_RATIO_3\"]"
   ]
  },
  {
   "cell_type": "code",
   "execution_count": 67,
   "metadata": {},
   "outputs": [],
   "source": [
    "cust = pd.merge(cust, acci_claim, on=\"CUST_ID\", how=\"left\")\n",
    "cust[\"ACCI_RATIO_1\"] = cust[\"ACCI_RATIO_1\"]/cust[\"CLAIM_COUNT\"]\n",
    "cust[\"ACCI_RATIO_2\"] = cust[\"ACCI_RATIO_2\"]/cust[\"CLAIM_COUNT\"]\n",
    "cust[\"ACCI_RATIO_3\"] = cust[\"ACCI_RATIO_3\"]/cust[\"CLAIM_COUNT\"]"
   ]
  },
  {
   "cell_type": "code",
   "execution_count": 68,
   "metadata": {},
   "outputs": [],
   "source": [
    "cust.ACCI_RATIO_1.fillna(0, inplace=True)\n",
    "cust.ACCI_RATIO_2.fillna(0, inplace=True)\n",
    "cust.ACCI_RATIO_3.fillna(0, inplace=True)"
   ]
  },
  {
   "cell_type": "markdown",
   "metadata": {},
   "source": [
    "## 사고원인(ACCI_DVSN), 청구코드(DMND_RESN_CODE)"
   ]
  },
  {
   "cell_type": "code",
   "execution_count": 69,
   "metadata": {},
   "outputs": [],
   "source": [
    "claim_acci = claim.loc[:, [\"CUST_ID\", \"ACCI_DVSN\", \"DMND_RESN_CODE\"]]\n",
    "claim_acci[\"value\"] = 1\n",
    "cust_claim_df = claim_acci.pivot_table(index=[\"CUST_ID\"],\n",
    "                                       columns=[\"ACCI_DVSN\", \"DMND_RESN_CODE\"],\n",
    "                                       values=[\"value\"],\n",
    "                                       aggfunc=\"count\", fill_value=0)"
   ]
  },
  {
   "cell_type": "code",
   "execution_count": 70,
   "metadata": {},
   "outputs": [],
   "source": [
    "cust_claim_df = cust_claim_df.reset_index(level=[\"CUST_ID\"], col_level=1)\n",
    "cust_claim_df.columns = cust_claim_df.columns.droplevel(level=0)"
   ]
  },
  {
   "cell_type": "code",
   "execution_count": 71,
   "metadata": {},
   "outputs": [
    {
     "name": "stderr",
     "output_type": "stream",
     "text": [
      "C:\\Users\\COM\\anaconda3\\lib\\site-packages\\ipykernel_launcher.py:1: UserWarning: Pandas doesn't allow columns to be created via a new attribute name - see https://pandas.pydata.org/pandas-docs/stable/indexing.html#attribute-access\n",
      "  \"\"\"Entry point for launching an IPython kernel.\n"
     ]
    }
   ],
   "source": [
    "cust_claim_df.columsn = [\"_\".join([str(col) for col in cols]) for cols in cust_claim_df.columns]"
   ]
  },
  {
   "cell_type": "code",
   "execution_count": 72,
   "metadata": {},
   "outputs": [],
   "source": [
    "cust_claim_df = cust_claim_df.rename(columns={\"CUST_ID_\":\"CUST_ID\"})"
   ]
  },
  {
   "cell_type": "code",
   "execution_count": 73,
   "metadata": {},
   "outputs": [
    {
     "name": "stderr",
     "output_type": "stream",
     "text": [
      "C:\\Users\\COM\\anaconda3\\lib\\site-packages\\pandas\\core\\reshape\\merge.py:618: UserWarning: merging between different levels can give an unintended result (1 levels on the left, 2 on the right)\n",
      "  warnings.warn(msg, UserWarning)\n",
      "C:\\Users\\COM\\anaconda3\\lib\\site-packages\\pandas\\core\\generic.py:3936: PerformanceWarning: dropping on a non-lexsorted multi-index without a level parameter may impact performance.\n",
      "  obj = obj._drop_axis(labels, axis, level=level, errors=errors)\n"
     ]
    }
   ],
   "source": [
    "cust = pd.merge(cust, cust_claim_df, how=\"left\", on=\"CUST_ID\")"
   ]
  },
  {
   "cell_type": "markdown",
   "metadata": {},
   "source": [
    "# 추가코드"
   ]
  },
  {
   "cell_type": "markdown",
   "metadata": {},
   "source": [
    "수정 필요"
   ]
  },
  {
   "cell_type": "code",
   "execution_count": null,
   "metadata": {},
   "outputs": [],
   "source": [
    "cust.to_csv(\"CUST_DATA_2-1.csv\", encoding=\"utf-8-sig\", index=False)"
   ]
  },
  {
   "cell_type": "code",
   "execution_count": null,
   "metadata": {},
   "outputs": [],
   "source": [
    "cust"
   ]
  },
  {
   "cell_type": "code",
   "execution_count": null,
   "metadata": {},
   "outputs": [],
   "source": [
    "import math"
   ]
  },
  {
   "cell_type": "code",
   "execution_count": null,
   "metadata": {},
   "outputs": [],
   "source": [
    "def cpr_nan(x):\n",
    "    if math.isnan(x['NON_PAY_RATIO']):\n",
    "        x['NON_PAY_RATIO'] = cpr_mean.loc[x['CUST_ID']]['NON_PAY_RATIO']"
   ]
  },
  {
   "cell_type": "code",
   "execution_count": null,
   "metadata": {},
   "outputs": [],
   "source": [
    "claim_pay_ratio = claim.loc[:, [\"CUST_ID\", \"NON_PAY_RATIO\"]]\n",
    "cpr_mean = claim_pay_ratio.groupby(claim_pay_ratio.CUST_ID).mean()\n",
    "cust[\"PAY_RATIO_AVG\"] = cpr_mean"
   ]
  },
  {
   "cell_type": "code",
   "execution_count": null,
   "metadata": {},
   "outputs": [],
   "source": [
    "cust.PAY_RATIO_AVG.fillna(0, inplace=True)"
   ]
  },
  {
   "cell_type": "code",
   "execution_count": null,
   "metadata": {},
   "outputs": [],
   "source": [
    "cust"
   ]
  },
  {
   "cell_type": "code",
   "execution_count": null,
   "metadata": {},
   "outputs": [],
   "source": [
    "cust = pd.merge(cust, claim_pay_ratio, how='left', on='CUST_ID')"
   ]
  },
  {
   "cell_type": "code",
   "execution_count": null,
   "metadata": {},
   "outputs": [],
   "source": [
    "cust"
   ]
  },
  {
   "cell_type": "code",
   "execution_count": null,
   "metadata": {},
   "outputs": [],
   "source": [
    "cust = pd.read_csv(\"CUST_DATA_2-1.csv\", encoding=\"utf-8-sig\")"
   ]
  },
  {
   "cell_type": "markdown",
   "metadata": {},
   "source": [
    "# 최종"
   ]
  },
  {
   "cell_type": "markdown",
   "metadata": {},
   "source": [
    "## 정규화 "
   ]
  },
  {
   "cell_type": "code",
   "execution_count": 74,
   "metadata": {},
   "outputs": [],
   "source": [
    "scaling_features = cust[[\"RESI_COST\", \"TOTALPREM\", \"MAX_PRM\", \"CUST_INCM\", \"RCBASE_HSHD_INCM\", \"JPBASE_HSHD_INCM\"]]"
   ]
  },
  {
   "cell_type": "code",
   "execution_count": 75,
   "metadata": {},
   "outputs": [],
   "source": [
    "from sklearn.preprocessing import StandardScaler\n",
    "scaler = StandardScaler()\n",
    "scaled_nd = scaler.fit_transform(scaling_features)\n",
    "scaled_df = pd.DataFrame(scaled_nd, columns=scaling_features.columns)"
   ]
  },
  {
   "cell_type": "code",
   "execution_count": 76,
   "metadata": {},
   "outputs": [],
   "source": [
    "cust.drop([\"RESI_COST\", \"TOTALPREM\", \"MAX_PRM\", \"CUST_INCM\", \"RCBASE_HSHD_INCM\", \"JPBASE_HSHD_INCM\"], axis=1, inplace=True) # 정규화 전 변수 삭제"
   ]
  },
  {
   "cell_type": "code",
   "execution_count": 77,
   "metadata": {},
   "outputs": [],
   "source": [
    "cust = pd.concat([cust, scaled_df], axis=1)"
   ]
  },
  {
   "cell_type": "code",
   "execution_count": 78,
   "metadata": {},
   "outputs": [],
   "source": [
    "def yn_10(x):\n",
    "    if x=='Y': return 1\n",
    "    elif x=='N': return 0\n",
    "    else: pass"
   ]
  },
  {
   "cell_type": "code",
   "execution_count": 79,
   "metadata": {},
   "outputs": [],
   "source": [
    "cust[\"SIU_CUST_YN\"] = cust[\"SIU_CUST_YN\"].apply(yn_10)"
   ]
  },
  {
   "cell_type": "code",
   "execution_count": null,
   "metadata": {},
   "outputs": [],
   "source": [
    "cust.to_csv(\"CUST_DATA_results.csv\", index=False, encoding=\"utf-8-sig\")"
   ]
  },
  {
   "cell_type": "code",
   "execution_count": 80,
   "metadata": {},
   "outputs": [],
   "source": [
    "# import matplotlib.pyplot as plt\n",
    "# import seaborn as sns\n",
    "# plt.figure(figsize=(10,8))\n",
    "# sns.heatmap(cust.corr(), vmin=-1, vmax=1, annot=False, cmap=\"BrBG\")\n",
    "# plt.show()"
   ]
  },
  {
   "cell_type": "code",
   "execution_count": 81,
   "metadata": {},
   "outputs": [
    {
     "data": {
      "text/html": [
       "<div>\n",
       "<style scoped>\n",
       "    .dataframe tbody tr th:only-of-type {\n",
       "        vertical-align: middle;\n",
       "    }\n",
       "\n",
       "    .dataframe tbody tr th {\n",
       "        vertical-align: top;\n",
       "    }\n",
       "\n",
       "    .dataframe thead th {\n",
       "        text-align: right;\n",
       "    }\n",
       "</style>\n",
       "<table border=\"1\" class=\"dataframe\">\n",
       "  <thead>\n",
       "    <tr style=\"text-align: right;\">\n",
       "      <th></th>\n",
       "      <th>CUST_ID</th>\n",
       "      <th>DIVIDED_SET</th>\n",
       "      <th>SIU_CUST_YN</th>\n",
       "      <th>AGE</th>\n",
       "      <th>CUST_RGST</th>\n",
       "      <th>CHLD_CNT</th>\n",
       "      <th>LTBN_CHLD_AGE</th>\n",
       "      <th>MAX_PAYM_YM</th>\n",
       "      <th>SEX_1</th>\n",
       "      <th>SEX_2</th>\n",
       "      <th>RESI_TYPE_CODE_11.0</th>\n",
       "      <th>RESI_TYPE_CODE_12.0</th>\n",
       "      <th>RESI_TYPE_CODE_13.0</th>\n",
       "      <th>RESI_TYPE_CODE_20.0</th>\n",
       "      <th>RESI_TYPE_CODE_30.0</th>\n",
       "      <th>RESI_TYPE_CODE_40.0</th>\n",
       "      <th>RESI_TYPE_CODE_50.0</th>\n",
       "      <th>RESI_TYPE_CODE_60.0</th>\n",
       "      <th>RESI_TYPE_CODE_70.0</th>\n",
       "      <th>RESI_TYPE_CODE_99.0</th>\n",
       "      <th>CTPR_강원</th>\n",
       "      <th>CTPR_경기</th>\n",
       "      <th>CTPR_경남</th>\n",
       "      <th>CTPR_경북</th>\n",
       "      <th>CTPR_광주</th>\n",
       "      <th>CTPR_대구</th>\n",
       "      <th>CTPR_대전</th>\n",
       "      <th>CTPR_부산</th>\n",
       "      <th>CTPR_서울</th>\n",
       "      <th>CTPR_세종</th>\n",
       "      <th>CTPR_울산</th>\n",
       "      <th>CTPR_인천</th>\n",
       "      <th>CTPR_전남</th>\n",
       "      <th>CTPR_전북</th>\n",
       "      <th>CTPR_제주</th>\n",
       "      <th>CTPR_충남</th>\n",
       "      <th>CTPR_충북</th>\n",
       "      <th>OCCP_GRP_1_1차산업</th>\n",
       "      <th>OCCP_GRP_1_n</th>\n",
       "      <th>OCCP_GRP_1_기타</th>\n",
       "      <th>OCCP_GRP_1_사무직</th>\n",
       "      <th>OCCP_GRP_1_서비스</th>\n",
       "      <th>OCCP_GRP_1_자영업</th>\n",
       "      <th>OCCP_GRP_1_전문직</th>\n",
       "      <th>OCCP_GRP_1_제조업</th>\n",
       "      <th>OCCP_GRP_1_주부</th>\n",
       "      <th>WEDD_YN_N</th>\n",
       "      <th>WEDD_YN_Y</th>\n",
       "      <th>MATE_OCCP_GRP_1_1차산업</th>\n",
       "      <th>MATE_OCCP_GRP_1_n</th>\n",
       "      <th>MATE_OCCP_GRP_1_기타</th>\n",
       "      <th>MATE_OCCP_GRP_1_사무직</th>\n",
       "      <th>MATE_OCCP_GRP_1_서비스</th>\n",
       "      <th>MATE_OCCP_GRP_1_자영업</th>\n",
       "      <th>MATE_OCCP_GRP_1_전문직</th>\n",
       "      <th>MATE_OCCP_GRP_1_제조업</th>\n",
       "      <th>MATE_OCCP_GRP_1_주부</th>\n",
       "      <th>HOSP_DAYS</th>\n",
       "      <th>HEED_HOSP</th>\n",
       "      <th>CLAIM_COUNT</th>\n",
       "      <th>DOC_SIU_RATIO</th>\n",
       "      <th>HOSP_SIU_RATIO</th>\n",
       "      <th>HOSP_DOC_SIU</th>\n",
       "      <th>ACCI_RATIO_1</th>\n",
       "      <th>ACCI_RATIO_2</th>\n",
       "      <th>ACCI_RATIO_3</th>\n",
       "      <th>(1, 1)</th>\n",
       "      <th>(1, 2)</th>\n",
       "      <th>(1, 3)</th>\n",
       "      <th>(1, 4)</th>\n",
       "      <th>(1, 5)</th>\n",
       "      <th>(1, 6)</th>\n",
       "      <th>(1, 7)</th>\n",
       "      <th>(1, 9)</th>\n",
       "      <th>(2, 1)</th>\n",
       "      <th>(2, 2)</th>\n",
       "      <th>(2, 3)</th>\n",
       "      <th>(2, 4)</th>\n",
       "      <th>(2, 5)</th>\n",
       "      <th>(2, 6)</th>\n",
       "      <th>(3, 1)</th>\n",
       "      <th>(3, 2)</th>\n",
       "      <th>(3, 3)</th>\n",
       "      <th>(3, 4)</th>\n",
       "      <th>(3, 5)</th>\n",
       "      <th>(3, 6)</th>\n",
       "      <th>(3, 7)</th>\n",
       "      <th>(3, 9)</th>\n",
       "      <th>RESI_COST</th>\n",
       "      <th>TOTALPREM</th>\n",
       "      <th>MAX_PRM</th>\n",
       "      <th>CUST_INCM</th>\n",
       "      <th>RCBASE_HSHD_INCM</th>\n",
       "      <th>JPBASE_HSHD_INCM</th>\n",
       "    </tr>\n",
       "  </thead>\n",
       "  <tbody>\n",
       "    <tr>\n",
       "      <th>0</th>\n",
       "      <td>1</td>\n",
       "      <td>1</td>\n",
       "      <td>0.0</td>\n",
       "      <td>4</td>\n",
       "      <td>249</td>\n",
       "      <td>2.0</td>\n",
       "      <td>1.0</td>\n",
       "      <td>110</td>\n",
       "      <td>0</td>\n",
       "      <td>1</td>\n",
       "      <td>0</td>\n",
       "      <td>0</td>\n",
       "      <td>0</td>\n",
       "      <td>1</td>\n",
       "      <td>0</td>\n",
       "      <td>0</td>\n",
       "      <td>0</td>\n",
       "      <td>0</td>\n",
       "      <td>0</td>\n",
       "      <td>0</td>\n",
       "      <td>0</td>\n",
       "      <td>0</td>\n",
       "      <td>0</td>\n",
       "      <td>0</td>\n",
       "      <td>0</td>\n",
       "      <td>0</td>\n",
       "      <td>0</td>\n",
       "      <td>0</td>\n",
       "      <td>0</td>\n",
       "      <td>0</td>\n",
       "      <td>0</td>\n",
       "      <td>0</td>\n",
       "      <td>0</td>\n",
       "      <td>0</td>\n",
       "      <td>0</td>\n",
       "      <td>0</td>\n",
       "      <td>1</td>\n",
       "      <td>0</td>\n",
       "      <td>0</td>\n",
       "      <td>0</td>\n",
       "      <td>1</td>\n",
       "      <td>0</td>\n",
       "      <td>0</td>\n",
       "      <td>0</td>\n",
       "      <td>0</td>\n",
       "      <td>0</td>\n",
       "      <td>0</td>\n",
       "      <td>1</td>\n",
       "      <td>0</td>\n",
       "      <td>0</td>\n",
       "      <td>0</td>\n",
       "      <td>1</td>\n",
       "      <td>0</td>\n",
       "      <td>0</td>\n",
       "      <td>0</td>\n",
       "      <td>0</td>\n",
       "      <td>0</td>\n",
       "      <td>1.250000</td>\n",
       "      <td>0.0</td>\n",
       "      <td>4</td>\n",
       "      <td>1.0</td>\n",
       "      <td>0.200000</td>\n",
       "      <td>0.200000</td>\n",
       "      <td>0.0</td>\n",
       "      <td>0.0</td>\n",
       "      <td>1.0</td>\n",
       "      <td>0</td>\n",
       "      <td>0</td>\n",
       "      <td>0</td>\n",
       "      <td>0</td>\n",
       "      <td>0</td>\n",
       "      <td>0</td>\n",
       "      <td>0</td>\n",
       "      <td>0</td>\n",
       "      <td>0</td>\n",
       "      <td>0</td>\n",
       "      <td>0</td>\n",
       "      <td>0</td>\n",
       "      <td>0</td>\n",
       "      <td>0</td>\n",
       "      <td>0</td>\n",
       "      <td>0</td>\n",
       "      <td>4</td>\n",
       "      <td>0</td>\n",
       "      <td>0</td>\n",
       "      <td>0</td>\n",
       "      <td>0</td>\n",
       "      <td>0</td>\n",
       "      <td>0.267662</td>\n",
       "      <td>2.824554</td>\n",
       "      <td>-0.019169</td>\n",
       "      <td>1.093896</td>\n",
       "      <td>1.733306</td>\n",
       "      <td>2.234250</td>\n",
       "    </tr>\n",
       "    <tr>\n",
       "      <th>1</th>\n",
       "      <td>2</td>\n",
       "      <td>1</td>\n",
       "      <td>0.0</td>\n",
       "      <td>5</td>\n",
       "      <td>249</td>\n",
       "      <td>2.0</td>\n",
       "      <td>1.0</td>\n",
       "      <td>15</td>\n",
       "      <td>1</td>\n",
       "      <td>0</td>\n",
       "      <td>0</td>\n",
       "      <td>0</td>\n",
       "      <td>0</td>\n",
       "      <td>1</td>\n",
       "      <td>0</td>\n",
       "      <td>0</td>\n",
       "      <td>0</td>\n",
       "      <td>0</td>\n",
       "      <td>0</td>\n",
       "      <td>0</td>\n",
       "      <td>0</td>\n",
       "      <td>0</td>\n",
       "      <td>0</td>\n",
       "      <td>0</td>\n",
       "      <td>0</td>\n",
       "      <td>0</td>\n",
       "      <td>0</td>\n",
       "      <td>0</td>\n",
       "      <td>1</td>\n",
       "      <td>0</td>\n",
       "      <td>0</td>\n",
       "      <td>0</td>\n",
       "      <td>0</td>\n",
       "      <td>0</td>\n",
       "      <td>0</td>\n",
       "      <td>0</td>\n",
       "      <td>0</td>\n",
       "      <td>0</td>\n",
       "      <td>0</td>\n",
       "      <td>0</td>\n",
       "      <td>1</td>\n",
       "      <td>0</td>\n",
       "      <td>0</td>\n",
       "      <td>0</td>\n",
       "      <td>0</td>\n",
       "      <td>0</td>\n",
       "      <td>0</td>\n",
       "      <td>1</td>\n",
       "      <td>0</td>\n",
       "      <td>0</td>\n",
       "      <td>0</td>\n",
       "      <td>0</td>\n",
       "      <td>0</td>\n",
       "      <td>0</td>\n",
       "      <td>0</td>\n",
       "      <td>0</td>\n",
       "      <td>1</td>\n",
       "      <td>2.666667</td>\n",
       "      <td>0.0</td>\n",
       "      <td>3</td>\n",
       "      <td>1.0</td>\n",
       "      <td>0.428571</td>\n",
       "      <td>0.428571</td>\n",
       "      <td>0.0</td>\n",
       "      <td>0.0</td>\n",
       "      <td>1.0</td>\n",
       "      <td>0</td>\n",
       "      <td>0</td>\n",
       "      <td>0</td>\n",
       "      <td>0</td>\n",
       "      <td>0</td>\n",
       "      <td>0</td>\n",
       "      <td>0</td>\n",
       "      <td>0</td>\n",
       "      <td>0</td>\n",
       "      <td>0</td>\n",
       "      <td>0</td>\n",
       "      <td>0</td>\n",
       "      <td>0</td>\n",
       "      <td>0</td>\n",
       "      <td>0</td>\n",
       "      <td>0</td>\n",
       "      <td>3</td>\n",
       "      <td>0</td>\n",
       "      <td>0</td>\n",
       "      <td>0</td>\n",
       "      <td>0</td>\n",
       "      <td>0</td>\n",
       "      <td>1.575092</td>\n",
       "      <td>1.638565</td>\n",
       "      <td>-0.000197</td>\n",
       "      <td>1.828832</td>\n",
       "      <td>1.423768</td>\n",
       "      <td>0.521100</td>\n",
       "    </tr>\n",
       "    <tr>\n",
       "      <th>2</th>\n",
       "      <td>3</td>\n",
       "      <td>1</td>\n",
       "      <td>0.0</td>\n",
       "      <td>6</td>\n",
       "      <td>249</td>\n",
       "      <td>0.0</td>\n",
       "      <td>0.0</td>\n",
       "      <td>44</td>\n",
       "      <td>1</td>\n",
       "      <td>0</td>\n",
       "      <td>0</td>\n",
       "      <td>0</td>\n",
       "      <td>0</td>\n",
       "      <td>1</td>\n",
       "      <td>0</td>\n",
       "      <td>0</td>\n",
       "      <td>0</td>\n",
       "      <td>0</td>\n",
       "      <td>0</td>\n",
       "      <td>0</td>\n",
       "      <td>0</td>\n",
       "      <td>0</td>\n",
       "      <td>0</td>\n",
       "      <td>0</td>\n",
       "      <td>0</td>\n",
       "      <td>0</td>\n",
       "      <td>0</td>\n",
       "      <td>0</td>\n",
       "      <td>1</td>\n",
       "      <td>0</td>\n",
       "      <td>0</td>\n",
       "      <td>0</td>\n",
       "      <td>0</td>\n",
       "      <td>0</td>\n",
       "      <td>0</td>\n",
       "      <td>0</td>\n",
       "      <td>0</td>\n",
       "      <td>0</td>\n",
       "      <td>0</td>\n",
       "      <td>0</td>\n",
       "      <td>0</td>\n",
       "      <td>1</td>\n",
       "      <td>0</td>\n",
       "      <td>0</td>\n",
       "      <td>0</td>\n",
       "      <td>0</td>\n",
       "      <td>1</td>\n",
       "      <td>0</td>\n",
       "      <td>0</td>\n",
       "      <td>1</td>\n",
       "      <td>0</td>\n",
       "      <td>0</td>\n",
       "      <td>0</td>\n",
       "      <td>0</td>\n",
       "      <td>0</td>\n",
       "      <td>0</td>\n",
       "      <td>0</td>\n",
       "      <td>16.000000</td>\n",
       "      <td>0.0</td>\n",
       "      <td>1</td>\n",
       "      <td>0.0</td>\n",
       "      <td>0.000000</td>\n",
       "      <td>0.000000</td>\n",
       "      <td>0.0</td>\n",
       "      <td>1.0</td>\n",
       "      <td>0.0</td>\n",
       "      <td>0</td>\n",
       "      <td>0</td>\n",
       "      <td>0</td>\n",
       "      <td>0</td>\n",
       "      <td>0</td>\n",
       "      <td>0</td>\n",
       "      <td>0</td>\n",
       "      <td>0</td>\n",
       "      <td>0</td>\n",
       "      <td>1</td>\n",
       "      <td>0</td>\n",
       "      <td>0</td>\n",
       "      <td>0</td>\n",
       "      <td>0</td>\n",
       "      <td>0</td>\n",
       "      <td>0</td>\n",
       "      <td>0</td>\n",
       "      <td>0</td>\n",
       "      <td>0</td>\n",
       "      <td>0</td>\n",
       "      <td>0</td>\n",
       "      <td>0</td>\n",
       "      <td>0.338401</td>\n",
       "      <td>-0.084456</td>\n",
       "      <td>-0.184485</td>\n",
       "      <td>0.778730</td>\n",
       "      <td>-1.552162</td>\n",
       "      <td>-0.305314</td>\n",
       "    </tr>\n",
       "    <tr>\n",
       "      <th>3</th>\n",
       "      <td>4</td>\n",
       "      <td>1</td>\n",
       "      <td>0.0</td>\n",
       "      <td>6</td>\n",
       "      <td>249</td>\n",
       "      <td>0.0</td>\n",
       "      <td>0.0</td>\n",
       "      <td>132</td>\n",
       "      <td>0</td>\n",
       "      <td>1</td>\n",
       "      <td>0</td>\n",
       "      <td>0</td>\n",
       "      <td>0</td>\n",
       "      <td>0</td>\n",
       "      <td>0</td>\n",
       "      <td>1</td>\n",
       "      <td>0</td>\n",
       "      <td>0</td>\n",
       "      <td>0</td>\n",
       "      <td>0</td>\n",
       "      <td>0</td>\n",
       "      <td>1</td>\n",
       "      <td>0</td>\n",
       "      <td>0</td>\n",
       "      <td>0</td>\n",
       "      <td>0</td>\n",
       "      <td>0</td>\n",
       "      <td>0</td>\n",
       "      <td>0</td>\n",
       "      <td>0</td>\n",
       "      <td>0</td>\n",
       "      <td>0</td>\n",
       "      <td>0</td>\n",
       "      <td>0</td>\n",
       "      <td>0</td>\n",
       "      <td>0</td>\n",
       "      <td>0</td>\n",
       "      <td>0</td>\n",
       "      <td>0</td>\n",
       "      <td>0</td>\n",
       "      <td>0</td>\n",
       "      <td>0</td>\n",
       "      <td>1</td>\n",
       "      <td>0</td>\n",
       "      <td>0</td>\n",
       "      <td>0</td>\n",
       "      <td>1</td>\n",
       "      <td>0</td>\n",
       "      <td>0</td>\n",
       "      <td>1</td>\n",
       "      <td>0</td>\n",
       "      <td>0</td>\n",
       "      <td>0</td>\n",
       "      <td>0</td>\n",
       "      <td>0</td>\n",
       "      <td>0</td>\n",
       "      <td>0</td>\n",
       "      <td>0.000000</td>\n",
       "      <td>0.0</td>\n",
       "      <td>9</td>\n",
       "      <td>1.0</td>\n",
       "      <td>0.000000</td>\n",
       "      <td>0.000000</td>\n",
       "      <td>1.0</td>\n",
       "      <td>0.0</td>\n",
       "      <td>0.0</td>\n",
       "      <td>0</td>\n",
       "      <td>0</td>\n",
       "      <td>0</td>\n",
       "      <td>0</td>\n",
       "      <td>0</td>\n",
       "      <td>9</td>\n",
       "      <td>0</td>\n",
       "      <td>0</td>\n",
       "      <td>0</td>\n",
       "      <td>0</td>\n",
       "      <td>0</td>\n",
       "      <td>0</td>\n",
       "      <td>0</td>\n",
       "      <td>0</td>\n",
       "      <td>0</td>\n",
       "      <td>0</td>\n",
       "      <td>0</td>\n",
       "      <td>0</td>\n",
       "      <td>0</td>\n",
       "      <td>0</td>\n",
       "      <td>0</td>\n",
       "      <td>0</td>\n",
       "      <td>-0.303374</td>\n",
       "      <td>6.679180</td>\n",
       "      <td>1.010419</td>\n",
       "      <td>1.064516</td>\n",
       "      <td>-0.162332</td>\n",
       "      <td>0.309973</td>\n",
       "    </tr>\n",
       "    <tr>\n",
       "      <th>4</th>\n",
       "      <td>5</td>\n",
       "      <td>1</td>\n",
       "      <td>0.0</td>\n",
       "      <td>5</td>\n",
       "      <td>249</td>\n",
       "      <td>3.0</td>\n",
       "      <td>1.0</td>\n",
       "      <td>106</td>\n",
       "      <td>0</td>\n",
       "      <td>1</td>\n",
       "      <td>0</td>\n",
       "      <td>0</td>\n",
       "      <td>0</td>\n",
       "      <td>1</td>\n",
       "      <td>0</td>\n",
       "      <td>0</td>\n",
       "      <td>0</td>\n",
       "      <td>0</td>\n",
       "      <td>0</td>\n",
       "      <td>0</td>\n",
       "      <td>0</td>\n",
       "      <td>0</td>\n",
       "      <td>0</td>\n",
       "      <td>0</td>\n",
       "      <td>1</td>\n",
       "      <td>0</td>\n",
       "      <td>0</td>\n",
       "      <td>0</td>\n",
       "      <td>0</td>\n",
       "      <td>0</td>\n",
       "      <td>0</td>\n",
       "      <td>0</td>\n",
       "      <td>0</td>\n",
       "      <td>0</td>\n",
       "      <td>0</td>\n",
       "      <td>0</td>\n",
       "      <td>0</td>\n",
       "      <td>0</td>\n",
       "      <td>0</td>\n",
       "      <td>0</td>\n",
       "      <td>0</td>\n",
       "      <td>0</td>\n",
       "      <td>1</td>\n",
       "      <td>0</td>\n",
       "      <td>0</td>\n",
       "      <td>0</td>\n",
       "      <td>0</td>\n",
       "      <td>1</td>\n",
       "      <td>0</td>\n",
       "      <td>0</td>\n",
       "      <td>0</td>\n",
       "      <td>1</td>\n",
       "      <td>0</td>\n",
       "      <td>0</td>\n",
       "      <td>0</td>\n",
       "      <td>0</td>\n",
       "      <td>0</td>\n",
       "      <td>25.000000</td>\n",
       "      <td>0.0</td>\n",
       "      <td>1</td>\n",
       "      <td>1.0</td>\n",
       "      <td>0.354183</td>\n",
       "      <td>0.354183</td>\n",
       "      <td>0.0</td>\n",
       "      <td>1.0</td>\n",
       "      <td>0.0</td>\n",
       "      <td>0</td>\n",
       "      <td>0</td>\n",
       "      <td>0</td>\n",
       "      <td>0</td>\n",
       "      <td>0</td>\n",
       "      <td>0</td>\n",
       "      <td>0</td>\n",
       "      <td>0</td>\n",
       "      <td>0</td>\n",
       "      <td>1</td>\n",
       "      <td>0</td>\n",
       "      <td>0</td>\n",
       "      <td>0</td>\n",
       "      <td>0</td>\n",
       "      <td>0</td>\n",
       "      <td>0</td>\n",
       "      <td>0</td>\n",
       "      <td>0</td>\n",
       "      <td>0</td>\n",
       "      <td>0</td>\n",
       "      <td>0</td>\n",
       "      <td>0</td>\n",
       "      <td>0.338401</td>\n",
       "      <td>-0.265482</td>\n",
       "      <td>-0.153373</td>\n",
       "      <td>0.649779</td>\n",
       "      <td>-1.552162</td>\n",
       "      <td>1.364192</td>\n",
       "    </tr>\n",
       "    <tr>\n",
       "      <th>...</th>\n",
       "      <td>...</td>\n",
       "      <td>...</td>\n",
       "      <td>...</td>\n",
       "      <td>...</td>\n",
       "      <td>...</td>\n",
       "      <td>...</td>\n",
       "      <td>...</td>\n",
       "      <td>...</td>\n",
       "      <td>...</td>\n",
       "      <td>...</td>\n",
       "      <td>...</td>\n",
       "      <td>...</td>\n",
       "      <td>...</td>\n",
       "      <td>...</td>\n",
       "      <td>...</td>\n",
       "      <td>...</td>\n",
       "      <td>...</td>\n",
       "      <td>...</td>\n",
       "      <td>...</td>\n",
       "      <td>...</td>\n",
       "      <td>...</td>\n",
       "      <td>...</td>\n",
       "      <td>...</td>\n",
       "      <td>...</td>\n",
       "      <td>...</td>\n",
       "      <td>...</td>\n",
       "      <td>...</td>\n",
       "      <td>...</td>\n",
       "      <td>...</td>\n",
       "      <td>...</td>\n",
       "      <td>...</td>\n",
       "      <td>...</td>\n",
       "      <td>...</td>\n",
       "      <td>...</td>\n",
       "      <td>...</td>\n",
       "      <td>...</td>\n",
       "      <td>...</td>\n",
       "      <td>...</td>\n",
       "      <td>...</td>\n",
       "      <td>...</td>\n",
       "      <td>...</td>\n",
       "      <td>...</td>\n",
       "      <td>...</td>\n",
       "      <td>...</td>\n",
       "      <td>...</td>\n",
       "      <td>...</td>\n",
       "      <td>...</td>\n",
       "      <td>...</td>\n",
       "      <td>...</td>\n",
       "      <td>...</td>\n",
       "      <td>...</td>\n",
       "      <td>...</td>\n",
       "      <td>...</td>\n",
       "      <td>...</td>\n",
       "      <td>...</td>\n",
       "      <td>...</td>\n",
       "      <td>...</td>\n",
       "      <td>...</td>\n",
       "      <td>...</td>\n",
       "      <td>...</td>\n",
       "      <td>...</td>\n",
       "      <td>...</td>\n",
       "      <td>...</td>\n",
       "      <td>...</td>\n",
       "      <td>...</td>\n",
       "      <td>...</td>\n",
       "      <td>...</td>\n",
       "      <td>...</td>\n",
       "      <td>...</td>\n",
       "      <td>...</td>\n",
       "      <td>...</td>\n",
       "      <td>...</td>\n",
       "      <td>...</td>\n",
       "      <td>...</td>\n",
       "      <td>...</td>\n",
       "      <td>...</td>\n",
       "      <td>...</td>\n",
       "      <td>...</td>\n",
       "      <td>...</td>\n",
       "      <td>...</td>\n",
       "      <td>...</td>\n",
       "      <td>...</td>\n",
       "      <td>...</td>\n",
       "      <td>...</td>\n",
       "      <td>...</td>\n",
       "      <td>...</td>\n",
       "      <td>...</td>\n",
       "      <td>...</td>\n",
       "      <td>...</td>\n",
       "      <td>...</td>\n",
       "      <td>...</td>\n",
       "      <td>...</td>\n",
       "      <td>...</td>\n",
       "      <td>...</td>\n",
       "    </tr>\n",
       "    <tr>\n",
       "      <th>22395</th>\n",
       "      <td>20048</td>\n",
       "      <td>2</td>\n",
       "      <td>NaN</td>\n",
       "      <td>3</td>\n",
       "      <td>112</td>\n",
       "      <td>0.0</td>\n",
       "      <td>0.0</td>\n",
       "      <td>0</td>\n",
       "      <td>1</td>\n",
       "      <td>0</td>\n",
       "      <td>1</td>\n",
       "      <td>0</td>\n",
       "      <td>0</td>\n",
       "      <td>0</td>\n",
       "      <td>0</td>\n",
       "      <td>0</td>\n",
       "      <td>0</td>\n",
       "      <td>0</td>\n",
       "      <td>0</td>\n",
       "      <td>0</td>\n",
       "      <td>0</td>\n",
       "      <td>0</td>\n",
       "      <td>0</td>\n",
       "      <td>1</td>\n",
       "      <td>0</td>\n",
       "      <td>0</td>\n",
       "      <td>0</td>\n",
       "      <td>0</td>\n",
       "      <td>0</td>\n",
       "      <td>0</td>\n",
       "      <td>0</td>\n",
       "      <td>0</td>\n",
       "      <td>0</td>\n",
       "      <td>0</td>\n",
       "      <td>0</td>\n",
       "      <td>0</td>\n",
       "      <td>0</td>\n",
       "      <td>0</td>\n",
       "      <td>0</td>\n",
       "      <td>0</td>\n",
       "      <td>0</td>\n",
       "      <td>0</td>\n",
       "      <td>1</td>\n",
       "      <td>0</td>\n",
       "      <td>0</td>\n",
       "      <td>0</td>\n",
       "      <td>1</td>\n",
       "      <td>0</td>\n",
       "      <td>0</td>\n",
       "      <td>1</td>\n",
       "      <td>0</td>\n",
       "      <td>0</td>\n",
       "      <td>0</td>\n",
       "      <td>0</td>\n",
       "      <td>0</td>\n",
       "      <td>0</td>\n",
       "      <td>0</td>\n",
       "      <td>18.000000</td>\n",
       "      <td>0.0</td>\n",
       "      <td>2</td>\n",
       "      <td>0.0</td>\n",
       "      <td>0.050000</td>\n",
       "      <td>0.000000</td>\n",
       "      <td>1.0</td>\n",
       "      <td>0.0</td>\n",
       "      <td>0.0</td>\n",
       "      <td>0</td>\n",
       "      <td>2</td>\n",
       "      <td>0</td>\n",
       "      <td>0</td>\n",
       "      <td>0</td>\n",
       "      <td>0</td>\n",
       "      <td>0</td>\n",
       "      <td>0</td>\n",
       "      <td>0</td>\n",
       "      <td>0</td>\n",
       "      <td>0</td>\n",
       "      <td>0</td>\n",
       "      <td>0</td>\n",
       "      <td>0</td>\n",
       "      <td>0</td>\n",
       "      <td>0</td>\n",
       "      <td>0</td>\n",
       "      <td>0</td>\n",
       "      <td>0</td>\n",
       "      <td>0</td>\n",
       "      <td>0</td>\n",
       "      <td>0</td>\n",
       "      <td>-0.802356</td>\n",
       "      <td>-0.503359</td>\n",
       "      <td>-0.299686</td>\n",
       "      <td>0.395933</td>\n",
       "      <td>-0.373247</td>\n",
       "      <td>-0.606570</td>\n",
       "    </tr>\n",
       "    <tr>\n",
       "      <th>22396</th>\n",
       "      <td>21483</td>\n",
       "      <td>1</td>\n",
       "      <td>0.0</td>\n",
       "      <td>3</td>\n",
       "      <td>205</td>\n",
       "      <td>0.0</td>\n",
       "      <td>0.0</td>\n",
       "      <td>0</td>\n",
       "      <td>0</td>\n",
       "      <td>1</td>\n",
       "      <td>0</td>\n",
       "      <td>0</td>\n",
       "      <td>0</td>\n",
       "      <td>1</td>\n",
       "      <td>0</td>\n",
       "      <td>0</td>\n",
       "      <td>0</td>\n",
       "      <td>0</td>\n",
       "      <td>0</td>\n",
       "      <td>0</td>\n",
       "      <td>0</td>\n",
       "      <td>1</td>\n",
       "      <td>0</td>\n",
       "      <td>0</td>\n",
       "      <td>0</td>\n",
       "      <td>0</td>\n",
       "      <td>0</td>\n",
       "      <td>0</td>\n",
       "      <td>0</td>\n",
       "      <td>0</td>\n",
       "      <td>0</td>\n",
       "      <td>0</td>\n",
       "      <td>0</td>\n",
       "      <td>0</td>\n",
       "      <td>0</td>\n",
       "      <td>0</td>\n",
       "      <td>0</td>\n",
       "      <td>0</td>\n",
       "      <td>0</td>\n",
       "      <td>0</td>\n",
       "      <td>0</td>\n",
       "      <td>0</td>\n",
       "      <td>0</td>\n",
       "      <td>0</td>\n",
       "      <td>0</td>\n",
       "      <td>1</td>\n",
       "      <td>1</td>\n",
       "      <td>0</td>\n",
       "      <td>0</td>\n",
       "      <td>1</td>\n",
       "      <td>0</td>\n",
       "      <td>0</td>\n",
       "      <td>0</td>\n",
       "      <td>0</td>\n",
       "      <td>0</td>\n",
       "      <td>0</td>\n",
       "      <td>0</td>\n",
       "      <td>3.700000</td>\n",
       "      <td>0.0</td>\n",
       "      <td>10</td>\n",
       "      <td>1.0</td>\n",
       "      <td>0.055288</td>\n",
       "      <td>0.055288</td>\n",
       "      <td>0.0</td>\n",
       "      <td>0.0</td>\n",
       "      <td>1.0</td>\n",
       "      <td>0</td>\n",
       "      <td>0</td>\n",
       "      <td>0</td>\n",
       "      <td>0</td>\n",
       "      <td>0</td>\n",
       "      <td>0</td>\n",
       "      <td>0</td>\n",
       "      <td>0</td>\n",
       "      <td>0</td>\n",
       "      <td>0</td>\n",
       "      <td>0</td>\n",
       "      <td>0</td>\n",
       "      <td>0</td>\n",
       "      <td>0</td>\n",
       "      <td>0</td>\n",
       "      <td>3</td>\n",
       "      <td>5</td>\n",
       "      <td>0</td>\n",
       "      <td>2</td>\n",
       "      <td>0</td>\n",
       "      <td>0</td>\n",
       "      <td>0</td>\n",
       "      <td>1.017484</td>\n",
       "      <td>-0.503359</td>\n",
       "      <td>-0.299686</td>\n",
       "      <td>-1.105951</td>\n",
       "      <td>1.494724</td>\n",
       "      <td>1.386191</td>\n",
       "    </tr>\n",
       "    <tr>\n",
       "      <th>22397</th>\n",
       "      <td>21940</td>\n",
       "      <td>1</td>\n",
       "      <td>0.0</td>\n",
       "      <td>2</td>\n",
       "      <td>186</td>\n",
       "      <td>0.0</td>\n",
       "      <td>0.0</td>\n",
       "      <td>0</td>\n",
       "      <td>0</td>\n",
       "      <td>1</td>\n",
       "      <td>0</td>\n",
       "      <td>0</td>\n",
       "      <td>0</td>\n",
       "      <td>1</td>\n",
       "      <td>0</td>\n",
       "      <td>0</td>\n",
       "      <td>0</td>\n",
       "      <td>0</td>\n",
       "      <td>0</td>\n",
       "      <td>0</td>\n",
       "      <td>0</td>\n",
       "      <td>1</td>\n",
       "      <td>0</td>\n",
       "      <td>0</td>\n",
       "      <td>0</td>\n",
       "      <td>0</td>\n",
       "      <td>0</td>\n",
       "      <td>0</td>\n",
       "      <td>0</td>\n",
       "      <td>0</td>\n",
       "      <td>0</td>\n",
       "      <td>0</td>\n",
       "      <td>0</td>\n",
       "      <td>0</td>\n",
       "      <td>0</td>\n",
       "      <td>0</td>\n",
       "      <td>0</td>\n",
       "      <td>0</td>\n",
       "      <td>0</td>\n",
       "      <td>1</td>\n",
       "      <td>0</td>\n",
       "      <td>0</td>\n",
       "      <td>0</td>\n",
       "      <td>0</td>\n",
       "      <td>0</td>\n",
       "      <td>0</td>\n",
       "      <td>1</td>\n",
       "      <td>0</td>\n",
       "      <td>0</td>\n",
       "      <td>1</td>\n",
       "      <td>0</td>\n",
       "      <td>0</td>\n",
       "      <td>0</td>\n",
       "      <td>0</td>\n",
       "      <td>0</td>\n",
       "      <td>0</td>\n",
       "      <td>0</td>\n",
       "      <td>3.400000</td>\n",
       "      <td>0.0</td>\n",
       "      <td>5</td>\n",
       "      <td>1.0</td>\n",
       "      <td>0.444444</td>\n",
       "      <td>0.444444</td>\n",
       "      <td>0.0</td>\n",
       "      <td>0.0</td>\n",
       "      <td>1.0</td>\n",
       "      <td>0</td>\n",
       "      <td>0</td>\n",
       "      <td>0</td>\n",
       "      <td>0</td>\n",
       "      <td>0</td>\n",
       "      <td>0</td>\n",
       "      <td>0</td>\n",
       "      <td>0</td>\n",
       "      <td>0</td>\n",
       "      <td>0</td>\n",
       "      <td>0</td>\n",
       "      <td>0</td>\n",
       "      <td>0</td>\n",
       "      <td>0</td>\n",
       "      <td>0</td>\n",
       "      <td>3</td>\n",
       "      <td>2</td>\n",
       "      <td>0</td>\n",
       "      <td>0</td>\n",
       "      <td>0</td>\n",
       "      <td>0</td>\n",
       "      <td>0</td>\n",
       "      <td>1.988453</td>\n",
       "      <td>-0.503359</td>\n",
       "      <td>-0.299686</td>\n",
       "      <td>-1.105951</td>\n",
       "      <td>2.198102</td>\n",
       "      <td>2.286411</td>\n",
       "    </tr>\n",
       "    <tr>\n",
       "      <th>22398</th>\n",
       "      <td>20356</td>\n",
       "      <td>1</td>\n",
       "      <td>0.0</td>\n",
       "      <td>1</td>\n",
       "      <td>205</td>\n",
       "      <td>0.0</td>\n",
       "      <td>0.0</td>\n",
       "      <td>0</td>\n",
       "      <td>1</td>\n",
       "      <td>0</td>\n",
       "      <td>0</td>\n",
       "      <td>0</td>\n",
       "      <td>0</td>\n",
       "      <td>1</td>\n",
       "      <td>0</td>\n",
       "      <td>0</td>\n",
       "      <td>0</td>\n",
       "      <td>0</td>\n",
       "      <td>0</td>\n",
       "      <td>0</td>\n",
       "      <td>0</td>\n",
       "      <td>1</td>\n",
       "      <td>0</td>\n",
       "      <td>0</td>\n",
       "      <td>0</td>\n",
       "      <td>0</td>\n",
       "      <td>0</td>\n",
       "      <td>0</td>\n",
       "      <td>0</td>\n",
       "      <td>0</td>\n",
       "      <td>0</td>\n",
       "      <td>0</td>\n",
       "      <td>0</td>\n",
       "      <td>0</td>\n",
       "      <td>0</td>\n",
       "      <td>0</td>\n",
       "      <td>0</td>\n",
       "      <td>0</td>\n",
       "      <td>0</td>\n",
       "      <td>1</td>\n",
       "      <td>0</td>\n",
       "      <td>0</td>\n",
       "      <td>0</td>\n",
       "      <td>0</td>\n",
       "      <td>0</td>\n",
       "      <td>0</td>\n",
       "      <td>1</td>\n",
       "      <td>0</td>\n",
       "      <td>0</td>\n",
       "      <td>1</td>\n",
       "      <td>0</td>\n",
       "      <td>0</td>\n",
       "      <td>0</td>\n",
       "      <td>0</td>\n",
       "      <td>0</td>\n",
       "      <td>0</td>\n",
       "      <td>0</td>\n",
       "      <td>2.000000</td>\n",
       "      <td>0.0</td>\n",
       "      <td>2</td>\n",
       "      <td>0.0</td>\n",
       "      <td>0.019031</td>\n",
       "      <td>0.000000</td>\n",
       "      <td>0.0</td>\n",
       "      <td>0.0</td>\n",
       "      <td>1.0</td>\n",
       "      <td>0</td>\n",
       "      <td>0</td>\n",
       "      <td>0</td>\n",
       "      <td>0</td>\n",
       "      <td>0</td>\n",
       "      <td>0</td>\n",
       "      <td>0</td>\n",
       "      <td>0</td>\n",
       "      <td>0</td>\n",
       "      <td>0</td>\n",
       "      <td>0</td>\n",
       "      <td>0</td>\n",
       "      <td>0</td>\n",
       "      <td>0</td>\n",
       "      <td>0</td>\n",
       "      <td>1</td>\n",
       "      <td>0</td>\n",
       "      <td>0</td>\n",
       "      <td>1</td>\n",
       "      <td>0</td>\n",
       "      <td>0</td>\n",
       "      <td>0</td>\n",
       "      <td>0.729059</td>\n",
       "      <td>-0.503359</td>\n",
       "      <td>-0.299686</td>\n",
       "      <td>-1.105951</td>\n",
       "      <td>1.038717</td>\n",
       "      <td>0.913194</td>\n",
       "    </tr>\n",
       "    <tr>\n",
       "      <th>22399</th>\n",
       "      <td>17118</td>\n",
       "      <td>1</td>\n",
       "      <td>0.0</td>\n",
       "      <td>1</td>\n",
       "      <td>205</td>\n",
       "      <td>0.0</td>\n",
       "      <td>0.0</td>\n",
       "      <td>0</td>\n",
       "      <td>0</td>\n",
       "      <td>1</td>\n",
       "      <td>0</td>\n",
       "      <td>0</td>\n",
       "      <td>0</td>\n",
       "      <td>1</td>\n",
       "      <td>0</td>\n",
       "      <td>0</td>\n",
       "      <td>0</td>\n",
       "      <td>0</td>\n",
       "      <td>0</td>\n",
       "      <td>0</td>\n",
       "      <td>0</td>\n",
       "      <td>1</td>\n",
       "      <td>0</td>\n",
       "      <td>0</td>\n",
       "      <td>0</td>\n",
       "      <td>0</td>\n",
       "      <td>0</td>\n",
       "      <td>0</td>\n",
       "      <td>0</td>\n",
       "      <td>0</td>\n",
       "      <td>0</td>\n",
       "      <td>0</td>\n",
       "      <td>0</td>\n",
       "      <td>0</td>\n",
       "      <td>0</td>\n",
       "      <td>0</td>\n",
       "      <td>0</td>\n",
       "      <td>0</td>\n",
       "      <td>0</td>\n",
       "      <td>1</td>\n",
       "      <td>0</td>\n",
       "      <td>0</td>\n",
       "      <td>0</td>\n",
       "      <td>0</td>\n",
       "      <td>0</td>\n",
       "      <td>0</td>\n",
       "      <td>1</td>\n",
       "      <td>0</td>\n",
       "      <td>0</td>\n",
       "      <td>1</td>\n",
       "      <td>0</td>\n",
       "      <td>0</td>\n",
       "      <td>0</td>\n",
       "      <td>0</td>\n",
       "      <td>0</td>\n",
       "      <td>0</td>\n",
       "      <td>0</td>\n",
       "      <td>2.000000</td>\n",
       "      <td>0.0</td>\n",
       "      <td>2</td>\n",
       "      <td>0.0</td>\n",
       "      <td>0.027027</td>\n",
       "      <td>0.000000</td>\n",
       "      <td>0.0</td>\n",
       "      <td>0.0</td>\n",
       "      <td>1.0</td>\n",
       "      <td>0</td>\n",
       "      <td>0</td>\n",
       "      <td>0</td>\n",
       "      <td>0</td>\n",
       "      <td>0</td>\n",
       "      <td>0</td>\n",
       "      <td>0</td>\n",
       "      <td>0</td>\n",
       "      <td>0</td>\n",
       "      <td>0</td>\n",
       "      <td>0</td>\n",
       "      <td>0</td>\n",
       "      <td>0</td>\n",
       "      <td>0</td>\n",
       "      <td>0</td>\n",
       "      <td>1</td>\n",
       "      <td>0</td>\n",
       "      <td>0</td>\n",
       "      <td>1</td>\n",
       "      <td>0</td>\n",
       "      <td>0</td>\n",
       "      <td>0</td>\n",
       "      <td>0.296456</td>\n",
       "      <td>-0.503359</td>\n",
       "      <td>-0.299686</td>\n",
       "      <td>-1.105951</td>\n",
       "      <td>0.969062</td>\n",
       "      <td>0.960033</td>\n",
       "    </tr>\n",
       "  </tbody>\n",
       "</table>\n",
       "<p>22400 rows × 94 columns</p>\n",
       "</div>"
      ],
      "text/plain": [
       "       CUST_ID  DIVIDED_SET  SIU_CUST_YN  AGE  CUST_RGST  CHLD_CNT  \\\n",
       "0            1            1          0.0    4        249       2.0   \n",
       "1            2            1          0.0    5        249       2.0   \n",
       "2            3            1          0.0    6        249       0.0   \n",
       "3            4            1          0.0    6        249       0.0   \n",
       "4            5            1          0.0    5        249       3.0   \n",
       "...        ...          ...          ...  ...        ...       ...   \n",
       "22395    20048            2          NaN    3        112       0.0   \n",
       "22396    21483            1          0.0    3        205       0.0   \n",
       "22397    21940            1          0.0    2        186       0.0   \n",
       "22398    20356            1          0.0    1        205       0.0   \n",
       "22399    17118            1          0.0    1        205       0.0   \n",
       "\n",
       "       LTBN_CHLD_AGE  MAX_PAYM_YM  SEX_1  SEX_2  RESI_TYPE_CODE_11.0  \\\n",
       "0                1.0          110      0      1                    0   \n",
       "1                1.0           15      1      0                    0   \n",
       "2                0.0           44      1      0                    0   \n",
       "3                0.0          132      0      1                    0   \n",
       "4                1.0          106      0      1                    0   \n",
       "...              ...          ...    ...    ...                  ...   \n",
       "22395            0.0            0      1      0                    1   \n",
       "22396            0.0            0      0      1                    0   \n",
       "22397            0.0            0      0      1                    0   \n",
       "22398            0.0            0      1      0                    0   \n",
       "22399            0.0            0      0      1                    0   \n",
       "\n",
       "       RESI_TYPE_CODE_12.0  RESI_TYPE_CODE_13.0  RESI_TYPE_CODE_20.0  \\\n",
       "0                        0                    0                    1   \n",
       "1                        0                    0                    1   \n",
       "2                        0                    0                    1   \n",
       "3                        0                    0                    0   \n",
       "4                        0                    0                    1   \n",
       "...                    ...                  ...                  ...   \n",
       "22395                    0                    0                    0   \n",
       "22396                    0                    0                    1   \n",
       "22397                    0                    0                    1   \n",
       "22398                    0                    0                    1   \n",
       "22399                    0                    0                    1   \n",
       "\n",
       "       RESI_TYPE_CODE_30.0  RESI_TYPE_CODE_40.0  RESI_TYPE_CODE_50.0  \\\n",
       "0                        0                    0                    0   \n",
       "1                        0                    0                    0   \n",
       "2                        0                    0                    0   \n",
       "3                        0                    1                    0   \n",
       "4                        0                    0                    0   \n",
       "...                    ...                  ...                  ...   \n",
       "22395                    0                    0                    0   \n",
       "22396                    0                    0                    0   \n",
       "22397                    0                    0                    0   \n",
       "22398                    0                    0                    0   \n",
       "22399                    0                    0                    0   \n",
       "\n",
       "       RESI_TYPE_CODE_60.0  RESI_TYPE_CODE_70.0  RESI_TYPE_CODE_99.0  CTPR_강원  \\\n",
       "0                        0                    0                    0        0   \n",
       "1                        0                    0                    0        0   \n",
       "2                        0                    0                    0        0   \n",
       "3                        0                    0                    0        0   \n",
       "4                        0                    0                    0        0   \n",
       "...                    ...                  ...                  ...      ...   \n",
       "22395                    0                    0                    0        0   \n",
       "22396                    0                    0                    0        0   \n",
       "22397                    0                    0                    0        0   \n",
       "22398                    0                    0                    0        0   \n",
       "22399                    0                    0                    0        0   \n",
       "\n",
       "       CTPR_경기  CTPR_경남  CTPR_경북  CTPR_광주  CTPR_대구  CTPR_대전  CTPR_부산  CTPR_서울  \\\n",
       "0            0        0        0        0        0        0        0        0   \n",
       "1            0        0        0        0        0        0        0        1   \n",
       "2            0        0        0        0        0        0        0        1   \n",
       "3            1        0        0        0        0        0        0        0   \n",
       "4            0        0        0        1        0        0        0        0   \n",
       "...        ...      ...      ...      ...      ...      ...      ...      ...   \n",
       "22395        0        0        1        0        0        0        0        0   \n",
       "22396        1        0        0        0        0        0        0        0   \n",
       "22397        1        0        0        0        0        0        0        0   \n",
       "22398        1        0        0        0        0        0        0        0   \n",
       "22399        1        0        0        0        0        0        0        0   \n",
       "\n",
       "       CTPR_세종  CTPR_울산  CTPR_인천  CTPR_전남  CTPR_전북  CTPR_제주  CTPR_충남  CTPR_충북  \\\n",
       "0            0        0        0        0        0        0        0        1   \n",
       "1            0        0        0        0        0        0        0        0   \n",
       "2            0        0        0        0        0        0        0        0   \n",
       "3            0        0        0        0        0        0        0        0   \n",
       "4            0        0        0        0        0        0        0        0   \n",
       "...        ...      ...      ...      ...      ...      ...      ...      ...   \n",
       "22395        0        0        0        0        0        0        0        0   \n",
       "22396        0        0        0        0        0        0        0        0   \n",
       "22397        0        0        0        0        0        0        0        0   \n",
       "22398        0        0        0        0        0        0        0        0   \n",
       "22399        0        0        0        0        0        0        0        0   \n",
       "\n",
       "       OCCP_GRP_1_1차산업  OCCP_GRP_1_n  OCCP_GRP_1_기타  OCCP_GRP_1_사무직  \\\n",
       "0                    0             0              0               1   \n",
       "1                    0             0              0               1   \n",
       "2                    0             0              0               0   \n",
       "3                    0             0              0               0   \n",
       "4                    0             0              0               0   \n",
       "...                ...           ...            ...             ...   \n",
       "22395                0             0              0               0   \n",
       "22396                0             0              0               0   \n",
       "22397                0             0              1               0   \n",
       "22398                0             0              1               0   \n",
       "22399                0             0              1               0   \n",
       "\n",
       "       OCCP_GRP_1_서비스  OCCP_GRP_1_자영업  OCCP_GRP_1_전문직  OCCP_GRP_1_제조업  \\\n",
       "0                   0               0               0               0   \n",
       "1                   0               0               0               0   \n",
       "2                   1               0               0               0   \n",
       "3                   0               1               0               0   \n",
       "4                   0               1               0               0   \n",
       "...               ...             ...             ...             ...   \n",
       "22395               0               1               0               0   \n",
       "22396               0               0               0               0   \n",
       "22397               0               0               0               0   \n",
       "22398               0               0               0               0   \n",
       "22399               0               0               0               0   \n",
       "\n",
       "       OCCP_GRP_1_주부  WEDD_YN_N  WEDD_YN_Y  MATE_OCCP_GRP_1_1차산업  \\\n",
       "0                  0          0          1                     0   \n",
       "1                  0          0          1                     0   \n",
       "2                  0          1          0                     0   \n",
       "3                  0          1          0                     0   \n",
       "4                  0          0          1                     0   \n",
       "...              ...        ...        ...                   ...   \n",
       "22395              0          1          0                     0   \n",
       "22396              1          1          0                     0   \n",
       "22397              0          1          0                     0   \n",
       "22398              0          1          0                     0   \n",
       "22399              0          1          0                     0   \n",
       "\n",
       "       MATE_OCCP_GRP_1_n  MATE_OCCP_GRP_1_기타  MATE_OCCP_GRP_1_사무직  \\\n",
       "0                      0                   0                    1   \n",
       "1                      0                   0                    0   \n",
       "2                      1                   0                    0   \n",
       "3                      1                   0                    0   \n",
       "4                      0                   0                    1   \n",
       "...                  ...                 ...                  ...   \n",
       "22395                  1                   0                    0   \n",
       "22396                  1                   0                    0   \n",
       "22397                  1                   0                    0   \n",
       "22398                  1                   0                    0   \n",
       "22399                  1                   0                    0   \n",
       "\n",
       "       MATE_OCCP_GRP_1_서비스  MATE_OCCP_GRP_1_자영업  MATE_OCCP_GRP_1_전문직  \\\n",
       "0                        0                    0                    0   \n",
       "1                        0                    0                    0   \n",
       "2                        0                    0                    0   \n",
       "3                        0                    0                    0   \n",
       "4                        0                    0                    0   \n",
       "...                    ...                  ...                  ...   \n",
       "22395                    0                    0                    0   \n",
       "22396                    0                    0                    0   \n",
       "22397                    0                    0                    0   \n",
       "22398                    0                    0                    0   \n",
       "22399                    0                    0                    0   \n",
       "\n",
       "       MATE_OCCP_GRP_1_제조업  MATE_OCCP_GRP_1_주부  HOSP_DAYS  HEED_HOSP  \\\n",
       "0                        0                   0   1.250000        0.0   \n",
       "1                        0                   1   2.666667        0.0   \n",
       "2                        0                   0  16.000000        0.0   \n",
       "3                        0                   0   0.000000        0.0   \n",
       "4                        0                   0  25.000000        0.0   \n",
       "...                    ...                 ...        ...        ...   \n",
       "22395                    0                   0  18.000000        0.0   \n",
       "22396                    0                   0   3.700000        0.0   \n",
       "22397                    0                   0   3.400000        0.0   \n",
       "22398                    0                   0   2.000000        0.0   \n",
       "22399                    0                   0   2.000000        0.0   \n",
       "\n",
       "       CLAIM_COUNT  DOC_SIU_RATIO  HOSP_SIU_RATIO  HOSP_DOC_SIU  ACCI_RATIO_1  \\\n",
       "0                4            1.0        0.200000      0.200000           0.0   \n",
       "1                3            1.0        0.428571      0.428571           0.0   \n",
       "2                1            0.0        0.000000      0.000000           0.0   \n",
       "3                9            1.0        0.000000      0.000000           1.0   \n",
       "4                1            1.0        0.354183      0.354183           0.0   \n",
       "...            ...            ...             ...           ...           ...   \n",
       "22395            2            0.0        0.050000      0.000000           1.0   \n",
       "22396           10            1.0        0.055288      0.055288           0.0   \n",
       "22397            5            1.0        0.444444      0.444444           0.0   \n",
       "22398            2            0.0        0.019031      0.000000           0.0   \n",
       "22399            2            0.0        0.027027      0.000000           0.0   \n",
       "\n",
       "       ACCI_RATIO_2  ACCI_RATIO_3  (1, 1)  (1, 2)  (1, 3)  (1, 4)  (1, 5)  \\\n",
       "0               0.0           1.0       0       0       0       0       0   \n",
       "1               0.0           1.0       0       0       0       0       0   \n",
       "2               1.0           0.0       0       0       0       0       0   \n",
       "3               0.0           0.0       0       0       0       0       0   \n",
       "4               1.0           0.0       0       0       0       0       0   \n",
       "...             ...           ...     ...     ...     ...     ...     ...   \n",
       "22395           0.0           0.0       0       2       0       0       0   \n",
       "22396           0.0           1.0       0       0       0       0       0   \n",
       "22397           0.0           1.0       0       0       0       0       0   \n",
       "22398           0.0           1.0       0       0       0       0       0   \n",
       "22399           0.0           1.0       0       0       0       0       0   \n",
       "\n",
       "       (1, 6)  (1, 7)  (1, 9)  (2, 1)  (2, 2)  (2, 3)  (2, 4)  (2, 5)  (2, 6)  \\\n",
       "0           0       0       0       0       0       0       0       0       0   \n",
       "1           0       0       0       0       0       0       0       0       0   \n",
       "2           0       0       0       0       1       0       0       0       0   \n",
       "3           9       0       0       0       0       0       0       0       0   \n",
       "4           0       0       0       0       1       0       0       0       0   \n",
       "...       ...     ...     ...     ...     ...     ...     ...     ...     ...   \n",
       "22395       0       0       0       0       0       0       0       0       0   \n",
       "22396       0       0       0       0       0       0       0       0       0   \n",
       "22397       0       0       0       0       0       0       0       0       0   \n",
       "22398       0       0       0       0       0       0       0       0       0   \n",
       "22399       0       0       0       0       0       0       0       0       0   \n",
       "\n",
       "       (3, 1)  (3, 2)  (3, 3)  (3, 4)  (3, 5)  (3, 6)  (3, 7)  (3, 9)  \\\n",
       "0           0       0       4       0       0       0       0       0   \n",
       "1           0       0       3       0       0       0       0       0   \n",
       "2           0       0       0       0       0       0       0       0   \n",
       "3           0       0       0       0       0       0       0       0   \n",
       "4           0       0       0       0       0       0       0       0   \n",
       "...       ...     ...     ...     ...     ...     ...     ...     ...   \n",
       "22395       0       0       0       0       0       0       0       0   \n",
       "22396       0       3       5       0       2       0       0       0   \n",
       "22397       0       3       2       0       0       0       0       0   \n",
       "22398       0       1       0       0       1       0       0       0   \n",
       "22399       0       1       0       0       1       0       0       0   \n",
       "\n",
       "       RESI_COST  TOTALPREM   MAX_PRM  CUST_INCM  RCBASE_HSHD_INCM  \\\n",
       "0       0.267662   2.824554 -0.019169   1.093896          1.733306   \n",
       "1       1.575092   1.638565 -0.000197   1.828832          1.423768   \n",
       "2       0.338401  -0.084456 -0.184485   0.778730         -1.552162   \n",
       "3      -0.303374   6.679180  1.010419   1.064516         -0.162332   \n",
       "4       0.338401  -0.265482 -0.153373   0.649779         -1.552162   \n",
       "...          ...        ...       ...        ...               ...   \n",
       "22395  -0.802356  -0.503359 -0.299686   0.395933         -0.373247   \n",
       "22396   1.017484  -0.503359 -0.299686  -1.105951          1.494724   \n",
       "22397   1.988453  -0.503359 -0.299686  -1.105951          2.198102   \n",
       "22398   0.729059  -0.503359 -0.299686  -1.105951          1.038717   \n",
       "22399   0.296456  -0.503359 -0.299686  -1.105951          0.969062   \n",
       "\n",
       "       JPBASE_HSHD_INCM  \n",
       "0              2.234250  \n",
       "1              0.521100  \n",
       "2             -0.305314  \n",
       "3              0.309973  \n",
       "4              1.364192  \n",
       "...                 ...  \n",
       "22395         -0.606570  \n",
       "22396          1.386191  \n",
       "22397          2.286411  \n",
       "22398          0.913194  \n",
       "22399          0.960033  \n",
       "\n",
       "[22400 rows x 94 columns]"
      ]
     },
     "execution_count": 81,
     "metadata": {},
     "output_type": "execute_result"
    }
   ],
   "source": [
    "cust"
   ]
  },
  {
   "cell_type": "markdown",
   "metadata": {},
   "source": [
    "cust.isnull().sum()"
   ]
  },
  {
   "cell_type": "markdown",
   "metadata": {},
   "source": [
    "# 모델링"
   ]
  },
  {
   "cell_type": "code",
   "execution_count": 82,
   "metadata": {},
   "outputs": [],
   "source": [
    "train = cust[cust[\"DIVIDED_SET\"]==1].reset_index(drop=True)\n",
    "test = cust[cust[\"DIVIDED_SET\"]==2].reset_index(drop=True)"
   ]
  },
  {
   "cell_type": "code",
   "execution_count": 83,
   "metadata": {},
   "outputs": [],
   "source": [
    "train.drop(\"DIVIDED_SET\", axis=1, inplace=True)\n",
    "test.drop(\"DIVIDED_SET\", axis=1, inplace=True)"
   ]
  },
  {
   "cell_type": "code",
   "execution_count": 84,
   "metadata": {},
   "outputs": [],
   "source": [
    "train_X = train.drop(['CUST_ID', 'SIU_CUST_YN'], axis=1)\n",
    "train_y = train[\"SIU_CUST_YN\"]"
   ]
  },
  {
   "cell_type": "code",
   "execution_count": 85,
   "metadata": {},
   "outputs": [],
   "source": [
    "test_X = test.drop([\"CUST_ID\", \"SIU_CUST_YN\"], axis=1)"
   ]
  },
  {
   "cell_type": "code",
   "execution_count": 93,
   "metadata": {},
   "outputs": [],
   "source": [
    "y_val = test.SIU_CUST_YN"
   ]
  },
  {
   "cell_type": "markdown",
   "metadata": {},
   "source": [
    "# RandomForest"
   ]
  },
  {
   "cell_type": "code",
   "execution_count": null,
   "metadata": {},
   "outputs": [],
   "source": [
    "from sklearn.ensemble import RandomForestClassifier\n",
    "rf_model = RandomForestClassifier(n_estimators=100, max_features=16, random_state=42)\n",
    "rf_model.fit(train_X, train_y)"
   ]
  },
  {
   "cell_type": "code",
   "execution_count": null,
   "metadata": {},
   "outputs": [],
   "source": [
    "y_pred_rf = rf_model.predict(test_X)"
   ]
  },
  {
   "cell_type": "code",
   "execution_count": null,
   "metadata": {},
   "outputs": [],
   "source": [
    "from sklearn.metrics import f1_score\n",
    "f1_score(y_val, y_pred_rf)"
   ]
  },
  {
   "cell_type": "markdown",
   "metadata": {},
   "source": [
    "# XGBoost"
   ]
  },
  {
   "cell_type": "code",
   "execution_count": null,
   "metadata": {},
   "outputs": [],
   "source": [
    "from xgboost import XGBClassifier\n",
    "xgb_model = XGBClassifier(max_depth=10, learning_rate=0.01, n_estimators=100)\n",
    "xgb_model.fit(train_X, train_y)"
   ]
  },
  {
   "cell_type": "code",
   "execution_count": null,
   "metadata": {},
   "outputs": [],
   "source": [
    "y_pred = xgb_model.predict(test_X)\n",
    "pd.crosstab(y_val, y_pred)"
   ]
  },
  {
   "cell_type": "code",
   "execution_count": null,
   "metadata": {},
   "outputs": [],
   "source": [
    "from sklearn.metrics import f1_score\n",
    "f1_score(y_val, y_pred)"
   ]
  },
  {
   "cell_type": "markdown",
   "metadata": {},
   "source": [
    "# SVM"
   ]
  },
  {
   "cell_type": "code",
   "execution_count": null,
   "metadata": {},
   "outputs": [],
   "source": [
    "from sklearn.svm import SVC\n",
    "svm_clf = SVC(random_state=42)\n",
    "svm_clf.fit(train_X, train_y)"
   ]
  },
  {
   "cell_type": "code",
   "execution_count": null,
   "metadata": {},
   "outputs": [],
   "source": [
    "y_pred_svm = svm_clf.predict(test_X)\n",
    "pd.crosstab(y_val, y_pred_svm)"
   ]
  },
  {
   "cell_type": "code",
   "execution_count": null,
   "metadata": {},
   "outputs": [],
   "source": [
    "from sklearn.metrics import f1_score\n",
    "f1_score(y_val, y_pred_svm)"
   ]
  },
  {
   "cell_type": "code",
   "execution_count": 87,
   "metadata": {},
   "outputs": [
    {
     "name": "stdout",
     "output_type": "stream",
     "text": [
      "Requirement already satisfied: lightgbm in c:\\users\\com\\anaconda3\\lib\\site-packages (2.3.1)\n",
      "Requirement already satisfied: numpy in c:\\users\\com\\anaconda3\\lib\\site-packages (from lightgbm) (1.18.1)\n",
      "Requirement already satisfied: scipy in c:\\users\\com\\anaconda3\\lib\\site-packages (from lightgbm) (1.4.1)\n",
      "Requirement already satisfied: scikit-learn in c:\\users\\com\\anaconda3\\lib\\site-packages (from lightgbm) (0.23.1)\n",
      "Requirement already satisfied: joblib>=0.11 in c:\\users\\com\\anaconda3\\lib\\site-packages (from scikit-learn->lightgbm) (0.14.1)\n",
      "Requirement already satisfied: threadpoolctl>=2.0.0 in c:\\users\\com\\anaconda3\\lib\\site-packages (from scikit-learn->lightgbm) (2.1.0)\n"
     ]
    }
   ],
   "source": [
    "!pip install lightgbm"
   ]
  },
  {
   "cell_type": "markdown",
   "metadata": {},
   "source": [
    "# LightGBM"
   ]
  },
  {
   "cell_type": "code",
   "execution_count": 95,
   "metadata": {},
   "outputs": [],
   "source": [
    "x = pd.read_csv(\"answer.csv\")\n",
    "y_val = x.YN"
   ]
  },
  {
   "cell_type": "code",
   "execution_count": 88,
   "metadata": {
    "scrolled": true
   },
   "outputs": [],
   "source": [
    "from lightgbm import LGBMClassifier\n",
    "lgbm_model = LGBMClassifier(n_estimators=100, learning_rate=1, num_leaves=76, max_depth=11)\n",
    "lgbm_model.fit(train_X.to_numpy(), train_y)\n",
    "y_pred_lgbm = lgbm_model.predict(test_X)\n",
    "#f1_score(y_val, y_pred_lgbm)"
   ]
  },
  {
   "cell_type": "code",
   "execution_count": 89,
   "metadata": {},
   "outputs": [],
   "source": [
    "result = pd.DataFrame(data=test.CUST_ID, columns=['CUST_ID'])\n",
    "result['YN'] = y_pred_lgbm.astype(int)\n",
    "result.sort_values(by=\"CUST_ID\", inplace=True)\n",
    "result.reset_index(drop=True, inplace=True)"
   ]
  },
  {
   "cell_type": "code",
   "execution_count": 90,
   "metadata": {},
   "outputs": [],
   "source": [
    "result.to_csv(\"CUST_DATA_results_5조.csv\", index=False, encoding='utf-8-sig')"
   ]
  },
  {
   "cell_type": "code",
   "execution_count": 96,
   "metadata": {},
   "outputs": [
    {
     "data": {
      "text/plain": [
       "0.15944055944055943"
      ]
     },
     "execution_count": 96,
     "metadata": {},
     "output_type": "execute_result"
    }
   ],
   "source": [
    "from sklearn.metrics import f1_score\n",
    "f1_score(y_val, y_pred_lgbm)"
   ]
  },
  {
   "cell_type": "code",
   "execution_count": null,
   "metadata": {},
   "outputs": [],
   "source": [
    "lgbm_model = LGBMClassifier(n_estimators=100, learning_rate=1, num_leaves=76, max_depth=11)\n",
    "lgbm_model.fit(train_X.to_numpy(), train_y)\n",
    "y_pred_lgbm = lgbm_model.predict(test_X)\n",
    "f1_score(y_val, y_pred_lgbm)"
   ]
  },
  {
   "cell_type": "code",
   "execution_count": null,
   "metadata": {},
   "outputs": [],
   "source": []
  },
  {
   "cell_type": "code",
   "execution_count": null,
   "metadata": {},
   "outputs": [],
   "source": [
    "pd.crosstab(y_val, y_pred_lgbm)"
   ]
  },
  {
   "cell_type": "code",
   "execution_count": null,
   "metadata": {},
   "outputs": [],
   "source": [
    "from sklearn.metrics import classification_report"
   ]
  },
  {
   "cell_type": "code",
   "execution_count": null,
   "metadata": {},
   "outputs": [],
   "source": [
    "print(classification_report(y_val, y_pred_lgbm))"
   ]
  },
  {
   "cell_type": "markdown",
   "metadata": {},
   "source": [
    "# 앙상블"
   ]
  },
  {
   "cell_type": "code",
   "execution_count": null,
   "metadata": {},
   "outputs": [],
   "source": [
    "from sklearn.ensemble import VotingClassifier\n",
    "voting_model = VotingClassifier(estimators=[('rf', rf_model), ('xgb', xgb_model), ('lgb', lgbm_model)],\n",
    "                                voting='hard')\n",
    "voting_model.fit(train_X.to_numpy(), train_y)"
   ]
  },
  {
   "cell_type": "code",
   "execution_count": null,
   "metadata": {},
   "outputs": [],
   "source": [
    "y_pred = voting_model.predict(test_X.to_numpy())\n",
    "pd.crosstab(y_val, y_pred)"
   ]
  },
  {
   "cell_type": "code",
   "execution_count": null,
   "metadata": {},
   "outputs": [],
   "source": [
    "from sklearn.metrics import f1_score\n",
    "f1_score(y_val, y_pred)"
   ]
  },
  {
   "cell_type": "code",
   "execution_count": null,
   "metadata": {},
   "outputs": [],
   "source": [
    "from sklearn.metrics import classification_report\n",
    "print(classification_report(y_val, y_pred))"
   ]
  },
  {
   "cell_type": "code",
   "execution_count": null,
   "metadata": {},
   "outputs": [],
   "source": []
  },
  {
   "cell_type": "markdown",
   "metadata": {},
   "source": [
    "# 오버샘플링"
   ]
  },
  {
   "cell_type": "code",
   "execution_count": null,
   "metadata": {},
   "outputs": [],
   "source": [
    "sample = pd.read_csv(\"CUST_DATA_전처리완료.csv\", encoding='utf-8-sig')"
   ]
  },
  {
   "cell_type": "code",
   "execution_count": null,
   "metadata": {},
   "outputs": [],
   "source": [
    "train = sample[sample['DIVIDED_SET']==1].reset_index(drop=True)\n",
    "test = sample[sample['DIVIDED_SET']==2].reset_index(drop=True)"
   ]
  },
  {
   "cell_type": "code",
   "execution_count": null,
   "metadata": {},
   "outputs": [],
   "source": [
    "train.drop(\"DIVIDED_SET\", axis=1, inplace=True)\n",
    "test.drop(\"DIVIDED_SET\", axis=1, inplace=True)"
   ]
  },
  {
   "cell_type": "code",
   "execution_count": null,
   "metadata": {},
   "outputs": [],
   "source": [
    "train_X = train.drop([\"CUST_ID\", \"SIU_CUST_YN\"], axis=1)\n",
    "train_y = train[\"SIU_CUST_YN\"]"
   ]
  },
  {
   "cell_type": "code",
   "execution_count": null,
   "metadata": {},
   "outputs": [],
   "source": [
    "test_X = test.drop([\"CUST_ID\", \"SIU_CUST_YN\"], axis=1)"
   ]
  },
  {
   "cell_type": "code",
   "execution_count": null,
   "metadata": {},
   "outputs": [],
   "source": [
    "from imblearn.over_sampling import SMOTE\n",
    "sm = SMOTE()\n",
    "X_resampled, y_resampled = sm.fit_sample(train_X, (train_y))"
   ]
  },
  {
   "cell_type": "code",
   "execution_count": null,
   "metadata": {},
   "outputs": [],
   "source": [
    "from sklearn.model_selection import train_test_split\n",
    "X_train, X_val, y_train, y_val = train_test_split(X_resampled, y_resampled, test_size=0.3, shuffle=True)"
   ]
  },
  {
   "cell_type": "code",
   "execution_count": null,
   "metadata": {},
   "outputs": [],
   "source": [
    "X_train.shape, X_val.shape, y_train.shape, y_val.shape"
   ]
  },
  {
   "cell_type": "code",
   "execution_count": null,
   "metadata": {},
   "outputs": [],
   "source": [
    "from sklearn.ensemble import RandomForestClassifier\n",
    "rf_model = RandomForestClassifier(n_estimators=100, max_features=16)\n",
    "rf_model.fit(X_train, y_train)"
   ]
  },
  {
   "cell_type": "code",
   "execution_count": null,
   "metadata": {},
   "outputs": [],
   "source": [
    "y_pred = rf_model.predict(X_val)"
   ]
  },
  {
   "cell_type": "code",
   "execution_count": null,
   "metadata": {},
   "outputs": [],
   "source": [
    "pd.crosstab(y_val, y_pred)"
   ]
  },
  {
   "cell_type": "code",
   "execution_count": null,
   "metadata": {},
   "outputs": [],
   "source": [
    "from sklearn.metrics import classification_report\n",
    "print(classification_report(y_val, y_pred))"
   ]
  },
  {
   "cell_type": "code",
   "execution_count": null,
   "metadata": {},
   "outputs": [],
   "source": [
    "# 계층\n",
    "X_train, X_test, y_train, y_test = train_test_split(train_X, train_y, test_size=0.3, stratify=train_y)"
   ]
  },
  {
   "cell_type": "code",
   "execution_count": null,
   "metadata": {},
   "outputs": [],
   "source": [
    "sm = SMOTE()\n",
    "X_train_r, y_train_r = sm.fit_sample(X_train, y_train)\n",
    "rf_model = RandomForestClassifier(n_estimators=100, max_features=2)\n",
    "rf_model.fit(X_train_r, y_train_r)"
   ]
  },
  {
   "cell_type": "code",
   "execution_count": null,
   "metadata": {},
   "outputs": [],
   "source": [
    "pred_r = rf_model.predict(X_test)"
   ]
  },
  {
   "cell_type": "code",
   "execution_count": null,
   "metadata": {},
   "outputs": [],
   "source": [
    "pd.crosstab(y_test, pred_r)"
   ]
  },
  {
   "cell_type": "code",
   "execution_count": null,
   "metadata": {},
   "outputs": [],
   "source": [
    "print(classification_report(y_test, pred_r))"
   ]
  },
  {
   "cell_type": "code",
   "execution_count": null,
   "metadata": {},
   "outputs": [],
   "source": []
  }
 ],
 "metadata": {
  "kernelspec": {
   "display_name": "Python 3",
   "language": "python",
   "name": "python3"
  },
  "language_info": {
   "codemirror_mode": {
    "name": "ipython",
    "version": 3
   },
   "file_extension": ".py",
   "mimetype": "text/x-python",
   "name": "python",
   "nbconvert_exporter": "python",
   "pygments_lexer": "ipython3",
   "version": "3.7.6"
  }
 },
 "nbformat": 4,
 "nbformat_minor": 4
}
